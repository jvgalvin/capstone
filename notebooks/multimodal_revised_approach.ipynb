{
 "cells": [
  {
   "cell_type": "code",
   "execution_count": 153,
   "id": "e61c957e",
   "metadata": {},
   "outputs": [],
   "source": [
    "import pandas as pd\n",
    "import numpy as np\n",
    "import tensorflow as tf\n",
    "\n",
    "from tensorflow.keras.callbacks import EarlyStopping\n",
    "from sklearn.model_selection import train_test_split\n",
    "from sklearn.preprocessing import LabelEncoder, MinMaxScaler, StandardScaler\n",
    "from sklearn.model_selection import StratifiedKFold\n",
    "from sklearn.metrics import precision_recall_curve, auc, accuracy_score\n",
    "from imblearn.over_sampling import RandomOverSampler\n",
    "\n",
    "import matplotlib.pyplot as plt\n",
    "%matplotlib inline\n",
    "\n",
    "pd.set_option('display.max_columns', 500)"
   ]
  },
  {
   "cell_type": "markdown",
   "id": "4e8bf35a",
   "metadata": {},
   "source": [
    "# PCA"
   ]
  },
  {
   "cell_type": "code",
   "execution_count": 121,
   "id": "20cd9416",
   "metadata": {},
   "outputs": [
    {
     "name": "stderr",
     "output_type": "stream",
     "text": [
      "/Users/johngalvin/miniforge3/lib/python3.9/site-packages/IPython/core/interactiveshell.py:3457: DtypeWarning: Columns (2162) have mixed types.Specify dtype option on import or set low_memory=False.\n",
      "  exec(code_obj, self.user_global_ns, self.user_ns)\n"
     ]
    }
   ],
   "source": [
    "img_df = pd.read_csv(\"/Users/johngalvin/Downloads/AD1ChallengeImagingFiles/baseline_data.csv\")\n",
    "img_ptids = img_df[\"Subject\"]\n",
    "X = img_df.iloc[:,:-13] # Keep just image features"
   ]
  },
  {
   "cell_type": "code",
   "execution_count": 122,
   "id": "c8ffe69f",
   "metadata": {},
   "outputs": [],
   "source": [
    "# Standardize\n",
    "scaler = StandardScaler()\n",
    "X_scaled = scaler.fit_transform(X)"
   ]
  },
  {
   "cell_type": "code",
   "execution_count": 123,
   "id": "5b60029f",
   "metadata": {},
   "outputs": [],
   "source": [
    "# Cov matrix\n",
    "cov = (X_scaled.T @ X_scaled) / (X_scaled.shape[0] - 1)"
   ]
  },
  {
   "cell_type": "code",
   "execution_count": 124,
   "id": "d1dacb44",
   "metadata": {},
   "outputs": [],
   "source": [
    "# Eigendecomposition\n",
    "eig_values, eig_vectors = np.linalg.eig(cov)"
   ]
  },
  {
   "cell_type": "code",
   "execution_count": 125,
   "id": "44067851",
   "metadata": {},
   "outputs": [],
   "source": [
    "# Figure out which components to select\n",
    "idx = np.argsort(eig_values, axis=0)[::-1]\n",
    "sorted_eig_vectors = eig_vectors[:, idx]"
   ]
  },
  {
   "cell_type": "code",
   "execution_count": 126,
   "id": "243734c9",
   "metadata": {},
   "outputs": [
    {
     "name": "stderr",
     "output_type": "stream",
     "text": [
      "/Users/johngalvin/miniforge3/lib/python3.9/site-packages/matplotlib/cbook/__init__.py:1298: ComplexWarning: Casting complex values to real discards the imaginary part\n",
      "  return np.asarray(x, float)\n"
     ]
    },
    {
     "data": {
      "image/png": "[encoded data removed]",
      "text/plain": [
       "<Figure size 1440x504 with 1 Axes>"
      ]
     },
     "metadata": {
      "needs_background": "light"
     },
     "output_type": "display_data"
    }
   ],
   "source": [
    "# Determine how many components to keep\n",
    "cumsum = np.cumsum(eig_values[idx]) / np.sum(eig_values[idx])\n",
    "xint = range(1, len(cumsum) + 1)\n",
    "plt.figure(figsize=(20, 7))\n",
    "plt.plot(xint, cumsum)\n",
    "\n",
    "plt.xlabel(\"Number of components\")\n",
    "plt.ylabel(\"Cumulative explained variance\")\n",
    "plt.xticks(np.arange(0, 2151, 50))\n",
    "plt.xlim(1, len(cumsum))\n",
    "plt.ylim(0, 1)  # Set y-axis limits between 0 and 1 if necessary\n",
    "\n",
    "plt.show()"
   ]
  },
  {
   "cell_type": "code",
   "execution_count": 127,
   "id": "53693244",
   "metadata": {},
   "outputs": [],
   "source": [
    "# Determine names of components\n",
    "num_components_to_keep = 150\n",
    "selected_eigenvectors = sorted_eig_vectors[:, :num_components_to_keep]\n",
    "\n",
    "# Get the column names corresponding to the selected eigenvectors\n",
    "selected_component_names = img_df.columns[:-13][np.argsort(np.abs(selected_eigenvectors.sum(axis=1)))[::-1][:num_components_to_keep]]\n",
    "selected_component_names = selected_component_names.tolist()"
   ]
  },
  {
   "cell_type": "code",
   "execution_count": 128,
   "id": "23c91fd6",
   "metadata": {},
   "outputs": [],
   "source": [
    "# Reconstruct df\n",
    "img_df = img_df[selected_component_names]\n",
    "img_df = pd.concat([img_ptids, img_df], axis=1)\n",
    "img_df.reset_index(drop=True, inplace=True)\n",
    "img_df.rename({\"Subject\": \"PTID\"}, axis=1, inplace=True)"
   ]
  },
  {
   "cell_type": "markdown",
   "id": "af98ecbd",
   "metadata": {},
   "source": [
    "# Merge MRI and Clinical/Genetic Data"
   ]
  },
  {
   "cell_type": "code",
   "execution_count": 129,
   "id": "e8d9e4ba",
   "metadata": {},
   "outputs": [],
   "source": [
    "# Read in med/famhist\n",
    "mf_hist = pd.read_csv('../data/clinical_training_data.csv')\n",
    "\n",
    "# Handle Nan\n",
    "mf_hist[\"APOE4\"] = mf_hist[\"APOE4\"].fillna(0)\n",
    "\n",
    "# Join with img_df\n",
    "df = pd.merge(mf_hist, img_df, on=\"PTID\", how=\"inner\")\n",
    "\n",
    "# For converting categorical variables to ints\n",
    "label_encoder = LabelEncoder()\n",
    "scaler = MinMaxScaler()\n",
    "\n",
    "# Split features / target\n",
    "X = df.drop(columns=['PTID',\n",
    "                     'AD_dx_in_5_yrs', \n",
    "                     'AD_dx_in_any_time', \n",
    "                     'AD_dx_in_15_yrs',\n",
    "                     'AD_dx_in_10_yrs', \n",
    "                     'AD_dx_in_4_yrs', \n",
    "                     'AD_dx_in_3_yrs',\n",
    "                     'AD_dx_in_2_yrs', \n",
    "                     'AD_dx_in_1_yr'])\n",
    "y = df['AD_dx_in_5_yrs']\n",
    "\n",
    "# Encode features\n",
    "X[\"Diagnosis_at_Baseline\"] = label_encoder.fit_transform(X[\"Diagnosis_at_Baseline\"])\n",
    "X[\"Gender\"] = label_encoder.fit_transform(X[\"Gender\"])\n",
    "X[\"Ethnicity\"] = label_encoder.fit_transform(X[\"Ethnicity\"])\n",
    "X[\"Race\"] = label_encoder.fit_transform(X[\"Race\"])\n",
    "\n",
    "# Split data\n",
    "X_train, X_test, y_train, y_test = train_test_split(X, y, test_size=0.2, random_state=42)\n",
    "X_train, X_val, y_train, y_val = train_test_split(X_train, y_train, test_size=0.2, random_state=42)"
   ]
  },
  {
   "cell_type": "code",
   "execution_count": 130,
   "id": "d6e17fd2",
   "metadata": {},
   "outputs": [],
   "source": [
    "# Scale data\n",
    "scaler = StandardScaler()\n",
    "X_train_scaled = scaler.fit_transform(X_train)\n",
    "X_val_scaled = scaler.transform(X_val)\n",
    "X_test_scaled = scaler.transform(X_test)"
   ]
  },
  {
   "cell_type": "code",
   "execution_count": 134,
   "id": "7d54cc85",
   "metadata": {},
   "outputs": [],
   "source": [
    "# Reorder labels (order changed when forming unscaled_mri_df)\n",
    "y_train_final = []\n",
    "for val in X_train.index.values:\n",
    "    y_train_final.append(df.loc[df.index == val, \"AD_dx_in_5_yrs\"].values[0])\n",
    "y_train_final = np.array(y_train_final)\n",
    "\n",
    "y_val_final = []\n",
    "for val in X_val.index.values:\n",
    "    y_val_final.append(df.loc[df.index == val, \"AD_dx_in_5_yrs\"].values[0])\n",
    "y_val_final = np.array(y_val_final)\n",
    "\n",
    "y_test_final = []\n",
    "for val in X_test.index.values:\n",
    "    y_test_final.append(df.loc[df.index == val, \"AD_dx_in_5_yrs\"].values[0])\n",
    "y_test_final = np.array(y_test_final)"
   ]
  },
  {
   "cell_type": "code",
   "execution_count": 135,
   "id": "64d7ffe8",
   "metadata": {},
   "outputs": [],
   "source": [
    "# Oversample\n",
    "ros = RandomOverSampler(random_state=42)\n",
    "X_train_resampled, y_train_resampled = ros.fit_resample(X_train_scaled, y_train_final)"
   ]
  },
  {
   "cell_type": "markdown",
   "id": "c5561779",
   "metadata": {},
   "source": [
    "# Train"
   ]
  },
  {
   "cell_type": "code",
   "execution_count": 136,
   "id": "98dc029f",
   "metadata": {},
   "outputs": [],
   "source": [
    "IN_FEATURES = X_train_scaled[0].shape[0]"
   ]
  },
  {
   "cell_type": "code",
   "execution_count": 160,
   "id": "6ed700e8",
   "metadata": {},
   "outputs": [],
   "source": [
    "def create_model(dropout=0.3, learning_rate=0.001, l1_penalty=0.001, l2_penalty=0.001):\n",
    "    \"\"\"Builds classification model\"\"\"\n",
    "    \n",
    "    model = tf.keras.Sequential()\n",
    "    inputs = tf.keras.layers.Input(shape=(IN_FEATURES,), name=\"input_layer\") # (Batch, num_features)\n",
    "    \n",
    "    hidden_1 = tf.keras.layers.Dense(256, activation=\"relu\", kernel_regularizer=tf.keras.regularizers.L1L2(l1=l1_penalty, l2=l2_penalty), name=\"hidden_1\")(inputs)\n",
    "    hidden_1 = tf.keras.layers.Dropout(dropout)(hidden_1)\n",
    "    hidden_2 = tf.keras.layers.Dense(128, activation=\"relu\", kernel_regularizer=tf.keras.regularizers.L1L2(l1=l1_penalty, l2=l2_penalty), name=\"hidden_2\")(hidden_1)\n",
    "    hidden_2 = tf.keras.layers.Dropout(dropout)(hidden_2)\n",
    "    \n",
    "    classification = tf.keras.layers.Dense(1, activation=\"sigmoid\", name=\"classification_layer\")(hidden_1)\n",
    "    classification_model = tf.keras.Model(inputs=[inputs], outputs=[classification])\n",
    "    \n",
    "    classification_model.compile(optimizer=tf.keras.optimizers.Adam(learning_rate=learning_rate),\n",
    "                                 loss=tf.keras.losses.BinaryCrossentropy(from_logits=True), \n",
    "                                 metrics=\"accuracy\")\n",
    "\n",
    "    return classification_model"
   ]
  },
  {
   "cell_type": "code",
   "execution_count": 161,
   "id": "8e33ca24",
   "metadata": {},
   "outputs": [],
   "source": [
    "model = create_model()"
   ]
  },
  {
   "cell_type": "code",
   "execution_count": 162,
   "id": "765c5eb2",
   "metadata": {},
   "outputs": [
    {
     "name": "stdout",
     "output_type": "stream",
     "text": [
      "Epoch 1/20\n",
      "27/27 [==============================] - 1s 24ms/step - loss: 3.1903 - accuracy: 0.6174 - val_loss: 3.0078 - val_accuracy: 0.6125\n",
      "Epoch 2/20\n",
      "27/27 [==============================] - 1s 24ms/step - loss: 2.6479 - accuracy: 0.8568 - val_loss: 2.7520 - val_accuracy: 0.7125\n",
      "Epoch 3/20\n",
      "27/27 [==============================] - 1s 23ms/step - loss: 2.3017 - accuracy: 0.9366 - val_loss: 2.5202 - val_accuracy: 0.7250\n",
      "Epoch 4/20\n",
      "27/27 [==============================] - 1s 23ms/step - loss: 2.0219 - accuracy: 0.9577 - val_loss: 2.2926 - val_accuracy: 0.7250\n",
      "Epoch 5/20\n",
      "27/27 [==============================] - 1s 23ms/step - loss: 1.7822 - accuracy: 0.9765 - val_loss: 2.1189 - val_accuracy: 0.7125\n",
      "Epoch 6/20\n",
      "27/27 [==============================] - 1s 24ms/step - loss: 1.5677 - accuracy: 0.9859 - val_loss: 1.9271 - val_accuracy: 0.7125\n",
      "Epoch 7/20\n",
      "27/27 [==============================] - 1s 23ms/step - loss: 1.3984 - accuracy: 0.9812 - val_loss: 1.7887 - val_accuracy: 0.7250\n",
      "Epoch 8/20\n",
      "27/27 [==============================] - 1s 24ms/step - loss: 1.2334 - accuracy: 0.9953 - val_loss: 1.6533 - val_accuracy: 0.7125\n",
      "Epoch 9/20\n",
      "27/27 [==============================] - 1s 24ms/step - loss: 1.0953 - accuracy: 0.9906 - val_loss: 1.5451 - val_accuracy: 0.7250\n",
      "Epoch 10/20\n",
      "27/27 [==============================] - 1s 24ms/step - loss: 0.9700 - accuracy: 0.9930 - val_loss: 1.4123 - val_accuracy: 0.7250\n",
      "Epoch 11/20\n",
      "27/27 [==============================] - 1s 24ms/step - loss: 0.8647 - accuracy: 0.9953 - val_loss: 1.3225 - val_accuracy: 0.7000\n",
      "Epoch 12/20\n",
      "27/27 [==============================] - 1s 24ms/step - loss: 0.7659 - accuracy: 0.9977 - val_loss: 1.2313 - val_accuracy: 0.7250\n",
      "Epoch 13/20\n",
      "27/27 [==============================] - 1s 24ms/step - loss: 0.6881 - accuracy: 0.9977 - val_loss: 1.1520 - val_accuracy: 0.7375\n",
      "Epoch 14/20\n",
      "27/27 [==============================] - 1s 24ms/step - loss: 0.6192 - accuracy: 0.9953 - val_loss: 1.1101 - val_accuracy: 0.7375\n",
      "Epoch 15/20\n",
      "27/27 [==============================] - 1s 24ms/step - loss: 0.5619 - accuracy: 1.0000 - val_loss: 1.0626 - val_accuracy: 0.7125\n",
      "Epoch 16/20\n",
      "27/27 [==============================] - 1s 25ms/step - loss: 0.5112 - accuracy: 0.9953 - val_loss: 1.0040 - val_accuracy: 0.7250\n",
      "Epoch 17/20\n",
      "27/27 [==============================] - 1s 24ms/step - loss: 0.4741 - accuracy: 1.0000 - val_loss: 0.9645 - val_accuracy: 0.7000\n",
      "Epoch 18/20\n",
      "27/27 [==============================] - 1s 24ms/step - loss: 0.4419 - accuracy: 0.9930 - val_loss: 0.9145 - val_accuracy: 0.7000\n",
      "Epoch 19/20\n",
      "27/27 [==============================] - 1s 25ms/step - loss: 0.4115 - accuracy: 0.9977 - val_loss: 0.8831 - val_accuracy: 0.7375\n",
      "Epoch 20/20\n",
      "27/27 [==============================] - 1s 25ms/step - loss: 0.3867 - accuracy: 0.9977 - val_loss: 0.8896 - val_accuracy: 0.6750\n"
     ]
    }
   ],
   "source": [
    "es = EarlyStopping(monitor=\"val_loss\", \n",
    "                   patience=4,\n",
    "                   verbose=0,\n",
    "                   restore_best_weights=True)\n",
    "\n",
    "tf.config.run_functions_eagerly(True)\n",
    "history = model.fit(X_train_resampled,\n",
    "                    y_train_resampled,\n",
    "                    validation_data=[X_val_scaled, y_val_final],\n",
    "                    batch_size=16,\n",
    "                    epochs=20)"
   ]
  },
  {
   "cell_type": "code",
   "execution_count": 163,
   "id": "b32860b3",
   "metadata": {},
   "outputs": [
    {
     "name": "stdout",
     "output_type": "stream",
     "text": [
      "If simply guessing all 0, can get this train accuracy: 0.5\n",
      "If simply guessing all 0, can get this val accuracy: 0.6125\n",
      "If simply guessing all 0, can get this test accuracy: 0.6599999999999999\n"
     ]
    }
   ],
   "source": [
    "print (\"If simply guessing all 0, can get this train accuracy:\", 1 - y_train_resampled.sum() / y_train_resampled.shape[0])\n",
    "print (\"If simply guessing all 0, can get this val accuracy:\", 1 - y_val_final.sum() / y_val_final.shape[0])\n",
    "print (\"If simply guessing all 0, can get this test accuracy:\", 1 - y_test_final.sum() / y_test_final.shape[0])"
   ]
  },
  {
   "cell_type": "code",
   "execution_count": 164,
   "id": "e2646629",
   "metadata": {},
   "outputs": [
    {
     "data": {
      "image/png": "[encoded data removed]",
      "text/plain": [
       "<Figure size 432x288 with 1 Axes>"
      ]
     },
     "metadata": {
      "needs_background": "light"
     },
     "output_type": "display_data"
    }
   ],
   "source": [
    "# Visualize loss curve\n",
    "\n",
    "losses = history.history[\"val_loss\"]\n",
    "plt.plot(losses)\n",
    "plt.xlabel(\"Training Step\")\n",
    "plt.ylabel(\"Loss\")\n",
    "plt.title(\"Validation Loss\")\n",
    "plt.show()"
   ]
  },
  {
   "cell_type": "code",
   "execution_count": 165,
   "id": "67e0f72e",
   "metadata": {},
   "outputs": [
    {
     "data": {
      "image/png": "[encoded data removed]",
      "text/plain": [
       "<Figure size 432x288 with 1 Axes>"
      ]
     },
     "metadata": {
      "needs_background": "light"
     },
     "output_type": "display_data"
    }
   ],
   "source": [
    "# Visualize accuracy curve\n",
    "\n",
    "losses = history.history[\"val_accuracy\"]\n",
    "plt.plot(losses)\n",
    "plt.xlabel(\"Training Step\")\n",
    "plt.ylabel(\"Accuracy\")\n",
    "plt.title(\"Validation Accuracy\")\n",
    "plt.show()"
   ]
  },
  {
   "cell_type": "markdown",
   "id": "e2f02093",
   "metadata": {},
   "source": [
    "# K-fold Cross-Validation"
   ]
  },
  {
   "cell_type": "code",
   "execution_count": 172,
   "id": "883f485f",
   "metadata": {},
   "outputs": [
    {
     "name": "stdout",
     "output_type": "stream",
     "text": [
      "Epoch 1/15\n",
      " 4/11 [=========>....................] - ETA: 0s - loss: 3.4197 - accuracy: 0.4922"
     ]
    },
    {
     "name": "stderr",
     "output_type": "stream",
     "text": [
      "/Users/johngalvin/miniforge3/lib/python3.9/site-packages/tensorflow/python/data/ops/structured_function.py:256: UserWarning: Even though the `tf.config.experimental_run_functions_eagerly` option is set, this option does not apply to tf.data functions. To force eager execution of tf.data functions, please use `tf.data.experimental.enable_debug_mode()`.\n",
      "  warnings.warn(\n",
      "/Users/johngalvin/miniforge3/lib/python3.9/site-packages/keras/backend.py:5676: UserWarning: \"`binary_crossentropy` received `from_logits=True`, but the `output` argument was produced by a Sigmoid activation and thus does not represent logits. Was this intended?\n",
      "  output, from_logits = _get_logits(\n"
     ]
    },
    {
     "name": "stdout",
     "output_type": "stream",
     "text": [
      "11/11 [==============================] - 0s 34ms/step - loss: 3.3437 - accuracy: 0.5176 - val_loss: 3.1045 - val_accuracy: 0.6395\n",
      "Epoch 2/15\n",
      "11/11 [==============================] - 0s 24ms/step - loss: 2.9583 - accuracy: 0.7676 - val_loss: 2.8980 - val_accuracy: 0.7558\n",
      "Epoch 3/15\n",
      "11/11 [==============================] - 0s 26ms/step - loss: 2.7107 - accuracy: 0.8529 - val_loss: 2.7235 - val_accuracy: 0.7791\n",
      "Epoch 4/15\n",
      "11/11 [==============================] - 0s 25ms/step - loss: 2.5126 - accuracy: 0.9088 - val_loss: 2.5550 - val_accuracy: 0.8605\n",
      "Epoch 5/15\n",
      "11/11 [==============================] - 0s 24ms/step - loss: 2.3234 - accuracy: 0.9353 - val_loss: 2.3931 - val_accuracy: 0.8721\n",
      "Epoch 6/15\n",
      "11/11 [==============================] - 0s 25ms/step - loss: 2.1717 - accuracy: 0.9382 - val_loss: 2.2490 - val_accuracy: 0.8721\n",
      "Epoch 7/15\n",
      "11/11 [==============================] - 0s 25ms/step - loss: 2.0290 - accuracy: 0.9559 - val_loss: 2.1075 - val_accuracy: 0.8837\n",
      "Epoch 8/15\n",
      "11/11 [==============================] - 0s 25ms/step - loss: 1.8689 - accuracy: 0.9882 - val_loss: 1.9774 - val_accuracy: 0.8721\n",
      "Epoch 9/15\n",
      "11/11 [==============================] - 0s 25ms/step - loss: 1.7481 - accuracy: 0.9765 - val_loss: 1.8539 - val_accuracy: 0.8953\n",
      "Epoch 10/15\n",
      "11/11 [==============================] - 0s 25ms/step - loss: 1.6198 - accuracy: 0.9971 - val_loss: 1.7460 - val_accuracy: 0.8953\n",
      "Epoch 11/15\n",
      "11/11 [==============================] - 0s 25ms/step - loss: 1.5123 - accuracy: 0.9912 - val_loss: 1.6437 - val_accuracy: 0.8837\n",
      "Epoch 12/15\n",
      "11/11 [==============================] - 0s 25ms/step - loss: 1.4070 - accuracy: 0.9912 - val_loss: 1.5449 - val_accuracy: 0.9070\n",
      "Epoch 13/15\n",
      "11/11 [==============================] - 0s 25ms/step - loss: 1.3183 - accuracy: 0.9941 - val_loss: 1.4527 - val_accuracy: 0.8953\n",
      "Epoch 14/15\n",
      "11/11 [==============================] - 0s 25ms/step - loss: 1.2294 - accuracy: 0.9971 - val_loss: 1.3739 - val_accuracy: 0.8837\n",
      "Epoch 15/15\n",
      "11/11 [==============================] - 0s 27ms/step - loss: 1.1427 - accuracy: 0.9941 - val_loss: 1.2973 - val_accuracy: 0.8953\n",
      "Score for fold 1: loss of 1.5009429454803467; accuracy of 78.99999618530273%\n",
      "Epoch 1/15\n",
      "11/11 [==============================] - 0s 32ms/step - loss: 3.2596 - accuracy: 0.6100 - val_loss: 3.0993 - val_accuracy: 0.6353\n",
      "Epoch 2/15\n",
      "11/11 [==============================] - 0s 24ms/step - loss: 2.8954 - accuracy: 0.8006 - val_loss: 2.9005 - val_accuracy: 0.6941\n",
      "Epoch 3/15\n",
      "11/11 [==============================] - 0s 24ms/step - loss: 2.6334 - accuracy: 0.8886 - val_loss: 2.7184 - val_accuracy: 0.7412\n",
      "Epoch 4/15\n",
      "11/11 [==============================] - 0s 24ms/step - loss: 2.4477 - accuracy: 0.9208 - val_loss: 2.5458 - val_accuracy: 0.7882\n",
      "Epoch 5/15\n",
      "11/11 [==============================] - 0s 24ms/step - loss: 2.2496 - accuracy: 0.9560 - val_loss: 2.3777 - val_accuracy: 0.8000\n",
      "Epoch 6/15\n",
      "11/11 [==============================] - 0s 24ms/step - loss: 2.0965 - accuracy: 0.9619 - val_loss: 2.2278 - val_accuracy: 0.7882\n",
      "Epoch 7/15\n",
      "11/11 [==============================] - 0s 24ms/step - loss: 1.9423 - accuracy: 0.9707 - val_loss: 2.0934 - val_accuracy: 0.7882\n",
      "Epoch 8/15\n",
      "11/11 [==============================] - 0s 24ms/step - loss: 1.7918 - accuracy: 0.9824 - val_loss: 1.9593 - val_accuracy: 0.7882\n",
      "Epoch 9/15\n",
      "11/11 [==============================] - 0s 25ms/step - loss: 1.6633 - accuracy: 0.9795 - val_loss: 1.8321 - val_accuracy: 0.8118\n",
      "Epoch 10/15\n",
      "11/11 [==============================] - 0s 24ms/step - loss: 1.5351 - accuracy: 0.9853 - val_loss: 1.7150 - val_accuracy: 0.8353\n",
      "Epoch 11/15\n",
      "11/11 [==============================] - 0s 25ms/step - loss: 1.4253 - accuracy: 0.9912 - val_loss: 1.6129 - val_accuracy: 0.8471\n",
      "Epoch 12/15\n",
      "11/11 [==============================] - 0s 24ms/step - loss: 1.3161 - accuracy: 0.9941 - val_loss: 1.5206 - val_accuracy: 0.8353\n",
      "Epoch 13/15\n",
      "11/11 [==============================] - 0s 25ms/step - loss: 1.2284 - accuracy: 0.9971 - val_loss: 1.4309 - val_accuracy: 0.8588\n",
      "Epoch 14/15\n",
      "11/11 [==============================] - 0s 24ms/step - loss: 1.1374 - accuracy: 0.9971 - val_loss: 1.3496 - val_accuracy: 0.8471\n",
      "Epoch 15/15\n",
      "11/11 [==============================] - 0s 24ms/step - loss: 1.0611 - accuracy: 0.9941 - val_loss: 1.2736 - val_accuracy: 0.8471\n",
      "Score for fold 2: loss of 1.383065104484558; accuracy of 75.99999904632568%\n",
      "Epoch 1/15\n",
      "11/11 [==============================] - 0s 26ms/step - loss: 3.2650 - accuracy: 0.5865 - val_loss: 3.1368 - val_accuracy: 0.6588\n",
      "Epoch 2/15\n",
      "11/11 [==============================] - 0s 24ms/step - loss: 2.8904 - accuracy: 0.7713 - val_loss: 2.9300 - val_accuracy: 0.6941\n",
      "Epoch 3/15\n",
      "11/11 [==============================] - 0s 24ms/step - loss: 2.6409 - accuracy: 0.8798 - val_loss: 2.7353 - val_accuracy: 0.7412\n",
      "Epoch 4/15\n",
      "11/11 [==============================] - 0s 24ms/step - loss: 2.4348 - accuracy: 0.9413 - val_loss: 2.5817 - val_accuracy: 0.7529\n",
      "Epoch 5/15\n",
      "11/11 [==============================] - 0s 24ms/step - loss: 2.2582 - accuracy: 0.9443 - val_loss: 2.4329 - val_accuracy: 0.7765\n",
      "Epoch 6/15\n",
      "11/11 [==============================] - 0s 24ms/step - loss: 2.0904 - accuracy: 0.9677 - val_loss: 2.2993 - val_accuracy: 0.7765\n",
      "Epoch 7/15\n",
      "11/11 [==============================] - 0s 24ms/step - loss: 1.9320 - accuracy: 0.9795 - val_loss: 2.1601 - val_accuracy: 0.7882\n",
      "Epoch 8/15\n",
      "11/11 [==============================] - 0s 24ms/step - loss: 1.7992 - accuracy: 0.9736 - val_loss: 2.0392 - val_accuracy: 0.7882\n",
      "Epoch 9/15\n",
      "11/11 [==============================] - 0s 24ms/step - loss: 1.6654 - accuracy: 0.9795 - val_loss: 1.9155 - val_accuracy: 0.8000\n",
      "Epoch 10/15\n",
      "11/11 [==============================] - 0s 26ms/step - loss: 1.5382 - accuracy: 0.9824 - val_loss: 1.8057 - val_accuracy: 0.8000\n",
      "Epoch 11/15\n",
      "11/11 [==============================] - 0s 24ms/step - loss: 1.4208 - accuracy: 1.0000 - val_loss: 1.7098 - val_accuracy: 0.7765\n",
      "Epoch 12/15\n",
      "11/11 [==============================] - 0s 24ms/step - loss: 1.3193 - accuracy: 0.9971 - val_loss: 1.6105 - val_accuracy: 0.7882\n",
      "Epoch 13/15\n",
      "11/11 [==============================] - 0s 25ms/step - loss: 1.2205 - accuracy: 0.9941 - val_loss: 1.5278 - val_accuracy: 0.8118\n",
      "Epoch 14/15\n",
      "11/11 [==============================] - 0s 25ms/step - loss: 1.1374 - accuracy: 0.9971 - val_loss: 1.4478 - val_accuracy: 0.8235\n",
      "Epoch 15/15\n",
      "11/11 [==============================] - 0s 25ms/step - loss: 1.0529 - accuracy: 0.9971 - val_loss: 1.3778 - val_accuracy: 0.8000\n",
      "Score for fold 3: loss of 1.4451926946640015; accuracy of 74.00000095367432%\n",
      "Epoch 1/15\n",
      "11/11 [==============================] - 0s 25ms/step - loss: 3.2839 - accuracy: 0.5689 - val_loss: 3.0910 - val_accuracy: 0.6235\n",
      "Epoch 2/15\n",
      "11/11 [==============================] - 0s 24ms/step - loss: 2.9197 - accuracy: 0.7801 - val_loss: 2.8552 - val_accuracy: 0.7412\n",
      "Epoch 3/15\n",
      "11/11 [==============================] - 0s 24ms/step - loss: 2.6544 - accuracy: 0.8827 - val_loss: 2.6767 - val_accuracy: 0.7882\n",
      "Epoch 4/15\n",
      "11/11 [==============================] - 0s 24ms/step - loss: 2.4660 - accuracy: 0.9296 - val_loss: 2.5074 - val_accuracy: 0.8000\n",
      "Epoch 5/15\n",
      "11/11 [==============================] - 0s 24ms/step - loss: 2.2780 - accuracy: 0.9619 - val_loss: 2.3665 - val_accuracy: 0.8118\n",
      "Epoch 6/15\n",
      "11/11 [==============================] - 0s 24ms/step - loss: 2.1162 - accuracy: 0.9619 - val_loss: 2.2304 - val_accuracy: 0.8471\n",
      "Epoch 7/15\n",
      "11/11 [==============================] - 0s 24ms/step - loss: 1.9784 - accuracy: 0.9648 - val_loss: 2.1030 - val_accuracy: 0.8235\n",
      "Epoch 8/15\n",
      "11/11 [==============================] - 0s 24ms/step - loss: 1.8329 - accuracy: 0.9707 - val_loss: 1.9799 - val_accuracy: 0.8471\n",
      "Epoch 9/15\n",
      "11/11 [==============================] - 0s 24ms/step - loss: 1.6940 - accuracy: 0.9912 - val_loss: 1.8660 - val_accuracy: 0.8235\n",
      "Epoch 10/15\n",
      "11/11 [==============================] - 0s 24ms/step - loss: 1.5699 - accuracy: 0.9971 - val_loss: 1.7601 - val_accuracy: 0.8353\n",
      "Epoch 11/15\n",
      "11/11 [==============================] - 0s 24ms/step - loss: 1.4658 - accuracy: 1.0000 - val_loss: 1.6585 - val_accuracy: 0.8471\n",
      "Epoch 12/15\n"
     ]
    },
    {
     "name": "stdout",
     "output_type": "stream",
     "text": [
      "11/11 [==============================] - 0s 24ms/step - loss: 1.3616 - accuracy: 0.9912 - val_loss: 1.5726 - val_accuracy: 0.8471\n",
      "Epoch 13/15\n",
      "11/11 [==============================] - 0s 24ms/step - loss: 1.2668 - accuracy: 0.9971 - val_loss: 1.4914 - val_accuracy: 0.8471\n",
      "Epoch 14/15\n",
      "11/11 [==============================] - 0s 24ms/step - loss: 1.1748 - accuracy: 1.0000 - val_loss: 1.4142 - val_accuracy: 0.8471\n",
      "Epoch 15/15\n",
      "11/11 [==============================] - 0s 24ms/step - loss: 1.1013 - accuracy: 0.9971 - val_loss: 1.3410 - val_accuracy: 0.8471\n",
      "Score for fold 4: loss of 1.4701075553894043; accuracy of 75.0%\n",
      "Epoch 1/15\n",
      "11/11 [==============================] - 0s 27ms/step - loss: 3.2748 - accuracy: 0.5718 - val_loss: 3.1056 - val_accuracy: 0.7059\n",
      "Epoch 2/15\n",
      "11/11 [==============================] - 0s 28ms/step - loss: 2.9441 - accuracy: 0.7419 - val_loss: 2.9082 - val_accuracy: 0.7765\n",
      "Epoch 3/15\n",
      "11/11 [==============================] - 0s 24ms/step - loss: 2.6929 - accuracy: 0.8416 - val_loss: 2.7318 - val_accuracy: 0.7882\n",
      "Epoch 4/15\n",
      "11/11 [==============================] - 0s 27ms/step - loss: 2.4755 - accuracy: 0.8915 - val_loss: 2.5713 - val_accuracy: 0.8118\n",
      "Epoch 5/15\n",
      "11/11 [==============================] - 0s 28ms/step - loss: 2.2949 - accuracy: 0.9296 - val_loss: 2.4018 - val_accuracy: 0.8235\n",
      "Epoch 6/15\n",
      "11/11 [==============================] - 0s 29ms/step - loss: 2.1257 - accuracy: 0.9677 - val_loss: 2.2461 - val_accuracy: 0.8353\n",
      "Epoch 7/15\n",
      "11/11 [==============================] - 0s 25ms/step - loss: 1.9697 - accuracy: 0.9736 - val_loss: 2.1021 - val_accuracy: 0.8706\n",
      "Epoch 8/15\n",
      "11/11 [==============================] - 0s 25ms/step - loss: 1.8300 - accuracy: 0.9824 - val_loss: 1.9793 - val_accuracy: 0.8588\n",
      "Epoch 9/15\n",
      "11/11 [==============================] - 0s 24ms/step - loss: 1.7111 - accuracy: 0.9824 - val_loss: 1.8595 - val_accuracy: 0.8588\n",
      "Epoch 10/15\n",
      "11/11 [==============================] - 0s 24ms/step - loss: 1.5819 - accuracy: 0.9883 - val_loss: 1.7401 - val_accuracy: 0.8706\n",
      "Epoch 11/15\n",
      "11/11 [==============================] - 0s 25ms/step - loss: 1.4656 - accuracy: 0.9971 - val_loss: 1.6393 - val_accuracy: 0.8706\n",
      "Epoch 12/15\n",
      "11/11 [==============================] - 0s 28ms/step - loss: 1.3694 - accuracy: 0.9824 - val_loss: 1.5519 - val_accuracy: 0.8588\n",
      "Epoch 13/15\n",
      "11/11 [==============================] - 0s 24ms/step - loss: 1.2722 - accuracy: 0.9853 - val_loss: 1.4573 - val_accuracy: 0.8706\n",
      "Epoch 14/15\n",
      "11/11 [==============================] - 0s 24ms/step - loss: 1.1778 - accuracy: 1.0000 - val_loss: 1.3772 - val_accuracy: 0.8588\n",
      "Epoch 15/15\n",
      "11/11 [==============================] - 0s 24ms/step - loss: 1.1008 - accuracy: 1.0000 - val_loss: 1.3004 - val_accuracy: 0.8706\n",
      "Score for fold 5: loss of 1.4603854417800903; accuracy of 75.0%\n",
      "------------------------------------------------------------------------\n",
      "Average scores for all folds:\n",
      "> Accuracy: 75.79999923706055 (+- 1.7204634126451916)\n",
      "> Loss: 1.4519387483596802\n",
      "------------------------------------------------------------------------\n"
     ]
    }
   ],
   "source": [
    "# Initialize kf\n",
    "num_folds = 5\n",
    "kf = StratifiedKFold(n_splits=num_folds, shuffle=True, random_state=42)\n",
    "\n",
    "# Train\n",
    "acc_per_fold = []\n",
    "loss_per_fold = []\n",
    "\n",
    "fold_no = 1\n",
    "for train, val in kf.split(X_train_resampled, y_train_resampled):\n",
    "    model = create_model()\n",
    "    \n",
    "    history = model.fit(X_train_resampled[train], \n",
    "                        y_train_resampled[train], \n",
    "                        epochs=15, \n",
    "                        batch_size=32, \n",
    "                        validation_data=(X_train_resampled[val], y_train_resampled[val]))\n",
    "    \n",
    "    # Generate generalization metrics\n",
    "    scores = model.evaluate(X_test_scaled, y_test_final, verbose=0)\n",
    "    print(f'Score for fold {fold_no}: {model.metrics_names[0]} of {scores[0]}; {model.metrics_names[1]} of {scores[1]*100}%')\n",
    "    \n",
    "    acc_per_fold.append(scores[1] * 100)\n",
    "    loss_per_fold.append(scores[0])\n",
    "    fold_no += 1\n",
    "\n",
    "# Print average metrics\n",
    "print('------------------------------------------------------------------------')\n",
    "print('Average scores for all folds:')\n",
    "print(f'> Accuracy: {np.mean(acc_per_fold)} (+- {np.std(acc_per_fold)})')\n",
    "print(f'> Loss: {np.mean(loss_per_fold)}')\n",
    "print('------------------------------------------------------------------------')"
   ]
  },
  {
   "cell_type": "code",
   "execution_count": null,
   "id": "1778fa9e",
   "metadata": {},
   "outputs": [],
   "source": []
  },
  {
   "cell_type": "code",
   "execution_count": null,
   "id": "b30bf58c",
   "metadata": {},
   "outputs": [],
   "source": []
  },
  {
   "cell_type": "code",
   "execution_count": null,
   "id": "63c9fc8c",
   "metadata": {},
   "outputs": [],
   "source": []
  }
 ],
 "metadata": {
  "kernelspec": {
   "display_name": "Python 3 (ipykernel)",
   "language": "python",
   "name": "python3"
  },
  "language_info": {
   "codemirror_mode": {
    "name": "ipython",
    "version": 3
   },
   "file_extension": ".py",
   "mimetype": "text/x-python",
   "name": "python",
   "nbconvert_exporter": "python",
   "pygments_lexer": "ipython3",
   "version": "3.9.7"
  }
 },
 "nbformat": 4,
 "nbformat_minor": 5
}
