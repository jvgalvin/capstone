{
 "cells": [
  {
   "cell_type": "markdown",
   "id": "a85556a0",
   "metadata": {},
   "source": [
    "# Training"
   ]
  },
  {
   "cell_type": "code",
   "execution_count": 1,
   "id": "e61c957e",
   "metadata": {},
   "outputs": [
    {
     "name": "stderr",
     "output_type": "stream",
     "text": [
      "/Users/johngalvin/miniforge3/lib/python3.9/site-packages/scipy/__init__.py:146: UserWarning: A NumPy version >=1.16.5 and <1.23.0 is required for this version of SciPy (detected version 1.26.2\n",
      "  warnings.warn(f\"A NumPy version >={np_minversion} and <{np_maxversion}\"\n"
     ]
    }
   ],
   "source": [
    "import pandas as pd\n",
    "import numpy as np\n",
    "import tensorflow as tf\n",
    "import joblib\n",
    "import shap\n",
    "\n",
    "from tensorflow.keras.callbacks import EarlyStopping\n",
    "from sklearn.model_selection import train_test_split\n",
    "from sklearn.preprocessing import LabelEncoder, MinMaxScaler, StandardScaler\n",
    "from sklearn.model_selection import StratifiedKFold\n",
    "from sklearn.metrics import precision_recall_curve, auc, accuracy_score, classification_report\n",
    "from imblearn.over_sampling import RandomOverSampler\n",
    "\n",
    "import matplotlib.pyplot as plt\n",
    "%matplotlib inline\n",
    "\n",
    "pd.set_option('display.max_columns', 500)"
   ]
  },
  {
   "cell_type": "markdown",
   "id": "4e8bf35a",
   "metadata": {},
   "source": [
    "# PCA"
   ]
  },
  {
   "cell_type": "code",
   "execution_count": 8,
   "id": "20cd9416",
   "metadata": {},
   "outputs": [
    {
     "name": "stderr",
     "output_type": "stream",
     "text": [
      "Columns (2162) have mixed types.Specify dtype option on import or set low_memory=False.\n"
     ]
    }
   ],
   "source": [
    "img_df = pd.read_csv(\"/Users/johngalvin/Downloads/AD1ChallengeImagingFiles/baseline_data.csv\")\n",
    "img_ptids = img_df[\"Subject\"]\n",
    "X = img_df.iloc[:,:-13] # Keep just image features"
   ]
  },
  {
   "cell_type": "code",
   "execution_count": 9,
   "id": "c8ffe69f",
   "metadata": {},
   "outputs": [],
   "source": [
    "# Standardize\n",
    "scaler = StandardScaler()\n",
    "X_scaled = scaler.fit_transform(X)"
   ]
  },
  {
   "cell_type": "code",
   "execution_count": 10,
   "id": "5b60029f",
   "metadata": {},
   "outputs": [],
   "source": [
    "# Cov matrix\n",
    "cov = (X_scaled.T @ X_scaled) / (X_scaled.shape[0] - 1)"
   ]
  },
  {
   "cell_type": "code",
   "execution_count": 11,
   "id": "d1dacb44",
   "metadata": {},
   "outputs": [],
   "source": [
    "# Eigendecomposition\n",
    "eig_values, eig_vectors = np.linalg.eig(cov)"
   ]
  },
  {
   "cell_type": "code",
   "execution_count": 12,
   "id": "44067851",
   "metadata": {},
   "outputs": [],
   "source": [
    "# Figure out which components to select\n",
    "idx = np.argsort(eig_values, axis=0)[::-1]\n",
    "sorted_eig_vectors = eig_vectors[:, idx]"
   ]
  },
  {
   "cell_type": "code",
   "execution_count": 13,
   "id": "243734c9",
   "metadata": {},
   "outputs": [
    {
     "name": "stderr",
     "output_type": "stream",
     "text": [
      "Casting complex values to real discards the imaginary part\n"
     ]
    },
    {
     "data": {
      "image/png": "[encoded data removed]",
      "text/plain": [
       "<Figure size 1440x504 with 1 Axes>"
      ]
     },
     "metadata": {
      "needs_background": "light"
     },
     "output_type": "display_data"
    }
   ],
   "source": [
    "# Determine how many components to keep\n",
    "cumsum = np.cumsum(eig_values[idx]) / np.sum(eig_values[idx])\n",
    "xint = range(1, len(cumsum) + 1)\n",
    "plt.figure(figsize=(20, 7))\n",
    "plt.plot(xint, cumsum)\n",
    "\n",
    "plt.xlabel(\"Number of components\")\n",
    "plt.ylabel(\"Cumulative explained variance\")\n",
    "plt.xticks(np.arange(0, 2151, 50))\n",
    "plt.xlim(1, len(cumsum))\n",
    "plt.ylim(0, 1)  # Set y-axis limits between 0 and 1 if necessary\n",
    "\n",
    "plt.show()"
   ]
  },
  {
   "cell_type": "code",
   "execution_count": 14,
   "id": "53693244",
   "metadata": {},
   "outputs": [],
   "source": [
    "# Determine names of components\n",
    "num_components_to_keep = 150\n",
    "selected_eigenvectors = sorted_eig_vectors[:, :num_components_to_keep]\n",
    "\n",
    "# Get the column names corresponding to the selected eigenvectors\n",
    "selected_component_names = img_df.columns[:-13][np.argsort(np.abs(selected_eigenvectors.sum(axis=1)))[::-1][:num_components_to_keep]]\n",
    "selected_component_names = selected_component_names.tolist()"
   ]
  },
  {
   "cell_type": "code",
   "execution_count": 15,
   "id": "23c91fd6",
   "metadata": {},
   "outputs": [],
   "source": [
    "# Reconstruct df\n",
    "img_df = img_df[selected_component_names]\n",
    "img_df = pd.concat([img_ptids, img_df], axis=1)\n",
    "img_df.reset_index(drop=True, inplace=True)\n",
    "img_df.rename({\"Subject\": \"PTID\"}, axis=1, inplace=True)"
   ]
  },
  {
   "cell_type": "markdown",
   "id": "af98ecbd",
   "metadata": {},
   "source": [
    "# Merge MRI and Clinical/Genetic Data"
   ]
  },
  {
   "cell_type": "code",
   "execution_count": 16,
   "id": "e8d9e4ba",
   "metadata": {},
   "outputs": [],
   "source": [
    "# Read in med/famhist\n",
    "mf_hist = pd.read_csv('../data/clinical_training_data.csv')\n",
    "\n",
    "# Handle Nan\n",
    "mf_hist[\"APOE4\"] = mf_hist[\"APOE4\"].fillna(0)\n",
    "\n",
    "# Join with img_df\n",
    "df = pd.merge(mf_hist, img_df, on=\"PTID\", how=\"inner\")\n",
    "\n",
    "# For converting categorical variables to ints\n",
    "label_encoder = LabelEncoder()\n",
    "\n",
    "# Split features / target\n",
    "X = df.drop(columns=['PTID',\n",
    "                     'AD_dx_in_5_yrs', \n",
    "                     'AD_dx_in_any_time', \n",
    "                     'AD_dx_in_15_yrs',\n",
    "                     'AD_dx_in_10_yrs', \n",
    "                     'AD_dx_in_4_yrs', \n",
    "                     'AD_dx_in_3_yrs',\n",
    "                     'AD_dx_in_2_yrs', \n",
    "                     'AD_dx_in_1_yr'])\n",
    "y = df['AD_dx_in_5_yrs']\n",
    "\n",
    "# Encode features\n",
    "X[\"Diagnosis_at_Baseline\"] = label_encoder.fit_transform(X[\"Diagnosis_at_Baseline\"])\n",
    "#joblib.dump(label_encoder, \"dx_encoder.gz\")\n",
    "X[\"Gender\"] = label_encoder.fit_transform(X[\"Gender\"])\n",
    "#joblib.dump(label_encoder, \"gender_encoder.gz\")\n",
    "X[\"Ethnicity\"] = label_encoder.fit_transform(X[\"Ethnicity\"])\n",
    "#joblib.dump(label_encoder, \"eth_encoder.gz\")\n",
    "X[\"Race\"] = label_encoder.fit_transform(X[\"Race\"])\n",
    "#joblib.dump(label_encoder, \"race_encoder.gz\")\n",
    "\n",
    "# Split data\n",
    "X_train, X_test, y_train, y_test = train_test_split(X, y, test_size=0.2, random_state=42)\n",
    "X_train, X_val, y_train, y_val = train_test_split(X_train, y_train, test_size=0.2, random_state=42)"
   ]
  },
  {
   "cell_type": "code",
   "execution_count": 17,
   "id": "d6e17fd2",
   "metadata": {},
   "outputs": [],
   "source": [
    "# Scale data\n",
    "scaler = StandardScaler()\n",
    "X_train_scaled = scaler.fit_transform(X_train)\n",
    "X_val_scaled = scaler.transform(X_val)\n",
    "X_test_scaled = scaler.transform(X_test)\n",
    "\n",
    "#joblib.dump(scaler, \"scaler.gz\")"
   ]
  },
  {
   "cell_type": "code",
   "execution_count": 18,
   "id": "7d54cc85",
   "metadata": {},
   "outputs": [],
   "source": [
    "# Reorder labels (order changed when forming unscaled_mri_df)\n",
    "y_train_final = []\n",
    "for val in X_train.index.values:\n",
    "    y_train_final.append(df.loc[df.index == val, \"AD_dx_in_5_yrs\"].values[0])\n",
    "y_train_final = np.array(y_train_final)\n",
    "\n",
    "y_val_final = []\n",
    "for val in X_val.index.values:\n",
    "    y_val_final.append(df.loc[df.index == val, \"AD_dx_in_5_yrs\"].values[0])\n",
    "y_val_final = np.array(y_val_final)\n",
    "\n",
    "y_test_final = []\n",
    "for val in X_test.index.values:\n",
    "    y_test_final.append(df.loc[df.index == val, \"AD_dx_in_5_yrs\"].values[0])\n",
    "y_test_final = np.array(y_test_final)"
   ]
  },
  {
   "cell_type": "code",
   "execution_count": 19,
   "id": "64d7ffe8",
   "metadata": {},
   "outputs": [],
   "source": [
    "# Oversample\n",
    "ros = RandomOverSampler(random_state=42)\n",
    "X_train_resampled, y_train_resampled = ros.fit_resample(X_train_scaled, y_train_final)"
   ]
  },
  {
   "cell_type": "markdown",
   "id": "c5561779",
   "metadata": {},
   "source": [
    "# NN, Multimodal"
   ]
  },
  {
   "cell_type": "code",
   "execution_count": 20,
   "id": "98dc029f",
   "metadata": {},
   "outputs": [],
   "source": [
    "IN_FEATURES = X_train_scaled[0].shape[0]"
   ]
  },
  {
   "cell_type": "code",
   "execution_count": 21,
   "id": "6ed700e8",
   "metadata": {},
   "outputs": [],
   "source": [
    "def create_model(dropout=0.3, learning_rate=0.001, l1_penalty=0.001, l2_penalty=0.001):\n",
    "    \"\"\"Builds classification model\"\"\"\n",
    "    \n",
    "    model = tf.keras.Sequential()\n",
    "    inputs = tf.keras.layers.Input(shape=(IN_FEATURES,), name=\"input_layer\") # (Batch, num_features)\n",
    "    \n",
    "    hidden_1 = tf.keras.layers.Dense(256, activation=\"relu\", kernel_regularizer=tf.keras.regularizers.L1L2(l1=l1_penalty, l2=l2_penalty), name=\"hidden_1\")(inputs)\n",
    "    hidden_1 = tf.keras.layers.Dropout(dropout)(hidden_1)\n",
    "    hidden_2 = tf.keras.layers.Dense(128, activation=\"relu\", kernel_regularizer=tf.keras.regularizers.L1L2(l1=l1_penalty, l2=l2_penalty), name=\"hidden_2\")(hidden_1)\n",
    "    hidden_2 = tf.keras.layers.Dropout(dropout)(hidden_2)\n",
    "    \n",
    "    classification = tf.keras.layers.Dense(1, activation=\"sigmoid\", name=\"classification_layer\")(hidden_1)\n",
    "    classification_model = tf.keras.Model(inputs=[inputs], outputs=[classification])\n",
    "    \n",
    "    classification_model.compile(optimizer=tf.keras.optimizers.Adam(learning_rate=learning_rate),\n",
    "                                 loss=tf.keras.losses.BinaryCrossentropy(from_logits=True), \n",
    "                                 metrics=\"accuracy\")\n",
    "\n",
    "    return classification_model"
   ]
  },
  {
   "cell_type": "code",
   "execution_count": 22,
   "id": "8e33ca24",
   "metadata": {},
   "outputs": [
    {
     "name": "stderr",
     "output_type": "stream",
     "text": [
      "2023-11-21 12:40:08.927546: I metal_plugin/src/device/metal_device.cc:1154] Metal device set to: Apple M2 Pro\n",
      "2023-11-21 12:40:08.927608: I metal_plugin/src/device/metal_device.cc:296] systemMemory: 32.00 GB\n",
      "2023-11-21 12:40:08.927618: I metal_plugin/src/device/metal_device.cc:313] maxCacheSize: 10.67 GB\n",
      "2023-11-21 12:40:08.927705: I tensorflow/core/common_runtime/pluggable_device/pluggable_device_factory.cc:306] Could not identify NUMA node of platform GPU ID 0, defaulting to 0. Your kernel may not have been built with NUMA support.\n",
      "2023-11-21 12:40:08.927740: I tensorflow/core/common_runtime/pluggable_device/pluggable_device_factory.cc:272] Created TensorFlow device (/job:localhost/replica:0/task:0/device:GPU:0 with 0 MB memory) -> physical PluggableDevice (device: 0, name: METAL, pci bus id: <undefined>)\n"
     ]
    }
   ],
   "source": [
    "model = create_model()"
   ]
  },
  {
   "cell_type": "code",
   "execution_count": 23,
   "id": "765c5eb2",
   "metadata": {},
   "outputs": [
    {
     "name": "stdout",
     "output_type": "stream",
     "text": [
      "Epoch 1/20\n"
     ]
    },
    {
     "name": "stderr",
     "output_type": "stream",
     "text": [
      "Even though the `tf.config.experimental_run_functions_eagerly` option is set, this option does not apply to tf.data functions. To force eager execution of tf.data functions, please use `tf.data.experimental.enable_debug_mode()`.\n",
      "\"`binary_crossentropy` received `from_logits=True`, but the `output` argument was produced by a Sigmoid activation and thus does not represent logits. Was this intended?\n"
     ]
    },
    {
     "name": "stdout",
     "output_type": "stream",
     "text": [
      "27/27 [==============================] - 1s 27ms/step - loss: 3.1656 - accuracy: 0.6315 - val_loss: 2.9928 - val_accuracy: 0.6625\n",
      "Epoch 2/20\n",
      "27/27 [==============================] - 1s 25ms/step - loss: 2.6362 - accuracy: 0.8662 - val_loss: 2.7045 - val_accuracy: 0.7125\n",
      "Epoch 3/20\n",
      "27/27 [==============================] - 1s 24ms/step - loss: 2.2828 - accuracy: 0.9202 - val_loss: 2.4909 - val_accuracy: 0.7000\n",
      "Epoch 4/20\n",
      "27/27 [==============================] - 1s 24ms/step - loss: 2.0093 - accuracy: 0.9695 - val_loss: 2.2584 - val_accuracy: 0.7000\n",
      "Epoch 5/20\n",
      "27/27 [==============================] - 1s 24ms/step - loss: 1.7679 - accuracy: 0.9695 - val_loss: 2.0808 - val_accuracy: 0.7250\n",
      "Epoch 6/20\n",
      "27/27 [==============================] - 1s 24ms/step - loss: 1.5526 - accuracy: 0.9930 - val_loss: 1.9158 - val_accuracy: 0.7125\n",
      "Epoch 7/20\n",
      "27/27 [==============================] - 1s 24ms/step - loss: 1.3801 - accuracy: 0.9883 - val_loss: 1.7685 - val_accuracy: 0.7250\n",
      "Epoch 8/20\n",
      "27/27 [==============================] - 1s 25ms/step - loss: 1.2185 - accuracy: 0.9953 - val_loss: 1.6314 - val_accuracy: 0.7500\n",
      "Epoch 9/20\n",
      "27/27 [==============================] - 1s 23ms/step - loss: 1.0770 - accuracy: 0.9977 - val_loss: 1.4927 - val_accuracy: 0.7375\n",
      "Epoch 10/20\n",
      "27/27 [==============================] - 1s 24ms/step - loss: 0.9546 - accuracy: 1.0000 - val_loss: 1.3913 - val_accuracy: 0.7500\n",
      "Epoch 11/20\n",
      "27/27 [==============================] - 1s 24ms/step - loss: 0.8540 - accuracy: 0.9953 - val_loss: 1.3016 - val_accuracy: 0.7625\n",
      "Epoch 12/20\n",
      "27/27 [==============================] - 1s 24ms/step - loss: 0.7567 - accuracy: 1.0000 - val_loss: 1.2142 - val_accuracy: 0.7250\n",
      "Epoch 13/20\n",
      "27/27 [==============================] - 1s 24ms/step - loss: 0.6759 - accuracy: 0.9977 - val_loss: 1.1413 - val_accuracy: 0.7500\n",
      "Epoch 14/20\n",
      "27/27 [==============================] - 1s 24ms/step - loss: 0.6038 - accuracy: 0.9953 - val_loss: 1.0952 - val_accuracy: 0.7375\n",
      "Epoch 15/20\n",
      "27/27 [==============================] - 1s 25ms/step - loss: 0.5497 - accuracy: 0.9977 - val_loss: 1.0337 - val_accuracy: 0.7500\n",
      "Epoch 16/20\n",
      "27/27 [==============================] - 1s 24ms/step - loss: 0.5054 - accuracy: 0.9977 - val_loss: 0.9741 - val_accuracy: 0.7750\n",
      "Epoch 17/20\n",
      "27/27 [==============================] - 1s 24ms/step - loss: 0.4632 - accuracy: 0.9977 - val_loss: 0.9541 - val_accuracy: 0.7875\n",
      "Epoch 18/20\n",
      "27/27 [==============================] - 1s 24ms/step - loss: 0.4262 - accuracy: 0.9977 - val_loss: 0.9080 - val_accuracy: 0.7500\n",
      "Epoch 19/20\n",
      "27/27 [==============================] - 1s 24ms/step - loss: 0.3951 - accuracy: 0.9977 - val_loss: 0.8713 - val_accuracy: 0.7500\n",
      "Epoch 20/20\n",
      "27/27 [==============================] - 1s 23ms/step - loss: 0.3792 - accuracy: 0.9977 - val_loss: 0.8844 - val_accuracy: 0.7375\n"
     ]
    }
   ],
   "source": [
    "es = EarlyStopping(monitor=\"val_loss\", \n",
    "                   patience=4,\n",
    "                   verbose=0,\n",
    "                   restore_best_weights=True)\n",
    "\n",
    "tf.config.run_functions_eagerly(True)\n",
    "history = model.fit(X_train_resampled,\n",
    "                    y_train_resampled,\n",
    "                    validation_data=[X_val_scaled, y_val_final],\n",
    "                    batch_size=16,\n",
    "                    epochs=20)"
   ]
  },
  {
   "cell_type": "code",
   "execution_count": 24,
   "id": "b32860b3",
   "metadata": {},
   "outputs": [
    {
     "name": "stdout",
     "output_type": "stream",
     "text": [
      "If simply guessing all 0, can get this train accuracy: 0.5\n",
      "If simply guessing all 0, can get this val accuracy: 0.6125\n",
      "If simply guessing all 0, can get this test accuracy: 0.6599999999999999\n"
     ]
    }
   ],
   "source": [
    "print (\"If simply guessing all 0, can get this train accuracy:\", 1 - y_train_resampled.sum() / y_train_resampled.shape[0])\n",
    "print (\"If simply guessing all 0, can get this val accuracy:\", 1 - y_val_final.sum() / y_val_final.shape[0])\n",
    "print (\"If simply guessing all 0, can get this test accuracy:\", 1 - y_test_final.sum() / y_test_final.shape[0])"
   ]
  },
  {
   "cell_type": "code",
   "execution_count": 25,
   "id": "e2646629",
   "metadata": {},
   "outputs": [
    {
     "data": {
      "image/png": "[encoded data removed]",
      "text/plain": [
       "<Figure size 432x288 with 1 Axes>"
      ]
     },
     "metadata": {
      "needs_background": "light"
     },
     "output_type": "display_data"
    }
   ],
   "source": [
    "# Visualize loss curve\n",
    "\n",
    "losses = history.history[\"val_loss\"]\n",
    "plt.plot(losses)\n",
    "plt.xlabel(\"Training Step\")\n",
    "plt.ylabel(\"Loss\")\n",
    "plt.title(\"Validation Loss\")\n",
    "plt.show()"
   ]
  },
  {
   "cell_type": "code",
   "execution_count": 26,
   "id": "67e0f72e",
   "metadata": {},
   "outputs": [
    {
     "data": {
      "image/png": "[encoded data removed]",
      "text/plain": [
       "<Figure size 432x288 with 1 Axes>"
      ]
     },
     "metadata": {
      "needs_background": "light"
     },
     "output_type": "display_data"
    }
   ],
   "source": [
    "# Visualize accuracy curve\n",
    "\n",
    "losses = history.history[\"val_accuracy\"]\n",
    "plt.plot(losses)\n",
    "plt.xlabel(\"Training Step\")\n",
    "plt.ylabel(\"Accuracy\")\n",
    "plt.title(\"Validation Accuracy\")\n",
    "plt.show()"
   ]
  },
  {
   "cell_type": "code",
   "execution_count": 27,
   "id": "4a86d3d2",
   "metadata": {},
   "outputs": [
    {
     "name": "stdout",
     "output_type": "stream",
     "text": [
      "4/4 [==============================] - 0s 7ms/step\n",
      "Precision: 0.5428571428571428\n",
      "Recall: 0.5588235294117647\n",
      "F1: 0.5507246376811593\n"
     ]
    }
   ],
   "source": [
    "preds = model.predict(X_test_scaled)\n",
    "preds = [1 if preds[i][0] >=0.5 else 0 for i in range(len(preds))]\n",
    "\n",
    "tp = 0\n",
    "fp = 0\n",
    "fn = 0\n",
    "\n",
    "for i in range(len(preds)):\n",
    "    if preds[i] == 1 and y_test_final[i] == 1:\n",
    "        tp += 1\n",
    "    elif preds[i] == 1 and y_test_final[i] == 0:\n",
    "        fp += 1\n",
    "    elif preds[i] == 0 and y_test_final[i] == 1:\n",
    "        fn += 1\n",
    "\n",
    "prec = tp / (tp + fp)\n",
    "rec = tp / (tp + fn)\n",
    "f1 = (2 * prec * rec) / (prec + rec)\n",
    "\n",
    "print (f'Precision: {prec}')\n",
    "print (f'Recall: {rec}')\n",
    "print (f'F1: {f1}')"
   ]
  },
  {
   "cell_type": "code",
   "execution_count": 28,
   "id": "524bd0be",
   "metadata": {},
   "outputs": [
    {
     "name": "stdout",
     "output_type": "stream",
     "text": [
      "              precision    recall  f1-score   support\n",
      "\n",
      "           0       0.77      0.76      0.76        66\n",
      "           1       0.54      0.56      0.55        34\n",
      "\n",
      "    accuracy                           0.69       100\n",
      "   macro avg       0.66      0.66      0.66       100\n",
      "weighted avg       0.69      0.69      0.69       100\n",
      "\n"
     ]
    }
   ],
   "source": [
    "print (classification_report(y_test_final, preds))"
   ]
  },
  {
   "cell_type": "markdown",
   "id": "e2f02093",
   "metadata": {},
   "source": [
    "## K-fold Cross-Validation"
   ]
  },
  {
   "cell_type": "code",
   "execution_count": 23,
   "id": "883f485f",
   "metadata": {},
   "outputs": [
    {
     "name": "stdout",
     "output_type": "stream",
     "text": [
      "Epoch 1/15\n",
      " 4/11 [=========>....................] - ETA: 0s - loss: 3.3113 - accuracy: 0.5938"
     ]
    },
    {
     "name": "stderr",
     "output_type": "stream",
     "text": [
      "/Users/johngalvin/miniforge3/lib/python3.9/site-packages/tensorflow/python/data/ops/structured_function.py:256: UserWarning: Even though the `tf.config.experimental_run_functions_eagerly` option is set, this option does not apply to tf.data functions. To force eager execution of tf.data functions, please use `tf.data.experimental.enable_debug_mode()`.\n",
      "  warnings.warn(\n",
      "/Users/johngalvin/miniforge3/lib/python3.9/site-packages/keras/backend.py:5676: UserWarning: \"`binary_crossentropy` received `from_logits=True`, but the `output` argument was produced by a Sigmoid activation and thus does not represent logits. Was this intended?\n",
      "  output, from_logits = _get_logits(\n"
     ]
    },
    {
     "name": "stdout",
     "output_type": "stream",
     "text": [
      "11/11 [==============================] - 0s 34ms/step - loss: 3.2768 - accuracy: 0.5882 - val_loss: 3.0890 - val_accuracy: 0.6512\n",
      "Epoch 2/15\n",
      "11/11 [==============================] - 0s 24ms/step - loss: 2.9010 - accuracy: 0.8000 - val_loss: 2.8603 - val_accuracy: 0.7907\n",
      "Epoch 3/15\n",
      "11/11 [==============================] - 0s 25ms/step - loss: 2.6704 - accuracy: 0.8471 - val_loss: 2.6658 - val_accuracy: 0.8721\n",
      "Epoch 4/15\n",
      "11/11 [==============================] - 0s 24ms/step - loss: 2.4659 - accuracy: 0.8971 - val_loss: 2.4890 - val_accuracy: 0.8837\n",
      "Epoch 5/15\n",
      "11/11 [==============================] - 0s 24ms/step - loss: 2.2759 - accuracy: 0.9294 - val_loss: 2.3347 - val_accuracy: 0.9070\n",
      "Epoch 6/15\n",
      "11/11 [==============================] - 0s 24ms/step - loss: 2.1088 - accuracy: 0.9353 - val_loss: 2.1882 - val_accuracy: 0.9070\n",
      "Epoch 7/15\n",
      "11/11 [==============================] - 0s 25ms/step - loss: 1.9533 - accuracy: 0.9706 - val_loss: 2.0540 - val_accuracy: 0.8953\n",
      "Epoch 8/15\n",
      "11/11 [==============================] - 0s 24ms/step - loss: 1.8076 - accuracy: 0.9735 - val_loss: 1.9188 - val_accuracy: 0.9070\n",
      "Epoch 9/15\n",
      "11/11 [==============================] - 0s 24ms/step - loss: 1.6712 - accuracy: 0.9853 - val_loss: 1.7874 - val_accuracy: 0.9070\n",
      "Epoch 10/15\n",
      "11/11 [==============================] - 0s 24ms/step - loss: 1.5427 - accuracy: 1.0000 - val_loss: 1.6723 - val_accuracy: 0.9070\n",
      "Epoch 11/15\n",
      "11/11 [==============================] - 0s 24ms/step - loss: 1.4290 - accuracy: 0.9882 - val_loss: 1.5675 - val_accuracy: 0.9186\n",
      "Epoch 12/15\n",
      "11/11 [==============================] - 0s 24ms/step - loss: 1.3320 - accuracy: 0.9941 - val_loss: 1.4719 - val_accuracy: 0.9186\n",
      "Epoch 13/15\n",
      "11/11 [==============================] - 0s 24ms/step - loss: 1.2347 - accuracy: 0.9971 - val_loss: 1.3869 - val_accuracy: 0.9070\n",
      "Epoch 14/15\n",
      "11/11 [==============================] - 0s 24ms/step - loss: 1.1479 - accuracy: 0.9941 - val_loss: 1.3057 - val_accuracy: 0.9070\n",
      "Epoch 15/15\n",
      "11/11 [==============================] - 0s 24ms/step - loss: 1.0702 - accuracy: 0.9912 - val_loss: 1.2296 - val_accuracy: 0.9070\n",
      "Score for fold 1: loss of 1.4816006422042847; accuracy of 74.00000095367432%\n",
      "Epoch 1/15\n",
      "11/11 [==============================] - 0s 31ms/step - loss: 3.2069 - accuracy: 0.6012 - val_loss: 3.0263 - val_accuracy: 0.7176\n",
      "Epoch 2/15\n",
      "11/11 [==============================] - 0s 24ms/step - loss: 2.8530 - accuracy: 0.8416 - val_loss: 2.8274 - val_accuracy: 0.7529\n",
      "Epoch 3/15\n",
      "11/11 [==============================] - 0s 25ms/step - loss: 2.6058 - accuracy: 0.8798 - val_loss: 2.6383 - val_accuracy: 0.8235\n",
      "Epoch 4/15\n",
      "11/11 [==============================] - 0s 24ms/step - loss: 2.4055 - accuracy: 0.9267 - val_loss: 2.4649 - val_accuracy: 0.8353\n",
      "Epoch 5/15\n",
      "11/11 [==============================] - 0s 25ms/step - loss: 2.2183 - accuracy: 0.9501 - val_loss: 2.3030 - val_accuracy: 0.8235\n",
      "Epoch 6/15\n",
      "11/11 [==============================] - 0s 24ms/step - loss: 2.0405 - accuracy: 0.9589 - val_loss: 2.1526 - val_accuracy: 0.8353\n",
      "Epoch 7/15\n",
      "11/11 [==============================] - 0s 24ms/step - loss: 1.8798 - accuracy: 0.9619 - val_loss: 2.0152 - val_accuracy: 0.8471\n",
      "Epoch 8/15\n",
      "11/11 [==============================] - 0s 24ms/step - loss: 1.7451 - accuracy: 0.9824 - val_loss: 1.8888 - val_accuracy: 0.8471\n",
      "Epoch 9/15\n",
      "11/11 [==============================] - 0s 24ms/step - loss: 1.6073 - accuracy: 0.9824 - val_loss: 1.7588 - val_accuracy: 0.8471\n",
      "Epoch 10/15\n",
      "11/11 [==============================] - 0s 24ms/step - loss: 1.4879 - accuracy: 0.9883 - val_loss: 1.6472 - val_accuracy: 0.8824\n",
      "Epoch 11/15\n",
      "11/11 [==============================] - 0s 24ms/step - loss: 1.3765 - accuracy: 0.9853 - val_loss: 1.5498 - val_accuracy: 0.8824\n",
      "Epoch 12/15\n",
      "11/11 [==============================] - 0s 24ms/step - loss: 1.2756 - accuracy: 0.9941 - val_loss: 1.4577 - val_accuracy: 0.8824\n",
      "Epoch 13/15\n",
      "11/11 [==============================] - 0s 24ms/step - loss: 1.1765 - accuracy: 0.9941 - val_loss: 1.3719 - val_accuracy: 0.8706\n",
      "Epoch 14/15\n",
      "11/11 [==============================] - 0s 24ms/step - loss: 1.0892 - accuracy: 1.0000 - val_loss: 1.2965 - val_accuracy: 0.8471\n",
      "Epoch 15/15\n",
      "11/11 [==============================] - 0s 24ms/step - loss: 1.0158 - accuracy: 0.9971 - val_loss: 1.2301 - val_accuracy: 0.8471\n",
      "Score for fold 2: loss of 1.3543827533721924; accuracy of 76.99999809265137%\n",
      "Epoch 1/15\n",
      "11/11 [==============================] - 0s 26ms/step - loss: 3.2741 - accuracy: 0.5865 - val_loss: 3.0653 - val_accuracy: 0.7412\n",
      "Epoch 2/15\n",
      "11/11 [==============================] - 0s 24ms/step - loss: 2.9139 - accuracy: 0.7683 - val_loss: 2.8873 - val_accuracy: 0.7647\n",
      "Epoch 3/15\n",
      "11/11 [==============================] - 0s 24ms/step - loss: 2.6611 - accuracy: 0.8798 - val_loss: 2.7030 - val_accuracy: 0.7765\n",
      "Epoch 4/15\n",
      "11/11 [==============================] - 0s 24ms/step - loss: 2.4363 - accuracy: 0.9296 - val_loss: 2.5295 - val_accuracy: 0.8000\n",
      "Epoch 5/15\n",
      "11/11 [==============================] - 0s 24ms/step - loss: 2.2572 - accuracy: 0.9501 - val_loss: 2.3861 - val_accuracy: 0.7882\n",
      "Epoch 6/15\n",
      "11/11 [==============================] - 0s 24ms/step - loss: 2.0742 - accuracy: 0.9795 - val_loss: 2.2428 - val_accuracy: 0.8000\n",
      "Epoch 7/15\n",
      "11/11 [==============================] - 0s 24ms/step - loss: 1.9156 - accuracy: 0.9853 - val_loss: 2.1063 - val_accuracy: 0.8000\n",
      "Epoch 8/15\n",
      "11/11 [==============================] - 0s 24ms/step - loss: 1.7729 - accuracy: 0.9853 - val_loss: 1.9917 - val_accuracy: 0.8235\n",
      "Epoch 9/15\n",
      "11/11 [==============================] - 0s 24ms/step - loss: 1.6439 - accuracy: 0.9883 - val_loss: 1.8790 - val_accuracy: 0.8000\n",
      "Epoch 10/15\n",
      "11/11 [==============================] - 0s 24ms/step - loss: 1.5120 - accuracy: 0.9941 - val_loss: 1.7651 - val_accuracy: 0.7882\n",
      "Epoch 11/15\n",
      "11/11 [==============================] - 0s 24ms/step - loss: 1.3929 - accuracy: 1.0000 - val_loss: 1.6540 - val_accuracy: 0.8000\n",
      "Epoch 12/15\n",
      "11/11 [==============================] - 0s 24ms/step - loss: 1.2914 - accuracy: 0.9971 - val_loss: 1.5556 - val_accuracy: 0.8000\n",
      "Epoch 13/15\n",
      "11/11 [==============================] - 0s 24ms/step - loss: 1.2015 - accuracy: 0.9912 - val_loss: 1.4703 - val_accuracy: 0.8118\n",
      "Epoch 14/15\n",
      "11/11 [==============================] - 0s 24ms/step - loss: 1.1069 - accuracy: 0.9941 - val_loss: 1.3968 - val_accuracy: 0.8000\n",
      "Epoch 15/15\n",
      "11/11 [==============================] - 0s 24ms/step - loss: 1.0284 - accuracy: 0.9912 - val_loss: 1.3214 - val_accuracy: 0.8000\n",
      "Score for fold 3: loss of 1.4241000413894653; accuracy of 74.00000095367432%\n",
      "Epoch 1/15\n",
      "11/11 [==============================] - 0s 25ms/step - loss: 3.2621 - accuracy: 0.5953 - val_loss: 3.0415 - val_accuracy: 0.7529\n",
      "Epoch 2/15\n",
      "11/11 [==============================] - 0s 25ms/step - loss: 2.8643 - accuracy: 0.8240 - val_loss: 2.8362 - val_accuracy: 0.7882\n",
      "Epoch 3/15\n",
      "11/11 [==============================] - 0s 24ms/step - loss: 2.6236 - accuracy: 0.8856 - val_loss: 2.6454 - val_accuracy: 0.8235\n",
      "Epoch 4/15\n",
      "11/11 [==============================] - 0s 24ms/step - loss: 2.4388 - accuracy: 0.9238 - val_loss: 2.4867 - val_accuracy: 0.8353\n",
      "Epoch 5/15\n",
      "11/11 [==============================] - 0s 24ms/step - loss: 2.2484 - accuracy: 0.9413 - val_loss: 2.3307 - val_accuracy: 0.8471\n",
      "Epoch 6/15\n",
      "11/11 [==============================] - 0s 24ms/step - loss: 2.0868 - accuracy: 0.9619 - val_loss: 2.1889 - val_accuracy: 0.8353\n",
      "Epoch 7/15\n",
      "11/11 [==============================] - 0s 24ms/step - loss: 1.9413 - accuracy: 0.9765 - val_loss: 2.0608 - val_accuracy: 0.8706\n",
      "Epoch 8/15\n",
      "11/11 [==============================] - 0s 24ms/step - loss: 1.7928 - accuracy: 0.9795 - val_loss: 1.9382 - val_accuracy: 0.8706\n",
      "Epoch 9/15\n",
      "11/11 [==============================] - 0s 24ms/step - loss: 1.6480 - accuracy: 0.9912 - val_loss: 1.8227 - val_accuracy: 0.8706\n",
      "Epoch 10/15\n",
      "11/11 [==============================] - 0s 24ms/step - loss: 1.5340 - accuracy: 0.9971 - val_loss: 1.7167 - val_accuracy: 0.8588\n",
      "Epoch 11/15\n",
      "11/11 [==============================] - 0s 24ms/step - loss: 1.4262 - accuracy: 0.9971 - val_loss: 1.6152 - val_accuracy: 0.8588\n",
      "Epoch 12/15\n",
      "11/11 [==============================] - 0s 24ms/step - loss: 1.3227 - accuracy: 0.9971 - val_loss: 1.5166 - val_accuracy: 0.8588\n",
      "Epoch 13/15\n",
      "11/11 [==============================] - 0s 24ms/step - loss: 1.2326 - accuracy: 0.9941 - val_loss: 1.4344 - val_accuracy: 0.8471\n",
      "Epoch 14/15\n",
      "11/11 [==============================] - 0s 24ms/step - loss: 1.1401 - accuracy: 1.0000 - val_loss: 1.3583 - val_accuracy: 0.8471\n",
      "Epoch 15/15\n",
      "11/11 [==============================] - 0s 24ms/step - loss: 1.0644 - accuracy: 0.9971 - val_loss: 1.2840 - val_accuracy: 0.8353\n",
      "Score for fold 4: loss of 1.4116631746292114; accuracy of 79.99999523162842%\n",
      "Epoch 1/15\n",
      "11/11 [==============================] - 0s 25ms/step - loss: 3.3231 - accuracy: 0.5425 - val_loss: 3.0925 - val_accuracy: 0.6706\n",
      "Epoch 2/15\n",
      "11/11 [==============================] - 0s 24ms/step - loss: 2.9708 - accuracy: 0.7185 - val_loss: 2.8946 - val_accuracy: 0.7176\n",
      "Epoch 3/15\n",
      "11/11 [==============================] - 0s 24ms/step - loss: 2.6966 - accuracy: 0.8651 - val_loss: 2.7225 - val_accuracy: 0.7176\n",
      "Epoch 4/15\n",
      "11/11 [==============================] - 0s 24ms/step - loss: 2.4798 - accuracy: 0.9179 - val_loss: 2.5491 - val_accuracy: 0.8118\n",
      "Epoch 5/15\n",
      "11/11 [==============================] - 0s 24ms/step - loss: 2.3086 - accuracy: 0.9413 - val_loss: 2.3764 - val_accuracy: 0.8353\n",
      "Epoch 6/15\n",
      "11/11 [==============================] - 0s 24ms/step - loss: 2.1434 - accuracy: 0.9619 - val_loss: 2.2283 - val_accuracy: 0.8471\n",
      "Epoch 7/15\n",
      "11/11 [==============================] - 0s 24ms/step - loss: 1.9963 - accuracy: 0.9589 - val_loss: 2.0940 - val_accuracy: 0.8588\n",
      "Epoch 8/15\n",
      "11/11 [==============================] - 0s 24ms/step - loss: 1.8515 - accuracy: 0.9853 - val_loss: 1.9694 - val_accuracy: 0.8706\n",
      "Epoch 9/15\n",
      "11/11 [==============================] - 0s 24ms/step - loss: 1.7100 - accuracy: 0.9765 - val_loss: 1.8385 - val_accuracy: 0.8706\n",
      "Epoch 10/15\n",
      "11/11 [==============================] - 0s 24ms/step - loss: 1.5966 - accuracy: 0.9765 - val_loss: 1.7278 - val_accuracy: 0.8706\n",
      "Epoch 11/15\n",
      "11/11 [==============================] - 0s 24ms/step - loss: 1.4809 - accuracy: 0.9883 - val_loss: 1.6263 - val_accuracy: 0.8824\n",
      "Epoch 12/15\n",
      "11/11 [==============================] - 0s 24ms/step - loss: 1.3727 - accuracy: 0.9971 - val_loss: 1.5294 - val_accuracy: 0.8588\n",
      "Epoch 13/15\n",
      "11/11 [==============================] - 0s 24ms/step - loss: 1.2741 - accuracy: 0.9941 - val_loss: 1.4389 - val_accuracy: 0.8588\n",
      "Epoch 14/15\n",
      "11/11 [==============================] - 0s 24ms/step - loss: 1.1905 - accuracy: 0.9971 - val_loss: 1.3566 - val_accuracy: 0.8706\n",
      "Epoch 15/15\n",
      "11/11 [==============================] - 0s 24ms/step - loss: 1.1005 - accuracy: 0.9941 - val_loss: 1.2820 - val_accuracy: 0.8706\n",
      "Score for fold 5: loss of 1.4404072761535645; accuracy of 75.99999904632568%\n",
      "------------------------------------------------------------------------\n",
      "Average scores for all folds:\n",
      "> Accuracy: 76.19999885559082 (+- 2.22710362119846)\n",
      "> Loss: 1.4224307775497436\n",
      "------------------------------------------------------------------------\n"
     ]
    }
   ],
   "source": [
    "# Initialize kf\n",
    "num_folds = 5\n",
    "kf = StratifiedKFold(n_splits=num_folds, shuffle=True, random_state=42)\n",
    "\n",
    "# Train\n",
    "acc_per_fold = []\n",
    "loss_per_fold = []\n",
    "\n",
    "fold_no = 1\n",
    "for train, val in kf.split(X_train_resampled, y_train_resampled):\n",
    "    model = create_model()\n",
    "    \n",
    "    history = model.fit(X_train_resampled[train], \n",
    "                        y_train_resampled[train], \n",
    "                        epochs=15, \n",
    "                        batch_size=32, \n",
    "                        validation_data=(X_train_resampled[val], y_train_resampled[val]))\n",
    "    \n",
    "    # Generate generalization metrics\n",
    "    scores = model.evaluate(X_test_scaled, y_test_final, verbose=0)\n",
    "    print(f'Score for fold {fold_no}: {model.metrics_names[0]} of {scores[0]}; {model.metrics_names[1]} of {scores[1]*100}%')\n",
    "    \n",
    "    acc_per_fold.append(scores[1] * 100)\n",
    "    loss_per_fold.append(scores[0])\n",
    "    fold_no += 1\n",
    "\n",
    "# Print average metrics\n",
    "print('------------------------------------------------------------------------')\n",
    "print('Average scores for all folds:')\n",
    "print(f'> Accuracy: {np.mean(acc_per_fold)} (+- {np.std(acc_per_fold)})')\n",
    "print(f'> Loss: {np.mean(loss_per_fold)}')\n",
    "print('------------------------------------------------------------------------')"
   ]
  },
  {
   "cell_type": "code",
   "execution_count": 24,
   "id": "2d68a3c1",
   "metadata": {},
   "outputs": [
    {
     "name": "stdout",
     "output_type": "stream",
     "text": [
      "Keras weights file (<HDF5 file \"variables.h5\" (mode r+)>) saving:\n",
      "...layers\n",
      "......dense\n",
      ".........vars\n",
      "............0\n",
      "............1\n",
      "......dense_1\n",
      ".........vars\n",
      "............0\n",
      "............1\n",
      "......dropout\n",
      ".........vars\n",
      "......input_layer\n",
      ".........vars\n",
      "...metrics\n",
      "......mean\n",
      ".........vars\n",
      "............0\n",
      "............1\n",
      "......mean_metric_wrapper\n",
      ".........vars\n",
      "............0\n",
      "............1\n",
      "...optimizer\n",
      "......vars\n",
      ".........0\n",
      ".........1\n",
      ".........2\n",
      ".........3\n",
      ".........4\n",
      ".........5\n",
      ".........6\n",
      ".........7\n",
      ".........8\n",
      "...vars\n",
      "Keras model archive saving:\n",
      "File Name                                             Modified             Size\n",
      "config.json                                    2023-10-23 10:06:53         2624\n",
      "metadata.json                                  2023-10-23 10:06:53           64\n",
      "variables.h5                                   2023-10-23 10:06:53       515504\n"
     ]
    },
    {
     "data": {
      "text/plain": [
       "['model.pkl']"
      ]
     },
     "execution_count": 24,
     "metadata": {},
     "output_type": "execute_result"
    }
   ],
   "source": [
    "joblib.dump(model, 'model.pkl')"
   ]
  },
  {
   "cell_type": "code",
   "execution_count": 29,
   "id": "c1ccd8fc",
   "metadata": {},
   "outputs": [
    {
     "data": {
      "image/png": "[encoded data removed]",
      "text/plain": [
       "<Figure size 432x288 with 1 Axes>"
      ]
     },
     "metadata": {
      "needs_background": "light"
     },
     "output_type": "display_data"
    }
   ],
   "source": [
    "# Training Size Effects\n",
    "\n",
    "sizes = [213, 319, 426]\n",
    "acc = [0.662, 0.746, 0.78]\n",
    "\n",
    "plt.plot(sizes, acc)\n",
    "plt.xlabel(\"Training Set Samples\")\n",
    "plt.ylabel(\"Accuracy (Test)\")\n",
    "plt.title(\"Training Set Size Effects\");"
   ]
  },
  {
   "cell_type": "code",
   "execution_count": 39,
   "id": "0b547c21",
   "metadata": {},
   "outputs": [],
   "source": [
    "# Explain predictions - had to retrain model because couldn't load existing since\n",
    "# existing model was trained on different version of tf and saved with joblib\n",
    "\n",
    "masker = shap.maskers.Independent(data=X_train_resampled)\n",
    "\n",
    "# Create the SHAP explainer\n",
    "explainer = shap.Explainer(model, masker=masker)"
   ]
  },
  {
   "cell_type": "code",
   "execution_count": 35,
   "id": "995d2c1c",
   "metadata": {},
   "outputs": [
    {
     "name": "stderr",
     "output_type": "stream",
     "text": [
      "PermutationExplainer explainer: 427it [01:03,  5.66it/s]                                                                          \n"
     ]
    }
   ],
   "source": [
    "shap_values = explainer.shap_values(X_train_resampled)"
   ]
  },
  {
   "cell_type": "code",
   "execution_count": 38,
   "id": "fc48abee",
   "metadata": {},
   "outputs": [
    {
     "data": {
      "image/png": "[encoded data removed]",
      "text/plain": [
       "<Figure size 576x684 with 2 Axes>"
      ]
     },
     "metadata": {
      "needs_background": "light"
     },
     "output_type": "display_data"
    }
   ],
   "source": [
    "shap.summary_plot(shap_values, X_train_resampled, feature_names=X.columns.to_list())"
   ]
  },
  {
   "cell_type": "markdown",
   "id": "7f694505",
   "metadata": {},
   "source": [
    "# NN, Image-only\n",
    "\n",
    "Run all PCA cells, then these"
   ]
  },
  {
   "cell_type": "code",
   "execution_count": 10,
   "id": "c492f5e5",
   "metadata": {},
   "outputs": [],
   "source": [
    "# Read in med/famhist\n",
    "mf_hist = pd.read_csv('../data/clinical_training_data.csv')\n",
    "\n",
    "# Join with img_df\n",
    "df = pd.merge(mf_hist, img_df, on=\"PTID\", how=\"inner\")\n",
    "\n",
    "# For converting categorical variables to ints\n",
    "label_encoder = LabelEncoder()\n",
    "scaler = MinMaxScaler()\n",
    "\n",
    "# Split features / target\n",
    "X = df.drop(columns=['PTID',\n",
    "                     'Diagnosis_at_Baseline',\n",
    "                     'Age',\n",
    "                     'Gender',\n",
    "                     'Years_of_Education',\n",
    "                     'Ethnicity',\n",
    "                     'Race',\n",
    "                     'APOE4',\n",
    "                     'MMSE',\n",
    "                     'AD_dx_in_5_yrs', \n",
    "                     'AD_dx_in_any_time', \n",
    "                     'AD_dx_in_15_yrs',\n",
    "                     'AD_dx_in_10_yrs', \n",
    "                     'AD_dx_in_4_yrs', \n",
    "                     'AD_dx_in_3_yrs',\n",
    "                     'AD_dx_in_2_yrs', \n",
    "                     'AD_dx_in_1_yr'])\n",
    "y = df['AD_dx_in_10_yrs']\n",
    "\n",
    "# Split data\n",
    "X_train, X_test, y_train, y_test = train_test_split(X, y, test_size=0.2, random_state=42)\n",
    "X_train, X_val, y_train, y_val = train_test_split(X_train, y_train, test_size=0.2, random_state=42)"
   ]
  },
  {
   "cell_type": "code",
   "execution_count": 11,
   "id": "ab47810b",
   "metadata": {},
   "outputs": [],
   "source": [
    "# Scale data\n",
    "scaler = StandardScaler()\n",
    "X_train_scaled = scaler.fit_transform(X_train)\n",
    "X_val_scaled = scaler.transform(X_val)\n",
    "X_test_scaled = scaler.transform(X_test)"
   ]
  },
  {
   "cell_type": "code",
   "execution_count": 12,
   "id": "4544293e",
   "metadata": {},
   "outputs": [],
   "source": [
    "# Reorder labels (order changed when forming unscaled_mri_df)\n",
    "y_train_final = []\n",
    "for val in X_train.index.values:\n",
    "    y_train_final.append(df.loc[df.index == val, \"AD_dx_in_10_yrs\"].values[0])\n",
    "y_train_final = np.array(y_train_final)\n",
    "\n",
    "y_val_final = []\n",
    "for val in X_val.index.values:\n",
    "    y_val_final.append(df.loc[df.index == val, \"AD_dx_in_10_yrs\"].values[0])\n",
    "y_val_final = np.array(y_val_final)\n",
    "\n",
    "y_test_final = []\n",
    "for val in X_test.index.values:\n",
    "    y_test_final.append(df.loc[df.index == val, \"AD_dx_in_10_yrs\"].values[0])\n",
    "y_test_final = np.array(y_test_final)"
   ]
  },
  {
   "cell_type": "code",
   "execution_count": 13,
   "id": "672ddcb0",
   "metadata": {},
   "outputs": [],
   "source": [
    "# Oversample\n",
    "ros = RandomOverSampler(random_state=42)\n",
    "X_train_resampled, y_train_resampled = ros.fit_resample(X_train_scaled, y_train_final)"
   ]
  },
  {
   "cell_type": "code",
   "execution_count": 14,
   "id": "c8d408d3",
   "metadata": {},
   "outputs": [],
   "source": [
    "IN_FEATURES = X_train_scaled[0].shape[0]"
   ]
  },
  {
   "cell_type": "code",
   "execution_count": 15,
   "id": "e2716cbf",
   "metadata": {},
   "outputs": [],
   "source": [
    "def create_model(dropout=0.3, learning_rate=0.001, l1_penalty=0.001, l2_penalty=0.001):\n",
    "    \"\"\"Builds classification model\"\"\"\n",
    "    \n",
    "    model = tf.keras.Sequential()\n",
    "    inputs = tf.keras.layers.Input(shape=(IN_FEATURES,), name=\"input_layer\") # (Batch, num_features)\n",
    "    \n",
    "    hidden_1 = tf.keras.layers.Dense(256, activation=\"relu\", kernel_regularizer=tf.keras.regularizers.L1L2(l1=l1_penalty, l2=l2_penalty), name=\"hidden_1\")(inputs)\n",
    "    hidden_1 = tf.keras.layers.Dropout(dropout)(hidden_1)\n",
    "    hidden_2 = tf.keras.layers.Dense(128, activation=\"relu\", kernel_regularizer=tf.keras.regularizers.L1L2(l1=l1_penalty, l2=l2_penalty), name=\"hidden_2\")(hidden_1)\n",
    "    hidden_2 = tf.keras.layers.Dropout(dropout)(hidden_2)\n",
    "    \n",
    "    classification = tf.keras.layers.Dense(1, activation=\"sigmoid\", name=\"classification_layer\")(hidden_1)\n",
    "    classification_model = tf.keras.Model(inputs=[inputs], outputs=[classification])\n",
    "    \n",
    "    classification_model.compile(optimizer=tf.keras.optimizers.Adam(learning_rate=learning_rate),\n",
    "                                 loss=tf.keras.losses.BinaryCrossentropy(from_logits=True), \n",
    "                                 metrics=\"accuracy\")\n",
    "\n",
    "    return classification_model"
   ]
  },
  {
   "cell_type": "code",
   "execution_count": 16,
   "id": "52f954b5",
   "metadata": {},
   "outputs": [
    {
     "name": "stdout",
     "output_type": "stream",
     "text": [
      "Metal device set to: Apple M2 Pro\n"
     ]
    },
    {
     "name": "stderr",
     "output_type": "stream",
     "text": [
      "2023-10-17 15:13:19.654668: I tensorflow/core/common_runtime/pluggable_device/pluggable_device_factory.cc:306] Could not identify NUMA node of platform GPU ID 0, defaulting to 0. Your kernel may not have been built with NUMA support.\n",
      "2023-10-17 15:13:19.654757: I tensorflow/core/common_runtime/pluggable_device/pluggable_device_factory.cc:272] Created TensorFlow device (/job:localhost/replica:0/task:0/device:GPU:0 with 0 MB memory) -> physical PluggableDevice (device: 0, name: METAL, pci bus id: <undefined>)\n"
     ]
    }
   ],
   "source": [
    "model = create_model()"
   ]
  },
  {
   "cell_type": "code",
   "execution_count": 17,
   "id": "58f23267",
   "metadata": {},
   "outputs": [
    {
     "name": "stdout",
     "output_type": "stream",
     "text": [
      "Epoch 1/20\n"
     ]
    },
    {
     "name": "stderr",
     "output_type": "stream",
     "text": [
      "/Users/johngalvin/miniforge3/lib/python3.9/site-packages/tensorflow/python/data/ops/structured_function.py:256: UserWarning: Even though the `tf.config.experimental_run_functions_eagerly` option is set, this option does not apply to tf.data functions. To force eager execution of tf.data functions, please use `tf.data.experimental.enable_debug_mode()`.\n",
      "  warnings.warn(\n",
      "2023-10-17 15:13:21.072403: W tensorflow/tsl/platform/profile_utils/cpu_utils.cc:128] Failed to get CPU frequency: 0 Hz\n",
      "/Users/johngalvin/miniforge3/lib/python3.9/site-packages/keras/backend.py:5676: UserWarning: \"`binary_crossentropy` received `from_logits=True`, but the `output` argument was produced by a Sigmoid activation and thus does not represent logits. Was this intended?\n",
      "  output, from_logits = _get_logits(\n"
     ]
    },
    {
     "name": "stdout",
     "output_type": "stream",
     "text": [
      "24/24 [==============================] - 1s 25ms/step - loss: 3.1854 - accuracy: 0.5263 - val_loss: 3.0539 - val_accuracy: 0.5500\n",
      "Epoch 2/20\n",
      "24/24 [==============================] - 1s 23ms/step - loss: 2.7337 - accuracy: 0.7026 - val_loss: 2.8425 - val_accuracy: 0.5375\n",
      "Epoch 3/20\n",
      "24/24 [==============================] - 1s 23ms/step - loss: 2.4409 - accuracy: 0.8105 - val_loss: 2.6459 - val_accuracy: 0.5125\n",
      "Epoch 4/20\n",
      "24/24 [==============================] - 1s 25ms/step - loss: 2.1762 - accuracy: 0.8737 - val_loss: 2.4797 - val_accuracy: 0.5125\n",
      "Epoch 5/20\n",
      "24/24 [==============================] - 1s 23ms/step - loss: 1.9509 - accuracy: 0.9079 - val_loss: 2.3121 - val_accuracy: 0.5000\n",
      "Epoch 6/20\n",
      "24/24 [==============================] - 1s 22ms/step - loss: 1.7679 - accuracy: 0.9316 - val_loss: 2.1855 - val_accuracy: 0.5000\n",
      "Epoch 7/20\n",
      "24/24 [==============================] - 1s 23ms/step - loss: 1.6114 - accuracy: 0.9289 - val_loss: 2.0574 - val_accuracy: 0.4875\n",
      "Epoch 8/20\n",
      "24/24 [==============================] - 1s 23ms/step - loss: 1.4601 - accuracy: 0.9579 - val_loss: 1.9804 - val_accuracy: 0.5000\n",
      "Epoch 9/20\n",
      "24/24 [==============================] - 1s 22ms/step - loss: 1.3482 - accuracy: 0.9632 - val_loss: 1.8745 - val_accuracy: 0.5125\n",
      "Epoch 10/20\n",
      "24/24 [==============================] - 1s 22ms/step - loss: 1.2234 - accuracy: 0.9763 - val_loss: 1.7887 - val_accuracy: 0.5375\n",
      "Epoch 11/20\n",
      "24/24 [==============================] - 1s 22ms/step - loss: 1.1329 - accuracy: 0.9711 - val_loss: 1.6973 - val_accuracy: 0.5250\n",
      "Epoch 12/20\n",
      "24/24 [==============================] - 1s 22ms/step - loss: 1.0409 - accuracy: 0.9921 - val_loss: 1.6437 - val_accuracy: 0.5000\n",
      "Epoch 13/20\n",
      "24/24 [==============================] - 1s 22ms/step - loss: 0.9626 - accuracy: 0.9895 - val_loss: 1.5778 - val_accuracy: 0.5125\n",
      "Epoch 14/20\n",
      "24/24 [==============================] - 1s 22ms/step - loss: 0.8897 - accuracy: 0.9947 - val_loss: 1.5223 - val_accuracy: 0.4875\n",
      "Epoch 15/20\n",
      "24/24 [==============================] - 1s 23ms/step - loss: 0.8328 - accuracy: 0.9816 - val_loss: 1.4718 - val_accuracy: 0.5000\n",
      "Epoch 16/20\n",
      "24/24 [==============================] - 1s 23ms/step - loss: 0.7863 - accuracy: 0.9895 - val_loss: 1.4437 - val_accuracy: 0.5125\n",
      "Epoch 17/20\n",
      "24/24 [==============================] - 1s 23ms/step - loss: 0.7237 - accuracy: 1.0000 - val_loss: 1.3984 - val_accuracy: 0.5125\n",
      "Epoch 18/20\n",
      "24/24 [==============================] - 1s 21ms/step - loss: 0.6909 - accuracy: 0.9895 - val_loss: 1.3368 - val_accuracy: 0.5250\n",
      "Epoch 19/20\n",
      "24/24 [==============================] - 1s 21ms/step - loss: 0.6477 - accuracy: 0.9974 - val_loss: 1.3391 - val_accuracy: 0.5250\n",
      "Epoch 20/20\n",
      "24/24 [==============================] - 1s 22ms/step - loss: 0.6050 - accuracy: 0.9947 - val_loss: 1.3039 - val_accuracy: 0.5250\n"
     ]
    }
   ],
   "source": [
    "es = EarlyStopping(monitor=\"val_loss\", \n",
    "                   patience=4,\n",
    "                   verbose=0,\n",
    "                   restore_best_weights=True)\n",
    "\n",
    "tf.config.run_functions_eagerly(True)\n",
    "history = model.fit(X_train_resampled,\n",
    "                    y_train_resampled,\n",
    "                    validation_data=[X_val_scaled, y_val_final],\n",
    "                    batch_size=16,\n",
    "                    epochs=20)"
   ]
  },
  {
   "cell_type": "code",
   "execution_count": 18,
   "id": "3a4e02bc",
   "metadata": {},
   "outputs": [
    {
     "name": "stdout",
     "output_type": "stream",
     "text": [
      "If simply guessing all 0, can get this train accuracy: 0.5\n",
      "If simply guessing all 0, can get this val accuracy: 0.525\n",
      "If simply guessing all 0, can get this test accuracy: 0.63\n"
     ]
    }
   ],
   "source": [
    "print (\"If simply guessing all 0, can get this train accuracy:\", 1 - y_train_resampled.sum() / y_train_resampled.shape[0])\n",
    "print (\"If simply guessing all 0, can get this val accuracy:\", 1 - y_val_final.sum() / y_val_final.shape[0])\n",
    "print (\"If simply guessing all 0, can get this test accuracy:\", 1 - y_test_final.sum() / y_test_final.shape[0])"
   ]
  },
  {
   "cell_type": "code",
   "execution_count": 19,
   "id": "6a91ab99",
   "metadata": {},
   "outputs": [
    {
     "data": {
      "image/png": "[encoded data removed]",
      "text/plain": [
       "<Figure size 432x288 with 1 Axes>"
      ]
     },
     "metadata": {
      "needs_background": "light"
     },
     "output_type": "display_data"
    }
   ],
   "source": [
    "# Visualize loss curve\n",
    "\n",
    "losses = history.history[\"val_loss\"]\n",
    "plt.plot(losses)\n",
    "plt.xlabel(\"Training Step\")\n",
    "plt.ylabel(\"Loss\")\n",
    "plt.title(\"Validation Loss\")\n",
    "plt.show()"
   ]
  },
  {
   "cell_type": "code",
   "execution_count": 20,
   "id": "f2ad21d5",
   "metadata": {},
   "outputs": [
    {
     "data": {
      "image/png": "[encoded data removed]",
      "text/plain": [
       "<Figure size 432x288 with 1 Axes>"
      ]
     },
     "metadata": {
      "needs_background": "light"
     },
     "output_type": "display_data"
    }
   ],
   "source": [
    "# Visualize accuracy curve\n",
    "\n",
    "losses = history.history[\"val_accuracy\"]\n",
    "plt.plot(losses)\n",
    "plt.xlabel(\"Training Step\")\n",
    "plt.ylabel(\"Accuracy\")\n",
    "plt.title(\"Validation Accuracy\")\n",
    "plt.show()"
   ]
  },
  {
   "cell_type": "code",
   "execution_count": 21,
   "id": "dec3dc41",
   "metadata": {},
   "outputs": [
    {
     "name": "stdout",
     "output_type": "stream",
     "text": [
      "4/4 [==============================] - 0s 6ms/step\n",
      "Precision: 0.4\n",
      "Recall: 0.4864864864864865\n",
      "F1: 0.43902439024390244\n"
     ]
    }
   ],
   "source": [
    "preds = model.predict(X_test_scaled)\n",
    "preds = [1 if preds[i][0] >=0.5 else 0 for i in range(len(preds))]\n",
    "\n",
    "tp = 0\n",
    "fp = 0\n",
    "fn = 0\n",
    "\n",
    "for i in range(len(preds)):\n",
    "    if preds[i] == 1 and y_test_final[i] == 1:\n",
    "        tp += 1\n",
    "    elif preds[i] == 1 and y_test_final[i] == 0:\n",
    "        fp += 1\n",
    "    elif preds[i] == 0 and y_test_final[i] == 1:\n",
    "        fn += 1\n",
    "\n",
    "prec = tp / (tp + fp)\n",
    "rec = tp / (tp + fn)\n",
    "f1 = (2 * prec * rec) / (prec + rec)\n",
    "\n",
    "print (f'Precision: {prec}')\n",
    "print (f'Recall: {rec}')\n",
    "print (f'F1: {f1}')"
   ]
  },
  {
   "cell_type": "code",
   "execution_count": 22,
   "id": "db8e3c6b",
   "metadata": {},
   "outputs": [
    {
     "name": "stdout",
     "output_type": "stream",
     "text": [
      "              precision    recall  f1-score   support\n",
      "\n",
      "           0       0.65      0.57      0.61        63\n",
      "           1       0.40      0.49      0.44        37\n",
      "\n",
      "    accuracy                           0.54       100\n",
      "   macro avg       0.53      0.53      0.52       100\n",
      "weighted avg       0.56      0.54      0.55       100\n",
      "\n"
     ]
    }
   ],
   "source": [
    "print (classification_report(y_test_final, preds))"
   ]
  },
  {
   "cell_type": "markdown",
   "id": "c2c655cb",
   "metadata": {},
   "source": [
    "## K-fold Cross-Validation"
   ]
  },
  {
   "cell_type": "code",
   "execution_count": 23,
   "id": "f39833b4",
   "metadata": {},
   "outputs": [
    {
     "name": "stdout",
     "output_type": "stream",
     "text": [
      "Epoch 1/15\n",
      " 4/10 [===========>..................] - ETA: 0s - loss: 3.2415 - accuracy: 0.5703"
     ]
    },
    {
     "name": "stderr",
     "output_type": "stream",
     "text": [
      "/Users/johngalvin/miniforge3/lib/python3.9/site-packages/tensorflow/python/data/ops/structured_function.py:256: UserWarning: Even though the `tf.config.experimental_run_functions_eagerly` option is set, this option does not apply to tf.data functions. To force eager execution of tf.data functions, please use `tf.data.experimental.enable_debug_mode()`.\n",
      "  warnings.warn(\n",
      "/Users/johngalvin/miniforge3/lib/python3.9/site-packages/keras/backend.py:5676: UserWarning: \"`binary_crossentropy` received `from_logits=True`, but the `output` argument was produced by a Sigmoid activation and thus does not represent logits. Was this intended?\n",
      "  output, from_logits = _get_logits(\n"
     ]
    },
    {
     "name": "stdout",
     "output_type": "stream",
     "text": [
      "10/10 [==============================] - 0s 28ms/step - loss: 3.2329 - accuracy: 0.5493 - val_loss: 3.0797 - val_accuracy: 0.6316\n",
      "Epoch 2/15\n",
      "10/10 [==============================] - 0s 25ms/step - loss: 2.9237 - accuracy: 0.7204 - val_loss: 2.9791 - val_accuracy: 0.6184\n",
      "Epoch 3/15\n",
      "10/10 [==============================] - 0s 27ms/step - loss: 2.7085 - accuracy: 0.8158 - val_loss: 2.8558 - val_accuracy: 0.6447\n",
      "Epoch 4/15\n",
      "10/10 [==============================] - 0s 25ms/step - loss: 2.5460 - accuracy: 0.8487 - val_loss: 2.7362 - val_accuracy: 0.6579\n",
      "Epoch 5/15\n",
      "10/10 [==============================] - 0s 25ms/step - loss: 2.3949 - accuracy: 0.8651 - val_loss: 2.6266 - val_accuracy: 0.6711\n",
      "Epoch 6/15\n",
      "10/10 [==============================] - 0s 25ms/step - loss: 2.2435 - accuracy: 0.9211 - val_loss: 2.5263 - val_accuracy: 0.6579\n",
      "Epoch 7/15\n",
      "10/10 [==============================] - 0s 25ms/step - loss: 2.1099 - accuracy: 0.9408 - val_loss: 2.4476 - val_accuracy: 0.6579\n",
      "Epoch 8/15\n",
      "10/10 [==============================] - 0s 25ms/step - loss: 1.9896 - accuracy: 0.9474 - val_loss: 2.3564 - val_accuracy: 0.6711\n",
      "Epoch 9/15\n",
      "10/10 [==============================] - 0s 28ms/step - loss: 1.8695 - accuracy: 0.9507 - val_loss: 2.2567 - val_accuracy: 0.6842\n",
      "Epoch 10/15\n",
      "10/10 [==============================] - 0s 24ms/step - loss: 1.7705 - accuracy: 0.9539 - val_loss: 2.1669 - val_accuracy: 0.6842\n",
      "Epoch 11/15\n",
      "10/10 [==============================] - 0s 26ms/step - loss: 1.6700 - accuracy: 0.9671 - val_loss: 2.0989 - val_accuracy: 0.7105\n",
      "Epoch 12/15\n",
      "10/10 [==============================] - 0s 26ms/step - loss: 1.5737 - accuracy: 0.9704 - val_loss: 2.0224 - val_accuracy: 0.6974\n",
      "Epoch 13/15\n",
      "10/10 [==============================] - 0s 24ms/step - loss: 1.4903 - accuracy: 0.9770 - val_loss: 1.9513 - val_accuracy: 0.6974\n",
      "Epoch 14/15\n",
      "10/10 [==============================] - 0s 24ms/step - loss: 1.4197 - accuracy: 0.9737 - val_loss: 1.8925 - val_accuracy: 0.6974\n",
      "Epoch 15/15\n",
      "10/10 [==============================] - 0s 24ms/step - loss: 1.3228 - accuracy: 0.9967 - val_loss: 1.8304 - val_accuracy: 0.7105\n",
      "Score for fold 1: loss of 1.9786301851272583; accuracy of 56.00000023841858%\n",
      "Epoch 1/15\n",
      "10/10 [==============================] - 0s 26ms/step - loss: 3.2115 - accuracy: 0.5658 - val_loss: 3.0682 - val_accuracy: 0.6316\n",
      "Epoch 2/15\n",
      "10/10 [==============================] - 0s 25ms/step - loss: 2.9507 - accuracy: 0.6941 - val_loss: 2.9424 - val_accuracy: 0.6447\n",
      "Epoch 3/15\n",
      "10/10 [==============================] - 0s 24ms/step - loss: 2.7160 - accuracy: 0.8257 - val_loss: 2.8315 - val_accuracy: 0.6579\n",
      "Epoch 4/15\n",
      "10/10 [==============================] - 0s 24ms/step - loss: 2.5890 - accuracy: 0.8257 - val_loss: 2.7383 - val_accuracy: 0.6579\n",
      "Epoch 5/15\n",
      "10/10 [==============================] - 0s 24ms/step - loss: 2.4120 - accuracy: 0.8849 - val_loss: 2.6221 - val_accuracy: 0.6579\n",
      "Epoch 6/15\n",
      "10/10 [==============================] - 0s 24ms/step - loss: 2.2554 - accuracy: 0.9243 - val_loss: 2.5226 - val_accuracy: 0.6842\n",
      "Epoch 7/15\n",
      "10/10 [==============================] - 0s 25ms/step - loss: 2.1386 - accuracy: 0.9342 - val_loss: 2.4228 - val_accuracy: 0.6842\n",
      "Epoch 8/15\n",
      "10/10 [==============================] - 0s 24ms/step - loss: 2.0126 - accuracy: 0.9309 - val_loss: 2.3229 - val_accuracy: 0.7105\n",
      "Epoch 9/15\n",
      "10/10 [==============================] - 0s 25ms/step - loss: 1.8926 - accuracy: 0.9572 - val_loss: 2.2424 - val_accuracy: 0.7105\n",
      "Epoch 10/15\n",
      "10/10 [==============================] - 0s 24ms/step - loss: 1.7882 - accuracy: 0.9507 - val_loss: 2.1627 - val_accuracy: 0.6974\n",
      "Epoch 11/15\n",
      "10/10 [==============================] - 0s 24ms/step - loss: 1.6854 - accuracy: 0.9704 - val_loss: 2.0840 - val_accuracy: 0.6974\n",
      "Epoch 12/15\n",
      "10/10 [==============================] - 0s 24ms/step - loss: 1.5944 - accuracy: 0.9737 - val_loss: 2.0140 - val_accuracy: 0.7105\n",
      "Epoch 13/15\n",
      "10/10 [==============================] - 0s 24ms/step - loss: 1.4984 - accuracy: 0.9934 - val_loss: 1.9390 - val_accuracy: 0.6842\n",
      "Epoch 14/15\n",
      "10/10 [==============================] - 0s 24ms/step - loss: 1.4142 - accuracy: 0.9967 - val_loss: 1.8739 - val_accuracy: 0.6974\n",
      "Epoch 15/15\n",
      "10/10 [==============================] - 0s 25ms/step - loss: 1.3434 - accuracy: 0.9934 - val_loss: 1.8189 - val_accuracy: 0.6974\n",
      "Score for fold 2: loss of 2.0024924278259277; accuracy of 53.999996185302734%\n",
      "Epoch 1/15\n",
      "10/10 [==============================] - 0s 25ms/step - loss: 3.2285 - accuracy: 0.5329 - val_loss: 3.0170 - val_accuracy: 0.6842\n",
      "Epoch 2/15\n",
      "10/10 [==============================] - 0s 24ms/step - loss: 2.9294 - accuracy: 0.6809 - val_loss: 2.8586 - val_accuracy: 0.7237\n",
      "Epoch 3/15\n",
      "10/10 [==============================] - 0s 24ms/step - loss: 2.7079 - accuracy: 0.7961 - val_loss: 2.7211 - val_accuracy: 0.7632\n",
      "Epoch 4/15\n",
      "10/10 [==============================] - 0s 24ms/step - loss: 2.5501 - accuracy: 0.8257 - val_loss: 2.6066 - val_accuracy: 0.7763\n",
      "Epoch 5/15\n",
      "10/10 [==============================] - 0s 24ms/step - loss: 2.4073 - accuracy: 0.8618 - val_loss: 2.4877 - val_accuracy: 0.7763\n",
      "Epoch 6/15\n",
      "10/10 [==============================] - 0s 24ms/step - loss: 2.2433 - accuracy: 0.9079 - val_loss: 2.3800 - val_accuracy: 0.7500\n",
      "Epoch 7/15\n",
      "10/10 [==============================] - 0s 24ms/step - loss: 2.1232 - accuracy: 0.8882 - val_loss: 2.2654 - val_accuracy: 0.7368\n",
      "Epoch 8/15\n",
      "10/10 [==============================] - 0s 26ms/step - loss: 2.0001 - accuracy: 0.9309 - val_loss: 2.1784 - val_accuracy: 0.7632\n",
      "Epoch 9/15\n",
      "10/10 [==============================] - 0s 24ms/step - loss: 1.8716 - accuracy: 0.9671 - val_loss: 2.0803 - val_accuracy: 0.7632\n",
      "Epoch 10/15\n",
      "10/10 [==============================] - 0s 24ms/step - loss: 1.7811 - accuracy: 0.9474 - val_loss: 1.9942 - val_accuracy: 0.7368\n",
      "Epoch 11/15\n",
      "10/10 [==============================] - 0s 27ms/step - loss: 1.6787 - accuracy: 0.9704 - val_loss: 1.9102 - val_accuracy: 0.7368\n",
      "Epoch 12/15\n",
      "10/10 [==============================] - 0s 28ms/step - loss: 1.5847 - accuracy: 0.9671 - val_loss: 1.8411 - val_accuracy: 0.7763\n",
      "Epoch 13/15\n",
      "10/10 [==============================] - 0s 24ms/step - loss: 1.4910 - accuracy: 0.9934 - val_loss: 1.7685 - val_accuracy: 0.7895\n",
      "Epoch 14/15\n",
      "10/10 [==============================] - 0s 24ms/step - loss: 1.4246 - accuracy: 0.9934 - val_loss: 1.7116 - val_accuracy: 0.7763\n",
      "Epoch 15/15\n",
      "10/10 [==============================] - 0s 24ms/step - loss: 1.3550 - accuracy: 0.9803 - val_loss: 1.6533 - val_accuracy: 0.7763\n",
      "Score for fold 3: loss of 1.9249509572982788; accuracy of 55.000001192092896%\n",
      "Epoch 1/15\n",
      "10/10 [==============================] - 0s 26ms/step - loss: 3.2259 - accuracy: 0.5428 - val_loss: 3.1042 - val_accuracy: 0.5921\n",
      "Epoch 2/15\n",
      "10/10 [==============================] - 0s 24ms/step - loss: 2.9178 - accuracy: 0.7270 - val_loss: 2.9609 - val_accuracy: 0.6184\n",
      "Epoch 3/15\n",
      "10/10 [==============================] - 0s 24ms/step - loss: 2.7226 - accuracy: 0.7895 - val_loss: 2.8203 - val_accuracy: 0.6579\n",
      "Epoch 4/15\n",
      "10/10 [==============================] - 0s 24ms/step - loss: 2.5471 - accuracy: 0.8224 - val_loss: 2.6895 - val_accuracy: 0.6711\n",
      "Epoch 5/15\n",
      "10/10 [==============================] - 0s 24ms/step - loss: 2.3758 - accuracy: 0.8914 - val_loss: 2.5656 - val_accuracy: 0.6842\n",
      "Epoch 6/15\n",
      "10/10 [==============================] - 0s 27ms/step - loss: 2.2545 - accuracy: 0.8914 - val_loss: 2.4558 - val_accuracy: 0.6711\n",
      "Epoch 7/15\n",
      "10/10 [==============================] - 0s 25ms/step - loss: 2.1099 - accuracy: 0.9145 - val_loss: 2.3551 - val_accuracy: 0.6711\n",
      "Epoch 8/15\n",
      "10/10 [==============================] - 0s 29ms/step - loss: 1.9713 - accuracy: 0.9342 - val_loss: 2.2416 - val_accuracy: 0.6842\n",
      "Epoch 9/15\n",
      "10/10 [==============================] - 0s 25ms/step - loss: 1.8577 - accuracy: 0.9474 - val_loss: 2.1399 - val_accuracy: 0.6974\n",
      "Epoch 10/15\n",
      "10/10 [==============================] - 0s 26ms/step - loss: 1.7711 - accuracy: 0.9309 - val_loss: 2.0509 - val_accuracy: 0.7105\n",
      "Epoch 11/15\n",
      "10/10 [==============================] - 0s 27ms/step - loss: 1.6566 - accuracy: 0.9704 - val_loss: 1.9684 - val_accuracy: 0.6974\n",
      "Epoch 12/15\n",
      "10/10 [==============================] - 0s 25ms/step - loss: 1.5575 - accuracy: 0.9671 - val_loss: 1.8860 - val_accuracy: 0.7105\n",
      "Epoch 13/15\n",
      "10/10 [==============================] - 0s 24ms/step - loss: 1.4693 - accuracy: 0.9737 - val_loss: 1.8107 - val_accuracy: 0.6974\n",
      "Epoch 14/15\n",
      "10/10 [==============================] - 0s 24ms/step - loss: 1.3905 - accuracy: 0.9770 - val_loss: 1.7452 - val_accuracy: 0.7105\n",
      "Epoch 15/15\n",
      "10/10 [==============================] - 0s 26ms/step - loss: 1.3092 - accuracy: 0.9836 - val_loss: 1.6862 - val_accuracy: 0.7105\n",
      "Score for fold 4: loss of 1.8867058753967285; accuracy of 51.99999809265137%\n",
      "Epoch 1/15\n",
      "10/10 [==============================] - 0s 26ms/step - loss: 3.2598 - accuracy: 0.5493 - val_loss: 3.1170 - val_accuracy: 0.6053\n",
      "Epoch 2/15\n",
      "10/10 [==============================] - 0s 24ms/step - loss: 2.9490 - accuracy: 0.6908 - val_loss: 3.0057 - val_accuracy: 0.5395\n",
      "Epoch 3/15\n",
      "10/10 [==============================] - 0s 27ms/step - loss: 2.7473 - accuracy: 0.7862 - val_loss: 2.8772 - val_accuracy: 0.5789\n",
      "Epoch 4/15\n",
      "10/10 [==============================] - 0s 25ms/step - loss: 2.5607 - accuracy: 0.8618 - val_loss: 2.7599 - val_accuracy: 0.6316\n",
      "Epoch 5/15\n",
      "10/10 [==============================] - 0s 24ms/step - loss: 2.4517 - accuracy: 0.8520 - val_loss: 2.6355 - val_accuracy: 0.6842\n",
      "Epoch 6/15\n",
      "10/10 [==============================] - 0s 25ms/step - loss: 2.2819 - accuracy: 0.9046 - val_loss: 2.5393 - val_accuracy: 0.6974\n",
      "Epoch 7/15\n",
      "10/10 [==============================] - 0s 24ms/step - loss: 2.1565 - accuracy: 0.9375 - val_loss: 2.4575 - val_accuracy: 0.6974\n",
      "Epoch 8/15\n",
      "10/10 [==============================] - 0s 24ms/step - loss: 2.0203 - accuracy: 0.9441 - val_loss: 2.3557 - val_accuracy: 0.6842\n",
      "Epoch 9/15\n",
      "10/10 [==============================] - 0s 24ms/step - loss: 1.9097 - accuracy: 0.9605 - val_loss: 2.2681 - val_accuracy: 0.6974\n",
      "Epoch 10/15\n",
      "10/10 [==============================] - 0s 25ms/step - loss: 1.8170 - accuracy: 0.9671 - val_loss: 2.1833 - val_accuracy: 0.6974\n",
      "Epoch 11/15\n",
      "10/10 [==============================] - 0s 24ms/step - loss: 1.7046 - accuracy: 0.9638 - val_loss: 2.0949 - val_accuracy: 0.7105\n",
      "Epoch 12/15\n",
      "10/10 [==============================] - 0s 24ms/step - loss: 1.6098 - accuracy: 0.9803 - val_loss: 2.0251 - val_accuracy: 0.6711\n",
      "Epoch 13/15\n",
      "10/10 [==============================] - 0s 24ms/step - loss: 1.5345 - accuracy: 0.9803 - val_loss: 1.9572 - val_accuracy: 0.6974\n",
      "Epoch 14/15\n",
      "10/10 [==============================] - 0s 24ms/step - loss: 1.4255 - accuracy: 0.9934 - val_loss: 1.8895 - val_accuracy: 0.6974\n",
      "Epoch 15/15\n",
      "10/10 [==============================] - 0s 24ms/step - loss: 1.3631 - accuracy: 0.9901 - val_loss: 1.8191 - val_accuracy: 0.6842\n",
      "Score for fold 5: loss of 1.9296811819076538; accuracy of 55.000001192092896%\n",
      "------------------------------------------------------------------------\n",
      "Average scores for all folds:\n",
      "> Accuracy: 54.399999380111694 (+- 1.3564671637023007)\n",
      "> Loss: 1.9444921255111693\n",
      "------------------------------------------------------------------------\n"
     ]
    }
   ],
   "source": [
    "# Initialize kf\n",
    "num_folds = 5\n",
    "kf = StratifiedKFold(n_splits=num_folds, shuffle=True, random_state=42)\n",
    "\n",
    "# Train\n",
    "acc_per_fold = []\n",
    "loss_per_fold = []\n",
    "\n",
    "fold_no = 1\n",
    "for train, val in kf.split(X_train_resampled, y_train_resampled):\n",
    "    model = create_model()\n",
    "    \n",
    "    history = model.fit(X_train_resampled[train], \n",
    "                        y_train_resampled[train], \n",
    "                        epochs=15, \n",
    "                        batch_size=32, \n",
    "                        validation_data=(X_train_resampled[val], y_train_resampled[val]))\n",
    "    \n",
    "    # Generate generalization metrics\n",
    "    scores = model.evaluate(X_test_scaled, y_test_final, verbose=0)\n",
    "    print(f'Score for fold {fold_no}: {model.metrics_names[0]} of {scores[0]}; {model.metrics_names[1]} of {scores[1]*100}%')\n",
    "    \n",
    "    acc_per_fold.append(scores[1] * 100)\n",
    "    loss_per_fold.append(scores[0])\n",
    "    fold_no += 1\n",
    "\n",
    "# Print average metrics\n",
    "print('------------------------------------------------------------------------')\n",
    "print('Average scores for all folds:')\n",
    "print(f'> Accuracy: {np.mean(acc_per_fold)} (+- {np.std(acc_per_fold)})')\n",
    "print(f'> Loss: {np.mean(loss_per_fold)}')\n",
    "print('------------------------------------------------------------------------')"
   ]
  },
  {
   "cell_type": "markdown",
   "id": "cfde0390",
   "metadata": {},
   "source": [
    "# XGBoost"
   ]
  },
  {
   "cell_type": "code",
   "execution_count": 14,
   "id": "7dbce970",
   "metadata": {},
   "outputs": [],
   "source": [
    "import xgboost as xgb"
   ]
  },
  {
   "cell_type": "code",
   "execution_count": 15,
   "id": "3fbb0fd3",
   "metadata": {},
   "outputs": [],
   "source": [
    "model = xgb.XGBClassifier(tree_method=\"hist\", enable_categorical=True)\n",
    "model.fit(X_train_resampled, y_train_resampled)"
   ]
  },
  {
   "cell_type": "code",
   "execution_count": 17,
   "id": "396f35d4",
   "metadata": {},
   "outputs": [],
   "source": [
    "y_pred = model.predict(X_test_scaled)"
   ]
  },
  {
   "cell_type": "code",
   "execution_count": 18,
   "id": "d6987a95",
   "metadata": {},
   "outputs": [
    {
     "name": "stdout",
     "output_type": "stream",
     "text": [
      "              precision    recall  f1-score   support\n",
      "\n",
      "           0       0.80      0.91      0.85        66\n",
      "           1       0.76      0.56      0.64        34\n",
      "\n",
      "    accuracy                           0.79       100\n",
      "   macro avg       0.78      0.73      0.75       100\n",
      "weighted avg       0.79      0.79      0.78       100\n",
      "\n"
     ]
    }
   ],
   "source": [
    "print(classification_report(y_test_final, y_pred))"
   ]
  },
  {
   "cell_type": "code",
   "execution_count": 20,
   "id": "5113e584",
   "metadata": {},
   "outputs": [],
   "source": [
    "features = X.columns.to_list()\n",
    "importance = list(model.feature_importances_)"
   ]
  },
  {
   "cell_type": "code",
   "execution_count": 21,
   "id": "b6d2e03d",
   "metadata": {},
   "outputs": [
    {
     "data": {
      "text/html": [
       "<div>\n",
       "<style scoped>\n",
       "    .dataframe tbody tr th:only-of-type {\n",
       "        vertical-align: middle;\n",
       "    }\n",
       "\n",
       "    .dataframe tbody tr th {\n",
       "        vertical-align: top;\n",
       "    }\n",
       "\n",
       "    .dataframe thead th {\n",
       "        text-align: right;\n",
       "    }\n",
       "</style>\n",
       "<table border=\"1\" class=\"dataframe\">\n",
       "  <thead>\n",
       "    <tr style=\"text-align: right;\">\n",
       "      <th></th>\n",
       "      <th>Feature</th>\n",
       "      <th>Importance</th>\n",
       "    </tr>\n",
       "  </thead>\n",
       "  <tbody>\n",
       "    <tr>\n",
       "      <th>0</th>\n",
       "      <td>Diagnosis_at_Baseline</td>\n",
       "      <td>0.118102</td>\n",
       "    </tr>\n",
       "    <tr>\n",
       "      <th>95</th>\n",
       "      <td>travel.depth..SD.2016</td>\n",
       "      <td>0.056093</td>\n",
       "    </tr>\n",
       "    <tr>\n",
       "      <th>91</th>\n",
       "      <td>FreeSurfer.convexity..75..1024</td>\n",
       "      <td>0.044084</td>\n",
       "    </tr>\n",
       "    <tr>\n",
       "      <th>21</th>\n",
       "      <td>geodesic.depth..median.1024</td>\n",
       "      <td>0.029482</td>\n",
       "    </tr>\n",
       "    <tr>\n",
       "      <th>144</th>\n",
       "      <td>geodesic.depth..kurtosis.1034</td>\n",
       "      <td>0.025851</td>\n",
       "    </tr>\n",
       "    <tr>\n",
       "      <th>...</th>\n",
       "      <td>...</td>\n",
       "      <td>...</td>\n",
       "    </tr>\n",
       "    <tr>\n",
       "      <th>5</th>\n",
       "      <td>Race</td>\n",
       "      <td>0.000000</td>\n",
       "    </tr>\n",
       "    <tr>\n",
       "      <th>108</th>\n",
       "      <td>mean.curvature..median.1005</td>\n",
       "      <td>0.000000</td>\n",
       "    </tr>\n",
       "    <tr>\n",
       "      <th>4</th>\n",
       "      <td>Ethnicity</td>\n",
       "      <td>0.000000</td>\n",
       "    </tr>\n",
       "    <tr>\n",
       "      <th>116</th>\n",
       "      <td>geodesic.depth..25..1005</td>\n",
       "      <td>0.000000</td>\n",
       "    </tr>\n",
       "    <tr>\n",
       "      <th>73</th>\n",
       "      <td>FreeSurfer.convexity..SD.2003</td>\n",
       "      <td>0.000000</td>\n",
       "    </tr>\n",
       "  </tbody>\n",
       "</table>\n",
       "<p>158 rows × 2 columns</p>\n",
       "</div>"
      ],
      "text/plain": [
       "                            Feature  Importance\n",
       "0             Diagnosis_at_Baseline    0.118102\n",
       "95            travel.depth..SD.2016    0.056093\n",
       "91   FreeSurfer.convexity..75..1024    0.044084\n",
       "21      geodesic.depth..median.1024    0.029482\n",
       "144   geodesic.depth..kurtosis.1034    0.025851\n",
       "..                              ...         ...\n",
       "5                              Race    0.000000\n",
       "108     mean.curvature..median.1005    0.000000\n",
       "4                         Ethnicity    0.000000\n",
       "116        geodesic.depth..25..1005    0.000000\n",
       "73    FreeSurfer.convexity..SD.2003    0.000000\n",
       "\n",
       "[158 rows x 2 columns]"
      ]
     },
     "execution_count": 21,
     "metadata": {},
     "output_type": "execute_result"
    }
   ],
   "source": [
    "feature_importance = dict(zip(features, importance))\n",
    "feature_importance_df = pd.DataFrame.from_dict(feature_importance, orient='index').reset_index()\n",
    "feature_importance_df.columns = ['Feature', 'Importance']\n",
    "feature_importance_df.sort_values('Importance', ascending=False)"
   ]
  },
  {
   "cell_type": "markdown",
   "id": "147428fb",
   "metadata": {},
   "source": [
    "# SVC Multimodal\n",
    "\n",
    "Run all PCA cells and Merging cells, then these"
   ]
  },
  {
   "cell_type": "code",
   "execution_count": 24,
   "id": "b30bf58c",
   "metadata": {},
   "outputs": [],
   "source": [
    "from sklearn.svm import SVC\n",
    "from sklearn.metrics import classification_report\n",
    "from sklearn.model_selection import GridSearchCV"
   ]
  },
  {
   "cell_type": "code",
   "execution_count": 25,
   "id": "63c9fc8c",
   "metadata": {},
   "outputs": [
    {
     "data": {
      "text/plain": [
       "GridSearchCV(cv=5, estimator=SVC(),\n",
       "             param_grid={'C': [0.1, 1, 10], 'degree': [1, 2, 3, 4, 5],\n",
       "                         'gamma': ['scale', 'auto', 0.1],\n",
       "                         'kernel': ['linear', 'poly', 'rbf', 'sigmoid']},\n",
       "             scoring='accuracy')"
      ]
     },
     "execution_count": 25,
     "metadata": {},
     "output_type": "execute_result"
    }
   ],
   "source": [
    "# Instantiate Model\n",
    "svc = SVC()\n",
    "\n",
    "# Grid search\n",
    "param_grid = {\n",
    "    \"C\": [0.1, 1, 10],                \n",
    "    \"kernel\": [\"linear\", \"poly\", \"rbf\", \"sigmoid\"],\n",
    "    \"gamma\": [\"scale\", \"auto\", 0.1],\n",
    "    \"degree\": [1, 2, 3, 4, 5]}\n",
    "\n",
    "grid_search = GridSearchCV(estimator=svc, param_grid=param_grid, cv=5, scoring=\"accuracy\")\n",
    "grid_search.fit(X_train_resampled, y_train_resampled)"
   ]
  },
  {
   "cell_type": "code",
   "execution_count": 26,
   "id": "1acc91e5",
   "metadata": {},
   "outputs": [
    {
     "name": "stdout",
     "output_type": "stream",
     "text": [
      "Best Parameters: {'C': 1, 'degree': 1, 'gamma': 0.1, 'kernel': 'rbf'}\n",
      "Best Accuracy: 0.7789473684210526\n"
     ]
    }
   ],
   "source": [
    "# Get the best parameters and best accuracy score\n",
    "best_params = grid_search.best_params_\n",
    "best_score = grid_search.best_score_\n",
    "\n",
    "# Print the best parameters and best score\n",
    "print(\"Best Parameters:\", best_params)\n",
    "print(\"Best Accuracy:\", best_score)"
   ]
  },
  {
   "cell_type": "code",
   "execution_count": 27,
   "id": "53edc9ff",
   "metadata": {},
   "outputs": [
    {
     "data": {
      "text/plain": [
       "SVC(C=1, degree=1, gamma=0.1)"
      ]
     },
     "execution_count": 27,
     "metadata": {},
     "output_type": "execute_result"
    }
   ],
   "source": [
    "# Instantiate and fit model\n",
    "svc = SVC(C=1, degree=1, gamma=0.1, kernel=\"rbf\")\n",
    "\n",
    "svc.fit(X_train_resampled, y_train_resampled)"
   ]
  },
  {
   "cell_type": "code",
   "execution_count": 28,
   "id": "7b2c9993",
   "metadata": {},
   "outputs": [
    {
     "name": "stdout",
     "output_type": "stream",
     "text": [
      "              precision    recall  f1-score   support\n",
      "\n",
      "           0       0.63      1.00      0.77        63\n",
      "           1       0.00      0.00      0.00        37\n",
      "\n",
      "    accuracy                           0.63       100\n",
      "   macro avg       0.32      0.50      0.39       100\n",
      "weighted avg       0.40      0.63      0.49       100\n",
      "\n"
     ]
    },
    {
     "name": "stderr",
     "output_type": "stream",
     "text": [
      "/Users/johngalvin/miniforge3/lib/python3.9/site-packages/sklearn/metrics/_classification.py:1318: UndefinedMetricWarning: Precision and F-score are ill-defined and being set to 0.0 in labels with no predicted samples. Use `zero_division` parameter to control this behavior.\n",
      "  _warn_prf(average, modifier, msg_start, len(result))\n",
      "/Users/johngalvin/miniforge3/lib/python3.9/site-packages/sklearn/metrics/_classification.py:1318: UndefinedMetricWarning: Precision and F-score are ill-defined and being set to 0.0 in labels with no predicted samples. Use `zero_division` parameter to control this behavior.\n",
      "  _warn_prf(average, modifier, msg_start, len(result))\n",
      "/Users/johngalvin/miniforge3/lib/python3.9/site-packages/sklearn/metrics/_classification.py:1318: UndefinedMetricWarning: Precision and F-score are ill-defined and being set to 0.0 in labels with no predicted samples. Use `zero_division` parameter to control this behavior.\n",
      "  _warn_prf(average, modifier, msg_start, len(result))\n"
     ]
    }
   ],
   "source": [
    "# Assess\n",
    "y_pred = svc.predict(X_test_scaled)\n",
    "\n",
    "# evaluate predictions\n",
    "print(classification_report(y_test_final, y_pred))"
   ]
  },
  {
   "cell_type": "markdown",
   "id": "9e9e2d5c",
   "metadata": {},
   "source": [
    "# SVC, Image-only\n",
    "\n",
    "Run all PCA cells AND NN Image-only cells, then these"
   ]
  },
  {
   "cell_type": "code",
   "execution_count": 24,
   "id": "65df7f9d",
   "metadata": {},
   "outputs": [],
   "source": [
    "from sklearn.svm import SVC\n",
    "from sklearn.metrics import classification_report\n",
    "from sklearn.model_selection import GridSearchCV"
   ]
  },
  {
   "cell_type": "code",
   "execution_count": 25,
   "id": "4c123ed8",
   "metadata": {},
   "outputs": [
    {
     "data": {
      "text/plain": [
       "GridSearchCV(cv=5, estimator=SVC(),\n",
       "             param_grid={'C': [0.1, 1, 10], 'degree': [1, 2, 3, 4, 5],\n",
       "                         'gamma': ['scale', 'auto', 0.1],\n",
       "                         'kernel': ['linear', 'poly', 'rbf', 'sigmoid']},\n",
       "             scoring='accuracy')"
      ]
     },
     "execution_count": 25,
     "metadata": {},
     "output_type": "execute_result"
    }
   ],
   "source": [
    "# Instantiate Model\n",
    "svc = SVC()\n",
    "\n",
    "# Grid search\n",
    "param_grid = {\n",
    "    \"C\": [0.1, 1, 10],                \n",
    "    \"kernel\": [\"linear\", \"poly\", \"rbf\", \"sigmoid\"],\n",
    "    \"gamma\": [\"scale\", \"auto\", 0.1],\n",
    "    \"degree\": [1, 2, 3, 4, 5]}\n",
    "\n",
    "grid_search = GridSearchCV(estimator=svc, param_grid=param_grid, cv=5, scoring=\"accuracy\")\n",
    "grid_search.fit(X_train_resampled, y_train_resampled)"
   ]
  },
  {
   "cell_type": "code",
   "execution_count": 26,
   "id": "fbda1275",
   "metadata": {},
   "outputs": [
    {
     "name": "stdout",
     "output_type": "stream",
     "text": [
      "Best Parameters: {'C': 1, 'degree': 1, 'gamma': 0.1, 'kernel': 'rbf'}\n",
      "Best Accuracy: 0.7789473684210526\n"
     ]
    }
   ],
   "source": [
    "# Get the best parameters and best accuracy score\n",
    "best_params = grid_search.best_params_\n",
    "best_score = grid_search.best_score_\n",
    "\n",
    "# Print the best parameters and best score\n",
    "print(\"Best Parameters:\", best_params)\n",
    "print(\"Best Accuracy:\", best_score)"
   ]
  },
  {
   "cell_type": "code",
   "execution_count": 27,
   "id": "e1fed246",
   "metadata": {},
   "outputs": [
    {
     "data": {
      "text/plain": [
       "SVC(C=1, degree=1, gamma=0.1)"
      ]
     },
     "execution_count": 27,
     "metadata": {},
     "output_type": "execute_result"
    }
   ],
   "source": [
    "# Instantiate and fit model\n",
    "svc = SVC(C=1, degree=1, gamma=0.1, kernel=\"rbf\")\n",
    "\n",
    "svc.fit(X_train_resampled, y_train_resampled)"
   ]
  },
  {
   "cell_type": "code",
   "execution_count": 28,
   "id": "72399fd5",
   "metadata": {},
   "outputs": [
    {
     "name": "stdout",
     "output_type": "stream",
     "text": [
      "              precision    recall  f1-score   support\n",
      "\n",
      "           0       0.63      1.00      0.77        63\n",
      "           1       0.00      0.00      0.00        37\n",
      "\n",
      "    accuracy                           0.63       100\n",
      "   macro avg       0.32      0.50      0.39       100\n",
      "weighted avg       0.40      0.63      0.49       100\n",
      "\n"
     ]
    },
    {
     "name": "stderr",
     "output_type": "stream",
     "text": [
      "/Users/johngalvin/miniforge3/lib/python3.9/site-packages/sklearn/metrics/_classification.py:1318: UndefinedMetricWarning: Precision and F-score are ill-defined and being set to 0.0 in labels with no predicted samples. Use `zero_division` parameter to control this behavior.\n",
      "  _warn_prf(average, modifier, msg_start, len(result))\n",
      "/Users/johngalvin/miniforge3/lib/python3.9/site-packages/sklearn/metrics/_classification.py:1318: UndefinedMetricWarning: Precision and F-score are ill-defined and being set to 0.0 in labels with no predicted samples. Use `zero_division` parameter to control this behavior.\n",
      "  _warn_prf(average, modifier, msg_start, len(result))\n",
      "/Users/johngalvin/miniforge3/lib/python3.9/site-packages/sklearn/metrics/_classification.py:1318: UndefinedMetricWarning: Precision and F-score are ill-defined and being set to 0.0 in labels with no predicted samples. Use `zero_division` parameter to control this behavior.\n",
      "  _warn_prf(average, modifier, msg_start, len(result))\n"
     ]
    }
   ],
   "source": [
    "# Assess\n",
    "y_pred = svc.predict(X_test_scaled)\n",
    "\n",
    "# evaluate predictions\n",
    "print(classification_report(y_test_final, y_pred))"
   ]
  },
  {
   "cell_type": "markdown",
   "id": "1276df9d",
   "metadata": {},
   "source": [
    "# RFC, Multimodal\n",
    "\n",
    "Run all PCA cells and Merging cells, then these"
   ]
  },
  {
   "cell_type": "code",
   "execution_count": 29,
   "id": "d700f7be",
   "metadata": {},
   "outputs": [],
   "source": [
    "from sklearn.ensemble import RandomForestClassifier"
   ]
  },
  {
   "cell_type": "code",
   "execution_count": 30,
   "id": "37c61d97",
   "metadata": {},
   "outputs": [
    {
     "data": {
      "text/plain": [
       "RandomForestClassifier(random_state=42)"
      ]
     },
     "execution_count": 30,
     "metadata": {},
     "output_type": "execute_result"
    }
   ],
   "source": [
    "rfc = RandomForestClassifier(n_estimators=100, random_state=42)\n",
    "rfc.fit(X_train_resampled, y_train_resampled)"
   ]
  },
  {
   "cell_type": "code",
   "execution_count": 31,
   "id": "b63eacd1",
   "metadata": {},
   "outputs": [],
   "source": [
    "y_pred = rfc.predict(X_test_scaled)"
   ]
  },
  {
   "cell_type": "code",
   "execution_count": 32,
   "id": "449f839d",
   "metadata": {},
   "outputs": [
    {
     "name": "stdout",
     "output_type": "stream",
     "text": [
      "Accuracy: 0.78\n",
      "Classification Report:\n",
      "              precision    recall  f1-score   support\n",
      "\n",
      "           0       0.78      0.90      0.84        63\n",
      "           1       0.78      0.57      0.66        37\n",
      "\n",
      "    accuracy                           0.78       100\n",
      "   macro avg       0.78      0.74      0.75       100\n",
      "weighted avg       0.78      0.78      0.77       100\n",
      "\n"
     ]
    }
   ],
   "source": [
    "# Calculate accuracy\n",
    "accuracy = accuracy_score(y_test_final, y_pred)\n",
    "print(\"Accuracy:\", accuracy)\n",
    "\n",
    "# Generate a classification report\n",
    "print(\"Classification Report:\")\n",
    "print(classification_report(y_test_final, y_pred))"
   ]
  },
  {
   "cell_type": "markdown",
   "id": "5e197f93",
   "metadata": {},
   "source": [
    "# RFC, Image-only\n",
    "\n",
    "Run all PCA cells and NN image-only cells, then these"
   ]
  },
  {
   "cell_type": "code",
   "execution_count": 29,
   "id": "1439b5cb",
   "metadata": {},
   "outputs": [],
   "source": [
    "from sklearn.ensemble import RandomForestClassifier"
   ]
  },
  {
   "cell_type": "code",
   "execution_count": 30,
   "id": "b1aae477",
   "metadata": {},
   "outputs": [
    {
     "data": {
      "text/plain": [
       "RandomForestClassifier(random_state=42)"
      ]
     },
     "execution_count": 30,
     "metadata": {},
     "output_type": "execute_result"
    }
   ],
   "source": [
    "rfc = RandomForestClassifier(n_estimators=100, random_state=42)\n",
    "rfc.fit(X_train_resampled, y_train_resampled)"
   ]
  },
  {
   "cell_type": "code",
   "execution_count": 31,
   "id": "4ff84fec",
   "metadata": {},
   "outputs": [],
   "source": [
    "y_pred = rfc.predict(X_test_scaled)"
   ]
  },
  {
   "cell_type": "code",
   "execution_count": 32,
   "id": "6bd31e79",
   "metadata": {},
   "outputs": [
    {
     "name": "stdout",
     "output_type": "stream",
     "text": [
      "Accuracy: 0.64\n",
      "Classification Report:\n",
      "              precision    recall  f1-score   support\n",
      "\n",
      "           0       0.68      0.79      0.74        63\n",
      "           1       0.52      0.38      0.44        37\n",
      "\n",
      "    accuracy                           0.64       100\n",
      "   macro avg       0.60      0.59      0.59       100\n",
      "weighted avg       0.62      0.64      0.63       100\n",
      "\n"
     ]
    }
   ],
   "source": [
    "# Calculate accuracy\n",
    "accuracy = accuracy_score(y_test_final, y_pred)\n",
    "print(\"Accuracy:\", accuracy)\n",
    "\n",
    "# Generate a classification report\n",
    "print(\"Classification Report:\")\n",
    "print(classification_report(y_test_final, y_pred))"
   ]
  },
  {
   "cell_type": "markdown",
   "id": "6439a4fb",
   "metadata": {},
   "source": [
    "# Inference"
   ]
  },
  {
   "cell_type": "code",
   "execution_count": 41,
   "id": "1c37af3e",
   "metadata": {},
   "outputs": [],
   "source": [
    "import joblib\n",
    "import numpy as np"
   ]
  },
  {
   "cell_type": "code",
   "execution_count": null,
   "id": "0a2d2f84",
   "metadata": {},
   "outputs": [],
   "source": [
    "json_obj = {\"Diagnosis_at_Baseline\":\"LMCI\",\"Age\":67.5,\"Gender\":\"Male\",\"Years_of_Education\":10,\"Ethnicity\":\"Hisp/Latino\",\"Race\":\"White\",\"APOE4\":0.0,\"MMSE\":27.0,\"FreeSurfer.convexity..median.1024\":-0.3041386604,\"FreeSurfer.convexity..75..1005\":-0.0419929773,\"FreeSurfer.convexity..25..2017\":-0.8225753903,\"geodesic.depth..median.1017\":0.0739987,\"FreeSurfer.convexity..75..1013\":0.0415118048,\"FreeSurfer.convexity..mean.1005\":-0.3293391367,\"FreeSurfer.convexity..SD.2016\":0.3947719923,\"mean.curvature..skew.2007\":-0.7409500265,\"travel.depth..kurtosis.2016\":-0.9291294844,\"geodesic.depth..kurtosis.2016\":-0.8025531133,\"FreeSurfer.convexity..skew.1005\":-0.2868374242,\"geodesic.depth..MAD.1017\":0.07025852,\"geodesic.depth..kurtosis.2003\":-1.0512882688,\"geodesic.depth..median.1024\":0.130673,\"FreeSurfer.thickness..kurtosis.2031\":-0.4094972527,\"geodesic.depth..25..1024\":0.0283946,\"FreeSurfer.convexity..median.1005\":-0.4463556409,\"FreeSurfer.convexity..mean.1024\":-0.1882189398,\"FreeSurfer.convexity..kurtosis.1035\":-1.0478155295,\"travel.depth..median.1017\":2.50808,\"FreeSurfer.convexity..MAD.1034\":0.3352779895,\"FreeSurfer.convexity..mean.1013\":-0.2379040985,\"FreeSurfer.convexity..mean.2017\":-0.3073992311,\"mean.curvature..kurtosis.1012\":-0.3161156595,\"travel.depth..25..2014\":0.18153,\"FreeSurfer.thickness..MAD.1030\":0.4815375805,\"FreeSurfer.convexity..SD.2007\":0.455420991,\"geodesic.depth..skew.1005\":0.244972332,\"FreeSurfer.convexity..mean.1017\":-0.2939803651,\"travel.depth..MAD.1017\":2.387827,\"geodesic.depth..75..1013\":0.143296,\"FreeSurfer.convexity..median.2017\":-0.4740116894,\"mean.curvature..kurtosis.2017\":-0.521346065,\"travel.depth..skew.1005\":0.3099299457,\"geodesic.depth..mean.1024\":0.1632739171,\"geodesic.depth..mean.1017\":0.1118046319,\"FreeSurfer.thickness..SD.1030\":0.7515073666,\"FreeSurfer.thickness..kurtosis.2011\":-0.1043461037,\"FreeSurfer.convexity..kurtosis.2003\":-0.9081563766,\"geodesic.depth..75..1035\":0.857783,\"FreeSurfer.convexity..median.1017\":-0.3944549263,\"FreeSurfer.convexity..75..1017\":0.0557703637,\"FreeSurfer.convexity..median.1013\":-0.3122470379,\"FreeSurfer.convexity..kurtosis.2016\":-0.6604310251,\"geodesic.depth..75..1024\":0.259387,\"travel.depth..25..1017\":0.382777,\"FreeSurfer.thickness..skew.1007\":0.8298158569,\"travel.depth..kurtosis.2003\":-1.0165734317,\"FreeSurfer.convexity..kurtosis.2030\":-1.0448463437,\"FreeSurfer.convexity..kurtosis.1005\":-1.0601843929,\"geodesic.depth..median.1013\":0.0703935,\"geodesic.depth..75..1034\":0.713412,\"geodesic.depth..kurtosis.2009\":-1.182161277,\"geodesic.depth..75..1017\":0.18889,\"FreeSurfer.thickness..median.1017\":1.7823790312,\"travel.depth..25..1024\":0.839302,\"geodesic.depth..kurtosis.1009\":-1.1346834489,\"FreeSurfer.thickness..kurtosis.2017\":0.3652512457,\"mean.curvature..kurtosis.2012\":-0.160233786,\"FreeSurfer.convexity..SD.1034\":0.4434771189,\"FreeSurfer.convexity..MAD.2016\":0.2350733727,\"mean.curvature..skew.2029\":-0.607839259,\"geodesic.depth..mean.1013\":0.0943134866,\"FreeSurfer.thickness..MAD.2021\":0.1749446392,\"FreeSurfer.convexity..75..2034\":0.7047955394,\"FreeSurfer.convexity..SD.2003\":0.6360757545,\"mean.curvature..kurtosis.2007\":-0.5114699725,\"FreeSurfer.thickness..kurtosis.2021\":0.147405259,\"geodesic.depth..SD.2012\":0.1262609047,\"FreeSurfer.convexity..median.2012\":-0.0724348575,\"FreeSurfer.thickness..kurtosis.2025\":-0.1472087948,\"geodesic.depth..25..2014\":0.00352458,\"geodesic.depth..median.1034\":0.584828,\"FreeSurfer.thickness..MAD.2031\":0.3680799007,\"travel.depth..skew.2002\":0.358924359,\"geodesic.depth..kurtosis.1018\":-1.0160986685,\"FreeSurfer.convexity..25..1005\":-0.6565053463,\"FreeSurfer.convexity..25..1024\":-0.663970992,\"travel.depth..kurtosis.2002\":-0.0268656742,\"FreeSurfer.convexity..75..2022\":0.1616883576,\"FreeSurfer.convexity..25..2012\":-0.3725186884,\"travel.depth..kurtosis.1005\":-0.9440314871,\"mean.curvature..SD.2009\":2.8947270611,\"FreeSurfer.convexity..75..1024\":0.2195511907,\"FreeSurfer.convexity..SD.2017\":0.6740049304,\"travel.depth..MAD.1022\":4.342545,\"FreeSurfer.convexity..MAD.2003\":0.4325919598,\"travel.depth..SD.2016\":3.3096376094,\"mean.curvature..25..1024\":-4.90336,\"geodesic.depth..25..1017\":0.0228513,\"geodesic.depth..25..2030\":0.0561638,\"FreeSurfer.convexity..MAD.1035\":0.3746078629,\"geodesic.depth..SD.2034\":0.118692501,\"FreeSurfer.thickness..75..1017\":2.0929532051,\"mean.curvature..kurtosis.1024\":-0.5876524549,\"FreeSurfer.thickness..25..2013\":1.4965190887,\"mean.curvature..kurtosis.2011\":-0.5208675406,\"FreeSurfer.convexity..mean.2012\":-0.0691443482,\"travel.depth..kurtosis.2034\":-0.8980741063,\"FreeSurfer.thickness..median.2017\":1.8157212734,\"mean.curvature..median.1005\":-3.0374,\"FreeSurfer.thickness..25..2025\":1.7547264099,\"geodesic.depth..kurtosis.1005\":-0.9931310138,\"FreeSurfer.convexity..75..2016\":0.0944628343,\"FreeSurfer.thickness..median.2013\":1.8782224655,\"geodesic.depth..MAD.1013\":0.0536722,\"FreeSurfer.thickness..mean.1017\":1.8336383661,\"FreeSurfer.thickness..skew.1017\":0.600432719,\"geodesic.depth..25..1005\":0.0231425,\"FreeSurfer.thickness..MAD.2016\":0.6036396027,\"travel.depth..25..2022\":0.614581,\"geodesic.depth..SD.2016\":0.0760734152,\"FreeSurfer.thickness..SD.2016\":0.8008621442,\"geodesic.depth..mean.2012\":0.1578962955,\"geodesic.depth..median.2030\":0.167719,\"FreeSurfer.convexity..skew.2014\":-0.4254214236,\"FreeSurfer.convexity..SD.2031\":0.6303603764,\"geodesic.depth..MAD.1030\":0.11987,\"travel.depth..kurtosis.1034\":-0.8440365362,\"travel.depth..25..1005\":0.516824,\"travel.depth..skew.2030\":-0.1790890009,\"FreeSurfer.thickness..25..2017\":1.5213327408,\"FreeSurfer.convexity..MAD.2017\":0.3930668533,\"geodesic.depth..25..1013\":0.0246371,\"geodesic.depth..mean.1034\":0.5689924216,\"geodesic.depth..skew.2029\":0.1788553668,\"travel.depth..25..2030\":2.03181,\"mean.curvature..mean.1005\":-2.884279856,\"FreeSurfer.convexity..MAD.2022\":0.4344983399,\"FreeSurfer.convexity..kurtosis.2031\":-0.6973119537,\"mean.curvature..skew.2014\":-0.8078628207,\"geodesic.depth..75..1030\":0.294473,\"FreeSurfer.convexity..skew.1012\":-0.5357308943,\"mean.curvature..75..2025\":-0.457938,\"FreeSurfer.thickness..kurtosis.1017\":0.0504272664,\"travel.depth..25..2031\":1.21267,\"geodesic.depth..kurtosis.1034\":-0.850155529,\"geodesic.depth..kurtosis.2002\":-0.8246946132,\"mean.curvature..75..1013\":-1.37892,\"FreeSurfer.thickness..25..1017\":1.5172727108,\"geodesic.depth..mean.1030\":0.188601711,\"travel.depth..SD.2034\":5.3649734516,\"geodesic.depth..skew.2030\":-0.1685252461,\"FreeSurfer.thickness..kurtosis.2029\":0.1881543029,\"travel.depth..SD.2012\":5.2739536048,\"geodesic.depth..median.2014\":0.0377215,\"FreeSurfer.thickness..75..2013\":2.3669848442,\"travel.depth..75..1013\":5.4461825,\"FreeSurfer.convexity..kurtosis.2017\":-1.2241311804,\"geodesic.depth..SD.1030\":0.1821043959}"
   ]
  },
  {
   "cell_type": "code",
   "execution_count": null,
   "id": "2742e6d1",
   "metadata": {},
   "outputs": [],
   "source": [
    "dx_encoder = joblib.load(\"./dx_encoder.gz\")\n",
    "gender_encoder = joblib.load(\"gender_encoder.gz\")\n",
    "eth_encoder = joblib.load(\"eth_encoder.gz\")\n",
    "race_encoder = joblib.load(\"race_encoder.gz\")"
   ]
  },
  {
   "cell_type": "code",
   "execution_count": null,
   "id": "9a3a24d1",
   "metadata": {},
   "outputs": [],
   "source": [
    "json_obj[\"Diagnosis_at_Baseline\"] = dx_encoder.transform([json_obj[\"Diagnosis_at_Baseline\"]])[0]\n",
    "json_obj[\"Gender\"] = gender_encoder.transform([json_obj[\"Gender\"]])[0]\n",
    "json_obj[\"Ethnicity\"] = eth_encoder.transform([json_obj[\"Ethnicity\"]])[0]\n",
    "json_obj[\"Race\"] = race_encoder.transform([json_obj[\"Race\"]])[0]"
   ]
  },
  {
   "cell_type": "code",
   "execution_count": null,
   "id": "fdbc26e3",
   "metadata": {},
   "outputs": [],
   "source": [
    "scaler = joblib.load(\"./scaler.gz\")\n",
    "feature_array = np.array(list(json_obj.values())).reshape(1,-1)\n",
    "features_scaled = scaler.transform(feature_array)"
   ]
  },
  {
   "cell_type": "code",
   "execution_count": null,
   "id": "6d951441",
   "metadata": {},
   "outputs": [],
   "source": [
    "model = joblib.load(\"model.pkl\")"
   ]
  },
  {
   "cell_type": "code",
   "execution_count": null,
   "id": "90f8583c",
   "metadata": {},
   "outputs": [],
   "source": [
    "model.predict(features_scaled)"
   ]
  }
 ],
 "metadata": {
  "kernelspec": {
   "display_name": "Python 3 (ipykernel)",
   "language": "python",
   "name": "python3"
  },
  "language_info": {
   "codemirror_mode": {
    "name": "ipython",
    "version": 3
   },
   "file_extension": ".py",
   "mimetype": "text/x-python",
   "name": "python",
   "nbconvert_exporter": "python",
   "pygments_lexer": "ipython3",
   "version": "3.9.7"
  }
 },
 "nbformat": 4,
 "nbformat_minor": 5
}
