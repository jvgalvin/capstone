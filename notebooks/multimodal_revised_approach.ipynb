{
 "cells": [
  {
   "cell_type": "code",
   "execution_count": 1,
   "id": "e61c957e",
   "metadata": {},
   "outputs": [
    {
     "name": "stderr",
     "output_type": "stream",
     "text": [
      "/Users/johngalvin/miniforge3/lib/python3.9/site-packages/scipy/__init__.py:146: UserWarning: A NumPy version >=1.16.5 and <1.23.0 is required for this version of SciPy (detected version 1.24.2\n",
      "  warnings.warn(f\"A NumPy version >={np_minversion} and <{np_maxversion}\"\n"
     ]
    }
   ],
   "source": [
    "import pandas as pd\n",
    "import numpy as np\n",
    "import tensorflow as tf\n",
    "\n",
    "from tensorflow.keras.callbacks import EarlyStopping\n",
    "from sklearn.model_selection import train_test_split\n",
    "from sklearn.preprocessing import LabelEncoder, MinMaxScaler, StandardScaler\n",
    "from sklearn.model_selection import StratifiedKFold\n",
    "from sklearn.metrics import precision_recall_curve, auc, accuracy_score, classification_report\n",
    "from imblearn.over_sampling import RandomOverSampler\n",
    "\n",
    "import matplotlib.pyplot as plt\n",
    "%matplotlib inline\n",
    "\n",
    "pd.set_option('display.max_columns', 500)"
   ]
  },
  {
   "cell_type": "markdown",
   "id": "4e8bf35a",
   "metadata": {},
   "source": [
    "# PCA"
   ]
  },
  {
   "cell_type": "code",
   "execution_count": 2,
   "id": "20cd9416",
   "metadata": {},
   "outputs": [
    {
     "name": "stderr",
     "output_type": "stream",
     "text": [
      "/Users/johngalvin/miniforge3/lib/python3.9/site-packages/IPython/core/interactiveshell.py:3457: DtypeWarning: Columns (2162) have mixed types.Specify dtype option on import or set low_memory=False.\n",
      "  exec(code_obj, self.user_global_ns, self.user_ns)\n"
     ]
    }
   ],
   "source": [
    "img_df = pd.read_csv(\"/Users/johngalvin/Downloads/AD1ChallengeImagingFiles/baseline_data.csv\")\n",
    "img_ptids = img_df[\"Subject\"]\n",
    "X = img_df.iloc[:,:-13] # Keep just image features"
   ]
  },
  {
   "cell_type": "code",
   "execution_count": 3,
   "id": "c8ffe69f",
   "metadata": {},
   "outputs": [],
   "source": [
    "# Standardize\n",
    "scaler = StandardScaler()\n",
    "X_scaled = scaler.fit_transform(X)"
   ]
  },
  {
   "cell_type": "code",
   "execution_count": 4,
   "id": "5b60029f",
   "metadata": {},
   "outputs": [],
   "source": [
    "# Cov matrix\n",
    "cov = (X_scaled.T @ X_scaled) / (X_scaled.shape[0] - 1)"
   ]
  },
  {
   "cell_type": "code",
   "execution_count": 5,
   "id": "d1dacb44",
   "metadata": {},
   "outputs": [],
   "source": [
    "# Eigendecomposition\n",
    "eig_values, eig_vectors = np.linalg.eig(cov)"
   ]
  },
  {
   "cell_type": "code",
   "execution_count": 6,
   "id": "44067851",
   "metadata": {},
   "outputs": [],
   "source": [
    "# Figure out which components to select\n",
    "idx = np.argsort(eig_values, axis=0)[::-1]\n",
    "sorted_eig_vectors = eig_vectors[:, idx]"
   ]
  },
  {
   "cell_type": "code",
   "execution_count": 7,
   "id": "243734c9",
   "metadata": {},
   "outputs": [
    {
     "name": "stderr",
     "output_type": "stream",
     "text": [
      "/Users/johngalvin/miniforge3/lib/python3.9/site-packages/matplotlib/cbook/__init__.py:1298: ComplexWarning: Casting complex values to real discards the imaginary part\n",
      "  return np.asarray(x, float)\n"
     ]
    },
    {
     "data": {
      "image/png": "[encoded data removed]",
      "text/plain": [
       "<Figure size 1440x504 with 1 Axes>"
      ]
     },
     "metadata": {
      "needs_background": "light"
     },
     "output_type": "display_data"
    }
   ],
   "source": [
    "# Determine how many components to keep\n",
    "cumsum = np.cumsum(eig_values[idx]) / np.sum(eig_values[idx])\n",
    "xint = range(1, len(cumsum) + 1)\n",
    "plt.figure(figsize=(20, 7))\n",
    "plt.plot(xint, cumsum)\n",
    "\n",
    "plt.xlabel(\"Number of components\")\n",
    "plt.ylabel(\"Cumulative explained variance\")\n",
    "plt.xticks(np.arange(0, 2151, 50))\n",
    "plt.xlim(1, len(cumsum))\n",
    "plt.ylim(0, 1)  # Set y-axis limits between 0 and 1 if necessary\n",
    "\n",
    "plt.show()"
   ]
  },
  {
   "cell_type": "code",
   "execution_count": 8,
   "id": "53693244",
   "metadata": {},
   "outputs": [],
   "source": [
    "# Determine names of components\n",
    "num_components_to_keep = 150\n",
    "selected_eigenvectors = sorted_eig_vectors[:, :num_components_to_keep]\n",
    "\n",
    "# Get the column names corresponding to the selected eigenvectors\n",
    "selected_component_names = img_df.columns[:-13][np.argsort(np.abs(selected_eigenvectors.sum(axis=1)))[::-1][:num_components_to_keep]]\n",
    "selected_component_names = selected_component_names.tolist()"
   ]
  },
  {
   "cell_type": "code",
   "execution_count": 9,
   "id": "23c91fd6",
   "metadata": {},
   "outputs": [],
   "source": [
    "# Reconstruct df\n",
    "img_df = img_df[selected_component_names]\n",
    "img_df = pd.concat([img_ptids, img_df], axis=1)\n",
    "img_df.reset_index(drop=True, inplace=True)\n",
    "img_df.rename({\"Subject\": \"PTID\"}, axis=1, inplace=True)"
   ]
  },
  {
   "cell_type": "markdown",
   "id": "af98ecbd",
   "metadata": {},
   "source": [
    "# Merge MRI and Clinical/Genetic Data"
   ]
  },
  {
   "cell_type": "code",
   "execution_count": 10,
   "id": "e8d9e4ba",
   "metadata": {},
   "outputs": [],
   "source": [
    "# Read in med/famhist\n",
    "mf_hist = pd.read_csv('../data/clinical_training_data.csv')\n",
    "\n",
    "# Handle Nan\n",
    "mf_hist[\"APOE4\"] = mf_hist[\"APOE4\"].fillna(0)\n",
    "\n",
    "# Join with img_df\n",
    "df = pd.merge(mf_hist, img_df, on=\"PTID\", how=\"inner\")\n",
    "\n",
    "# For converting categorical variables to ints\n",
    "label_encoder = LabelEncoder()\n",
    "scaler = MinMaxScaler()\n",
    "\n",
    "# Split features / target\n",
    "X = df.drop(columns=['PTID',\n",
    "                     'AD_dx_in_5_yrs', \n",
    "                     'AD_dx_in_any_time', \n",
    "                     'AD_dx_in_15_yrs',\n",
    "                     'AD_dx_in_10_yrs', \n",
    "                     'AD_dx_in_4_yrs', \n",
    "                     'AD_dx_in_3_yrs',\n",
    "                     'AD_dx_in_2_yrs', \n",
    "                     'AD_dx_in_1_yr'])\n",
    "y = df['AD_dx_in_10_yrs']\n",
    "\n",
    "# Encode features\n",
    "X[\"Diagnosis_at_Baseline\"] = label_encoder.fit_transform(X[\"Diagnosis_at_Baseline\"])\n",
    "X[\"Gender\"] = label_encoder.fit_transform(X[\"Gender\"])\n",
    "X[\"Ethnicity\"] = label_encoder.fit_transform(X[\"Ethnicity\"])\n",
    "X[\"Race\"] = label_encoder.fit_transform(X[\"Race\"])\n",
    "\n",
    "# Split data\n",
    "X_train, X_test, y_train, y_test = train_test_split(X, y, test_size=0.2, random_state=42)\n",
    "X_train, X_val, y_train, y_val = train_test_split(X_train, y_train, test_size=0.2, random_state=42)"
   ]
  },
  {
   "cell_type": "code",
   "execution_count": 11,
   "id": "d6e17fd2",
   "metadata": {},
   "outputs": [],
   "source": [
    "# Scale data\n",
    "scaler = StandardScaler()\n",
    "X_train_scaled = scaler.fit_transform(X_train)\n",
    "X_val_scaled = scaler.transform(X_val)\n",
    "X_test_scaled = scaler.transform(X_test)"
   ]
  },
  {
   "cell_type": "code",
   "execution_count": 12,
   "id": "7d54cc85",
   "metadata": {},
   "outputs": [],
   "source": [
    "# Reorder labels (order changed when forming unscaled_mri_df)\n",
    "y_train_final = []\n",
    "for val in X_train.index.values:\n",
    "    y_train_final.append(df.loc[df.index == val, \"AD_dx_in_10_yrs\"].values[0])\n",
    "y_train_final = np.array(y_train_final)\n",
    "\n",
    "y_val_final = []\n",
    "for val in X_val.index.values:\n",
    "    y_val_final.append(df.loc[df.index == val, \"AD_dx_in_10_yrs\"].values[0])\n",
    "y_val_final = np.array(y_val_final)\n",
    "\n",
    "y_test_final = []\n",
    "for val in X_test.index.values:\n",
    "    y_test_final.append(df.loc[df.index == val, \"AD_dx_in_10_yrs\"].values[0])\n",
    "y_test_final = np.array(y_test_final)"
   ]
  },
  {
   "cell_type": "code",
   "execution_count": 13,
   "id": "64d7ffe8",
   "metadata": {},
   "outputs": [],
   "source": [
    "# Oversample\n",
    "ros = RandomOverSampler(random_state=42)\n",
    "X_train_resampled, y_train_resampled = ros.fit_resample(X_train_scaled, y_train_final)"
   ]
  },
  {
   "cell_type": "markdown",
   "id": "c5561779",
   "metadata": {},
   "source": [
    "# NN, Multimodal"
   ]
  },
  {
   "cell_type": "code",
   "execution_count": 14,
   "id": "98dc029f",
   "metadata": {},
   "outputs": [],
   "source": [
    "IN_FEATURES = X_train_scaled[0].shape[0]"
   ]
  },
  {
   "cell_type": "code",
   "execution_count": 15,
   "id": "6ed700e8",
   "metadata": {},
   "outputs": [],
   "source": [
    "def create_model(dropout=0.3, learning_rate=0.001, l1_penalty=0.001, l2_penalty=0.001):\n",
    "    \"\"\"Builds classification model\"\"\"\n",
    "    \n",
    "    model = tf.keras.Sequential()\n",
    "    inputs = tf.keras.layers.Input(shape=(IN_FEATURES,), name=\"input_layer\") # (Batch, num_features)\n",
    "    \n",
    "    hidden_1 = tf.keras.layers.Dense(256, activation=\"relu\", kernel_regularizer=tf.keras.regularizers.L1L2(l1=l1_penalty, l2=l2_penalty), name=\"hidden_1\")(inputs)\n",
    "    hidden_1 = tf.keras.layers.Dropout(dropout)(hidden_1)\n",
    "    hidden_2 = tf.keras.layers.Dense(128, activation=\"relu\", kernel_regularizer=tf.keras.regularizers.L1L2(l1=l1_penalty, l2=l2_penalty), name=\"hidden_2\")(hidden_1)\n",
    "    hidden_2 = tf.keras.layers.Dropout(dropout)(hidden_2)\n",
    "    \n",
    "    classification = tf.keras.layers.Dense(1, activation=\"sigmoid\", name=\"classification_layer\")(hidden_1)\n",
    "    classification_model = tf.keras.Model(inputs=[inputs], outputs=[classification])\n",
    "    \n",
    "    classification_model.compile(optimizer=tf.keras.optimizers.Adam(learning_rate=learning_rate),\n",
    "                                 loss=tf.keras.losses.BinaryCrossentropy(from_logits=True), \n",
    "                                 metrics=\"accuracy\")\n",
    "\n",
    "    return classification_model"
   ]
  },
  {
   "cell_type": "code",
   "execution_count": 16,
   "id": "8e33ca24",
   "metadata": {},
   "outputs": [
    {
     "name": "stdout",
     "output_type": "stream",
     "text": [
      "Metal device set to: Apple M2 Pro\n"
     ]
    },
    {
     "name": "stderr",
     "output_type": "stream",
     "text": [
      "2023-10-17 15:09:53.992783: I tensorflow/core/common_runtime/pluggable_device/pluggable_device_factory.cc:306] Could not identify NUMA node of platform GPU ID 0, defaulting to 0. Your kernel may not have been built with NUMA support.\n",
      "2023-10-17 15:09:53.992874: I tensorflow/core/common_runtime/pluggable_device/pluggable_device_factory.cc:272] Created TensorFlow device (/job:localhost/replica:0/task:0/device:GPU:0 with 0 MB memory) -> physical PluggableDevice (device: 0, name: METAL, pci bus id: <undefined>)\n"
     ]
    }
   ],
   "source": [
    "model = create_model()"
   ]
  },
  {
   "cell_type": "code",
   "execution_count": 17,
   "id": "765c5eb2",
   "metadata": {},
   "outputs": [
    {
     "name": "stdout",
     "output_type": "stream",
     "text": [
      "Epoch 1/20\n"
     ]
    },
    {
     "name": "stderr",
     "output_type": "stream",
     "text": [
      "/Users/johngalvin/miniforge3/lib/python3.9/site-packages/tensorflow/python/data/ops/structured_function.py:256: UserWarning: Even though the `tf.config.experimental_run_functions_eagerly` option is set, this option does not apply to tf.data functions. To force eager execution of tf.data functions, please use `tf.data.experimental.enable_debug_mode()`.\n",
      "  warnings.warn(\n",
      "2023-10-17 15:09:54.631941: W tensorflow/tsl/platform/profile_utils/cpu_utils.cc:128] Failed to get CPU frequency: 0 Hz\n",
      "/Users/johngalvin/miniforge3/lib/python3.9/site-packages/keras/backend.py:5676: UserWarning: \"`binary_crossentropy` received `from_logits=True`, but the `output` argument was produced by a Sigmoid activation and thus does not represent logits. Was this intended?\n",
      "  output, from_logits = _get_logits(\n"
     ]
    },
    {
     "name": "stdout",
     "output_type": "stream",
     "text": [
      "24/24 [==============================] - 1s 28ms/step - loss: 3.2094 - accuracy: 0.6132 - val_loss: 3.0140 - val_accuracy: 0.6125\n",
      "Epoch 2/20\n",
      "24/24 [==============================] - 1s 23ms/step - loss: 2.7298 - accuracy: 0.7842 - val_loss: 2.7599 - val_accuracy: 0.6500\n",
      "Epoch 3/20\n",
      "24/24 [==============================] - 1s 22ms/step - loss: 2.3830 - accuracy: 0.8868 - val_loss: 2.5345 - val_accuracy: 0.6625\n",
      "Epoch 4/20\n",
      "24/24 [==============================] - 1s 24ms/step - loss: 2.1080 - accuracy: 0.9237 - val_loss: 2.3311 - val_accuracy: 0.6875\n",
      "Epoch 5/20\n",
      "24/24 [==============================] - 1s 24ms/step - loss: 1.8890 - accuracy: 0.9289 - val_loss: 2.1644 - val_accuracy: 0.7000\n",
      "Epoch 6/20\n",
      "24/24 [==============================] - 1s 22ms/step - loss: 1.6873 - accuracy: 0.9605 - val_loss: 1.9976 - val_accuracy: 0.6875\n",
      "Epoch 7/20\n",
      "24/24 [==============================] - 1s 22ms/step - loss: 1.5228 - accuracy: 0.9658 - val_loss: 1.8803 - val_accuracy: 0.6875\n",
      "Epoch 8/20\n",
      "24/24 [==============================] - 1s 22ms/step - loss: 1.3720 - accuracy: 0.9895 - val_loss: 1.7667 - val_accuracy: 0.7000\n",
      "Epoch 9/20\n",
      "24/24 [==============================] - 1s 22ms/step - loss: 1.2396 - accuracy: 0.9842 - val_loss: 1.6528 - val_accuracy: 0.6750\n",
      "Epoch 10/20\n",
      "24/24 [==============================] - 1s 22ms/step - loss: 1.1298 - accuracy: 0.9895 - val_loss: 1.5649 - val_accuracy: 0.6875\n",
      "Epoch 11/20\n",
      "24/24 [==============================] - 1s 22ms/step - loss: 1.0302 - accuracy: 0.9868 - val_loss: 1.4741 - val_accuracy: 0.6750\n",
      "Epoch 12/20\n",
      "24/24 [==============================] - 1s 23ms/step - loss: 0.9352 - accuracy: 0.9974 - val_loss: 1.3933 - val_accuracy: 0.6875\n",
      "Epoch 13/20\n",
      "24/24 [==============================] - 1s 22ms/step - loss: 0.8547 - accuracy: 0.9947 - val_loss: 1.3307 - val_accuracy: 0.6875\n",
      "Epoch 14/20\n",
      "24/24 [==============================] - 1s 23ms/step - loss: 0.7885 - accuracy: 0.9947 - val_loss: 1.2934 - val_accuracy: 0.6625\n",
      "Epoch 15/20\n",
      "24/24 [==============================] - 1s 22ms/step - loss: 0.7256 - accuracy: 0.9921 - val_loss: 1.2056 - val_accuracy: 0.6875\n",
      "Epoch 16/20\n",
      "24/24 [==============================] - 1s 22ms/step - loss: 0.6697 - accuracy: 1.0000 - val_loss: 1.1787 - val_accuracy: 0.6625\n",
      "Epoch 17/20\n",
      "24/24 [==============================] - 1s 22ms/step - loss: 0.6246 - accuracy: 0.9947 - val_loss: 1.1305 - val_accuracy: 0.6625\n",
      "Epoch 18/20\n",
      "24/24 [==============================] - 1s 22ms/step - loss: 0.5873 - accuracy: 0.9974 - val_loss: 1.0898 - val_accuracy: 0.6875\n",
      "Epoch 19/20\n",
      "24/24 [==============================] - 1s 22ms/step - loss: 0.5413 - accuracy: 0.9974 - val_loss: 1.0511 - val_accuracy: 0.6875\n",
      "Epoch 20/20\n",
      "24/24 [==============================] - 1s 22ms/step - loss: 0.5133 - accuracy: 0.9947 - val_loss: 1.0280 - val_accuracy: 0.6875\n"
     ]
    }
   ],
   "source": [
    "es = EarlyStopping(monitor=\"val_loss\", \n",
    "                   patience=4,\n",
    "                   verbose=0,\n",
    "                   restore_best_weights=True)\n",
    "\n",
    "tf.config.run_functions_eagerly(True)\n",
    "history = model.fit(X_train_resampled,\n",
    "                    y_train_resampled,\n",
    "                    validation_data=[X_val_scaled, y_val_final],\n",
    "                    batch_size=16,\n",
    "                    epochs=20)"
   ]
  },
  {
   "cell_type": "code",
   "execution_count": 18,
   "id": "b32860b3",
   "metadata": {},
   "outputs": [
    {
     "name": "stdout",
     "output_type": "stream",
     "text": [
      "If simply guessing all 0, can get this train accuracy: 0.5\n",
      "If simply guessing all 0, can get this val accuracy: 0.525\n",
      "If simply guessing all 0, can get this test accuracy: 0.63\n"
     ]
    }
   ],
   "source": [
    "print (\"If simply guessing all 0, can get this train accuracy:\", 1 - y_train_resampled.sum() / y_train_resampled.shape[0])\n",
    "print (\"If simply guessing all 0, can get this val accuracy:\", 1 - y_val_final.sum() / y_val_final.shape[0])\n",
    "print (\"If simply guessing all 0, can get this test accuracy:\", 1 - y_test_final.sum() / y_test_final.shape[0])"
   ]
  },
  {
   "cell_type": "code",
   "execution_count": 19,
   "id": "e2646629",
   "metadata": {},
   "outputs": [
    {
     "data": {
      "image/png": "[encoded data removed]",
      "text/plain": [
       "<Figure size 432x288 with 1 Axes>"
      ]
     },
     "metadata": {
      "needs_background": "light"
     },
     "output_type": "display_data"
    }
   ],
   "source": [
    "# Visualize loss curve\n",
    "\n",
    "losses = history.history[\"val_loss\"]\n",
    "plt.plot(losses)\n",
    "plt.xlabel(\"Training Step\")\n",
    "plt.ylabel(\"Loss\")\n",
    "plt.title(\"Validation Loss\")\n",
    "plt.show()"
   ]
  },
  {
   "cell_type": "code",
   "execution_count": 20,
   "id": "67e0f72e",
   "metadata": {},
   "outputs": [
    {
     "data": {
      "image/png": "[encoded data removed]",
      "text/plain": [
       "<Figure size 432x288 with 1 Axes>"
      ]
     },
     "metadata": {
      "needs_background": "light"
     },
     "output_type": "display_data"
    }
   ],
   "source": [
    "# Visualize accuracy curve\n",
    "\n",
    "losses = history.history[\"val_accuracy\"]\n",
    "plt.plot(losses)\n",
    "plt.xlabel(\"Training Step\")\n",
    "plt.ylabel(\"Accuracy\")\n",
    "plt.title(\"Validation Accuracy\")\n",
    "plt.show()"
   ]
  },
  {
   "cell_type": "code",
   "execution_count": 21,
   "id": "4a86d3d2",
   "metadata": {},
   "outputs": [
    {
     "name": "stdout",
     "output_type": "stream",
     "text": [
      "4/4 [==============================] - 0s 5ms/step\n",
      "Precision: 0.5789473684210527\n",
      "Recall: 0.5945945945945946\n",
      "F1: 0.5866666666666667\n"
     ]
    }
   ],
   "source": [
    "preds = model.predict(X_test_scaled)\n",
    "preds = [1 if preds[i][0] >=0.5 else 0 for i in range(len(preds))]\n",
    "\n",
    "tp = 0\n",
    "fp = 0\n",
    "fn = 0\n",
    "\n",
    "for i in range(len(preds)):\n",
    "    if preds[i] == 1 and y_test_final[i] == 1:\n",
    "        tp += 1\n",
    "    elif preds[i] == 1 and y_test_final[i] == 0:\n",
    "        fp += 1\n",
    "    elif preds[i] == 0 and y_test_final[i] == 1:\n",
    "        fn += 1\n",
    "\n",
    "prec = tp / (tp + fp)\n",
    "rec = tp / (tp + fn)\n",
    "f1 = (2 * prec * rec) / (prec + rec)\n",
    "\n",
    "print (f'Precision: {prec}')\n",
    "print (f'Recall: {rec}')\n",
    "print (f'F1: {f1}')"
   ]
  },
  {
   "cell_type": "code",
   "execution_count": 22,
   "id": "524bd0be",
   "metadata": {},
   "outputs": [
    {
     "name": "stdout",
     "output_type": "stream",
     "text": [
      "              precision    recall  f1-score   support\n",
      "\n",
      "           0       0.76      0.75      0.75        63\n",
      "           1       0.58      0.59      0.59        37\n",
      "\n",
      "    accuracy                           0.69       100\n",
      "   macro avg       0.67      0.67      0.67       100\n",
      "weighted avg       0.69      0.69      0.69       100\n",
      "\n"
     ]
    }
   ],
   "source": [
    "print (classification_report(y_test_final, preds))"
   ]
  },
  {
   "cell_type": "markdown",
   "id": "e2f02093",
   "metadata": {},
   "source": [
    "## K-fold Cross-Validation"
   ]
  },
  {
   "cell_type": "code",
   "execution_count": 23,
   "id": "883f485f",
   "metadata": {},
   "outputs": [
    {
     "name": "stdout",
     "output_type": "stream",
     "text": [
      "Epoch 1/15\n",
      " 4/10 [===========>..................] - ETA: 0s - loss: 3.4351 - accuracy: 0.5000"
     ]
    },
    {
     "name": "stderr",
     "output_type": "stream",
     "text": [
      "/Users/johngalvin/miniforge3/lib/python3.9/site-packages/tensorflow/python/data/ops/structured_function.py:256: UserWarning: Even though the `tf.config.experimental_run_functions_eagerly` option is set, this option does not apply to tf.data functions. To force eager execution of tf.data functions, please use `tf.data.experimental.enable_debug_mode()`.\n",
      "  warnings.warn(\n",
      "/Users/johngalvin/miniforge3/lib/python3.9/site-packages/keras/backend.py:5676: UserWarning: \"`binary_crossentropy` received `from_logits=True`, but the `output` argument was produced by a Sigmoid activation and thus does not represent logits. Was this intended?\n",
      "  output, from_logits = _get_logits(\n"
     ]
    },
    {
     "name": "stdout",
     "output_type": "stream",
     "text": [
      "10/10 [==============================] - 0s 28ms/step - loss: 3.3340 - accuracy: 0.5493 - val_loss: 3.2094 - val_accuracy: 0.5000\n",
      "Epoch 2/15\n",
      "10/10 [==============================] - 0s 25ms/step - loss: 3.0044 - accuracy: 0.7204 - val_loss: 3.0153 - val_accuracy: 0.6316\n",
      "Epoch 3/15\n",
      "10/10 [==============================] - 0s 25ms/step - loss: 2.7629 - accuracy: 0.8322 - val_loss: 2.8538 - val_accuracy: 0.7105\n",
      "Epoch 4/15\n",
      "10/10 [==============================] - 0s 28ms/step - loss: 2.5822 - accuracy: 0.8947 - val_loss: 2.7226 - val_accuracy: 0.6711\n",
      "Epoch 5/15\n",
      "10/10 [==============================] - 0s 25ms/step - loss: 2.4116 - accuracy: 0.9145 - val_loss: 2.5849 - val_accuracy: 0.7368\n",
      "Epoch 6/15\n",
      "10/10 [==============================] - 0s 25ms/step - loss: 2.2535 - accuracy: 0.9375 - val_loss: 2.4634 - val_accuracy: 0.7237\n",
      "Epoch 7/15\n",
      "10/10 [==============================] - 0s 25ms/step - loss: 2.1190 - accuracy: 0.9605 - val_loss: 2.3504 - val_accuracy: 0.7237\n",
      "Epoch 8/15\n",
      "10/10 [==============================] - 0s 25ms/step - loss: 1.9944 - accuracy: 0.9507 - val_loss: 2.2440 - val_accuracy: 0.7368\n",
      "Epoch 9/15\n",
      "10/10 [==============================] - 0s 25ms/step - loss: 1.8721 - accuracy: 0.9737 - val_loss: 2.1468 - val_accuracy: 0.7368\n",
      "Epoch 10/15\n",
      "10/10 [==============================] - 0s 26ms/step - loss: 1.7483 - accuracy: 0.9836 - val_loss: 2.0554 - val_accuracy: 0.7368\n",
      "Epoch 11/15\n",
      "10/10 [==============================] - 0s 25ms/step - loss: 1.6361 - accuracy: 0.9901 - val_loss: 1.9616 - val_accuracy: 0.7237\n",
      "Epoch 12/15\n",
      "10/10 [==============================] - 0s 25ms/step - loss: 1.5518 - accuracy: 0.9868 - val_loss: 1.8758 - val_accuracy: 0.7500\n",
      "Epoch 13/15\n",
      "10/10 [==============================] - 0s 25ms/step - loss: 1.4486 - accuracy: 0.9901 - val_loss: 1.7935 - val_accuracy: 0.7500\n",
      "Epoch 14/15\n",
      "10/10 [==============================] - 0s 25ms/step - loss: 1.3691 - accuracy: 0.9836 - val_loss: 1.7244 - val_accuracy: 0.7500\n",
      "Epoch 15/15\n",
      "10/10 [==============================] - 0s 24ms/step - loss: 1.2851 - accuracy: 1.0000 - val_loss: 1.6532 - val_accuracy: 0.7500\n",
      "Score for fold 1: loss of 1.747252106666565; accuracy of 59.99999642372131%\n",
      "Epoch 1/15\n",
      "10/10 [==============================] - 0s 26ms/step - loss: 3.2832 - accuracy: 0.5691 - val_loss: 3.1271 - val_accuracy: 0.6579\n",
      "Epoch 2/15\n",
      "10/10 [==============================] - 0s 25ms/step - loss: 2.9548 - accuracy: 0.7533 - val_loss: 2.9882 - val_accuracy: 0.6316\n",
      "Epoch 3/15\n",
      "10/10 [==============================] - 0s 25ms/step - loss: 2.7160 - accuracy: 0.8487 - val_loss: 2.8373 - val_accuracy: 0.6842\n",
      "Epoch 4/15\n",
      "10/10 [==============================] - 0s 27ms/step - loss: 2.5345 - accuracy: 0.8914 - val_loss: 2.6966 - val_accuracy: 0.7105\n",
      "Epoch 5/15\n",
      "10/10 [==============================] - 0s 27ms/step - loss: 2.3594 - accuracy: 0.9013 - val_loss: 2.5730 - val_accuracy: 0.6974\n",
      "Epoch 6/15\n",
      "10/10 [==============================] - 0s 29ms/step - loss: 2.2015 - accuracy: 0.9342 - val_loss: 2.4572 - val_accuracy: 0.6842\n",
      "Epoch 7/15\n",
      "10/10 [==============================] - 0s 26ms/step - loss: 2.0494 - accuracy: 0.9770 - val_loss: 2.3570 - val_accuracy: 0.7105\n",
      "Epoch 8/15\n",
      "10/10 [==============================] - 0s 25ms/step - loss: 1.9403 - accuracy: 0.9605 - val_loss: 2.2464 - val_accuracy: 0.7105\n",
      "Epoch 9/15\n",
      "10/10 [==============================] - 0s 27ms/step - loss: 1.8177 - accuracy: 0.9605 - val_loss: 2.1509 - val_accuracy: 0.7105\n",
      "Epoch 10/15\n",
      "10/10 [==============================] - 0s 26ms/step - loss: 1.6869 - accuracy: 0.9803 - val_loss: 2.0579 - val_accuracy: 0.6974\n",
      "Epoch 11/15\n",
      "10/10 [==============================] - 0s 25ms/step - loss: 1.5812 - accuracy: 0.9868 - val_loss: 1.9712 - val_accuracy: 0.6974\n",
      "Epoch 12/15\n",
      "10/10 [==============================] - 0s 26ms/step - loss: 1.4775 - accuracy: 0.9868 - val_loss: 1.8826 - val_accuracy: 0.6974\n",
      "Epoch 13/15\n",
      "10/10 [==============================] - 0s 27ms/step - loss: 1.3873 - accuracy: 1.0000 - val_loss: 1.8052 - val_accuracy: 0.6974\n",
      "Epoch 14/15\n",
      "10/10 [==============================] - 0s 27ms/step - loss: 1.3058 - accuracy: 0.9868 - val_loss: 1.7337 - val_accuracy: 0.6974\n",
      "Epoch 15/15\n",
      "10/10 [==============================] - 0s 26ms/step - loss: 1.2243 - accuracy: 0.9934 - val_loss: 1.6648 - val_accuracy: 0.6842\n",
      "Score for fold 2: loss of 1.6600393056869507; accuracy of 63.999998569488525%\n",
      "Epoch 1/15\n",
      "10/10 [==============================] - 0s 27ms/step - loss: 3.3201 - accuracy: 0.5559 - val_loss: 3.0858 - val_accuracy: 0.6974\n",
      "Epoch 2/15\n",
      "10/10 [==============================] - 0s 25ms/step - loss: 2.9831 - accuracy: 0.7138 - val_loss: 2.9218 - val_accuracy: 0.7632\n",
      "Epoch 3/15\n",
      "10/10 [==============================] - 0s 26ms/step - loss: 2.8098 - accuracy: 0.7993 - val_loss: 2.7687 - val_accuracy: 0.7763\n",
      "Epoch 4/15\n",
      "10/10 [==============================] - 0s 25ms/step - loss: 2.5895 - accuracy: 0.8882 - val_loss: 2.6178 - val_accuracy: 0.7763\n",
      "Epoch 5/15\n",
      "10/10 [==============================] - 0s 25ms/step - loss: 2.4229 - accuracy: 0.9079 - val_loss: 2.4880 - val_accuracy: 0.7895\n",
      "Epoch 6/15\n",
      "10/10 [==============================] - 0s 25ms/step - loss: 2.2717 - accuracy: 0.9112 - val_loss: 2.3726 - val_accuracy: 0.7895\n",
      "Epoch 7/15\n",
      "10/10 [==============================] - 0s 25ms/step - loss: 2.1221 - accuracy: 0.9474 - val_loss: 2.2573 - val_accuracy: 0.8026\n",
      "Epoch 8/15\n",
      "10/10 [==============================] - 0s 25ms/step - loss: 1.9953 - accuracy: 0.9605 - val_loss: 2.1457 - val_accuracy: 0.8026\n",
      "Epoch 9/15\n",
      "10/10 [==============================] - 0s 25ms/step - loss: 1.8743 - accuracy: 0.9671 - val_loss: 2.0449 - val_accuracy: 0.8158\n",
      "Epoch 10/15\n",
      "10/10 [==============================] - 0s 25ms/step - loss: 1.7673 - accuracy: 0.9737 - val_loss: 1.9415 - val_accuracy: 0.8289\n",
      "Epoch 11/15\n",
      "10/10 [==============================] - 0s 25ms/step - loss: 1.6563 - accuracy: 0.9836 - val_loss: 1.8518 - val_accuracy: 0.8158\n",
      "Epoch 12/15\n",
      "10/10 [==============================] - 0s 25ms/step - loss: 1.5516 - accuracy: 0.9934 - val_loss: 1.7667 - val_accuracy: 0.8158\n",
      "Epoch 13/15\n",
      "10/10 [==============================] - 0s 25ms/step - loss: 1.4650 - accuracy: 0.9901 - val_loss: 1.6859 - val_accuracy: 0.8026\n",
      "Epoch 14/15\n",
      "10/10 [==============================] - 0s 25ms/step - loss: 1.3770 - accuracy: 0.9901 - val_loss: 1.6143 - val_accuracy: 0.8026\n",
      "Epoch 15/15\n",
      "10/10 [==============================] - 0s 25ms/step - loss: 1.2902 - accuracy: 0.9934 - val_loss: 1.5463 - val_accuracy: 0.8026\n",
      "Score for fold 3: loss of 1.7403703927993774; accuracy of 68.00000071525574%\n",
      "Epoch 1/15\n",
      "10/10 [==============================] - 0s 26ms/step - loss: 3.3796 - accuracy: 0.5428 - val_loss: 3.2277 - val_accuracy: 0.5263\n",
      "Epoch 2/15\n",
      "10/10 [==============================] - 0s 25ms/step - loss: 3.0077 - accuracy: 0.7237 - val_loss: 3.0384 - val_accuracy: 0.6974\n",
      "Epoch 3/15\n",
      "10/10 [==============================] - 0s 25ms/step - loss: 2.7883 - accuracy: 0.8257 - val_loss: 2.8948 - val_accuracy: 0.7237\n",
      "Epoch 4/15\n",
      "10/10 [==============================] - 0s 25ms/step - loss: 2.5960 - accuracy: 0.8882 - val_loss: 2.7638 - val_accuracy: 0.7895\n",
      "Epoch 5/15\n",
      "10/10 [==============================] - 0s 25ms/step - loss: 2.4371 - accuracy: 0.9112 - val_loss: 2.6305 - val_accuracy: 0.7763\n",
      "Epoch 6/15\n",
      "10/10 [==============================] - 0s 25ms/step - loss: 2.2658 - accuracy: 0.9474 - val_loss: 2.5218 - val_accuracy: 0.7763\n",
      "Epoch 7/15\n",
      "10/10 [==============================] - 0s 25ms/step - loss: 2.1497 - accuracy: 0.9243 - val_loss: 2.4096 - val_accuracy: 0.7763\n",
      "Epoch 8/15\n",
      "10/10 [==============================] - 0s 25ms/step - loss: 2.0269 - accuracy: 0.9539 - val_loss: 2.2931 - val_accuracy: 0.7763\n",
      "Epoch 9/15\n",
      "10/10 [==============================] - 0s 25ms/step - loss: 1.9014 - accuracy: 0.9638 - val_loss: 2.1975 - val_accuracy: 0.7895\n",
      "Epoch 10/15\n",
      "10/10 [==============================] - 0s 25ms/step - loss: 1.7868 - accuracy: 0.9671 - val_loss: 2.1000 - val_accuracy: 0.7763\n",
      "Epoch 11/15\n",
      "10/10 [==============================] - 0s 25ms/step - loss: 1.6758 - accuracy: 0.9704 - val_loss: 2.0084 - val_accuracy: 0.8026\n",
      "Epoch 12/15\n",
      "10/10 [==============================] - 0s 25ms/step - loss: 1.5680 - accuracy: 0.9868 - val_loss: 1.9252 - val_accuracy: 0.7632\n",
      "Epoch 13/15\n",
      "10/10 [==============================] - 0s 25ms/step - loss: 1.4861 - accuracy: 0.9836 - val_loss: 1.8428 - val_accuracy: 0.7763\n",
      "Epoch 14/15\n",
      "10/10 [==============================] - 0s 24ms/step - loss: 1.3973 - accuracy: 0.9967 - val_loss: 1.7801 - val_accuracy: 0.7763\n",
      "Epoch 15/15\n",
      "10/10 [==============================] - 0s 24ms/step - loss: 1.3178 - accuracy: 0.9901 - val_loss: 1.7010 - val_accuracy: 0.7763\n",
      "Score for fold 4: loss of 1.7557291984558105; accuracy of 71.99999690055847%\n",
      "Epoch 1/15\n",
      "10/10 [==============================] - 0s 25ms/step - loss: 3.3403 - accuracy: 0.5428 - val_loss: 3.1434 - val_accuracy: 0.6053\n",
      "Epoch 2/15\n",
      "10/10 [==============================] - 0s 24ms/step - loss: 2.9944 - accuracy: 0.7467 - val_loss: 2.9713 - val_accuracy: 0.6974\n",
      "Epoch 3/15\n",
      "10/10 [==============================] - 0s 24ms/step - loss: 2.7806 - accuracy: 0.8421 - val_loss: 2.8139 - val_accuracy: 0.7237\n",
      "Epoch 4/15\n",
      "10/10 [==============================] - 0s 24ms/step - loss: 2.5770 - accuracy: 0.8717 - val_loss: 2.6606 - val_accuracy: 0.7500\n",
      "Epoch 5/15\n",
      "10/10 [==============================] - 0s 24ms/step - loss: 2.4230 - accuracy: 0.9046 - val_loss: 2.5362 - val_accuracy: 0.7500\n",
      "Epoch 6/15\n",
      "10/10 [==============================] - 0s 24ms/step - loss: 2.2553 - accuracy: 0.9342 - val_loss: 2.4040 - val_accuracy: 0.7895\n",
      "Epoch 7/15\n",
      "10/10 [==============================] - 0s 25ms/step - loss: 2.1224 - accuracy: 0.9309 - val_loss: 2.2878 - val_accuracy: 0.7895\n",
      "Epoch 8/15\n",
      "10/10 [==============================] - 0s 24ms/step - loss: 1.9926 - accuracy: 0.9474 - val_loss: 2.1854 - val_accuracy: 0.7895\n",
      "Epoch 9/15\n",
      "10/10 [==============================] - 0s 24ms/step - loss: 1.8623 - accuracy: 0.9704 - val_loss: 2.0844 - val_accuracy: 0.8026\n",
      "Epoch 10/15\n",
      "10/10 [==============================] - 0s 24ms/step - loss: 1.7524 - accuracy: 0.9638 - val_loss: 1.9808 - val_accuracy: 0.8158\n",
      "Epoch 11/15\n",
      "10/10 [==============================] - 0s 24ms/step - loss: 1.6300 - accuracy: 0.9836 - val_loss: 1.8882 - val_accuracy: 0.8026\n",
      "Epoch 12/15\n",
      "10/10 [==============================] - 0s 24ms/step - loss: 1.5389 - accuracy: 0.9868 - val_loss: 1.8073 - val_accuracy: 0.7763\n",
      "Epoch 13/15\n",
      "10/10 [==============================] - 0s 24ms/step - loss: 1.4435 - accuracy: 0.9934 - val_loss: 1.7268 - val_accuracy: 0.7632\n",
      "Epoch 14/15\n",
      "10/10 [==============================] - 0s 25ms/step - loss: 1.3595 - accuracy: 0.9901 - val_loss: 1.6546 - val_accuracy: 0.8026\n",
      "Epoch 15/15\n",
      "10/10 [==============================] - 0s 24ms/step - loss: 1.2779 - accuracy: 0.9901 - val_loss: 1.5825 - val_accuracy: 0.8158\n",
      "Score for fold 5: loss of 1.6648216247558594; accuracy of 66.99999570846558%\n",
      "------------------------------------------------------------------------\n",
      "Average scores for all folds:\n",
      "> Accuracy: 66.19999766349792 (+- 4.019950507035283)\n",
      "> Loss: 1.7136425256729126\n",
      "------------------------------------------------------------------------\n"
     ]
    }
   ],
   "source": [
    "# Initialize kf\n",
    "num_folds = 5\n",
    "kf = StratifiedKFold(n_splits=num_folds, shuffle=True, random_state=42)\n",
    "\n",
    "# Train\n",
    "acc_per_fold = []\n",
    "loss_per_fold = []\n",
    "\n",
    "fold_no = 1\n",
    "for train, val in kf.split(X_train_resampled, y_train_resampled):\n",
    "    model = create_model()\n",
    "    \n",
    "    history = model.fit(X_train_resampled[train], \n",
    "                        y_train_resampled[train], \n",
    "                        epochs=15, \n",
    "                        batch_size=32, \n",
    "                        validation_data=(X_train_resampled[val], y_train_resampled[val]))\n",
    "    \n",
    "    # Generate generalization metrics\n",
    "    scores = model.evaluate(X_test_scaled, y_test_final, verbose=0)\n",
    "    print(f'Score for fold {fold_no}: {model.metrics_names[0]} of {scores[0]}; {model.metrics_names[1]} of {scores[1]*100}%')\n",
    "    \n",
    "    acc_per_fold.append(scores[1] * 100)\n",
    "    loss_per_fold.append(scores[0])\n",
    "    fold_no += 1\n",
    "\n",
    "# Print average metrics\n",
    "print('------------------------------------------------------------------------')\n",
    "print('Average scores for all folds:')\n",
    "print(f'> Accuracy: {np.mean(acc_per_fold)} (+- {np.std(acc_per_fold)})')\n",
    "print(f'> Loss: {np.mean(loss_per_fold)}')\n",
    "print('------------------------------------------------------------------------')"
   ]
  },
  {
   "cell_type": "markdown",
   "id": "7f694505",
   "metadata": {},
   "source": [
    "# NN, Image-only\n",
    "\n",
    "Run all PCA cells, then these"
   ]
  },
  {
   "cell_type": "code",
   "execution_count": 10,
   "id": "c492f5e5",
   "metadata": {},
   "outputs": [],
   "source": [
    "# Read in med/famhist\n",
    "mf_hist = pd.read_csv('../data/clinical_training_data.csv')\n",
    "\n",
    "# Join with img_df\n",
    "df = pd.merge(mf_hist, img_df, on=\"PTID\", how=\"inner\")\n",
    "\n",
    "# For converting categorical variables to ints\n",
    "label_encoder = LabelEncoder()\n",
    "scaler = MinMaxScaler()\n",
    "\n",
    "# Split features / target\n",
    "X = df.drop(columns=['PTID',\n",
    "                     'Diagnosis_at_Baseline',\n",
    "                     'Age',\n",
    "                     'Gender',\n",
    "                     'Years_of_Education',\n",
    "                     'Ethnicity',\n",
    "                     'Race',\n",
    "                     'APOE4',\n",
    "                     'MMSE',\n",
    "                     'AD_dx_in_5_yrs', \n",
    "                     'AD_dx_in_any_time', \n",
    "                     'AD_dx_in_15_yrs',\n",
    "                     'AD_dx_in_10_yrs', \n",
    "                     'AD_dx_in_4_yrs', \n",
    "                     'AD_dx_in_3_yrs',\n",
    "                     'AD_dx_in_2_yrs', \n",
    "                     'AD_dx_in_1_yr'])\n",
    "y = df['AD_dx_in_10_yrs']\n",
    "\n",
    "# Split data\n",
    "X_train, X_test, y_train, y_test = train_test_split(X, y, test_size=0.2, random_state=42)\n",
    "X_train, X_val, y_train, y_val = train_test_split(X_train, y_train, test_size=0.2, random_state=42)"
   ]
  },
  {
   "cell_type": "code",
   "execution_count": 11,
   "id": "ab47810b",
   "metadata": {},
   "outputs": [],
   "source": [
    "# Scale data\n",
    "scaler = StandardScaler()\n",
    "X_train_scaled = scaler.fit_transform(X_train)\n",
    "X_val_scaled = scaler.transform(X_val)\n",
    "X_test_scaled = scaler.transform(X_test)"
   ]
  },
  {
   "cell_type": "code",
   "execution_count": 12,
   "id": "4544293e",
   "metadata": {},
   "outputs": [],
   "source": [
    "# Reorder labels (order changed when forming unscaled_mri_df)\n",
    "y_train_final = []\n",
    "for val in X_train.index.values:\n",
    "    y_train_final.append(df.loc[df.index == val, \"AD_dx_in_10_yrs\"].values[0])\n",
    "y_train_final = np.array(y_train_final)\n",
    "\n",
    "y_val_final = []\n",
    "for val in X_val.index.values:\n",
    "    y_val_final.append(df.loc[df.index == val, \"AD_dx_in_10_yrs\"].values[0])\n",
    "y_val_final = np.array(y_val_final)\n",
    "\n",
    "y_test_final = []\n",
    "for val in X_test.index.values:\n",
    "    y_test_final.append(df.loc[df.index == val, \"AD_dx_in_10_yrs\"].values[0])\n",
    "y_test_final = np.array(y_test_final)"
   ]
  },
  {
   "cell_type": "code",
   "execution_count": 13,
   "id": "672ddcb0",
   "metadata": {},
   "outputs": [],
   "source": [
    "# Oversample\n",
    "ros = RandomOverSampler(random_state=42)\n",
    "X_train_resampled, y_train_resampled = ros.fit_resample(X_train_scaled, y_train_final)"
   ]
  },
  {
   "cell_type": "code",
   "execution_count": 14,
   "id": "c8d408d3",
   "metadata": {},
   "outputs": [],
   "source": [
    "IN_FEATURES = X_train_scaled[0].shape[0]"
   ]
  },
  {
   "cell_type": "code",
   "execution_count": 15,
   "id": "e2716cbf",
   "metadata": {},
   "outputs": [],
   "source": [
    "def create_model(dropout=0.3, learning_rate=0.001, l1_penalty=0.001, l2_penalty=0.001):\n",
    "    \"\"\"Builds classification model\"\"\"\n",
    "    \n",
    "    model = tf.keras.Sequential()\n",
    "    inputs = tf.keras.layers.Input(shape=(IN_FEATURES,), name=\"input_layer\") # (Batch, num_features)\n",
    "    \n",
    "    hidden_1 = tf.keras.layers.Dense(256, activation=\"relu\", kernel_regularizer=tf.keras.regularizers.L1L2(l1=l1_penalty, l2=l2_penalty), name=\"hidden_1\")(inputs)\n",
    "    hidden_1 = tf.keras.layers.Dropout(dropout)(hidden_1)\n",
    "    hidden_2 = tf.keras.layers.Dense(128, activation=\"relu\", kernel_regularizer=tf.keras.regularizers.L1L2(l1=l1_penalty, l2=l2_penalty), name=\"hidden_2\")(hidden_1)\n",
    "    hidden_2 = tf.keras.layers.Dropout(dropout)(hidden_2)\n",
    "    \n",
    "    classification = tf.keras.layers.Dense(1, activation=\"sigmoid\", name=\"classification_layer\")(hidden_1)\n",
    "    classification_model = tf.keras.Model(inputs=[inputs], outputs=[classification])\n",
    "    \n",
    "    classification_model.compile(optimizer=tf.keras.optimizers.Adam(learning_rate=learning_rate),\n",
    "                                 loss=tf.keras.losses.BinaryCrossentropy(from_logits=True), \n",
    "                                 metrics=\"accuracy\")\n",
    "\n",
    "    return classification_model"
   ]
  },
  {
   "cell_type": "code",
   "execution_count": 16,
   "id": "52f954b5",
   "metadata": {},
   "outputs": [
    {
     "name": "stdout",
     "output_type": "stream",
     "text": [
      "Metal device set to: Apple M2 Pro\n"
     ]
    },
    {
     "name": "stderr",
     "output_type": "stream",
     "text": [
      "2023-10-17 15:13:19.654668: I tensorflow/core/common_runtime/pluggable_device/pluggable_device_factory.cc:306] Could not identify NUMA node of platform GPU ID 0, defaulting to 0. Your kernel may not have been built with NUMA support.\n",
      "2023-10-17 15:13:19.654757: I tensorflow/core/common_runtime/pluggable_device/pluggable_device_factory.cc:272] Created TensorFlow device (/job:localhost/replica:0/task:0/device:GPU:0 with 0 MB memory) -> physical PluggableDevice (device: 0, name: METAL, pci bus id: <undefined>)\n"
     ]
    }
   ],
   "source": [
    "model = create_model()"
   ]
  },
  {
   "cell_type": "code",
   "execution_count": 17,
   "id": "58f23267",
   "metadata": {},
   "outputs": [
    {
     "name": "stdout",
     "output_type": "stream",
     "text": [
      "Epoch 1/20\n"
     ]
    },
    {
     "name": "stderr",
     "output_type": "stream",
     "text": [
      "/Users/johngalvin/miniforge3/lib/python3.9/site-packages/tensorflow/python/data/ops/structured_function.py:256: UserWarning: Even though the `tf.config.experimental_run_functions_eagerly` option is set, this option does not apply to tf.data functions. To force eager execution of tf.data functions, please use `tf.data.experimental.enable_debug_mode()`.\n",
      "  warnings.warn(\n",
      "2023-10-17 15:13:21.072403: W tensorflow/tsl/platform/profile_utils/cpu_utils.cc:128] Failed to get CPU frequency: 0 Hz\n",
      "/Users/johngalvin/miniforge3/lib/python3.9/site-packages/keras/backend.py:5676: UserWarning: \"`binary_crossentropy` received `from_logits=True`, but the `output` argument was produced by a Sigmoid activation and thus does not represent logits. Was this intended?\n",
      "  output, from_logits = _get_logits(\n"
     ]
    },
    {
     "name": "stdout",
     "output_type": "stream",
     "text": [
      "24/24 [==============================] - 1s 25ms/step - loss: 3.1854 - accuracy: 0.5263 - val_loss: 3.0539 - val_accuracy: 0.5500\n",
      "Epoch 2/20\n",
      "24/24 [==============================] - 1s 23ms/step - loss: 2.7337 - accuracy: 0.7026 - val_loss: 2.8425 - val_accuracy: 0.5375\n",
      "Epoch 3/20\n",
      "24/24 [==============================] - 1s 23ms/step - loss: 2.4409 - accuracy: 0.8105 - val_loss: 2.6459 - val_accuracy: 0.5125\n",
      "Epoch 4/20\n",
      "24/24 [==============================] - 1s 25ms/step - loss: 2.1762 - accuracy: 0.8737 - val_loss: 2.4797 - val_accuracy: 0.5125\n",
      "Epoch 5/20\n",
      "24/24 [==============================] - 1s 23ms/step - loss: 1.9509 - accuracy: 0.9079 - val_loss: 2.3121 - val_accuracy: 0.5000\n",
      "Epoch 6/20\n",
      "24/24 [==============================] - 1s 22ms/step - loss: 1.7679 - accuracy: 0.9316 - val_loss: 2.1855 - val_accuracy: 0.5000\n",
      "Epoch 7/20\n",
      "24/24 [==============================] - 1s 23ms/step - loss: 1.6114 - accuracy: 0.9289 - val_loss: 2.0574 - val_accuracy: 0.4875\n",
      "Epoch 8/20\n",
      "24/24 [==============================] - 1s 23ms/step - loss: 1.4601 - accuracy: 0.9579 - val_loss: 1.9804 - val_accuracy: 0.5000\n",
      "Epoch 9/20\n",
      "24/24 [==============================] - 1s 22ms/step - loss: 1.3482 - accuracy: 0.9632 - val_loss: 1.8745 - val_accuracy: 0.5125\n",
      "Epoch 10/20\n",
      "24/24 [==============================] - 1s 22ms/step - loss: 1.2234 - accuracy: 0.9763 - val_loss: 1.7887 - val_accuracy: 0.5375\n",
      "Epoch 11/20\n",
      "24/24 [==============================] - 1s 22ms/step - loss: 1.1329 - accuracy: 0.9711 - val_loss: 1.6973 - val_accuracy: 0.5250\n",
      "Epoch 12/20\n",
      "24/24 [==============================] - 1s 22ms/step - loss: 1.0409 - accuracy: 0.9921 - val_loss: 1.6437 - val_accuracy: 0.5000\n",
      "Epoch 13/20\n",
      "24/24 [==============================] - 1s 22ms/step - loss: 0.9626 - accuracy: 0.9895 - val_loss: 1.5778 - val_accuracy: 0.5125\n",
      "Epoch 14/20\n",
      "24/24 [==============================] - 1s 22ms/step - loss: 0.8897 - accuracy: 0.9947 - val_loss: 1.5223 - val_accuracy: 0.4875\n",
      "Epoch 15/20\n",
      "24/24 [==============================] - 1s 23ms/step - loss: 0.8328 - accuracy: 0.9816 - val_loss: 1.4718 - val_accuracy: 0.5000\n",
      "Epoch 16/20\n",
      "24/24 [==============================] - 1s 23ms/step - loss: 0.7863 - accuracy: 0.9895 - val_loss: 1.4437 - val_accuracy: 0.5125\n",
      "Epoch 17/20\n",
      "24/24 [==============================] - 1s 23ms/step - loss: 0.7237 - accuracy: 1.0000 - val_loss: 1.3984 - val_accuracy: 0.5125\n",
      "Epoch 18/20\n",
      "24/24 [==============================] - 1s 21ms/step - loss: 0.6909 - accuracy: 0.9895 - val_loss: 1.3368 - val_accuracy: 0.5250\n",
      "Epoch 19/20\n",
      "24/24 [==============================] - 1s 21ms/step - loss: 0.6477 - accuracy: 0.9974 - val_loss: 1.3391 - val_accuracy: 0.5250\n",
      "Epoch 20/20\n",
      "24/24 [==============================] - 1s 22ms/step - loss: 0.6050 - accuracy: 0.9947 - val_loss: 1.3039 - val_accuracy: 0.5250\n"
     ]
    }
   ],
   "source": [
    "es = EarlyStopping(monitor=\"val_loss\", \n",
    "                   patience=4,\n",
    "                   verbose=0,\n",
    "                   restore_best_weights=True)\n",
    "\n",
    "tf.config.run_functions_eagerly(True)\n",
    "history = model.fit(X_train_resampled,\n",
    "                    y_train_resampled,\n",
    "                    validation_data=[X_val_scaled, y_val_final],\n",
    "                    batch_size=16,\n",
    "                    epochs=20)"
   ]
  },
  {
   "cell_type": "code",
   "execution_count": 18,
   "id": "3a4e02bc",
   "metadata": {},
   "outputs": [
    {
     "name": "stdout",
     "output_type": "stream",
     "text": [
      "If simply guessing all 0, can get this train accuracy: 0.5\n",
      "If simply guessing all 0, can get this val accuracy: 0.525\n",
      "If simply guessing all 0, can get this test accuracy: 0.63\n"
     ]
    }
   ],
   "source": [
    "print (\"If simply guessing all 0, can get this train accuracy:\", 1 - y_train_resampled.sum() / y_train_resampled.shape[0])\n",
    "print (\"If simply guessing all 0, can get this val accuracy:\", 1 - y_val_final.sum() / y_val_final.shape[0])\n",
    "print (\"If simply guessing all 0, can get this test accuracy:\", 1 - y_test_final.sum() / y_test_final.shape[0])"
   ]
  },
  {
   "cell_type": "code",
   "execution_count": 19,
   "id": "6a91ab99",
   "metadata": {},
   "outputs": [
    {
     "data": {
      "image/png": "[encoded data removed]",
      "text/plain": [
       "<Figure size 432x288 with 1 Axes>"
      ]
     },
     "metadata": {
      "needs_background": "light"
     },
     "output_type": "display_data"
    }
   ],
   "source": [
    "# Visualize loss curve\n",
    "\n",
    "losses = history.history[\"val_loss\"]\n",
    "plt.plot(losses)\n",
    "plt.xlabel(\"Training Step\")\n",
    "plt.ylabel(\"Loss\")\n",
    "plt.title(\"Validation Loss\")\n",
    "plt.show()"
   ]
  },
  {
   "cell_type": "code",
   "execution_count": 20,
   "id": "f2ad21d5",
   "metadata": {},
   "outputs": [
    {
     "data": {
      "image/png": "[encoded data removed]",
      "text/plain": [
       "<Figure size 432x288 with 1 Axes>"
      ]
     },
     "metadata": {
      "needs_background": "light"
     },
     "output_type": "display_data"
    }
   ],
   "source": [
    "# Visualize accuracy curve\n",
    "\n",
    "losses = history.history[\"val_accuracy\"]\n",
    "plt.plot(losses)\n",
    "plt.xlabel(\"Training Step\")\n",
    "plt.ylabel(\"Accuracy\")\n",
    "plt.title(\"Validation Accuracy\")\n",
    "plt.show()"
   ]
  },
  {
   "cell_type": "code",
   "execution_count": 21,
   "id": "dec3dc41",
   "metadata": {},
   "outputs": [
    {
     "name": "stdout",
     "output_type": "stream",
     "text": [
      "4/4 [==============================] - 0s 6ms/step\n",
      "Precision: 0.4\n",
      "Recall: 0.4864864864864865\n",
      "F1: 0.43902439024390244\n"
     ]
    }
   ],
   "source": [
    "preds = model.predict(X_test_scaled)\n",
    "preds = [1 if preds[i][0] >=0.5 else 0 for i in range(len(preds))]\n",
    "\n",
    "tp = 0\n",
    "fp = 0\n",
    "fn = 0\n",
    "\n",
    "for i in range(len(preds)):\n",
    "    if preds[i] == 1 and y_test_final[i] == 1:\n",
    "        tp += 1\n",
    "    elif preds[i] == 1 and y_test_final[i] == 0:\n",
    "        fp += 1\n",
    "    elif preds[i] == 0 and y_test_final[i] == 1:\n",
    "        fn += 1\n",
    "\n",
    "prec = tp / (tp + fp)\n",
    "rec = tp / (tp + fn)\n",
    "f1 = (2 * prec * rec) / (prec + rec)\n",
    "\n",
    "print (f'Precision: {prec}')\n",
    "print (f'Recall: {rec}')\n",
    "print (f'F1: {f1}')"
   ]
  },
  {
   "cell_type": "code",
   "execution_count": 22,
   "id": "db8e3c6b",
   "metadata": {},
   "outputs": [
    {
     "name": "stdout",
     "output_type": "stream",
     "text": [
      "              precision    recall  f1-score   support\n",
      "\n",
      "           0       0.65      0.57      0.61        63\n",
      "           1       0.40      0.49      0.44        37\n",
      "\n",
      "    accuracy                           0.54       100\n",
      "   macro avg       0.53      0.53      0.52       100\n",
      "weighted avg       0.56      0.54      0.55       100\n",
      "\n"
     ]
    }
   ],
   "source": [
    "print (classification_report(y_test_final, preds))"
   ]
  },
  {
   "cell_type": "markdown",
   "id": "c2c655cb",
   "metadata": {},
   "source": [
    "## K-fold Cross-Validation"
   ]
  },
  {
   "cell_type": "code",
   "execution_count": 23,
   "id": "f39833b4",
   "metadata": {},
   "outputs": [
    {
     "name": "stdout",
     "output_type": "stream",
     "text": [
      "Epoch 1/15\n",
      " 4/10 [===========>..................] - ETA: 0s - loss: 3.2415 - accuracy: 0.5703"
     ]
    },
    {
     "name": "stderr",
     "output_type": "stream",
     "text": [
      "/Users/johngalvin/miniforge3/lib/python3.9/site-packages/tensorflow/python/data/ops/structured_function.py:256: UserWarning: Even though the `tf.config.experimental_run_functions_eagerly` option is set, this option does not apply to tf.data functions. To force eager execution of tf.data functions, please use `tf.data.experimental.enable_debug_mode()`.\n",
      "  warnings.warn(\n",
      "/Users/johngalvin/miniforge3/lib/python3.9/site-packages/keras/backend.py:5676: UserWarning: \"`binary_crossentropy` received `from_logits=True`, but the `output` argument was produced by a Sigmoid activation and thus does not represent logits. Was this intended?\n",
      "  output, from_logits = _get_logits(\n"
     ]
    },
    {
     "name": "stdout",
     "output_type": "stream",
     "text": [
      "10/10 [==============================] - 0s 28ms/step - loss: 3.2329 - accuracy: 0.5493 - val_loss: 3.0797 - val_accuracy: 0.6316\n",
      "Epoch 2/15\n",
      "10/10 [==============================] - 0s 25ms/step - loss: 2.9237 - accuracy: 0.7204 - val_loss: 2.9791 - val_accuracy: 0.6184\n",
      "Epoch 3/15\n",
      "10/10 [==============================] - 0s 27ms/step - loss: 2.7085 - accuracy: 0.8158 - val_loss: 2.8558 - val_accuracy: 0.6447\n",
      "Epoch 4/15\n",
      "10/10 [==============================] - 0s 25ms/step - loss: 2.5460 - accuracy: 0.8487 - val_loss: 2.7362 - val_accuracy: 0.6579\n",
      "Epoch 5/15\n",
      "10/10 [==============================] - 0s 25ms/step - loss: 2.3949 - accuracy: 0.8651 - val_loss: 2.6266 - val_accuracy: 0.6711\n",
      "Epoch 6/15\n",
      "10/10 [==============================] - 0s 25ms/step - loss: 2.2435 - accuracy: 0.9211 - val_loss: 2.5263 - val_accuracy: 0.6579\n",
      "Epoch 7/15\n",
      "10/10 [==============================] - 0s 25ms/step - loss: 2.1099 - accuracy: 0.9408 - val_loss: 2.4476 - val_accuracy: 0.6579\n",
      "Epoch 8/15\n",
      "10/10 [==============================] - 0s 25ms/step - loss: 1.9896 - accuracy: 0.9474 - val_loss: 2.3564 - val_accuracy: 0.6711\n",
      "Epoch 9/15\n",
      "10/10 [==============================] - 0s 28ms/step - loss: 1.8695 - accuracy: 0.9507 - val_loss: 2.2567 - val_accuracy: 0.6842\n",
      "Epoch 10/15\n",
      "10/10 [==============================] - 0s 24ms/step - loss: 1.7705 - accuracy: 0.9539 - val_loss: 2.1669 - val_accuracy: 0.6842\n",
      "Epoch 11/15\n",
      "10/10 [==============================] - 0s 26ms/step - loss: 1.6700 - accuracy: 0.9671 - val_loss: 2.0989 - val_accuracy: 0.7105\n",
      "Epoch 12/15\n",
      "10/10 [==============================] - 0s 26ms/step - loss: 1.5737 - accuracy: 0.9704 - val_loss: 2.0224 - val_accuracy: 0.6974\n",
      "Epoch 13/15\n",
      "10/10 [==============================] - 0s 24ms/step - loss: 1.4903 - accuracy: 0.9770 - val_loss: 1.9513 - val_accuracy: 0.6974\n",
      "Epoch 14/15\n",
      "10/10 [==============================] - 0s 24ms/step - loss: 1.4197 - accuracy: 0.9737 - val_loss: 1.8925 - val_accuracy: 0.6974\n",
      "Epoch 15/15\n",
      "10/10 [==============================] - 0s 24ms/step - loss: 1.3228 - accuracy: 0.9967 - val_loss: 1.8304 - val_accuracy: 0.7105\n",
      "Score for fold 1: loss of 1.9786301851272583; accuracy of 56.00000023841858%\n",
      "Epoch 1/15\n",
      "10/10 [==============================] - 0s 26ms/step - loss: 3.2115 - accuracy: 0.5658 - val_loss: 3.0682 - val_accuracy: 0.6316\n",
      "Epoch 2/15\n",
      "10/10 [==============================] - 0s 25ms/step - loss: 2.9507 - accuracy: 0.6941 - val_loss: 2.9424 - val_accuracy: 0.6447\n",
      "Epoch 3/15\n",
      "10/10 [==============================] - 0s 24ms/step - loss: 2.7160 - accuracy: 0.8257 - val_loss: 2.8315 - val_accuracy: 0.6579\n",
      "Epoch 4/15\n",
      "10/10 [==============================] - 0s 24ms/step - loss: 2.5890 - accuracy: 0.8257 - val_loss: 2.7383 - val_accuracy: 0.6579\n",
      "Epoch 5/15\n",
      "10/10 [==============================] - 0s 24ms/step - loss: 2.4120 - accuracy: 0.8849 - val_loss: 2.6221 - val_accuracy: 0.6579\n",
      "Epoch 6/15\n",
      "10/10 [==============================] - 0s 24ms/step - loss: 2.2554 - accuracy: 0.9243 - val_loss: 2.5226 - val_accuracy: 0.6842\n",
      "Epoch 7/15\n",
      "10/10 [==============================] - 0s 25ms/step - loss: 2.1386 - accuracy: 0.9342 - val_loss: 2.4228 - val_accuracy: 0.6842\n",
      "Epoch 8/15\n",
      "10/10 [==============================] - 0s 24ms/step - loss: 2.0126 - accuracy: 0.9309 - val_loss: 2.3229 - val_accuracy: 0.7105\n",
      "Epoch 9/15\n",
      "10/10 [==============================] - 0s 25ms/step - loss: 1.8926 - accuracy: 0.9572 - val_loss: 2.2424 - val_accuracy: 0.7105\n",
      "Epoch 10/15\n",
      "10/10 [==============================] - 0s 24ms/step - loss: 1.7882 - accuracy: 0.9507 - val_loss: 2.1627 - val_accuracy: 0.6974\n",
      "Epoch 11/15\n",
      "10/10 [==============================] - 0s 24ms/step - loss: 1.6854 - accuracy: 0.9704 - val_loss: 2.0840 - val_accuracy: 0.6974\n",
      "Epoch 12/15\n",
      "10/10 [==============================] - 0s 24ms/step - loss: 1.5944 - accuracy: 0.9737 - val_loss: 2.0140 - val_accuracy: 0.7105\n",
      "Epoch 13/15\n",
      "10/10 [==============================] - 0s 24ms/step - loss: 1.4984 - accuracy: 0.9934 - val_loss: 1.9390 - val_accuracy: 0.6842\n",
      "Epoch 14/15\n",
      "10/10 [==============================] - 0s 24ms/step - loss: 1.4142 - accuracy: 0.9967 - val_loss: 1.8739 - val_accuracy: 0.6974\n",
      "Epoch 15/15\n",
      "10/10 [==============================] - 0s 25ms/step - loss: 1.3434 - accuracy: 0.9934 - val_loss: 1.8189 - val_accuracy: 0.6974\n",
      "Score for fold 2: loss of 2.0024924278259277; accuracy of 53.999996185302734%\n",
      "Epoch 1/15\n",
      "10/10 [==============================] - 0s 25ms/step - loss: 3.2285 - accuracy: 0.5329 - val_loss: 3.0170 - val_accuracy: 0.6842\n",
      "Epoch 2/15\n",
      "10/10 [==============================] - 0s 24ms/step - loss: 2.9294 - accuracy: 0.6809 - val_loss: 2.8586 - val_accuracy: 0.7237\n",
      "Epoch 3/15\n",
      "10/10 [==============================] - 0s 24ms/step - loss: 2.7079 - accuracy: 0.7961 - val_loss: 2.7211 - val_accuracy: 0.7632\n",
      "Epoch 4/15\n",
      "10/10 [==============================] - 0s 24ms/step - loss: 2.5501 - accuracy: 0.8257 - val_loss: 2.6066 - val_accuracy: 0.7763\n",
      "Epoch 5/15\n",
      "10/10 [==============================] - 0s 24ms/step - loss: 2.4073 - accuracy: 0.8618 - val_loss: 2.4877 - val_accuracy: 0.7763\n",
      "Epoch 6/15\n",
      "10/10 [==============================] - 0s 24ms/step - loss: 2.2433 - accuracy: 0.9079 - val_loss: 2.3800 - val_accuracy: 0.7500\n",
      "Epoch 7/15\n",
      "10/10 [==============================] - 0s 24ms/step - loss: 2.1232 - accuracy: 0.8882 - val_loss: 2.2654 - val_accuracy: 0.7368\n",
      "Epoch 8/15\n",
      "10/10 [==============================] - 0s 26ms/step - loss: 2.0001 - accuracy: 0.9309 - val_loss: 2.1784 - val_accuracy: 0.7632\n",
      "Epoch 9/15\n",
      "10/10 [==============================] - 0s 24ms/step - loss: 1.8716 - accuracy: 0.9671 - val_loss: 2.0803 - val_accuracy: 0.7632\n",
      "Epoch 10/15\n",
      "10/10 [==============================] - 0s 24ms/step - loss: 1.7811 - accuracy: 0.9474 - val_loss: 1.9942 - val_accuracy: 0.7368\n",
      "Epoch 11/15\n",
      "10/10 [==============================] - 0s 27ms/step - loss: 1.6787 - accuracy: 0.9704 - val_loss: 1.9102 - val_accuracy: 0.7368\n",
      "Epoch 12/15\n",
      "10/10 [==============================] - 0s 28ms/step - loss: 1.5847 - accuracy: 0.9671 - val_loss: 1.8411 - val_accuracy: 0.7763\n",
      "Epoch 13/15\n",
      "10/10 [==============================] - 0s 24ms/step - loss: 1.4910 - accuracy: 0.9934 - val_loss: 1.7685 - val_accuracy: 0.7895\n",
      "Epoch 14/15\n",
      "10/10 [==============================] - 0s 24ms/step - loss: 1.4246 - accuracy: 0.9934 - val_loss: 1.7116 - val_accuracy: 0.7763\n",
      "Epoch 15/15\n",
      "10/10 [==============================] - 0s 24ms/step - loss: 1.3550 - accuracy: 0.9803 - val_loss: 1.6533 - val_accuracy: 0.7763\n",
      "Score for fold 3: loss of 1.9249509572982788; accuracy of 55.000001192092896%\n",
      "Epoch 1/15\n",
      "10/10 [==============================] - 0s 26ms/step - loss: 3.2259 - accuracy: 0.5428 - val_loss: 3.1042 - val_accuracy: 0.5921\n",
      "Epoch 2/15\n",
      "10/10 [==============================] - 0s 24ms/step - loss: 2.9178 - accuracy: 0.7270 - val_loss: 2.9609 - val_accuracy: 0.6184\n",
      "Epoch 3/15\n",
      "10/10 [==============================] - 0s 24ms/step - loss: 2.7226 - accuracy: 0.7895 - val_loss: 2.8203 - val_accuracy: 0.6579\n",
      "Epoch 4/15\n",
      "10/10 [==============================] - 0s 24ms/step - loss: 2.5471 - accuracy: 0.8224 - val_loss: 2.6895 - val_accuracy: 0.6711\n",
      "Epoch 5/15\n",
      "10/10 [==============================] - 0s 24ms/step - loss: 2.3758 - accuracy: 0.8914 - val_loss: 2.5656 - val_accuracy: 0.6842\n",
      "Epoch 6/15\n",
      "10/10 [==============================] - 0s 27ms/step - loss: 2.2545 - accuracy: 0.8914 - val_loss: 2.4558 - val_accuracy: 0.6711\n",
      "Epoch 7/15\n",
      "10/10 [==============================] - 0s 25ms/step - loss: 2.1099 - accuracy: 0.9145 - val_loss: 2.3551 - val_accuracy: 0.6711\n",
      "Epoch 8/15\n",
      "10/10 [==============================] - 0s 29ms/step - loss: 1.9713 - accuracy: 0.9342 - val_loss: 2.2416 - val_accuracy: 0.6842\n",
      "Epoch 9/15\n",
      "10/10 [==============================] - 0s 25ms/step - loss: 1.8577 - accuracy: 0.9474 - val_loss: 2.1399 - val_accuracy: 0.6974\n",
      "Epoch 10/15\n",
      "10/10 [==============================] - 0s 26ms/step - loss: 1.7711 - accuracy: 0.9309 - val_loss: 2.0509 - val_accuracy: 0.7105\n",
      "Epoch 11/15\n",
      "10/10 [==============================] - 0s 27ms/step - loss: 1.6566 - accuracy: 0.9704 - val_loss: 1.9684 - val_accuracy: 0.6974\n",
      "Epoch 12/15\n",
      "10/10 [==============================] - 0s 25ms/step - loss: 1.5575 - accuracy: 0.9671 - val_loss: 1.8860 - val_accuracy: 0.7105\n",
      "Epoch 13/15\n",
      "10/10 [==============================] - 0s 24ms/step - loss: 1.4693 - accuracy: 0.9737 - val_loss: 1.8107 - val_accuracy: 0.6974\n",
      "Epoch 14/15\n",
      "10/10 [==============================] - 0s 24ms/step - loss: 1.3905 - accuracy: 0.9770 - val_loss: 1.7452 - val_accuracy: 0.7105\n",
      "Epoch 15/15\n",
      "10/10 [==============================] - 0s 26ms/step - loss: 1.3092 - accuracy: 0.9836 - val_loss: 1.6862 - val_accuracy: 0.7105\n",
      "Score for fold 4: loss of 1.8867058753967285; accuracy of 51.99999809265137%\n",
      "Epoch 1/15\n",
      "10/10 [==============================] - 0s 26ms/step - loss: 3.2598 - accuracy: 0.5493 - val_loss: 3.1170 - val_accuracy: 0.6053\n",
      "Epoch 2/15\n",
      "10/10 [==============================] - 0s 24ms/step - loss: 2.9490 - accuracy: 0.6908 - val_loss: 3.0057 - val_accuracy: 0.5395\n",
      "Epoch 3/15\n",
      "10/10 [==============================] - 0s 27ms/step - loss: 2.7473 - accuracy: 0.7862 - val_loss: 2.8772 - val_accuracy: 0.5789\n",
      "Epoch 4/15\n",
      "10/10 [==============================] - 0s 25ms/step - loss: 2.5607 - accuracy: 0.8618 - val_loss: 2.7599 - val_accuracy: 0.6316\n",
      "Epoch 5/15\n",
      "10/10 [==============================] - 0s 24ms/step - loss: 2.4517 - accuracy: 0.8520 - val_loss: 2.6355 - val_accuracy: 0.6842\n",
      "Epoch 6/15\n",
      "10/10 [==============================] - 0s 25ms/step - loss: 2.2819 - accuracy: 0.9046 - val_loss: 2.5393 - val_accuracy: 0.6974\n",
      "Epoch 7/15\n",
      "10/10 [==============================] - 0s 24ms/step - loss: 2.1565 - accuracy: 0.9375 - val_loss: 2.4575 - val_accuracy: 0.6974\n",
      "Epoch 8/15\n",
      "10/10 [==============================] - 0s 24ms/step - loss: 2.0203 - accuracy: 0.9441 - val_loss: 2.3557 - val_accuracy: 0.6842\n",
      "Epoch 9/15\n",
      "10/10 [==============================] - 0s 24ms/step - loss: 1.9097 - accuracy: 0.9605 - val_loss: 2.2681 - val_accuracy: 0.6974\n",
      "Epoch 10/15\n",
      "10/10 [==============================] - 0s 25ms/step - loss: 1.8170 - accuracy: 0.9671 - val_loss: 2.1833 - val_accuracy: 0.6974\n",
      "Epoch 11/15\n",
      "10/10 [==============================] - 0s 24ms/step - loss: 1.7046 - accuracy: 0.9638 - val_loss: 2.0949 - val_accuracy: 0.7105\n",
      "Epoch 12/15\n",
      "10/10 [==============================] - 0s 24ms/step - loss: 1.6098 - accuracy: 0.9803 - val_loss: 2.0251 - val_accuracy: 0.6711\n",
      "Epoch 13/15\n",
      "10/10 [==============================] - 0s 24ms/step - loss: 1.5345 - accuracy: 0.9803 - val_loss: 1.9572 - val_accuracy: 0.6974\n",
      "Epoch 14/15\n",
      "10/10 [==============================] - 0s 24ms/step - loss: 1.4255 - accuracy: 0.9934 - val_loss: 1.8895 - val_accuracy: 0.6974\n",
      "Epoch 15/15\n",
      "10/10 [==============================] - 0s 24ms/step - loss: 1.3631 - accuracy: 0.9901 - val_loss: 1.8191 - val_accuracy: 0.6842\n",
      "Score for fold 5: loss of 1.9296811819076538; accuracy of 55.000001192092896%\n",
      "------------------------------------------------------------------------\n",
      "Average scores for all folds:\n",
      "> Accuracy: 54.399999380111694 (+- 1.3564671637023007)\n",
      "> Loss: 1.9444921255111693\n",
      "------------------------------------------------------------------------\n"
     ]
    }
   ],
   "source": [
    "# Initialize kf\n",
    "num_folds = 5\n",
    "kf = StratifiedKFold(n_splits=num_folds, shuffle=True, random_state=42)\n",
    "\n",
    "# Train\n",
    "acc_per_fold = []\n",
    "loss_per_fold = []\n",
    "\n",
    "fold_no = 1\n",
    "for train, val in kf.split(X_train_resampled, y_train_resampled):\n",
    "    model = create_model()\n",
    "    \n",
    "    history = model.fit(X_train_resampled[train], \n",
    "                        y_train_resampled[train], \n",
    "                        epochs=15, \n",
    "                        batch_size=32, \n",
    "                        validation_data=(X_train_resampled[val], y_train_resampled[val]))\n",
    "    \n",
    "    # Generate generalization metrics\n",
    "    scores = model.evaluate(X_test_scaled, y_test_final, verbose=0)\n",
    "    print(f'Score for fold {fold_no}: {model.metrics_names[0]} of {scores[0]}; {model.metrics_names[1]} of {scores[1]*100}%')\n",
    "    \n",
    "    acc_per_fold.append(scores[1] * 100)\n",
    "    loss_per_fold.append(scores[0])\n",
    "    fold_no += 1\n",
    "\n",
    "# Print average metrics\n",
    "print('------------------------------------------------------------------------')\n",
    "print('Average scores for all folds:')\n",
    "print(f'> Accuracy: {np.mean(acc_per_fold)} (+- {np.std(acc_per_fold)})')\n",
    "print(f'> Loss: {np.mean(loss_per_fold)}')\n",
    "print('------------------------------------------------------------------------')"
   ]
  },
  {
   "cell_type": "markdown",
   "id": "147428fb",
   "metadata": {},
   "source": [
    "# SVC Multimodal\n",
    "\n",
    "Run all PCA cells and Merging cells, then these"
   ]
  },
  {
   "cell_type": "code",
   "execution_count": 24,
   "id": "b30bf58c",
   "metadata": {},
   "outputs": [],
   "source": [
    "from sklearn.svm import SVC\n",
    "from sklearn.metrics import classification_report\n",
    "from sklearn.model_selection import GridSearchCV"
   ]
  },
  {
   "cell_type": "code",
   "execution_count": 25,
   "id": "63c9fc8c",
   "metadata": {},
   "outputs": [
    {
     "data": {
      "text/plain": [
       "GridSearchCV(cv=5, estimator=SVC(),\n",
       "             param_grid={'C': [0.1, 1, 10], 'degree': [1, 2, 3, 4, 5],\n",
       "                         'gamma': ['scale', 'auto', 0.1],\n",
       "                         'kernel': ['linear', 'poly', 'rbf', 'sigmoid']},\n",
       "             scoring='accuracy')"
      ]
     },
     "execution_count": 25,
     "metadata": {},
     "output_type": "execute_result"
    }
   ],
   "source": [
    "# Instantiate Model\n",
    "svc = SVC()\n",
    "\n",
    "# Grid search\n",
    "param_grid = {\n",
    "    \"C\": [0.1, 1, 10],                \n",
    "    \"kernel\": [\"linear\", \"poly\", \"rbf\", \"sigmoid\"],\n",
    "    \"gamma\": [\"scale\", \"auto\", 0.1],\n",
    "    \"degree\": [1, 2, 3, 4, 5]}\n",
    "\n",
    "grid_search = GridSearchCV(estimator=svc, param_grid=param_grid, cv=5, scoring=\"accuracy\")\n",
    "grid_search.fit(X_train_resampled, y_train_resampled)"
   ]
  },
  {
   "cell_type": "code",
   "execution_count": 26,
   "id": "1acc91e5",
   "metadata": {},
   "outputs": [
    {
     "name": "stdout",
     "output_type": "stream",
     "text": [
      "Best Parameters: {'C': 1, 'degree': 1, 'gamma': 0.1, 'kernel': 'rbf'}\n",
      "Best Accuracy: 0.7789473684210526\n"
     ]
    }
   ],
   "source": [
    "# Get the best parameters and best accuracy score\n",
    "best_params = grid_search.best_params_\n",
    "best_score = grid_search.best_score_\n",
    "\n",
    "# Print the best parameters and best score\n",
    "print(\"Best Parameters:\", best_params)\n",
    "print(\"Best Accuracy:\", best_score)"
   ]
  },
  {
   "cell_type": "code",
   "execution_count": 27,
   "id": "53edc9ff",
   "metadata": {},
   "outputs": [
    {
     "data": {
      "text/plain": [
       "SVC(C=1, degree=1, gamma=0.1)"
      ]
     },
     "execution_count": 27,
     "metadata": {},
     "output_type": "execute_result"
    }
   ],
   "source": [
    "# Instantiate and fit model\n",
    "svc = SVC(C=1, degree=1, gamma=0.1, kernel=\"rbf\")\n",
    "\n",
    "svc.fit(X_train_resampled, y_train_resampled)"
   ]
  },
  {
   "cell_type": "code",
   "execution_count": 28,
   "id": "7b2c9993",
   "metadata": {},
   "outputs": [
    {
     "name": "stdout",
     "output_type": "stream",
     "text": [
      "              precision    recall  f1-score   support\n",
      "\n",
      "           0       0.63      1.00      0.77        63\n",
      "           1       0.00      0.00      0.00        37\n",
      "\n",
      "    accuracy                           0.63       100\n",
      "   macro avg       0.32      0.50      0.39       100\n",
      "weighted avg       0.40      0.63      0.49       100\n",
      "\n"
     ]
    },
    {
     "name": "stderr",
     "output_type": "stream",
     "text": [
      "/Users/johngalvin/miniforge3/lib/python3.9/site-packages/sklearn/metrics/_classification.py:1318: UndefinedMetricWarning: Precision and F-score are ill-defined and being set to 0.0 in labels with no predicted samples. Use `zero_division` parameter to control this behavior.\n",
      "  _warn_prf(average, modifier, msg_start, len(result))\n",
      "/Users/johngalvin/miniforge3/lib/python3.9/site-packages/sklearn/metrics/_classification.py:1318: UndefinedMetricWarning: Precision and F-score are ill-defined and being set to 0.0 in labels with no predicted samples. Use `zero_division` parameter to control this behavior.\n",
      "  _warn_prf(average, modifier, msg_start, len(result))\n",
      "/Users/johngalvin/miniforge3/lib/python3.9/site-packages/sklearn/metrics/_classification.py:1318: UndefinedMetricWarning: Precision and F-score are ill-defined and being set to 0.0 in labels with no predicted samples. Use `zero_division` parameter to control this behavior.\n",
      "  _warn_prf(average, modifier, msg_start, len(result))\n"
     ]
    }
   ],
   "source": [
    "# Assess\n",
    "y_pred = svc.predict(X_test_scaled)\n",
    "\n",
    "# evaluate predictions\n",
    "print(classification_report(y_test_final, y_pred))"
   ]
  },
  {
   "cell_type": "markdown",
   "id": "9e9e2d5c",
   "metadata": {},
   "source": [
    "# SVC, Image-only\n",
    "\n",
    "Run all PCA cells AND NN Image-only cells, then these"
   ]
  },
  {
   "cell_type": "code",
   "execution_count": 24,
   "id": "65df7f9d",
   "metadata": {},
   "outputs": [],
   "source": [
    "from sklearn.svm import SVC\n",
    "from sklearn.metrics import classification_report\n",
    "from sklearn.model_selection import GridSearchCV"
   ]
  },
  {
   "cell_type": "code",
   "execution_count": 25,
   "id": "4c123ed8",
   "metadata": {},
   "outputs": [
    {
     "data": {
      "text/plain": [
       "GridSearchCV(cv=5, estimator=SVC(),\n",
       "             param_grid={'C': [0.1, 1, 10], 'degree': [1, 2, 3, 4, 5],\n",
       "                         'gamma': ['scale', 'auto', 0.1],\n",
       "                         'kernel': ['linear', 'poly', 'rbf', 'sigmoid']},\n",
       "             scoring='accuracy')"
      ]
     },
     "execution_count": 25,
     "metadata": {},
     "output_type": "execute_result"
    }
   ],
   "source": [
    "# Instantiate Model\n",
    "svc = SVC()\n",
    "\n",
    "# Grid search\n",
    "param_grid = {\n",
    "    \"C\": [0.1, 1, 10],                \n",
    "    \"kernel\": [\"linear\", \"poly\", \"rbf\", \"sigmoid\"],\n",
    "    \"gamma\": [\"scale\", \"auto\", 0.1],\n",
    "    \"degree\": [1, 2, 3, 4, 5]}\n",
    "\n",
    "grid_search = GridSearchCV(estimator=svc, param_grid=param_grid, cv=5, scoring=\"accuracy\")\n",
    "grid_search.fit(X_train_resampled, y_train_resampled)"
   ]
  },
  {
   "cell_type": "code",
   "execution_count": 26,
   "id": "fbda1275",
   "metadata": {},
   "outputs": [
    {
     "name": "stdout",
     "output_type": "stream",
     "text": [
      "Best Parameters: {'C': 1, 'degree': 1, 'gamma': 0.1, 'kernel': 'rbf'}\n",
      "Best Accuracy: 0.7789473684210526\n"
     ]
    }
   ],
   "source": [
    "# Get the best parameters and best accuracy score\n",
    "best_params = grid_search.best_params_\n",
    "best_score = grid_search.best_score_\n",
    "\n",
    "# Print the best parameters and best score\n",
    "print(\"Best Parameters:\", best_params)\n",
    "print(\"Best Accuracy:\", best_score)"
   ]
  },
  {
   "cell_type": "code",
   "execution_count": 27,
   "id": "e1fed246",
   "metadata": {},
   "outputs": [
    {
     "data": {
      "text/plain": [
       "SVC(C=1, degree=1, gamma=0.1)"
      ]
     },
     "execution_count": 27,
     "metadata": {},
     "output_type": "execute_result"
    }
   ],
   "source": [
    "# Instantiate and fit model\n",
    "svc = SVC(C=1, degree=1, gamma=0.1, kernel=\"rbf\")\n",
    "\n",
    "svc.fit(X_train_resampled, y_train_resampled)"
   ]
  },
  {
   "cell_type": "code",
   "execution_count": 28,
   "id": "72399fd5",
   "metadata": {},
   "outputs": [
    {
     "name": "stdout",
     "output_type": "stream",
     "text": [
      "              precision    recall  f1-score   support\n",
      "\n",
      "           0       0.63      1.00      0.77        63\n",
      "           1       0.00      0.00      0.00        37\n",
      "\n",
      "    accuracy                           0.63       100\n",
      "   macro avg       0.32      0.50      0.39       100\n",
      "weighted avg       0.40      0.63      0.49       100\n",
      "\n"
     ]
    },
    {
     "name": "stderr",
     "output_type": "stream",
     "text": [
      "/Users/johngalvin/miniforge3/lib/python3.9/site-packages/sklearn/metrics/_classification.py:1318: UndefinedMetricWarning: Precision and F-score are ill-defined and being set to 0.0 in labels with no predicted samples. Use `zero_division` parameter to control this behavior.\n",
      "  _warn_prf(average, modifier, msg_start, len(result))\n",
      "/Users/johngalvin/miniforge3/lib/python3.9/site-packages/sklearn/metrics/_classification.py:1318: UndefinedMetricWarning: Precision and F-score are ill-defined and being set to 0.0 in labels with no predicted samples. Use `zero_division` parameter to control this behavior.\n",
      "  _warn_prf(average, modifier, msg_start, len(result))\n",
      "/Users/johngalvin/miniforge3/lib/python3.9/site-packages/sklearn/metrics/_classification.py:1318: UndefinedMetricWarning: Precision and F-score are ill-defined and being set to 0.0 in labels with no predicted samples. Use `zero_division` parameter to control this behavior.\n",
      "  _warn_prf(average, modifier, msg_start, len(result))\n"
     ]
    }
   ],
   "source": [
    "# Assess\n",
    "y_pred = svc.predict(X_test_scaled)\n",
    "\n",
    "# evaluate predictions\n",
    "print(classification_report(y_test_final, y_pred))"
   ]
  },
  {
   "cell_type": "markdown",
   "id": "1276df9d",
   "metadata": {},
   "source": [
    "# RFC, Multimodal\n",
    "\n",
    "Run all PCA cells and Merging cells, then these"
   ]
  },
  {
   "cell_type": "code",
   "execution_count": 29,
   "id": "d700f7be",
   "metadata": {},
   "outputs": [],
   "source": [
    "from sklearn.ensemble import RandomForestClassifier"
   ]
  },
  {
   "cell_type": "code",
   "execution_count": 30,
   "id": "37c61d97",
   "metadata": {},
   "outputs": [
    {
     "data": {
      "text/plain": [
       "RandomForestClassifier(random_state=42)"
      ]
     },
     "execution_count": 30,
     "metadata": {},
     "output_type": "execute_result"
    }
   ],
   "source": [
    "rfc = RandomForestClassifier(n_estimators=100, random_state=42)\n",
    "rfc.fit(X_train_resampled, y_train_resampled)"
   ]
  },
  {
   "cell_type": "code",
   "execution_count": 31,
   "id": "b63eacd1",
   "metadata": {},
   "outputs": [],
   "source": [
    "y_pred = rfc.predict(X_test_scaled)"
   ]
  },
  {
   "cell_type": "code",
   "execution_count": 32,
   "id": "449f839d",
   "metadata": {},
   "outputs": [
    {
     "name": "stdout",
     "output_type": "stream",
     "text": [
      "Accuracy: 0.78\n",
      "Classification Report:\n",
      "              precision    recall  f1-score   support\n",
      "\n",
      "           0       0.78      0.90      0.84        63\n",
      "           1       0.78      0.57      0.66        37\n",
      "\n",
      "    accuracy                           0.78       100\n",
      "   macro avg       0.78      0.74      0.75       100\n",
      "weighted avg       0.78      0.78      0.77       100\n",
      "\n"
     ]
    }
   ],
   "source": [
    "# Calculate accuracy\n",
    "accuracy = accuracy_score(y_test_final, y_pred)\n",
    "print(\"Accuracy:\", accuracy)\n",
    "\n",
    "# Generate a classification report\n",
    "print(\"Classification Report:\")\n",
    "print(classification_report(y_test_final, y_pred))"
   ]
  },
  {
   "cell_type": "markdown",
   "id": "5e197f93",
   "metadata": {},
   "source": [
    "# RFC, Image-only\n",
    "\n",
    "Run all PCA cells and NN image-only cells, then these"
   ]
  },
  {
   "cell_type": "code",
   "execution_count": 29,
   "id": "1439b5cb",
   "metadata": {},
   "outputs": [],
   "source": [
    "from sklearn.ensemble import RandomForestClassifier"
   ]
  },
  {
   "cell_type": "code",
   "execution_count": 30,
   "id": "b1aae477",
   "metadata": {},
   "outputs": [
    {
     "data": {
      "text/plain": [
       "RandomForestClassifier(random_state=42)"
      ]
     },
     "execution_count": 30,
     "metadata": {},
     "output_type": "execute_result"
    }
   ],
   "source": [
    "rfc = RandomForestClassifier(n_estimators=100, random_state=42)\n",
    "rfc.fit(X_train_resampled, y_train_resampled)"
   ]
  },
  {
   "cell_type": "code",
   "execution_count": 31,
   "id": "4ff84fec",
   "metadata": {},
   "outputs": [],
   "source": [
    "y_pred = rfc.predict(X_test_scaled)"
   ]
  },
  {
   "cell_type": "code",
   "execution_count": 32,
   "id": "6bd31e79",
   "metadata": {},
   "outputs": [
    {
     "name": "stdout",
     "output_type": "stream",
     "text": [
      "Accuracy: 0.64\n",
      "Classification Report:\n",
      "              precision    recall  f1-score   support\n",
      "\n",
      "           0       0.68      0.79      0.74        63\n",
      "           1       0.52      0.38      0.44        37\n",
      "\n",
      "    accuracy                           0.64       100\n",
      "   macro avg       0.60      0.59      0.59       100\n",
      "weighted avg       0.62      0.64      0.63       100\n",
      "\n"
     ]
    }
   ],
   "source": [
    "# Calculate accuracy\n",
    "accuracy = accuracy_score(y_test_final, y_pred)\n",
    "print(\"Accuracy:\", accuracy)\n",
    "\n",
    "# Generate a classification report\n",
    "print(\"Classification Report:\")\n",
    "print(classification_report(y_test_final, y_pred))"
   ]
  },
  {
   "cell_type": "code",
   "execution_count": null,
   "id": "a31b2908",
   "metadata": {},
   "outputs": [],
   "source": []
  }
 ],
 "metadata": {
  "kernelspec": {
   "display_name": "Python 3 (ipykernel)",
   "language": "python",
   "name": "python3"
  },
  "language_info": {
   "codemirror_mode": {
    "name": "ipython",
    "version": 3
   },
   "file_extension": ".py",
   "mimetype": "text/x-python",
   "name": "python",
   "nbconvert_exporter": "python",
   "pygments_lexer": "ipython3",
   "version": "3.9.7"
  }
 },
 "nbformat": 4,
 "nbformat_minor": 5
}
