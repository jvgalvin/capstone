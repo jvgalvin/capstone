{
 "cells": [
  {
   "cell_type": "code",
   "execution_count": 1,
   "id": "b0ea8680",
   "metadata": {},
   "outputs": [],
   "source": [
    "import os\n",
    "import matplotlib.pyplot as plt\n",
    "import numpy as np\n",
    "import pandas as pd\n",
    "import pydicom\n",
    "import sys\n",
    "\n",
    "from PIL import Image\n",
    "from tqdm import tqdm"
   ]
  },
  {
   "cell_type": "code",
   "execution_count": 3,
   "id": "4105653d-5b5b-4b6d-b4d8-7471fa0b0f33",
   "metadata": {},
   "outputs": [
    {
     "name": "stderr",
     "output_type": "stream",
     "text": [
      " 41%|███████████████████████████████████████████████████████████████████████▊                                                                                                      | 186/451 [05:41<08:05,  1.83s/it]\n"
     ]
    },
    {
     "ename": "KeyboardInterrupt",
     "evalue": "",
     "output_type": "error",
     "traceback": [
      "\u001b[0;31m---------------------------------------------------------------------------\u001b[0m",
      "\u001b[0;31mKeyboardInterrupt\u001b[0m                         Traceback (most recent call last)",
      "Cell \u001b[0;32mIn[3], line 41\u001b[0m\n\u001b[1;32m     38\u001b[0m np\u001b[38;5;241m.\u001b[39mset_printoptions()\n\u001b[1;32m     39\u001b[0m file_path \u001b[38;5;241m=\u001b[39m ID_PATH \u001b[38;5;241m+\u001b[39m \u001b[38;5;124m\"\u001b[39m\u001b[38;5;124m/\u001b[39m\u001b[38;5;124m\"\u001b[39m \u001b[38;5;241m+\u001b[39m file_name\n\u001b[0;32m---> 41\u001b[0m dcm \u001b[38;5;241m=\u001b[39m \u001b[43mpydicom\u001b[49m\u001b[38;5;241;43m.\u001b[39;49m\u001b[43mdcmread\u001b[49m\u001b[43m(\u001b[49m\u001b[43mfile_path\u001b[49m\u001b[43m)\u001b[49m\n\u001b[1;32m     43\u001b[0m pixel_array \u001b[38;5;241m=\u001b[39m dcm\u001b[38;5;241m.\u001b[39mpixel_array\n\u001b[1;32m     45\u001b[0m \u001b[38;5;66;03m#print(pixel_array.shape)\u001b[39;00m\n",
      "File \u001b[0;32m~/.cache/pypoetry/virtualenvs/src-HqFtfyrm-py3.11/lib/python3.11/site-packages/pydicom/filereader.py:1030\u001b[0m, in \u001b[0;36mdcmread\u001b[0;34m(fp, defer_size, stop_before_pixels, force, specific_tags)\u001b[0m\n\u001b[1;32m   1028\u001b[0m     stop_when \u001b[38;5;241m=\u001b[39m _at_pixel_data\n\u001b[1;32m   1029\u001b[0m \u001b[38;5;28;01mtry\u001b[39;00m:\n\u001b[0;32m-> 1030\u001b[0m     dataset \u001b[38;5;241m=\u001b[39m \u001b[43mread_partial\u001b[49m\u001b[43m(\u001b[49m\n\u001b[1;32m   1031\u001b[0m \u001b[43m        \u001b[49m\u001b[43mfp\u001b[49m\u001b[43m,\u001b[49m\n\u001b[1;32m   1032\u001b[0m \u001b[43m        \u001b[49m\u001b[43mstop_when\u001b[49m\u001b[43m,\u001b[49m\n\u001b[1;32m   1033\u001b[0m \u001b[43m        \u001b[49m\u001b[43mdefer_size\u001b[49m\u001b[38;5;241;43m=\u001b[39;49m\u001b[43msize_in_bytes\u001b[49m\u001b[43m(\u001b[49m\u001b[43mdefer_size\u001b[49m\u001b[43m)\u001b[49m\u001b[43m,\u001b[49m\n\u001b[1;32m   1034\u001b[0m \u001b[43m        \u001b[49m\u001b[43mforce\u001b[49m\u001b[38;5;241;43m=\u001b[39;49m\u001b[43mforce\u001b[49m\u001b[43m,\u001b[49m\n\u001b[1;32m   1035\u001b[0m \u001b[43m        \u001b[49m\u001b[43mspecific_tags\u001b[49m\u001b[38;5;241;43m=\u001b[39;49m\u001b[43mspecific_tags\u001b[49m\u001b[43m,\u001b[49m\n\u001b[1;32m   1036\u001b[0m \u001b[43m    \u001b[49m\u001b[43m)\u001b[49m\n\u001b[1;32m   1037\u001b[0m \u001b[38;5;28;01mfinally\u001b[39;00m:\n\u001b[1;32m   1038\u001b[0m     \u001b[38;5;28;01mif\u001b[39;00m \u001b[38;5;129;01mnot\u001b[39;00m caller_owns_file:\n",
      "File \u001b[0;32m~/.cache/pypoetry/virtualenvs/src-HqFtfyrm-py3.11/lib/python3.11/site-packages/pydicom/filereader.py:852\u001b[0m, in \u001b[0;36mread_partial\u001b[0;34m(fileobj, stop_when, defer_size, force, specific_tags)\u001b[0m\n\u001b[1;32m    848\u001b[0m \u001b[38;5;66;03m# Try and decode the dataset\u001b[39;00m\n\u001b[1;32m    849\u001b[0m \u001b[38;5;66;03m#   By this point we should be at the start of the dataset and have\u001b[39;00m\n\u001b[1;32m    850\u001b[0m \u001b[38;5;66;03m#   the transfer syntax (whether read from the file meta or guessed at)\u001b[39;00m\n\u001b[1;32m    851\u001b[0m \u001b[38;5;28;01mtry\u001b[39;00m:\n\u001b[0;32m--> 852\u001b[0m     dataset \u001b[38;5;241m=\u001b[39m \u001b[43mread_dataset\u001b[49m\u001b[43m(\u001b[49m\n\u001b[1;32m    853\u001b[0m \u001b[43m        \u001b[49m\u001b[43mfileobj\u001b[49m\u001b[43m,\u001b[49m\n\u001b[1;32m    854\u001b[0m \u001b[43m        \u001b[49m\u001b[43mis_implicit_VR\u001b[49m\u001b[43m,\u001b[49m\n\u001b[1;32m    855\u001b[0m \u001b[43m        \u001b[49m\u001b[43mis_little_endian\u001b[49m\u001b[43m,\u001b[49m\n\u001b[1;32m    856\u001b[0m \u001b[43m        \u001b[49m\u001b[43mstop_when\u001b[49m\u001b[38;5;241;43m=\u001b[39;49m\u001b[43mstop_when\u001b[49m\u001b[43m,\u001b[49m\n\u001b[1;32m    857\u001b[0m \u001b[43m        \u001b[49m\u001b[43mdefer_size\u001b[49m\u001b[38;5;241;43m=\u001b[39;49m\u001b[43mdefer_size\u001b[49m\u001b[43m,\u001b[49m\n\u001b[1;32m    858\u001b[0m \u001b[43m        \u001b[49m\u001b[43mspecific_tags\u001b[49m\u001b[38;5;241;43m=\u001b[39;49m\u001b[43mspecific_tags\u001b[49m\u001b[43m,\u001b[49m\n\u001b[1;32m    859\u001b[0m \u001b[43m    \u001b[49m\u001b[43m)\u001b[49m\n\u001b[1;32m    860\u001b[0m \u001b[38;5;28;01mexcept\u001b[39;00m \u001b[38;5;167;01mEOFError\u001b[39;00m:\n\u001b[1;32m    861\u001b[0m     \u001b[38;5;28;01mif\u001b[39;00m config\u001b[38;5;241m.\u001b[39msettings\u001b[38;5;241m.\u001b[39mreading_validation_mode \u001b[38;5;241m==\u001b[39m config\u001b[38;5;241m.\u001b[39mRAISE:\n",
      "File \u001b[0;32m~/.cache/pypoetry/virtualenvs/src-HqFtfyrm-py3.11/lib/python3.11/site-packages/pydicom/filereader.py:427\u001b[0m, in \u001b[0;36mread_dataset\u001b[0;34m(fp, is_implicit_VR, is_little_endian, bytelength, stop_when, defer_size, parent_encoding, specific_tags, at_top_level)\u001b[0m\n\u001b[1;32m    425\u001b[0m \u001b[38;5;28;01mtry\u001b[39;00m:\n\u001b[1;32m    426\u001b[0m     \u001b[38;5;28;01mwhile\u001b[39;00m (bytelength \u001b[38;5;129;01mis\u001b[39;00m \u001b[38;5;28;01mNone\u001b[39;00m) \u001b[38;5;129;01mor\u001b[39;00m (fp\u001b[38;5;241m.\u001b[39mtell() \u001b[38;5;241m-\u001b[39m fp_start \u001b[38;5;241m<\u001b[39m bytelength):\n\u001b[0;32m--> 427\u001b[0m         raw_data_element \u001b[38;5;241m=\u001b[39m \u001b[38;5;28mnext\u001b[39m(de_gen)\n\u001b[1;32m    428\u001b[0m         \u001b[38;5;66;03m# Read data elements. Stop on some errors, but return what was read\u001b[39;00m\n\u001b[1;32m    429\u001b[0m         tag \u001b[38;5;241m=\u001b[39m raw_data_element\u001b[38;5;241m.\u001b[39mtag\n",
      "File \u001b[0;32m~/.cache/pypoetry/virtualenvs/src-HqFtfyrm-py3.11/lib/python3.11/site-packages/pydicom/filereader.py:207\u001b[0m, in \u001b[0;36mdata_element_generator\u001b[0;34m(fp, is_implicit_VR, is_little_endian, stop_when, defer_size, encoding, specific_tags)\u001b[0m\n\u001b[1;32m    204\u001b[0m     fp\u001b[38;5;241m.\u001b[39mseek(fp_tell() \u001b[38;5;241m+\u001b[39m length)\n\u001b[1;32m    205\u001b[0m \u001b[38;5;28;01melse\u001b[39;00m:\n\u001b[1;32m    206\u001b[0m     value \u001b[38;5;241m=\u001b[39m (\n\u001b[0;32m--> 207\u001b[0m         fp_read(length) \u001b[38;5;28;01mif\u001b[39;00m length \u001b[38;5;241m>\u001b[39m \u001b[38;5;241m0\u001b[39m\n\u001b[1;32m    208\u001b[0m         \u001b[38;5;28;01melse\u001b[39;00m cast(\n\u001b[1;32m    209\u001b[0m             Optional[\u001b[38;5;28mbytes\u001b[39m], empty_value_for_VR(vr, raw\u001b[38;5;241m=\u001b[39m\u001b[38;5;28;01mTrue\u001b[39;00m)\n\u001b[1;32m    210\u001b[0m         )\n\u001b[1;32m    211\u001b[0m     )\n\u001b[1;32m    212\u001b[0m     \u001b[38;5;28;01mif\u001b[39;00m debugging:\n\u001b[1;32m    213\u001b[0m         dotdot \u001b[38;5;241m=\u001b[39m \u001b[38;5;124m\"\u001b[39m\u001b[38;5;124m...\u001b[39m\u001b[38;5;124m\"\u001b[39m \u001b[38;5;28;01mif\u001b[39;00m length \u001b[38;5;241m>\u001b[39m \u001b[38;5;241m20\u001b[39m \u001b[38;5;28;01melse\u001b[39;00m \u001b[38;5;124m\"\u001b[39m\u001b[38;5;124m   \u001b[39m\u001b[38;5;124m\"\u001b[39m\n",
      "\u001b[0;31mKeyboardInterrupt\u001b[0m: "
     ]
    }
   ],
   "source": [
    "def get_file_list(directory) -> list:\n",
    "    return os.listdir(directory)\n",
    "\n",
    "DATA_PATH = 'data/mri_data_pool'\n",
    "\n",
    "patient_list = get_file_list(DATA_PATH)\n",
    "\n",
    "\n",
    "for i in tqdm(range(len(patient_list))):\n",
    "    patient_id = patient_list[i]\n",
    "    \n",
    "    PATIENT_ID_PATH = DATA_PATH + \"/\" + patient_id\n",
    "    \n",
    "    scan_list = get_file_list(PATIENT_ID_PATH)\n",
    "    \n",
    "    for scan_group in scan_list:\n",
    "        if scan_group != \"Axial_PD_T2_FSE\":\n",
    "            continue\n",
    "        else:\n",
    "            array_list = list()\n",
    "\n",
    "            SCAN_PATH = PATIENT_ID_PATH + \"/\" + scan_group\n",
    "\n",
    "            date_list = get_file_list(SCAN_PATH)\n",
    "\n",
    "            for date in date_list:\n",
    "                DATE_PATH = SCAN_PATH + \"/\" + date\n",
    "\n",
    "                id_list = get_file_list(DATE_PATH)\n",
    "\n",
    "                for id in id_list:\n",
    "\n",
    "                    ID_PATH = DATE_PATH + \"/\" + id\n",
    "                \n",
    "                    file_list = get_file_list(ID_PATH)\n",
    "                    \n",
    "                    for file_name in file_list:\n",
    "                        np.set_printoptions()\n",
    "                        file_path = ID_PATH + \"/\" + file_name\n",
    "        \n",
    "                        dcm = pydicom.dcmread(file_path)\n",
    "                        \n",
    "                        pixel_array = dcm.pixel_array\n",
    "                        \n",
    "                        #print(pixel_array.shape)\n",
    "                        array_list.append(pixel_array)\n",
    "\n",
    "    patient_list.append(array_list)\n",
    "\n",
    "output_array = np.array(patient_list)\n",
    "print(output_array.shape)\n",
    "print(\"%d bytes\" % (output_array. size * output_array. itemsize))"
   ]
  },
  {
   "cell_type": "code",
   "execution_count": null,
   "id": "f5b6d151-5bde-4ef3-a10c-83927aa1f39d",
   "metadata": {},
   "outputs": [],
   "source": [
    "# get list of patients in AD_time_to_dx.csv file\n",
    "\n",
    "df_labels = pd.read_csv(\"data/AD_time_to_dx.csv\")\n",
    "\n",
    "patient_list = df_labels[\"PTID\"].values\n",
    "\n",
    "print(*patient_list, sep=\", \")"
   ]
  },
  {
   "cell_type": "markdown",
   "id": "cb1ee9d8",
   "metadata": {},
   "source": [
    "# Script to get patient ids and scan dates"
   ]
  },
  {
   "cell_type": "code",
   "execution_count": null,
   "id": "f2673095",
   "metadata": {},
   "outputs": [],
   "source": [
    "\n",
    "def get_file_list(directory) -> list:\n",
    "    return os.listdir(directory)\n",
    "\n",
    "METADATA_ROOT_PATH = \"data/scan_metadata/\"\n",
    "\n",
    "df = None\n",
    "\n",
    "\n",
    "# dictionary with list object in values\n",
    "df_dict = {\n",
    "    'patient_id' : [],\n",
    "    'group' : [],\n",
    "    'scan_date' : []\n",
    "}\n",
    "\n",
    "patient_ids = get_file_list(METADATA_ROOT_PATH)\n",
    "\n",
    "for pid in patient_ids:\n",
    "    GROUP_DIR_PATH = METADATA_ROOT_PATH + \"/\" + pid\n",
    "\n",
    "    group_list = get_file_list(GROUP_DIR_PATH)\n",
    "\n",
    "    for group in group_list:\n",
    "        DATE_PATH = GROUP_DIR_PATH + \"/\" + group\n",
    "    \n",
    "        date_list = get_file_list(DATE_PATH)\n",
    "    \n",
    "        for date in date_list:\n",
    "            df_dict[\"patient_id\"].append(pid)\n",
    "            df_dict[\"group\"].append(group)\n",
    "            df_dict[\"scan_date\"].append(date)\n",
    "            \n",
    "\n",
    "# creating a Dataframe object \n",
    "df = pd.DataFrame(df_dict)\n",
    "\n",
    "df.to_csv(\"\\data\\adni_patient_scan_dates.csv\")\n",
    "\n",
    "print(df.head())\n",
    "\n"
   ]
  },
  {
   "cell_type": "markdown",
   "id": "450ddd5e",
   "metadata": {},
   "source": [
    "# Functions and Constants"
   ]
  },
  {
   "cell_type": "code",
   "execution_count": null,
   "id": "45219b0f",
   "metadata": {
    "scrolled": true
   },
   "outputs": [],
   "source": [
    "\n",
    "def get_file_list(directory) -> list:\n",
    "    return os.listdir(directory)\n",
    "\n",
    "def generate_dataframe(main_directory) -> pd.DataFrame:\n",
    "    df = pd.DataFrame()\n",
    "    labels_list = list()\n",
    "    \n",
    "    directory_list = get_file_list(main_directory)\n",
    "    \n",
    "    for directory in directory_list:\n",
    "        folder_path = main_directory + \"/\" + directory\n",
    "        file_list = get_file_list(folder_path)\n",
    "        \n",
    "        n_files = len(file_list)\n",
    "        \n",
    "        # Sample 10 files per type\n",
    "        for i in tqdm(range(10)): #n_files\n",
    "            file = file_list[i]\n",
    "            file_path = folder_path + \"/\" + file\n",
    "            \n",
    "            img = Image.open(file_path)\n",
    "            img_array = np.array(img)\n",
    "            img_1d = np.reshape(img_array, -1)\n",
    "            \n",
    "            df_temp = pd.DataFrame(img_1d)\n",
    "            df_temp = df_temp.T\n",
    "\n",
    "            df = df.append(df_temp, ignore_index = True)\n",
    "            labels_list.append(directory)\n",
    "    \n",
    "    df[\"label\"] = pd.Series(labels_list)\n",
    "    \n",
    "    return df\n",
    "    "
   ]
  },
  {
   "cell_type": "markdown",
   "id": "945cce3d",
   "metadata": {},
   "source": [
    "# Load Data"
   ]
  },
  {
   "cell_type": "code",
   "execution_count": null,
   "id": "ee2e73c9",
   "metadata": {},
   "outputs": [],
   "source": [
    "df_oasis = None\n",
    "df_pre = None\n",
    "\n",
    "df_oasis = generate_dataframe(\"data/oasis\")"
   ]
  },
  {
   "cell_type": "code",
   "execution_count": null,
   "id": "3e91d549",
   "metadata": {},
   "outputs": [],
   "source": [
    "df_oasis.loc[:, (df_oasis != 0).any(axis=0)]"
   ]
  },
  {
   "cell_type": "code",
   "execution_count": null,
   "id": "ebe57f96",
   "metadata": {},
   "outputs": [],
   "source": []
  }
 ],
 "metadata": {
  "kernelspec": {
   "display_name": "Python 3 (ipykernel)",
   "language": "python",
   "name": "python3"
  },
  "language_info": {
   "codemirror_mode": {
    "name": "ipython",
    "version": 3
   },
   "file_extension": ".py",
   "mimetype": "text/x-python",
   "name": "python",
   "nbconvert_exporter": "python",
   "pygments_lexer": "ipython3",
   "version": "3.11.5"
  }
 },
 "nbformat": 4,
 "nbformat_minor": 5
}
