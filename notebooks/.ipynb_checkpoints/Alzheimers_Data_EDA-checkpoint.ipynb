{
 "cells": [
  {
   "cell_type": "code",
   "execution_count": 1,
   "id": "b0ea8680",
   "metadata": {},
   "outputs": [
    {
     "name": "stderr",
     "output_type": "stream",
     "text": [
      "2023-09-30 07:53:42.707789: I tensorflow/tsl/cuda/cudart_stub.cc:28] Could not find cuda drivers on your machine, GPU will not be used.\n",
      "2023-09-30 07:53:42.737801: E tensorflow/compiler/xla/stream_executor/cuda/cuda_dnn.cc:9342] Unable to register cuDNN factory: Attempting to register factory for plugin cuDNN when one has already been registered\n",
      "2023-09-30 07:53:42.737835: E tensorflow/compiler/xla/stream_executor/cuda/cuda_fft.cc:609] Unable to register cuFFT factory: Attempting to register factory for plugin cuFFT when one has already been registered\n",
      "2023-09-30 07:53:42.737848: E tensorflow/compiler/xla/stream_executor/cuda/cuda_blas.cc:1518] Unable to register cuBLAS factory: Attempting to register factory for plugin cuBLAS when one has already been registered\n",
      "2023-09-30 07:53:42.742941: I tensorflow/tsl/cuda/cudart_stub.cc:28] Could not find cuda drivers on your machine, GPU will not be used.\n",
      "2023-09-30 07:53:42.743954: I tensorflow/core/platform/cpu_feature_guard.cc:182] This TensorFlow binary is optimized to use available CPU instructions in performance-critical operations.\n",
      "To enable the following instructions: AVX2 FMA, in other operations, rebuild TensorFlow with the appropriate compiler flags.\n",
      "2023-09-30 07:53:45.482704: W tensorflow/compiler/tf2tensorrt/utils/py_utils.cc:38] TF-TRT Warning: Could not find TensorRT\n"
     ]
    }
   ],
   "source": [
    "import os\n",
    "import matplotlib.pyplot as plt\n",
    "import numpy as np\n",
    "import pandas as pd\n",
    "import pydicom\n",
    "import sys\n",
    "import tensorflow as tf\n",
    "\n",
    "from sklearn.model_selection import train_test_split\n",
    "from tensorflow.keras.preprocessing.image import ImageDataGenerator, array_to_img, img_to_array, load_img\n",
    "from tensorflow.keras import models\n",
    "from tensorflow.keras import layers\n",
    "from tqdm import tqdm"
   ]
  },
  {
   "cell_type": "markdown",
   "id": "7e15c503-fa29-4d6e-afd8-ea3d20774953",
   "metadata": {},
   "source": [
    "# Important Functions"
   ]
  },
  {
   "cell_type": "code",
   "execution_count": 3,
   "id": "ed41d768-4c8b-4ab8-92b3-f8d98fa0bd71",
   "metadata": {},
   "outputs": [],
   "source": [
    "def get_file_list(directory) -> list:\n",
    "    return os.listdir(directory)\n",
    "\n",
    "def unique_items_in_list(list1):\n",
    "    # insert the list to the set\n",
    "    list_set = set(list1)\n",
    "    # convert the set to the list\n",
    "    unique_list = (list(list_set))\n",
    "    \n",
    "    return unique_list"
   ]
  },
  {
   "cell_type": "markdown",
   "id": "6f781ae3-7a39-4918-baa2-3933ef240cbc",
   "metadata": {},
   "source": [
    "# Check out Unique Patients in the AD_time_to_dx.csv file"
   ]
  },
  {
   "cell_type": "code",
   "execution_count": 4,
   "id": "f5b6d151-5bde-4ef3-a10c-83927aa1f39d",
   "metadata": {
    "scrolled": true
   },
   "outputs": [
    {
     "name": "stdout",
     "output_type": "stream",
     "text": [
      "Number of patients in AD_time_to_dx.csv: 495\n",
      "\n",
      "\n",
      "List of 495 Patients:\n",
      "\n",
      "022_S_0004, 011_S_0005, 100_S_0006, 022_S_0014, 100_S_0015, 011_S_0016, 067_S_0019, 011_S_0021, 011_S_0022, 011_S_0023, 023_S_0030, 023_S_0031, 035_S_0033, 100_S_0035, 067_S_0038, 099_S_0040, 007_S_0041, 023_S_0042, 018_S_0043, 100_S_0047, 035_S_0048, 123_S_0050, 099_S_0051, 099_S_0054, 067_S_0056, 018_S_0057, 023_S_0058, 067_S_0059, 099_S_0060, 023_S_0061, 022_S_0066, 010_S_0067, 007_S_0068, 100_S_0069, 007_S_0070, 123_S_0072, 027_S_0074, 067_S_0077, 018_S_0080, 023_S_0081, 136_S_0086, 018_S_0087, 073_S_0089, 099_S_0090, 032_S_0095, 022_S_0096, 020_S_0097, 067_S_0098, 007_S_0101, 123_S_0106, 136_S_0107, 123_S_0108, 099_S_0111, 127_S_0112, 123_S_0113, 027_S_0116, 027_S_0118, 027_S_0120, 131_S_0123, 041_S_0125, 023_S_0126, 068_S_0127, 007_S_0128, 022_S_0130, 021_S_0141, 018_S_0142, 037_S_0150, 018_S_0155, 035_S_0156, 137_S_0158, 021_S_0159, 098_S_0160, 114_S_0166, 011_S_0168, 014_S_0169, 098_S_0171, 098_S_0172, 114_S_0173, 067_S_0176, 067_S_0177, 027_S_0179, 136_S_0184, 136_S_0186, 032_S_0187, 136_S_0195, 136_S_0196, 035_S_0204, 068_S_0210, 032_S_0214, 023_S_0217, 005_S_0222, 005_S_0223, 021_S_0231, 130_S_0232, 013_S_0240, 011_S_0241, 007_S_0249, 027_S_0256, 127_S_0259, 127_S_0260, 041_S_0262, 098_S_0269, 021_S_0273, 021_S_0276, 041_S_0282, 137_S_0283, 067_S_0284, 067_S_0290, 099_S_0291, 035_S_0292, 007_S_0293, 031_S_0294, 002_S_0295, 100_S_0296, 123_S_0298, 137_S_0301, 037_S_0303, 027_S_0307, 073_S_0311, 073_S_0312, 041_S_0314, 072_S_0315, 005_S_0324, 013_S_0325, 011_S_0326, 037_S_0327, 023_S_0331, 021_S_0332, 067_S_0336, 021_S_0337, 031_S_0351, 099_S_0352, 016_S_0354, 016_S_0359, 116_S_0361, 011_S_0362, 018_S_0369, 023_S_0376, 114_S_0378, 116_S_0382, 131_S_0384, 073_S_0386, 023_S_0388, 053_S_0389, 123_S_0390, 127_S_0393, 127_S_0394, 027_S_0403, 018_S_0406, 027_S_0408, 114_S_0410, 002_S_0413, 007_S_0414, 114_S_0416, 010_S_0419, 010_S_0422, 130_S_0423, 021_S_0424, 018_S_0425, 136_S_0429, 133_S_0433, 094_S_0434, 131_S_0441, 068_S_0442, 137_S_0443, 041_S_0446, 005_S_0448, 018_S_0450, 037_S_0454, 114_S_0458, 137_S_0459, 027_S_0461, 057_S_0464, 037_S_0467, 010_S_0472, 068_S_0473, 032_S_0479, 137_S_0481, 027_S_0485, 133_S_0488, 006_S_0498, 037_S_0501, 013_S_0502, 130_S_0505, 053_S_0507, 033_S_0511, 033_S_0513, 033_S_0514, 033_S_0516, 073_S_0518, 014_S_0519, 014_S_0520, 133_S_0525, 094_S_0526, 094_S_0531, 099_S_0533, 099_S_0534, 016_S_0538, 037_S_0539, 022_S_0544, 005_S_0546, 014_S_0548, 041_S_0549, 099_S_0551, 037_S_0552, 005_S_0553, 035_S_0555, 014_S_0557, 014_S_0558, 014_S_0563, 037_S_0566, 033_S_0567, 031_S_0568, 013_S_0575, 036_S_0576, 062_S_0578, 136_S_0579, 037_S_0588, 041_S_0598, 114_S_0601, 005_S_0602, 023_S_0604, 126_S_0605, 067_S_0607, 005_S_0610, 053_S_0621, 127_S_0622, 023_S_0625, 021_S_0626, 133_S_0629, 137_S_0631, 012_S_0634, 012_S_0637, 133_S_0638, 057_S_0643, 027_S_0644, 021_S_0647, 116_S_0648, 116_S_0649, 036_S_0656, 116_S_0657, 014_S_0658, 098_S_0667, 137_S_0668, 137_S_0669, 052_S_0671, 036_S_0672, 036_S_0673, 006_S_0675, 032_S_0677, 041_S_0679, 126_S_0680, 006_S_0681, 127_S_0684, 002_S_0685, 094_S_0692, 136_S_0695, 007_S_0698, 016_S_0702, 126_S_0709, 094_S_0711, 141_S_0717, 032_S_0718, 137_S_0722, 033_S_0723, 033_S_0725, 141_S_0726, 133_S_0727, 002_S_0729, 006_S_0731, 033_S_0734, 033_S_0739, 033_S_0741, 073_S_0746, 036_S_0748, 022_S_0750, 009_S_0751, 116_S_0752, 141_S_0767, 062_S_0768, 133_S_0771, 129_S_0778, 057_S_0779, 002_S_0782, 130_S_0783, 133_S_0792, 137_S_0800, 141_S_0810, 036_S_0813, 057_S_0818, 029_S_0824, 137_S_0825, 031_S_0830, 116_S_0834, 027_S_0835, 057_S_0839, 009_S_0842, 029_S_0843, 029_S_0845, 141_S_0851, 023_S_0855, 011_S_0856, 013_S_0860, 011_S_0861, 009_S_0862, 128_S_0863, 126_S_0865, 029_S_0866, 031_S_0867, 036_S_0869, 068_S_0872, 136_S_0873, 136_S_0874, 029_S_0878, 099_S_0880, 020_S_0883, 130_S_0886, 023_S_0887, 098_S_0896, 041_S_0898, 020_S_0899, 010_S_0904, 033_S_0906, 003_S_0907, 003_S_0908, 073_S_0909, 133_S_0912, 133_S_0913, 029_S_0914, 141_S_0915, 053_S_0919, 033_S_0920, 094_S_0921, 033_S_0922, 033_S_0923, 127_S_0925, 023_S_0926, 082_S_0928, 012_S_0932, 057_S_0934, 057_S_0941, 036_S_0945, 128_S_0947, 109_S_0950, 052_S_0951, 052_S_0952, 002_S_0954, 022_S_0961, 023_S_0963, 109_S_0967, 130_S_0969, 137_S_0972, 036_S_0976, 032_S_0978, 003_S_0981, 141_S_0982, 024_S_0985, 132_S_0987, 137_S_0994, 035_S_0997, 041_S_1002, 141_S_1004, 057_S_1007, 012_S_1009, 041_S_1010, 109_S_1014, 033_S_1016, 036_S_1023, 016_S_1028, 009_S_1030, 127_S_1032, 012_S_1033, 099_S_1034, 013_S_1035, 051_S_1040, 128_S_1043, 027_S_1045, 023_S_1046, 141_S_1052, 052_S_1054, 003_S_1057, 024_S_1063, 031_S_1066, 002_S_1070, 051_S_1072, 029_S_1073, 037_S_1078, 011_S_1080, 033_S_1086, 128_S_1088, 141_S_1094, 033_S_1098, 062_S_1099, 114_S_1103, 114_S_1106, 109_S_1114, 033_S_1116, 016_S_1117, 114_S_1118, 082_S_1119, 013_S_1120, 016_S_1121, 003_S_1122, 051_S_1123, 023_S_1126, 006_S_1130, 051_S_1131, 012_S_1133, 036_S_1135, 127_S_1140, 128_S_1148, 002_S_1155, 012_S_1165, 052_S_1168, 032_S_1169, 062_S_1182, 109_S_1183, 013_S_1186, 126_S_1187, 094_S_1188, 023_S_1190, 941_S_1194, 941_S_1197, 130_S_1200, 941_S_1202, 007_S_1206, 027_S_1213, 029_S_1215, 057_S_1217, 007_S_1222, 005_S_1224, 037_S_1225, 136_S_1227, 116_S_1232, 036_S_1240, 094_S_1241, 128_S_1242, 116_S_1243, 141_S_1245, 129_S_1246, 023_S_1247, 116_S_1249, 052_S_1250, 052_S_1251, 141_S_1255, 082_S_1256, 041_S_1260, 002_S_1261, 057_S_1265, 094_S_1267, 002_S_1268, 057_S_1269, 116_S_1271, 013_S_1275, 027_S_1277, 033_S_1279, 002_S_1280, 011_S_1282, 033_S_1284, 020_S_1288, 012_S_1292, 094_S_1293, 062_S_1299, 123_S_1300, 131_S_1301, 033_S_1309, 941_S_1311, 116_S_1315, 029_S_1318, 012_S_1321, 121_S_1322, 016_S_1326, 051_S_1331, 109_S_1343, 052_S_1346, 022_S_1351, 052_S_1352, 029_S_1384, 027_S_1387, 131_S_1389, 024_S_1393, 022_S_1394, 094_S_1398, 128_S_1407, 128_S_1408, 041_S_1412, 137_S_1414, 094_S_1417, 041_S_1418, 127_S_1419, 037_S_1421, 041_S_1423, 041_S_1425, 137_S_1426, 127_S_1427\n"
     ]
    }
   ],
   "source": [
    "df_labels = pd.read_csv(\"data/AD_time_to_dx.csv\")\n",
    "\n",
    "full_patients_list = df_labels[\"PTID\"].values\n",
    "\n",
    "print(f\"Number of patients in AD_time_to_dx.csv: {len(unique_items_in_list(full_patients_list))}\\n\\n\")\n",
    "\n",
    "print(f\"List of {len(unique_items_in_list(full_patients_list))} Patients:\\n\")\n",
    "print(*full_patients_list, sep=\", \")"
   ]
  },
  {
   "cell_type": "markdown",
   "id": "cb1ee9d8",
   "metadata": {},
   "source": [
    "# Script to get patient ids and scan dates\n",
    "\n",
    "### After downloading the meta data of all MRI scans of all patient in the AD_time_to_dx.csv file, this script explores the most common types of scans and their dates"
   ]
  },
  {
   "cell_type": "code",
   "execution_count": 5,
   "id": "f2673095",
   "metadata": {
    "scrolled": true
   },
   "outputs": [
    {
     "name": "stderr",
     "output_type": "stream",
     "text": [
      "100%|████████████████████████████████████████████████████████████████████████████████████████████████████████████████████████████████████████████████████████████████████████| 35212/35212 [00:34<00:00, 1019.09it/s]\n"
     ]
    },
    {
     "name": "stdout",
     "output_type": "stream",
     "text": [
      "   patient_id              group              scan_date\n",
      "0  002_S_0295  3-plane_localizer  2006-04-18_08_19_08.0\n",
      "1  002_S_0295  3-plane_localizer  2006-11-02_08_15_08.0\n",
      "2  002_S_0295  3-plane_localizer  2007-05-25_07_06_39.0\n",
      "3  002_S_0295  3-plane_localizer  2007-05-25_07_10_07.0\n",
      "4  002_S_0295  3-plane_localizer  2008-07-23_14_49_54.0\n",
      "\n",
      "\n",
      "Number of distinct patients in metadata = 495\n",
      "\n",
      "Number of unique patients per scan group:\n",
      "group\n",
      "MPRAGE                  311\n",
      "MPRAGE_Repeat           247\n",
      "Axial_PD-T2_TSE         246\n",
      "MP-RAGE                 241\n",
      "B1-calibration_Head     231\n",
      "                       ... \n",
      "DOUBLE_TSE_SENSE          1\n",
      "Double_TSE-3rdRepeat      1\n",
      "Double_TSE-repeat         1\n",
      "FLAIR                     1\n",
      "tgse_pcasl_PLD2000        1\n",
      "Name: patient_id, Length: 352, dtype: int64\n",
      "\n",
      "Patient IDs with MPRAGE scans:\n",
      "\n",
      "['002_S_0295' '002_S_0413' '002_S_0685' '002_S_0729' '002_S_0954'\n",
      " '002_S_1070' '002_S_1155' '002_S_1261' '002_S_1268' '002_S_1280'\n",
      " '003_S_0907' '003_S_0908' '003_S_0981' '003_S_1057' '003_S_1122'\n",
      " '006_S_0498' '006_S_0731' '009_S_0751' '009_S_0842' '009_S_1030'\n",
      " '010_S_0067' '010_S_0419' '010_S_0422' '010_S_0472' '010_S_0904'\n",
      " '011_S_0005' '011_S_0016' '011_S_0021' '011_S_0022' '011_S_0023'\n",
      " '011_S_0168' '011_S_0241' '011_S_0326' '011_S_0362' '011_S_0856'\n",
      " '011_S_0861' '011_S_1080' '011_S_1282' '012_S_0634' '012_S_0637'\n",
      " '012_S_0932' '012_S_1009' '012_S_1033' '012_S_1133' '012_S_1165'\n",
      " '012_S_1292' '012_S_1321' '013_S_0240' '013_S_0325' '013_S_0502'\n",
      " '013_S_0575' '013_S_0860' '013_S_1035' '013_S_1120' '013_S_1186'\n",
      " '013_S_1275' '016_S_0354' '016_S_0359' '016_S_0538' '016_S_0702'\n",
      " '016_S_1028' '016_S_1117' '016_S_1121' '016_S_1326' '018_S_0043'\n",
      " '018_S_0057' '018_S_0080' '018_S_0087' '018_S_0142' '018_S_0155'\n",
      " '018_S_0369' '018_S_0406' '018_S_0425' '018_S_0450' '020_S_0097'\n",
      " '020_S_0883' '020_S_0899' '020_S_1288' '021_S_0332' '022_S_0004'\n",
      " '022_S_0014' '022_S_0066' '022_S_0096' '022_S_0130' '022_S_0544'\n",
      " '022_S_0750' '022_S_1394' '023_S_0030' '023_S_0031' '023_S_0042'\n",
      " '023_S_0058' '023_S_0061' '023_S_0081' '023_S_0126' '023_S_0217'\n",
      " '023_S_0331' '023_S_0376' '023_S_0388' '023_S_0604' '023_S_0625'\n",
      " '023_S_0855' '023_S_0887' '023_S_0926' '023_S_0963' '023_S_1046'\n",
      " '023_S_1126' '023_S_1190' '023_S_1247' '027_S_0307' '027_S_0403'\n",
      " '027_S_0835' '027_S_1277' '027_S_1387' '031_S_0568' '031_S_0830'\n",
      " '031_S_1066' '032_S_0095' '032_S_0187' '032_S_0214' '032_S_0479'\n",
      " '032_S_0677' '032_S_0718' '032_S_0978' '032_S_1169' '033_S_0514'\n",
      " '033_S_0725' '033_S_0920' '033_S_0922' '033_S_1016' '033_S_1086'\n",
      " '033_S_1098' '033_S_1116' '033_S_1279' '033_S_1309' '035_S_0033'\n",
      " '035_S_0048' '035_S_0156' '035_S_0204' '035_S_0292' '035_S_0555'\n",
      " '035_S_0997' '036_S_0576' '036_S_0656' '036_S_0672' '036_S_0673'\n",
      " '036_S_0748' '036_S_0813' '036_S_0869' '036_S_0945' '036_S_0976'\n",
      " '036_S_1023' '036_S_1135' '036_S_1240' '037_S_0150' '037_S_0303'\n",
      " '037_S_0454' '037_S_0467' '037_S_0501' '037_S_0566' '037_S_0588'\n",
      " '037_S_1078' '037_S_1225' '041_S_0125' '041_S_0262' '041_S_0282'\n",
      " '041_S_0314' '041_S_0446' '041_S_0549' '041_S_0598' '041_S_0679'\n",
      " '041_S_0898' '041_S_1002' '041_S_1010' '041_S_1260' '041_S_1412'\n",
      " '041_S_1418' '041_S_1423' '041_S_1425' '051_S_1040' '051_S_1072'\n",
      " '051_S_1123' '051_S_1131' '051_S_1331' '053_S_0507' '053_S_0919'\n",
      " '057_S_0464' '057_S_0643' '057_S_0779' '057_S_0818' '057_S_0839'\n",
      " '057_S_0934' '057_S_0941' '057_S_1007' '057_S_1217' '057_S_1265'\n",
      " '057_S_1269' '062_S_0578' '062_S_0768' '062_S_1099' '062_S_1182'\n",
      " '062_S_1299' '067_S_0019' '067_S_0038' '067_S_0056' '067_S_0059'\n",
      " '067_S_0077' '067_S_0098' '067_S_0176' '067_S_0177' '067_S_0284'\n",
      " '067_S_0290' '067_S_0336' '067_S_0607' '068_S_0210' '068_S_0473'\n",
      " '072_S_0315' '073_S_0089' '073_S_0311' '073_S_0312' '073_S_0386'\n",
      " '073_S_0518' '073_S_0746' '073_S_0909' '082_S_0928' '082_S_1119'\n",
      " '082_S_1256' '099_S_0040' '099_S_0051' '099_S_0054' '099_S_0060'\n",
      " '099_S_0090' '099_S_0111' '099_S_0291' '099_S_0352' '099_S_0533'\n",
      " '099_S_0534' '099_S_0551' '099_S_0880' '099_S_1034' '100_S_0069'\n",
      " '100_S_0296' '109_S_0950' '109_S_0967' '109_S_1014' '109_S_1114'\n",
      " '109_S_1183' '109_S_1343' '114_S_0166' '114_S_0173' '114_S_0378'\n",
      " '114_S_0410' '114_S_0416' '114_S_0458' '114_S_0601' '114_S_1103'\n",
      " '114_S_1106' '114_S_1118' '116_S_0382' '116_S_0649' '116_S_0752'\n",
      " '116_S_1232' '116_S_1249' '121_S_1322' '123_S_0072' '123_S_0106'\n",
      " '123_S_0108' '123_S_0113' '128_S_0863' '128_S_0947' '128_S_1043'\n",
      " '128_S_1088' '128_S_1148' '128_S_1242' '129_S_0778' '129_S_1246'\n",
      " '130_S_0969' '133_S_0433' '133_S_0488' '133_S_0525' '133_S_0629'\n",
      " '133_S_0638' '133_S_0727' '133_S_0771' '133_S_0792' '133_S_0912'\n",
      " '133_S_0913' '136_S_0107' '136_S_0186' '137_S_0301' '137_S_0668'\n",
      " '137_S_0722' '137_S_0800' '137_S_0972' '137_S_0994' '137_S_1414'\n",
      " '141_S_0717' '141_S_0726' '141_S_0767' '141_S_0810' '141_S_0851'\n",
      " '141_S_0915' '141_S_0982' '141_S_1004' '141_S_1052' '141_S_1094'\n",
      " '141_S_1245' '141_S_1255' '941_S_1194' '941_S_1197' '941_S_1202'\n",
      " '941_S_1311']\n"
     ]
    }
   ],
   "source": [
    "METADATA_ROOT_PATH = \"data/Patients_in_AD_time_to_dx_metadata\"\n",
    "\n",
    "df = None\n",
    "\n",
    "# dictionary with list object in values\n",
    "df_dict = {\n",
    "    'patient_id' : [],\n",
    "    'group' : [],\n",
    "    'scan_date' : []\n",
    "}\n",
    "\n",
    "full_patient_ids = get_file_list(METADATA_ROOT_PATH)\n",
    "\n",
    "for i in tqdm(range(len(full_patient_ids))):\n",
    "    pid = full_patient_ids[i]\n",
    "    GROUP_DIR_PATH = METADATA_ROOT_PATH + \"/\" + pid\n",
    "\n",
    "    # Ignore non-directory metadata at this level\n",
    "    if not os.path.isdir(GROUP_DIR_PATH):\n",
    "        continue\n",
    "\n",
    "    group_list = get_file_list(GROUP_DIR_PATH)\n",
    "\n",
    "    for group in group_list:\n",
    "        DATE_PATH = GROUP_DIR_PATH + \"/\" + group\n",
    "            \n",
    "        date_list = get_file_list(DATE_PATH)\n",
    "    \n",
    "        for date in date_list:\n",
    "            df_dict[\"patient_id\"].append(pid)\n",
    "            df_dict[\"group\"].append(group)\n",
    "            df_dict[\"scan_date\"].append(date)\n",
    "            \n",
    "\n",
    "# creating a Dataframe object \n",
    "df = pd.DataFrame(df_dict)\n",
    "\n",
    "df.to_csv(\"\\data\\adni_patient_scan_dates.csv\")\n",
    "\n",
    "print(df.head())\n",
    "\n",
    "print(f\"\\n\\nNumber of distinct patients in metadata = {len(df.patient_id.unique())}\\n\")\n",
    "\n",
    "df_groups = df.groupby('group')\n",
    "\n",
    "# For debugging purposes\n",
    "sorted_df_groups = df.group.unique()\n",
    "sorted_df_groups.sort()\n",
    "\n",
    "print(\"Number of unique patients per scan group:\")\n",
    "print(df_groups['patient_id'].nunique().sort_values(ascending=False), end=\"\\n\\n\")\n",
    "\n",
    "mprage_patient_list = df_groups.get_group('MPRAGE')['patient_id'].unique()\n",
    "\n",
    "print(\"Patient IDs with MPRAGE scans:\\n\")\n",
    "print(mprage_patient_list)"
   ]
  },
  {
   "cell_type": "markdown",
   "id": "6e642b17-1f91-4403-9a76-bfc038250215",
   "metadata": {},
   "source": [
    "#### It seems that among the 495 patients in the list, MPRAGE is the most common type of scan that they have (311 out of 495 patients)"
   ]
  },
  {
   "cell_type": "code",
   "execution_count": 6,
   "id": "8a0973fd-ce9f-4596-8934-d73763cb9f4e",
   "metadata": {},
   "outputs": [
    {
     "name": "stdout",
     "output_type": "stream",
     "text": [
      "AD_dx_in_5_yrs\n",
      "0    218\n",
      "1     93\n",
      "Name: count, dtype: int64\n"
     ]
    },
    {
     "data": {
      "image/png": "[encoded data removed]",
      "text/plain": [
       "<Figure size 640x480 with 1 Axes>"
      ]
     },
     "metadata": {},
     "output_type": "display_data"
    }
   ],
   "source": [
    "df_mprage_labels = df_labels[df_labels['PTID'].isin(mprage_patient_list)]\n",
    "\n",
    "diagnosis_value_counts = df_mprage_labels['AD_dx_in_5_yrs'].value_counts()\n",
    "\n",
    "print(diagnosis_value_counts)\n",
    "\n",
    "plt.hist(df_mprage_labels['AD_dx_in_5_yrs'], bins=3)\n",
    "plt.title('Distribution of the Patients and Labels')\n",
    "plt.xlabel('Diagnosis')\n",
    "plt.ylabel('Count')\n",
    "plt.show()"
   ]
  },
  {
   "cell_type": "markdown",
   "id": "464c9a6c-0eb5-4dd5-b070-8a90bc59a1dc",
   "metadata": {},
   "source": [
    "## Sample the Amount of Patients for an even split between 0 and 1\n",
    "\n",
    "### Because my RAM can't handle the entire dataset"
   ]
  },
  {
   "cell_type": "code",
   "execution_count": 7,
   "id": "2697c646-df0e-4c78-aeaf-e658b31158ac",
   "metadata": {},
   "outputs": [
    {
     "name": "stdout",
     "output_type": "stream",
     "text": [
      "93 patients with 0 value\n",
      "93 patients with 1 value\n"
     ]
    }
   ],
   "source": [
    "patients_AD_dx_in_5_yrs_0_list = df_mprage_labels[df_mprage_labels['AD_dx_in_5_yrs'] == 0]['PTID'].unique()[0:93]\n",
    "patients_AD_dx_in_5_yrs_1_list = df_mprage_labels[df_mprage_labels['AD_dx_in_5_yrs'] == 1]['PTID'].unique()[0:93]\n",
    "filtered_patients_list = np.concatenate((patients_AD_dx_in_5_yrs_0_list, patients_AD_dx_in_5_yrs_1_list), axis=0)\n",
    "\n",
    "print(f\"{len(patients_AD_dx_in_5_yrs_0_list)} patients with 0 value\\n{len(patients_AD_dx_in_5_yrs_1_list)} patients with 1 value\")"
   ]
  },
  {
   "cell_type": "markdown",
   "id": "9ef88475-49e3-4953-a15a-70b38f8e66f3",
   "metadata": {},
   "source": [
    "# Test Generating MRI Data Array for MPRAGE Scans"
   ]
  },
  {
   "cell_type": "markdown",
   "id": "43f30590-4615-4143-b2b3-3fd9b2e5bb8d",
   "metadata": {},
   "source": [
    "## Get Maximum number of images of a patient has in an MPRAGE Scan and show the distribution"
   ]
  },
  {
   "cell_type": "code",
   "execution_count": 8,
   "id": "db3f2f9b-8130-4faa-b353-7315f9d8a703",
   "metadata": {},
   "outputs": [
    {
     "name": "stderr",
     "output_type": "stream",
     "text": [
      "100%|█████████████████████████████████████████████████████████████████████████████████████████████████████████████████████████████████████████████████████████████████████████████| 311/311 [00:02<00:00, 143.29it/s]\n"
     ]
    },
    {
     "name": "stdout",
     "output_type": "stream",
     "text": [
      "Number of patients: 186\n",
      "\n",
      "Most number of images in an MP-RAGE scan: 184\n",
      "\n",
      "Least number of images in an MP-RAGE scan: 160\n",
      "\n"
     ]
    },
    {
     "data": {
      "image/png": "[encoded data removed]",
      "text/plain": [
       "<Figure size 640x480 with 1 Axes>"
      ]
     },
     "metadata": {},
     "output_type": "display_data"
    }
   ],
   "source": [
    "DATA_PATH = 'data/MPRAGE_data'\n",
    "\n",
    "patient_list = get_file_list(DATA_PATH)\n",
    "\n",
    "list_of_image_quantities = list()\n",
    "\n",
    "for i in tqdm(range(len(patient_list))):\n",
    "    patient_id = patient_list[i]\n",
    "\n",
    "    # temporarily limit amount of data\n",
    "    if patient_id not in filtered_patients_list:\n",
    "        continue\n",
    "    \n",
    "    PATIENT_ID_PATH = DATA_PATH + \"/\" + patient_id\n",
    "    \n",
    "    scan_list = get_file_list(PATIENT_ID_PATH)\n",
    "\n",
    "    is_group_scanned = False\n",
    "    \n",
    "    for scan_group in scan_list:\n",
    "        \n",
    "        # Scan first group only\n",
    "        if is_group_scanned:\n",
    "            continue\n",
    "            \n",
    "        if scan_group != \"MPRAGE\":\n",
    "            continue\n",
    "        else:\n",
    "            is_group_scanned = True\n",
    "            \n",
    "            array_list = list()\n",
    "\n",
    "            SCAN_PATH = PATIENT_ID_PATH + \"/\" + scan_group\n",
    "\n",
    "            date_list = get_file_list(SCAN_PATH)\n",
    "\n",
    "            date_list.sort()\n",
    "            \n",
    "            is_date_scanned = False\n",
    "            \n",
    "            for date in date_list:\n",
    "\n",
    "                # Use the first date only\n",
    "                if is_date_scanned:\n",
    "                    continue\n",
    "\n",
    "                is_date_scanned = True\n",
    "                \n",
    "                DATE_PATH = SCAN_PATH + \"/\" + date\n",
    "\n",
    "                id_list = get_file_list(DATE_PATH)\n",
    "\n",
    "                is_id_scanned = False\n",
    "                \n",
    "                for id in id_list:\n",
    "\n",
    "                    # Scan first ID only\n",
    "                    if is_id_scanned:\n",
    "                        continue\n",
    "            \n",
    "                    is_id_scanned = True\n",
    "                    \n",
    "                    ID_PATH = DATE_PATH + \"/\" + id\n",
    "                \n",
    "                    file_list = get_file_list(ID_PATH)\n",
    "\n",
    "                    list_of_image_quantities.append(len(file_list))\n",
    "\n",
    "max_images = max(list_of_image_quantities) # Use this variable in the next step\n",
    "min_images = min(list_of_image_quantities)\n",
    "\n",
    "print(f\"Number of patients: {len(list_of_image_quantities)}\\n\")\n",
    "print(f\"Most number of images in an MP-RAGE scan: {max_images}\\n\")\n",
    "print(f\"Least number of images in an MP-RAGE scan: {min_images}\\n\")\n",
    "\n",
    "plt.hist(list_of_image_quantities, bins=(max_images-min_images))\n",
    "plt.title('Distribution of the Number of Images Per Scan')\n",
    "plt.xlabel(f'Number of Images per scan ({len(list_of_image_quantities)} patients)')\n",
    "plt.ylabel('Occurences')\n",
    "plt.show()"
   ]
  },
  {
   "cell_type": "markdown",
   "id": "ba98010b-97d7-4669-a06e-b8d78ee2b00c",
   "metadata": {},
   "source": [
    "## Build Data and Label Arrays\n",
    "\n",
    "### The Data array is a 3D array that is a list of 256 x 256 pixel arrays (N x 256 x 256)\n",
    "### The Label array is a 2D array that is a list of single-digit labels (N x 1)"
   ]
  },
  {
   "cell_type": "code",
   "execution_count": 19,
   "id": "faa90b70-70fa-436d-b127-e22e67c32fc9",
   "metadata": {},
   "outputs": [
    {
     "name": "stderr",
     "output_type": "stream",
     "text": [
      "100%|██████████████████████████████████████████████████████████████████████████████████████████████████████████████████████████████████████████████████████████████████████████████| 311/311 [06:39<00:00,  1.28s/it]\n"
     ]
    },
    {
     "name": "stdout",
     "output_type": "stream",
     "text": [
      "Data Array Shape(50724, 256, 256)\n",
      "Data Array Size: 6648496128 bytes\n",
      "Data Array Size: 6 GiB\n"
     ]
    }
   ],
   "source": [
    "DATA_PATH = 'data/MPRAGE_data'\n",
    "\n",
    "# Create look-up dictionary for labels {\"patient_id\" : \"AD_dx_in_5_yrs\"}\n",
    "patient_label_dict = df_labels[['PTID','AD_dx_in_5_yrs']].set_index('PTID').to_dict()['AD_dx_in_5_yrs']\n",
    "\n",
    "patient_list = get_file_list(DATA_PATH)\n",
    "\n",
    "# Delete arrays if they exist\n",
    "if data_array:\n",
    "    del data_array\n",
    "    \n",
    "if label_array:\n",
    "    del label_array\n",
    "\n",
    "\n",
    "data_list = list()\n",
    "label_list = list()\n",
    "\n",
    "for i in tqdm(range(len(patient_list))):\n",
    "    \n",
    "    patient_id = patient_list[i]\n",
    "    \n",
    "    # temporarily limit amount of data\n",
    "    # if patient_id not in filtered_patients_list:\n",
    "    #     continue\n",
    "    \n",
    "    PATIENT_ID_PATH = DATA_PATH + \"/\" + patient_id\n",
    "    \n",
    "    scan_list = get_file_list(PATIENT_ID_PATH)\n",
    "    \n",
    "    is_group_scanned = False\n",
    "    \n",
    "    for scan_group in scan_list:\n",
    "\n",
    "        # Scan first group only\n",
    "        if is_group_scanned:\n",
    "            continue\n",
    "        \n",
    "        if scan_group != \"MPRAGE\":\n",
    "            continue\n",
    "        else:\n",
    "            is_group_scanned = True\n",
    "\n",
    "            SCAN_PATH = PATIENT_ID_PATH + \"/\" + scan_group\n",
    "\n",
    "            date_list = get_file_list(SCAN_PATH)\n",
    "\n",
    "            date_list.sort()\n",
    "            \n",
    "            is_date_scanned = False\n",
    "            \n",
    "            for date in date_list:\n",
    "\n",
    "                # Use the first date only\n",
    "                if is_date_scanned:\n",
    "                    continue\n",
    "                is_date_scanned = True\n",
    "                \n",
    "                DATE_PATH = SCAN_PATH + \"/\" + date\n",
    "\n",
    "                id_list = get_file_list(DATE_PATH)\n",
    "\n",
    "                is_id_scanned = False\n",
    "                \n",
    "                for id in id_list:\n",
    "\n",
    "                    # Scan first ID only\n",
    "                    if is_id_scanned:\n",
    "                        continue\n",
    "            \n",
    "                    is_id_scanned = True\n",
    "                    \n",
    "                    ID_PATH = DATE_PATH + \"/\" + id\n",
    "                \n",
    "                    file_list = get_file_list(ID_PATH)\n",
    "                    \n",
    "                    for file_name in file_list:\n",
    "                        np.set_printoptions()\n",
    "                        file_path = ID_PATH + \"/\" + file_name\n",
    "        \n",
    "                        dcm = pydicom.dcmread(file_path)\n",
    "                        \n",
    "                        pixel_array = dcm.pixel_array\n",
    "\n",
    "                        # Resize to (256, 256)\n",
    "                        if str(pixel_array.shape) != \"(256, 256)\":\n",
    "                            #print(pixel_array.shape)\n",
    "                            pixel_array = np.resize(pixel_array, (256, 256))\n",
    "                            #print(pixel_array.shape)\n",
    "                            \n",
    "                        # array_list.append(pixel_array)\n",
    "                        \n",
    "                        data_list.append(pixel_array)\n",
    "                        label_list.append(patient_label_dict[patient_id])\n",
    "\n",
    "                    # Fill missing spaces with arrays\n",
    "                    # cur_len = len(array_list)\n",
    "\n",
    "                    # for j in range(max_images-cur_len):\n",
    "                    #     array_list.append(np.zeros(shape=(256, 256)))\n",
    "\n",
    "    # output_list.append(array_list)\n",
    "\n",
    "data_array = np.array(data_list)\n",
    "label_array = np.array(label_list)\n",
    "print(\"Data Array Shape\" + str(data_array.shape))\n",
    "print(\"Data Array Size: %d bytes\" % (data_array. size * data_array. itemsize))\n",
    "print(\"Data Array Size: %d GiB\" % (data_array. size * data_array. itemsize / 1073741824))"
   ]
  },
  {
   "cell_type": "code",
   "execution_count": 20,
   "id": "0d6df23d-ead9-4789-9f8c-998d394ac2ac",
   "metadata": {},
   "outputs": [
    {
     "data": {
      "image/png": "[encoded data removed]",
      "text/plain": [
       "<Figure size 640x480 with 1 Axes>"
      ]
     },
     "metadata": {},
     "output_type": "display_data"
    }
   ],
   "source": [
    "plt.hist(label_array)\n",
    "plt.title('Distribution of the Number of Images')\n",
    "plt.xlabel(f'Number of Images per scan ({len(label_array)} images)')\n",
    "plt.ylabel('Occurences')\n",
    "plt.show()"
   ]
  },
  {
   "cell_type": "markdown",
   "id": "10943944-bcd5-42e1-80a4-88ecef0fab62",
   "metadata": {},
   "source": [
    "# Train Test Split"
   ]
  },
  {
   "cell_type": "code",
   "execution_count": 23,
   "id": "d91ad584-840d-43d8-9d30-33ece8809c0f",
   "metadata": {},
   "outputs": [
    {
     "ename": "NameError",
     "evalue": "name 'train_test_split' is not defined",
     "output_type": "error",
     "traceback": [
      "\u001b[0;31m---------------------------------------------------------------------------\u001b[0m",
      "\u001b[0;31mNameError\u001b[0m                                 Traceback (most recent call last)",
      "Cell \u001b[0;32mIn[23], line 1\u001b[0m\n\u001b[0;32m----> 1\u001b[0m X_train, X_test, y_train, y_test \u001b[38;5;241m=\u001b[39m \u001b[43mtrain_test_split\u001b[49m(data_array, label_array,\n\u001b[1;32m      2\u001b[0m                                    random_state\u001b[38;5;241m=\u001b[39m\u001b[38;5;241m104\u001b[39m, \n\u001b[1;32m      3\u001b[0m                                    test_size\u001b[38;5;241m=\u001b[39m\u001b[38;5;241m0.20\u001b[39m, \n\u001b[1;32m      4\u001b[0m                                    shuffle\u001b[38;5;241m=\u001b[39m\u001b[38;5;28;01mTrue\u001b[39;00m,\n\u001b[1;32m      5\u001b[0m                                    stratify\u001b[38;5;241m=\u001b[39mlabel_array\n\u001b[1;32m      6\u001b[0m                                   )\n",
      "\u001b[0;31mNameError\u001b[0m: name 'train_test_split' is not defined"
     ]
    }
   ],
   "source": [
    "X_train, X_test, y_train, y_test = train_test_split(data_array, label_array,\n",
    "                                   random_state=104, \n",
    "                                   test_size=0.20, \n",
    "                                   shuffle=True,\n",
    "                                   stratify=label_array\n",
    "                                  )"
   ]
  },
  {
   "cell_type": "markdown",
   "id": "0aa6432c-659f-40b4-a245-a47e5e3cd79d",
   "metadata": {},
   "source": [
    "# Build Model\n",
    "\n",
    "### Copy-pasted from the \"FFNN_DiabeticRetinopathy\" notebook"
   ]
  },
  {
   "cell_type": "code",
   "execution_count": null,
   "id": "0c700b22-75cf-49a8-b81c-dda5e4c34081",
   "metadata": {},
   "outputs": [],
   "source": [
    "tf.keras.backend.clear_session()\n",
    "tf.random.set_seed(0)\n",
    "\n",
    "# first layer: input\n",
    "input1 = tf.keras.layers.Input(shape=(224, 224, 1), name='Input')\n",
    "\n",
    "# second layer: flatten (transforms the format of the images (to a 1D array of 224*224 = 50176 pixels)\n",
    "# this layer has no params or weights to learn, it only reformats data\n",
    "input2 = tf.keras.layers.Flatten(name='Flatten')(input1)\n",
    "    \n",
    "# third layer: dense (i.e., the nodes are fully connected)\n",
    "# this layer has 12544 nodes (112 x 112 image), and it uses the activation function Rectified Linear Unit\n",
    "input3 = tf.keras.layers.Dense(units=12544, activation='relu', name='fc_1')(input2)\n",
    "    \n",
    "# forth layer: dense (i.e., the nodes are fully connected)\n",
    "# this layer has 3136 nodes (56 x 56 image), and it uses the activation function Rectified Linear Unit\n",
    "input4 = tf.keras.layers.Dense(units=3136, activation='relu', name='fc_2')(input3)\n",
    "    \n",
    "# fifth layer: dense (i.e., the nodes are fully connected)\n",
    "# this layer has 784 nodes (28 x 28), and it uses the activation function Rectified Linear Unit\n",
    "input5 = tf.keras.layers.Dense(units=784, activation='relu', name='fc_3')(input4)\n",
    "\n",
    "# sixth layer: dropout\n",
    "# makes it so some of the nodes in a given layer don’t pass on their information to the next layer. \n",
    "# This helps with computation time (less parameters) and with overfitting.\n",
    "# each node in the third layer has a 0.3 probability of being dropped from the computation of the activations of the next layer. \n",
    "input6 = tf.keras.layers.Dropout(rate=0.3, name='Dropout')(input5)\n",
    "\n",
    "#the sixth (and last) layer, which is the output layer\n",
    "# this last layer sets the activation function to \"None\" in order to output the logits \n",
    "# logits = natural logarithm of the odds ratio\n",
    "# note that passing activation = \"sigmoid\" will return class memembership probabilities but\n",
    "# in TensorFlow logits are prefered for numerical stability\n",
    "# set units=1 to get a single output unit (remember it's a binary classification problem)\n",
    "out = tf.keras.layers.Dense(units=1, activation=None, name='fc_4')(input6)\n",
    "\n",
    "# instantiate the model\n",
    "model = tf.keras.models.Model(inputs=input1, outputs=out)"
   ]
  },
  {
   "cell_type": "code",
   "execution_count": null,
   "id": "b54512ce-4044-4c42-80f5-b56cffa15d45",
   "metadata": {},
   "outputs": [],
   "source": [
    "model.compile(optimizer=tf.keras.optimizers.Adam(),\n",
    "              loss=tf.keras.losses.BinaryCrossentropy(from_logits=True),  \n",
    "              # ^ because our last layer does not apply sigmoid, by specifying from logits=True, the loss function applies the sigmoid function internally\n",
    "              # ^ it's more efficient than doing it manually\n",
    "              metrics=['accuracy']) # you can add other metrics here"
   ]
  }
 ],
 "metadata": {
  "kernelspec": {
   "display_name": "Python 3 (ipykernel)",
   "language": "python",
   "name": "python3"
  },
  "language_info": {
   "codemirror_mode": {
    "name": "ipython",
    "version": 3
   },
   "file_extension": ".py",
   "mimetype": "text/x-python",
   "name": "python",
   "nbconvert_exporter": "python",
   "pygments_lexer": "ipython3",
   "version": "3.11.5"
  }
 },
 "nbformat": 4,
 "nbformat_minor": 5
}
