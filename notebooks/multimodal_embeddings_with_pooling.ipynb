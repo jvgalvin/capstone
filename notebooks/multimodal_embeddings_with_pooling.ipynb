{
 "cells": [
  {
   "cell_type": "code",
   "execution_count": 1,
   "id": "441ca1bc",
   "metadata": {},
   "outputs": [
    {
     "name": "stderr",
     "output_type": "stream",
     "text": [
      "/Users/johngalvin/miniforge3/lib/python3.9/site-packages/scipy/__init__.py:146: UserWarning: A NumPy version >=1.16.5 and <1.23.0 is required for this version of SciPy (detected version 1.24.2\n",
      "  warnings.warn(f\"A NumPy version >={np_minversion} and <{np_maxversion}\"\n"
     ]
    }
   ],
   "source": [
    "import pandas as pd\n",
    "import numpy as np\n",
    "import tensorflow as tf\n",
    "import pydicom\n",
    "import os\n",
    "\n",
    "from sklearn.model_selection import train_test_split\n",
    "from sklearn.preprocessing import LabelEncoder, MinMaxScaler, StandardScaler\n",
    "from sklearn.model_selection import StratifiedKFold\n",
    "from sklearn.metrics import precision_recall_curve, auc, accuracy_score\n",
    "from imblearn.over_sampling import SMOTE\n",
    "from tensorflow.keras.applications.vgg16 import VGG16\n",
    "from tensorflow.keras.layers.experimental.preprocessing import RandomFlip, RandomRotation, RandomZoom\n",
    "from imblearn.over_sampling import RandomOverSampler\n",
    "from PIL import Image\n",
    "\n",
    "import matplotlib.pyplot as plt\n",
    "%matplotlib inline\n",
    "\n",
    "pd.set_option('display.max_columns', 500)"
   ]
  },
  {
   "cell_type": "markdown",
   "id": "d4f5d3fa",
   "metadata": {},
   "source": [
    "# Approach\n",
    "\n",
    "1. Fine-tune VGG16 on OASIS dataset \n",
    "2. Use fine-tuned VGG16 to extract features from ADNI images\n",
    "3. Pool the feature vectors for each patient into a single vector\n",
    "4. Concatenate the pooled vector with the clinical/genetic data\n",
    "5. Train model\n",
    "\n",
    "# What is in this notebook?\n",
    "1. Fine-tuned VGG16 model\n",
    "2. Neural network for ADNI prediction (our task)\n",
    "3. SVC for ADNI prediction (our task)\n",
    "4. Image-only neural network for ADNI prediction (our task)\n",
    "\n",
    "Note that all 4 models in this notebook are trained on data that was passed through the VGG16 feature extractor."
   ]
  },
  {
   "cell_type": "markdown",
   "id": "e33da297",
   "metadata": {},
   "source": [
    "## Fine-tune VGG16 on OASIS dataset\n",
    "\n",
    "Note: We must retrain a portion of the trunk since we will remove the head we attach here to generate embeddings later on."
   ]
  },
  {
   "cell_type": "code",
   "execution_count": 2,
   "id": "1e4e557f",
   "metadata": {},
   "outputs": [],
   "source": [
    "NUM_CLASSES = 1\n",
    "IMG_SIZE = (224,224) # Expected size for VGG16\n",
    "NUM_EPOCHS = 15\n",
    "BATCH_SIZE = 64\n",
    "LR = 0.01"
   ]
  },
  {
   "cell_type": "code",
   "execution_count": 3,
   "id": "86f37c8c",
   "metadata": {},
   "outputs": [],
   "source": [
    "# Load and convert images to .jpeg\n",
    "img_dir = \"/Users/johngalvin/Desktop/OASIS/0/\"\n",
    "\n",
    "for file in os.listdir(img_dir):\n",
    "    if file.endswith(\".JPG\") or file.endswith(\".jpg\"):\n",
    "        img = Image.open(img_dir + file)\n",
    "        file_name, file_ext = os.path.splitext(file)\n",
    "        new_name = file_name + \".jpeg\"\n",
    "        img.save(img_dir + new_name)\n",
    "        \n",
    "img_dir = \"/Users/johngalvin/Desktop/OASIS/1/\"\n",
    "\n",
    "for file in os.listdir(img_dir):\n",
    "    if file.endswith(\".JPG\") or file.endswith(\".jpg\"):\n",
    "        img = Image.open(img_dir + file)\n",
    "        file_name, file_ext = os.path.splitext(file)\n",
    "        new_name = file_name + \".jpeg\"\n",
    "        img.save(img_dir + new_name)"
   ]
  },
  {
   "cell_type": "code",
   "execution_count": 4,
   "id": "c4a14f7e",
   "metadata": {},
   "outputs": [],
   "source": [
    "# Delete the .JPG and.jpg files\n",
    "img_dir = \"/Users/johngalvin/Desktop/OASIS/0/\"\n",
    "for file in os.listdir(img_dir):\n",
    "    if file.endswith(\".JPG\") or file.endswith(\".jpg\"):\n",
    "        path_to_file = os.path.join(\"/Users/johngalvin/Desktop/OASIS/0/\", file)\n",
    "        os.remove(path_to_file)\n",
    "        \n",
    "img_dir = \"/Users/johngalvin/Desktop/OASIS/1/\"\n",
    "for file in os.listdir(img_dir):\n",
    "    if file.endswith(\".JPG\") or file.endswith(\".jpg\"):\n",
    "        path_to_file = os.path.join(\"/Users/johngalvin/Desktop/OASIS/1/\", file)\n",
    "        os.remove(path_to_file)"
   ]
  },
  {
   "cell_type": "code",
   "execution_count": 5,
   "id": "2585cf14",
   "metadata": {},
   "outputs": [],
   "source": [
    "targets = []\n",
    "arrays = []\n",
    "\n",
    "img_dir = \"/Users/johngalvin/Desktop/OASIS/0/\"\n",
    "for file in os.listdir(img_dir):\n",
    "    fpath = os.path.join(\"/Users/johngalvin/Desktop/OASIS/0/\", file)\n",
    "    img = Image.open(fpath).convert(\"L\")  # Convert the image to grayscale\n",
    "    resized_image = img.resize((224, 224), Image.BILINEAR)  # Resize the image\n",
    "    resized_array = np.expand_dims(np.array(resized_image, dtype=np.uint8), axis=-1)  # Convert to NumPy array and add channel dimension\n",
    "    targets.append(0)\n",
    "    arrays.append(resized_array)"
   ]
  },
  {
   "cell_type": "code",
   "execution_count": 6,
   "id": "14f05161",
   "metadata": {},
   "outputs": [],
   "source": [
    "img_dir = \"/Users/johngalvin/Desktop/OASIS/1/\"\n",
    "for file in os.listdir(img_dir):\n",
    "    fpath = os.path.join(\"/Users/johngalvin/Desktop/OASIS/1/\", file)\n",
    "    img = Image.open(fpath).convert(\"L\")  # Convert the image to grayscale\n",
    "    resized_image = img.resize((224, 224), Image.BILINEAR)  # Resize the image\n",
    "    resized_array = np.expand_dims(np.array(resized_image, dtype=np.uint8), axis=-1)  # Convert to NumPy array and add channel dimension\n",
    "    targets.append(1)\n",
    "    arrays.append(resized_array)\n",
    "    \n",
    "X = np.array(arrays)\n",
    "y = np.array(targets)"
   ]
  },
  {
   "cell_type": "code",
   "execution_count": 7,
   "id": "a223b4e6",
   "metadata": {},
   "outputs": [],
   "source": [
    "# Balance positive and negative class\n",
    "y = y[-y.sum()*2:]\n",
    "X = X[-y.sum()*2:]"
   ]
  },
  {
   "cell_type": "code",
   "execution_count": 9,
   "id": "6e94fecf",
   "metadata": {},
   "outputs": [],
   "source": [
    "# Split data\n",
    "X_train_set, X_test, y_train_set, y_test = train_test_split(X, y, test_size=0.2, random_state=42)\n",
    "\n",
    "# Reduce size to fit in memory\n",
    "X_train = X_train_set[:6000]\n",
    "y_train = y_train_set[:6000]\n",
    "X_val = X_train_set[6000:7000]\n",
    "y_val = y_train_set[6000:7000]\n",
    "X_test = X_test[:1000]\n",
    "y_test = y_test[:1000]\n",
    "\n",
    "# Scale data\n",
    "scaler = StandardScaler()\n",
    "\n",
    "num_samples, height, width, channels = X_train.shape\n",
    "X_train_reshaped = X_train.reshape(num_samples, -1)\n",
    "X_train_scaled_2d = scaler.fit_transform(X_train_reshaped)\n",
    "X_train_scaled = X_train_scaled_2d.reshape(num_samples, height, width, channels)\n",
    "\n",
    "num_samples, height, width, channels = X_val.shape\n",
    "X_val_reshaped = X_val.reshape(num_samples, -1)\n",
    "X_val_scaled_2d = scaler.transform(X_val_reshaped)\n",
    "X_val_scaled = X_val_scaled_2d.reshape(num_samples, height, width, channels)\n",
    "\n",
    "num_samples, height, width, channels = X_test.shape\n",
    "X_test_reshaped = X_test.reshape(num_samples, -1)\n",
    "X_test_scaled_2d = scaler.transform(X_test_reshaped)\n",
    "X_test_scaled = X_test_scaled_2d.reshape(num_samples, height, width, channels)"
   ]
  },
  {
   "cell_type": "code",
   "execution_count": 10,
   "id": "c1f2207a",
   "metadata": {},
   "outputs": [],
   "source": [
    "# Add channels (VGG16 expects 3 channels)\n",
    "X_train_rgb = np.repeat(X_train_scaled, 3, axis=-1)\n",
    "X_val_rgb = np.repeat(X_val_scaled, 3, axis=-1)\n",
    "X_test_rgb = np.repeat(X_test_scaled, 3, axis=-1)"
   ]
  },
  {
   "cell_type": "code",
   "execution_count": 11,
   "id": "6b4a6209",
   "metadata": {},
   "outputs": [],
   "source": [
    "def build_base_model():\n",
    "    \n",
    "    base_model = VGG16(include_top=False,\n",
    "                       input_shape= IMG_SIZE + (3,),\n",
    "                       weights=\"imagenet\")\n",
    "    base_model.trainable = False\n",
    "    \n",
    "    inputs = tf.keras.layers.Input(shape=IMG_SIZE + (3,))\n",
    "    x = base_model(inputs, training=False)\n",
    "    x = tf.keras.layers.GlobalAveragePooling2D()(x)\n",
    "    x = tf.keras.layers.Dense(512, activation=\"relu\")(x)\n",
    "    x = tf.keras.layers.Dropout(0.2)(x)\n",
    "    x = tf.keras.layers.Dense(256, activation=\"relu\")(x)\n",
    "    x = tf.keras.layers.Dropout(0.2)(x)\n",
    "    outputs = tf.keras.layers.Dense(NUM_CLASSES)(x)\n",
    "    \n",
    "    model = tf.keras.Model(inputs, outputs)\n",
    "    model.compile(loss=tf.keras.losses.BinaryCrossentropy(from_logits=True),\n",
    "                  optimizer=tf.keras.optimizers.Adam(learning_rate=LR),\n",
    "                  metrics=[\"accuracy\"])\n",
    "    \n",
    "    return model"
   ]
  },
  {
   "cell_type": "code",
   "execution_count": 12,
   "id": "84ceab19",
   "metadata": {},
   "outputs": [
    {
     "name": "stderr",
     "output_type": "stream",
     "text": [
      "2023-10-09 13:07:10.945549: I tensorflow/core/common_runtime/pluggable_device/pluggable_device_factory.cc:306] Could not identify NUMA node of platform GPU ID 0, defaulting to 0. Your kernel may not have been built with NUMA support.\n",
      "2023-10-09 13:07:10.945618: I tensorflow/core/common_runtime/pluggable_device/pluggable_device_factory.cc:272] Created TensorFlow device (/job:localhost/replica:0/task:0/device:GPU:0 with 0 MB memory) -> physical PluggableDevice (device: 0, name: METAL, pci bus id: <undefined>)\n"
     ]
    },
    {
     "name": "stdout",
     "output_type": "stream",
     "text": [
      "Metal device set to: Apple M2 Pro\n"
     ]
    }
   ],
   "source": [
    "base = build_base_model()"
   ]
  },
  {
   "cell_type": "code",
   "execution_count": 13,
   "id": "0897878a",
   "metadata": {},
   "outputs": [
    {
     "name": "stdout",
     "output_type": "stream",
     "text": [
      "Model: \"model\"\n",
      "_________________________________________________________________\n",
      " Layer (type)                Output Shape              Param #   \n",
      "=================================================================\n",
      " input_2 (InputLayer)        [(None, 224, 224, 3)]     0         \n",
      "                                                                 \n",
      " vgg16 (Functional)          (None, 7, 7, 512)         14714688  \n",
      "                                                                 \n",
      " global_average_pooling2d (G  (None, 512)              0         \n",
      " lobalAveragePooling2D)                                          \n",
      "                                                                 \n",
      " dense (Dense)               (None, 512)               262656    \n",
      "                                                                 \n",
      " dropout (Dropout)           (None, 512)               0         \n",
      "                                                                 \n",
      " dense_1 (Dense)             (None, 256)               131328    \n",
      "                                                                 \n",
      " dropout_1 (Dropout)         (None, 256)               0         \n",
      "                                                                 \n",
      " dense_2 (Dense)             (None, 1)                 257       \n",
      "                                                                 \n",
      "=================================================================\n",
      "Total params: 15,108,929\n",
      "Trainable params: 394,241\n",
      "Non-trainable params: 14,714,688\n",
      "_________________________________________________________________\n"
     ]
    }
   ],
   "source": [
    "base.summary()"
   ]
  },
  {
   "cell_type": "code",
   "execution_count": 15,
   "id": "cbc304e3",
   "metadata": {},
   "outputs": [
    {
     "name": "stderr",
     "output_type": "stream",
     "text": [
      "/Users/johngalvin/miniforge3/lib/python3.9/site-packages/tensorflow/python/data/ops/structured_function.py:256: UserWarning: Even though the `tf.config.experimental_run_functions_eagerly` option is set, this option does not apply to tf.data functions. To force eager execution of tf.data functions, please use `tf.data.experimental.enable_debug_mode()`.\n",
      "  warnings.warn(\n"
     ]
    },
    {
     "name": "stdout",
     "output_type": "stream",
     "text": [
      "Epoch 1/15\n"
     ]
    },
    {
     "name": "stderr",
     "output_type": "stream",
     "text": [
      "2023-10-09 13:08:20.667055: W tensorflow/tsl/platform/profile_utils/cpu_utils.cc:128] Failed to get CPU frequency: 0 Hz\n"
     ]
    },
    {
     "name": "stdout",
     "output_type": "stream",
     "text": [
      "94/94 [==============================] - 135s 1s/step - loss: 0.7013 - accuracy: 0.6078 - val_loss: 0.5591 - val_accuracy: 0.7510\n",
      "Epoch 2/15\n",
      "94/94 [==============================] - 130s 1s/step - loss: 0.4827 - accuracy: 0.7482 - val_loss: 0.4372 - val_accuracy: 0.7840\n",
      "Epoch 3/15\n",
      "94/94 [==============================] - 130s 1s/step - loss: 0.4431 - accuracy: 0.7807 - val_loss: 0.5232 - val_accuracy: 0.6980\n",
      "Epoch 4/15\n",
      "94/94 [==============================] - 130s 1s/step - loss: 0.4280 - accuracy: 0.7872 - val_loss: 0.4101 - val_accuracy: 0.7880\n",
      "Epoch 5/15\n",
      "94/94 [==============================] - 130s 1s/step - loss: 0.4171 - accuracy: 0.7898 - val_loss: 0.4977 - val_accuracy: 0.6870\n",
      "Epoch 6/15\n",
      "94/94 [==============================] - 130s 1s/step - loss: 0.4011 - accuracy: 0.8032 - val_loss: 0.3795 - val_accuracy: 0.8130\n",
      "Epoch 7/15\n",
      "94/94 [==============================] - 130s 1s/step - loss: 0.4326 - accuracy: 0.7785 - val_loss: 0.4021 - val_accuracy: 0.8200\n",
      "Epoch 8/15\n",
      "94/94 [==============================] - 130s 1s/step - loss: 0.4042 - accuracy: 0.8090 - val_loss: 0.3864 - val_accuracy: 0.7990\n",
      "Epoch 9/15\n",
      "94/94 [==============================] - 130s 1s/step - loss: 0.4021 - accuracy: 0.8115 - val_loss: 0.4211 - val_accuracy: 0.7640\n",
      "Epoch 10/15\n",
      "94/94 [==============================] - 130s 1s/step - loss: 0.4057 - accuracy: 0.8085 - val_loss: 0.4437 - val_accuracy: 0.7170\n",
      "Epoch 11/15\n",
      "94/94 [==============================] - 130s 1s/step - loss: 0.4185 - accuracy: 0.7920 - val_loss: 0.3740 - val_accuracy: 0.8310\n",
      "Epoch 12/15\n",
      "94/94 [==============================] - 131s 1s/step - loss: 0.4001 - accuracy: 0.7955 - val_loss: 0.3737 - val_accuracy: 0.8050\n",
      "Epoch 13/15\n",
      "94/94 [==============================] - 131s 1s/step - loss: 0.3971 - accuracy: 0.7960 - val_loss: 0.4352 - val_accuracy: 0.7660\n",
      "Epoch 14/15\n",
      "94/94 [==============================] - 130s 1s/step - loss: 0.3797 - accuracy: 0.8058 - val_loss: 0.4141 - val_accuracy: 0.8300\n",
      "Epoch 15/15\n",
      "94/94 [==============================] - 130s 1s/step - loss: 0.4089 - accuracy: 0.7965 - val_loss: 0.3835 - val_accuracy: 0.7900\n"
     ]
    }
   ],
   "source": [
    "tf.config.run_functions_eagerly(True)\n",
    "base_history = base.fit(X_train_rgb,\n",
    "                        y_train,\n",
    "                        validation_data=[X_val_rgb, y_val],\n",
    "                        epochs=NUM_EPOCHS,\n",
    "                        batch_size=BATCH_SIZE)"
   ]
  },
  {
   "cell_type": "code",
   "execution_count": 18,
   "id": "d03216bd",
   "metadata": {},
   "outputs": [
    {
     "name": "stdout",
     "output_type": "stream",
     "text": [
      "Epoch 1/10\n",
      "94/94 [==============================] - 147s 2s/step - loss: 0.3910 - accuracy: 0.8053 - val_loss: 0.3005 - val_accuracy: 0.8830\n",
      "Epoch 2/10\n",
      "94/94 [==============================] - 146s 2s/step - loss: 0.2805 - accuracy: 0.8708 - val_loss: 0.2324 - val_accuracy: 0.9120\n",
      "Epoch 3/10\n",
      "94/94 [==============================] - 146s 2s/step - loss: 0.2449 - accuracy: 0.8822 - val_loss: 0.1881 - val_accuracy: 0.9290\n",
      "Epoch 4/10\n",
      "94/94 [==============================] - 146s 2s/step - loss: 0.1801 - accuracy: 0.9165 - val_loss: 0.1854 - val_accuracy: 0.9200\n",
      "Epoch 5/10\n",
      "94/94 [==============================] - 144s 2s/step - loss: 0.1450 - accuracy: 0.9248 - val_loss: 0.1555 - val_accuracy: 0.9450\n",
      "Epoch 6/10\n",
      "94/94 [==============================] - 143s 2s/step - loss: 0.1135 - accuracy: 0.9337 - val_loss: 0.1337 - val_accuracy: 0.9390\n",
      "Epoch 7/10\n",
      "94/94 [==============================] - 144s 2s/step - loss: 0.0761 - accuracy: 0.9692 - val_loss: 0.1206 - val_accuracy: 0.9620\n",
      "Epoch 8/10\n",
      "94/94 [==============================] - 143s 2s/step - loss: 0.0558 - accuracy: 0.9822 - val_loss: 0.1525 - val_accuracy: 0.9390\n",
      "Epoch 9/10\n",
      "94/94 [==============================] - 143s 2s/step - loss: 0.0236 - accuracy: 0.9948 - val_loss: 0.0920 - val_accuracy: 0.9710\n",
      "Epoch 10/10\n",
      "94/94 [==============================] - 143s 2s/step - loss: 0.0123 - accuracy: 0.9972 - val_loss: 0.0865 - val_accuracy: 0.9640\n"
     ]
    }
   ],
   "source": [
    "base.trainable = True\n",
    "early_stopping = tf.keras.callbacks.EarlyStopping(monitor=\"val_loss\",\n",
    "                                                  patience=3,\n",
    "                                                  restore_best_weights=True)\n",
    "\n",
    "base.compile(loss=tf.keras.losses.BinaryCrossentropy(from_logits=True),\n",
    "             optimizer=tf.keras.optimizers.Adam(learning_rate=1e-5),\n",
    "             metrics=[\"accuracy\"])\n",
    "\n",
    "base_history_2 = base.fit(X_train_rgb,\n",
    "                          y_train,\n",
    "                          validation_data=[X_val_rgb, y_val],\n",
    "                          epochs=10,\n",
    "                          batch_size=BATCH_SIZE,\n",
    "                          callbacks=[early_stopping])"
   ]
  },
  {
   "cell_type": "code",
   "execution_count": 19,
   "id": "8d67ee9a",
   "metadata": {},
   "outputs": [
    {
     "name": "stdout",
     "output_type": "stream",
     "text": [
      "32/32 [==============================] - 6s 187ms/step - loss: 0.1406 - accuracy: 0.9560\n"
     ]
    },
    {
     "data": {
      "text/plain": [
       "[0.14064964652061462, 0.956000030040741]"
      ]
     },
     "execution_count": 19,
     "metadata": {},
     "output_type": "execute_result"
    }
   ],
   "source": [
    "base.evaluate(X_test_rgb, y_test)"
   ]
  },
  {
   "cell_type": "code",
   "execution_count": 21,
   "id": "babc6bbe",
   "metadata": {},
   "outputs": [],
   "source": [
    "feature_extractor = tf.keras.Model(base.input, base.get_layer(\"global_average_pooling2d\").output)"
   ]
  },
  {
   "cell_type": "code",
   "execution_count": 22,
   "id": "0098bcea",
   "metadata": {},
   "outputs": [
    {
     "name": "stdout",
     "output_type": "stream",
     "text": [
      "Model: \"model_1\"\n",
      "_________________________________________________________________\n",
      " Layer (type)                Output Shape              Param #   \n",
      "=================================================================\n",
      " input_2 (InputLayer)        [(None, 224, 224, 3)]     0         \n",
      "                                                                 \n",
      " vgg16 (Functional)          (None, 7, 7, 512)         14714688  \n",
      "                                                                 \n",
      " global_average_pooling2d (G  (None, 512)              0         \n",
      " lobalAveragePooling2D)                                          \n",
      "                                                                 \n",
      "=================================================================\n",
      "Total params: 14,714,688\n",
      "Trainable params: 14,714,688\n",
      "Non-trainable params: 0\n",
      "_________________________________________________________________\n"
     ]
    }
   ],
   "source": [
    "feature_extractor.summary()"
   ]
  },
  {
   "cell_type": "code",
   "execution_count": 23,
   "id": "2f6f803d",
   "metadata": {},
   "outputs": [
    {
     "name": "stdout",
     "output_type": "stream",
     "text": [
      "WARNING:tensorflow:Compiled the loaded model, but the compiled metrics have yet to be built. `model.compile_metrics` will be empty until you train or evaluate the model.\n"
     ]
    },
    {
     "name": "stderr",
     "output_type": "stream",
     "text": [
      "WARNING:absl:Found untraced functions such as _jit_compiled_convolution_op, _jit_compiled_convolution_op, _jit_compiled_convolution_op, _jit_compiled_convolution_op, _jit_compiled_convolution_op while saving (showing 5 of 13). These functions will not be directly callable after loading.\n"
     ]
    },
    {
     "name": "stdout",
     "output_type": "stream",
     "text": [
      "INFO:tensorflow:Assets written to: feature_extractor/feature_extractor_model/assets\n"
     ]
    },
    {
     "name": "stderr",
     "output_type": "stream",
     "text": [
      "INFO:tensorflow:Assets written to: feature_extractor/feature_extractor_model/assets\n"
     ]
    }
   ],
   "source": [
    "# Save the entire model as a SavedModel.\n",
    "!mkdir -p feature_extractor\n",
    "feature_extractor.save(\"feature_extractor/feature_extractor_model\")"
   ]
  },
  {
   "cell_type": "markdown",
   "id": "cdf785df",
   "metadata": {},
   "source": [
    "## Generate embeddings for ADNI images"
   ]
  },
  {
   "cell_type": "code",
   "execution_count": 9,
   "id": "66d78cb7",
   "metadata": {},
   "outputs": [
    {
     "name": "stdout",
     "output_type": "stream",
     "text": [
      "Error processing file /Users/johngalvin/Downloads/ADNI 4/035_S_7123/.DS_Store: File is missing DICOM File Meta Information header or the 'DICM' prefix is missing from the header. Use force=True to force reading.\n",
      "Error processing file /Users/johngalvin/Downloads/ADNI 4/035_S_7123/3_Plane_Localizer/.DS_Store: File is missing DICOM File Meta Information header or the 'DICM' prefix is missing from the header. Use force=True to force reading.\n",
      "Error processing file /Users/johngalvin/Downloads/ADNI 4/035_S_7123/3_Plane_Localizer/2023-03-14_14_17_49.0/.DS_Store: File is missing DICOM File Meta Information header or the 'DICM' prefix is missing from the header. Use force=True to force reading.\n",
      "Error processing file /Users/johngalvin/Downloads/ADNI 4/035_S_7123/Field_Mapping_phase_R-L/.DS_Store: File is missing DICOM File Meta Information header or the 'DICM' prefix is missing from the header. Use force=True to force reading.\n",
      "Error processing file /Users/johngalvin/Downloads/ADNI 4/035_S_7123/Field_Mapping_phase_R-L/2023-03-14_14_17_49.0/.DS_Store: File is missing DICOM File Meta Information header or the 'DICM' prefix is missing from the header. Use force=True to force reading.\n"
     ]
    }
   ],
   "source": [
    "pt_ids = []\n",
    "pixels = []\n",
    "\n",
    "directory_path = '/Users/johngalvin/Downloads/ADNI 4'\n",
    "\n",
    "# Iterate through level 2 subdirectories\n",
    "for level_2_foldername in os.listdir(directory_path):\n",
    "    level_2_folder_path = os.path.join(directory_path, level_2_foldername)\n",
    "    \n",
    "    if os.path.isdir(level_2_folder_path):\n",
    "        # Iterate through DICOM files in level 5 (bottom-most level) of each level 2 folder\n",
    "        for root, _, files in os.walk(level_2_folder_path):\n",
    "            for file in files:\n",
    "                try:\n",
    "                    file_path = os.path.abspath(os.path.join(root, file))\n",
    "                    \n",
    "                    # Attempt to read DICOM file\n",
    "                    dcm = pydicom.dcmread(file_path)\n",
    "                    \n",
    "                    # Check if the file has PixelData (to avoid non-image DICOM files)\n",
    "                    if hasattr(dcm, 'PixelData'):\n",
    "                        # Append both level 2 folder name and pixel array to the lists\n",
    "                        pt_ids.append(file[5:15])\n",
    "                        pixels.append(dcm.pixel_array)\n",
    "                except Exception as e:\n",
    "                    # Handle exceptions (e.g., files without 'TransferSyntaxUID')\n",
    "                    print(f\"Error processing file {file_path}: {e}\")"
   ]
  },
  {
   "cell_type": "code",
   "execution_count": 10,
   "id": "f9d37575",
   "metadata": {},
   "outputs": [],
   "source": [
    "directory_path = '/Users/johngalvin/Downloads/ADNI 5'\n",
    "\n",
    "# Iterate through level 2 subdirectories\n",
    "for level_2_foldername in os.listdir(directory_path):\n",
    "    level_2_folder_path = os.path.join(directory_path, level_2_foldername)\n",
    "    \n",
    "    if os.path.isdir(level_2_folder_path):\n",
    "        # Iterate through DICOM files in level 5 (bottom-most level) of each level 2 folder\n",
    "        for root, _, files in os.walk(level_2_folder_path):\n",
    "            for file in files:\n",
    "                try:\n",
    "                    file_path = os.path.abspath(os.path.join(root, file))\n",
    "                    \n",
    "                    # Attempt to read DICOM file\n",
    "                    dcm = pydicom.dcmread(file_path)\n",
    "                    \n",
    "                    # Check if the file has PixelData (to avoid non-image DICOM files)\n",
    "                    if hasattr(dcm, 'PixelData'):\n",
    "                        # Append both level 2 folder name and pixel array to the lists\n",
    "                        pt_ids.append(file[5:15])\n",
    "                        pixels.append(dcm.pixel_array)\n",
    "                except Exception as e:\n",
    "                    # Handle exceptions (e.g., files without 'TransferSyntaxUID')\n",
    "                    print(f\"Error processing file {file_path}: {e}\")\n",
    "                    \n",
    "# Create a DataFrame from the lists\n",
    "mri_df = pd.DataFrame({'PTID': pt_ids, 'Pixel Array': pixels})"
   ]
  },
  {
   "cell_type": "code",
   "execution_count": 4,
   "id": "83119559",
   "metadata": {},
   "outputs": [],
   "source": [
    "# Resize image arrays with Bilinear Interpolation\n",
    "resized_arrays = []\n",
    "ptids = []\n",
    "\n",
    "for i in range(len(mri_df)):\n",
    "    val = mri_df.loc[mri_df.index==i, \"Pixel Array\"].values[0]\n",
    "    ptid = mri_df.loc[mri_df.index==i, \"PTID\"].values[0]\n",
    "    \n",
    "    if val.ndim != 2:\n",
    "        pass\n",
    "    else:\n",
    "        image = Image.fromarray(val, mode='L')\n",
    "        resized_image = image.resize((224, 224), Image.BILINEAR)\n",
    "        resized_array = np.expand_dims(np.array(resized_image, dtype=np.uint8), axis=-1) #TF expects channel dim\n",
    "        resized_arrays.append(resized_array)\n",
    "        ptids.append(ptid)\n",
    "\n",
    "mri_df = pd.DataFrame()\n",
    "mri_df[\"PTID\"] = ptids\n",
    "mri_df[\"Pixel Array\"] = resized_arrays"
   ]
  },
  {
   "cell_type": "code",
   "execution_count": 5,
   "id": "22814860",
   "metadata": {},
   "outputs": [],
   "source": [
    "# Keep just the first 20 images for each patient (size/speed)\n",
    "mri_df = mri_df.groupby(\"PTID\").head(20)\n",
    "mri_df.reset_index(inplace=True)"
   ]
  },
  {
   "cell_type": "code",
   "execution_count": 6,
   "id": "883549c3",
   "metadata": {},
   "outputs": [],
   "source": [
    "# Add 3 channels for VGG16 (num_samples, 224, 224, 3) - after running this cell\n",
    "resized_arrays = []\n",
    "\n",
    "for i in range(len(mri_df[\"Pixel Array\"])):\n",
    "    resized_arrays.append(np.repeat(mri_df[\"Pixel Array\"][i], 3, axis=-1))\n",
    "    \n",
    "mri_df[\"Pixel Array\"] = resized_arrays"
   ]
  },
  {
   "cell_type": "code",
   "execution_count": 9,
   "id": "37dfb361",
   "metadata": {},
   "outputs": [],
   "source": [
    "# Read in med/famhist\n",
    "mf_hist = pd.read_csv('../data/clinical_training_data.csv')\n",
    "\n",
    "# Handle Nan\n",
    "mf_hist[\"APOE4\"] = mf_hist[\"APOE4\"].fillna(0)\n",
    "\n",
    "# For converting categorical variables to ints\n",
    "label_encoder = LabelEncoder()\n",
    "scaler = MinMaxScaler()\n",
    "\n",
    "# Split features / target\n",
    "X = mf_hist.drop(columns=['AD_dx_in_5_yrs', 'AD_dx_in_any_time', 'AD_dx_in_15_yrs',\n",
    "                          'AD_dx_in_10_yrs', 'AD_dx_in_4_yrs', 'AD_dx_in_3_yrs',\n",
    "                          'AD_dx_in_2_yrs', 'AD_dx_in_1_yr'])\n",
    "y = mf_hist['AD_dx_in_5_yrs']\n",
    "\n",
    "# Encode features\n",
    "X[\"Diagnosis_at_Baseline\"] = label_encoder.fit_transform(X[\"Diagnosis_at_Baseline\"])\n",
    "X[\"Gender\"] = label_encoder.fit_transform(X[\"Gender\"])\n",
    "X[\"Ethnicity\"] = label_encoder.fit_transform(X[\"Ethnicity\"])\n",
    "X[\"Race\"] = label_encoder.fit_transform(X[\"Race\"])\n",
    "\n",
    "# Split data\n",
    "X_train, X_test, y_train, y_test = train_test_split(X, y, test_size=0.2, random_state=42)\n",
    "X_train, X_val, y_train, y_val = train_test_split(X_train, y_train, test_size=0.2, random_state=42)"
   ]
  },
  {
   "cell_type": "code",
   "execution_count": 10,
   "id": "9b5205c5",
   "metadata": {},
   "outputs": [],
   "source": [
    "# Scale pixel data\n",
    "train_unscaled_mri_df = pd.merge(mri_df, X_train[[\"PTID\"]], on=\"PTID\", how=\"inner\")\n",
    "val_unscaled_mri_df = pd.merge(mri_df, X_val[[\"PTID\"]], on=\"PTID\", how=\"inner\")\n",
    "test_unscaled_mri_df = pd.merge(mri_df, X_test[[\"PTID\"]], on=\"PTID\", how=\"inner\")\n",
    "\n",
    "train_unscaled_arrays = np.array(train_unscaled_mri_df[\"Pixel Array\"].tolist())\n",
    "val_unscaled_arrays = np.array(val_unscaled_mri_df[\"Pixel Array\"].tolist())\n",
    "test_unscaled_arrays = np.array(test_unscaled_mri_df[\"Pixel Array\"].tolist())\n",
    "\n",
    "mean = np.mean(train_unscaled_arrays, axis=(0, 1, 2))\n",
    "std = np.std(train_unscaled_arrays, axis=(0, 1, 2))\n",
    "\n",
    "train_scaled_array = (train_unscaled_arrays - mean) / std\n",
    "val_scaled_array = (val_unscaled_arrays - mean) / std\n",
    "test_scaled_array = (test_unscaled_arrays - mean) / std"
   ]
  },
  {
   "cell_type": "code",
   "execution_count": 11,
   "id": "b2830793",
   "metadata": {},
   "outputs": [],
   "source": [
    "# Reorder labels (order changed when forming unscaled_mri_df)\n",
    "y_train_final = []\n",
    "for val in train_unscaled_mri_df[\"PTID\"].value_counts().index.values:\n",
    "    y_train_final.append(mf_hist.loc[mf_hist[\"PTID\"] == val, \"AD_dx_in_5_yrs\"].values[0])\n",
    "y_train_final = np.array(y_train_final)\n",
    "\n",
    "y_val_final = []\n",
    "for val in val_unscaled_mri_df[\"PTID\"].value_counts().index.values:\n",
    "    y_val_final.append(mf_hist.loc[mf_hist[\"PTID\"] == val, \"AD_dx_in_5_yrs\"].values[0])\n",
    "y_val_final = np.array(y_val_final)\n",
    "\n",
    "y_test_final = []\n",
    "for val in test_unscaled_mri_df[\"PTID\"].value_counts().index.values:\n",
    "    y_test_final.append(mf_hist.loc[mf_hist[\"PTID\"] == val, \"AD_dx_in_5_yrs\"].values[0])\n",
    "y_test_final = np.array(y_test_final)"
   ]
  },
  {
   "cell_type": "code",
   "execution_count": 12,
   "id": "97cb6e17",
   "metadata": {},
   "outputs": [
    {
     "name": "stdout",
     "output_type": "stream",
     "text": [
      "Mean: [28.22002876 28.22002876 28.22002876]\n",
      "STD: [31.90125356 31.90125356 31.90125356]\n"
     ]
    }
   ],
   "source": [
    "print (f'Mean: {mean}')\n",
    "print (f'STD: {std}')"
   ]
  },
  {
   "cell_type": "code",
   "execution_count": 13,
   "id": "7014d352",
   "metadata": {},
   "outputs": [
    {
     "name": "stderr",
     "output_type": "stream",
     "text": [
      "2023-10-15 14:07:45.480678: I tensorflow/core/common_runtime/pluggable_device/pluggable_device_factory.cc:306] Could not identify NUMA node of platform GPU ID 0, defaulting to 0. Your kernel may not have been built with NUMA support.\n",
      "2023-10-15 14:07:45.481107: I tensorflow/core/common_runtime/pluggable_device/pluggable_device_factory.cc:272] Created TensorFlow device (/job:localhost/replica:0/task:0/device:GPU:0 with 0 MB memory) -> physical PluggableDevice (device: 0, name: METAL, pci bus id: <undefined>)\n"
     ]
    },
    {
     "name": "stdout",
     "output_type": "stream",
     "text": [
      "Metal device set to: Apple M2 Pro\n",
      "WARNING:tensorflow:No training configuration found in save file, so the model was *not* compiled. Compile it manually.\n"
     ]
    }
   ],
   "source": [
    "# Load model\n",
    "feature_extractor = tf.keras.models.load_model(\"feature_extractor/feature_extractor_model\")"
   ]
  },
  {
   "cell_type": "markdown",
   "id": "6287400f",
   "metadata": {},
   "source": [
    "## Generate embeddings and pool"
   ]
  },
  {
   "cell_type": "code",
   "execution_count": 14,
   "id": "3796394f",
   "metadata": {},
   "outputs": [],
   "source": [
    "# Generate embeddings and pool\n",
    "patient_ids = []\n",
    "latent_reps = []\n",
    "\n",
    "start = 0\n",
    "for val in train_unscaled_mri_df[\"PTID\"].unique():\n",
    "    patient_ids.append(val)\n",
    "    num_imgs = len(train_unscaled_mri_df.loc[train_unscaled_mri_df[\"PTID\"] == val, \"Pixel Array\"].values.tolist())\n",
    "    \n",
    "    if num_imgs > 1:\n",
    "        features = feature_extractor(train_scaled_array[start:start + num_imgs]).numpy()\n",
    "        start += num_imgs\n",
    "        latent_rep = np.max(np.stack(features, axis=-1), axis=1)  # (512,), max pooling\n",
    "        latent_reps.append(latent_rep)\n",
    "    elif num_imgs == 1:\n",
    "        features = feature_extractor(train_scaled_array[start:start + num_imgs]).numpy()\n",
    "        latent_reps.append(features)\n",
    "        start += num_imgs\n",
    "    \n",
    "train_embeddings = pd.DataFrame()\n",
    "train_embeddings[\"PTID\"] = patient_ids\n",
    "train_embeddings[\"embedding\"] = latent_reps"
   ]
  },
  {
   "cell_type": "code",
   "execution_count": 15,
   "id": "7a375887",
   "metadata": {},
   "outputs": [],
   "source": [
    "# Generate embeddings and pool\n",
    "patient_ids = []\n",
    "latent_reps = []\n",
    "\n",
    "start = 0\n",
    "for val in val_unscaled_mri_df[\"PTID\"].unique():\n",
    "    patient_ids.append(val)\n",
    "    num_imgs = len(val_unscaled_mri_df.loc[val_unscaled_mri_df[\"PTID\"] == val, \"Pixel Array\"].values.tolist())\n",
    "    \n",
    "    if num_imgs > 1:\n",
    "        features = feature_extractor(val_scaled_array[start:start + num_imgs]).numpy()\n",
    "        start += num_imgs\n",
    "        latent_rep = np.max(np.stack(features, axis=-1), axis=1)  # (512,), max pooling\n",
    "        latent_reps.append(latent_rep)\n",
    "    elif num_imgs == 1:\n",
    "        features = feature_extractor(val_scaled_array[start:start + num_imgs]).numpy()\n",
    "        latent_reps.append(features)\n",
    "        start += num_imgs\n",
    "    \n",
    "val_embeddings = pd.DataFrame()\n",
    "val_embeddings[\"PTID\"] = patient_ids\n",
    "val_embeddings[\"embedding\"] = latent_reps"
   ]
  },
  {
   "cell_type": "code",
   "execution_count": 16,
   "id": "4c2312af",
   "metadata": {},
   "outputs": [],
   "source": [
    "# Generate embeddings and pool\n",
    "patient_ids = []\n",
    "latent_reps = []\n",
    "\n",
    "start = 0\n",
    "for val in test_unscaled_mri_df[\"PTID\"].unique():\n",
    "    patient_ids.append(val)\n",
    "    num_imgs = len(test_unscaled_mri_df.loc[test_unscaled_mri_df[\"PTID\"] == val, \"Pixel Array\"].values.tolist())\n",
    "    \n",
    "    if num_imgs > 1:\n",
    "        features = feature_extractor(test_scaled_array[start:start + num_imgs]).numpy()\n",
    "        start += num_imgs\n",
    "        latent_rep = np.max(np.stack(features, axis=-1), axis=1)  # (512,), max pooling\n",
    "        latent_reps.append(latent_rep)\n",
    "    elif num_imgs == 1:\n",
    "        features = feature_extractor(test_scaled_array[start:start + num_imgs]).numpy()\n",
    "        latent_reps.append(features)\n",
    "        start += num_imgs\n",
    "\n",
    "test_embeddings = pd.DataFrame()\n",
    "test_embeddings[\"PTID\"] = patient_ids\n",
    "test_embeddings[\"embedding\"] = latent_reps"
   ]
  },
  {
   "cell_type": "code",
   "execution_count": 17,
   "id": "1f9e90bf",
   "metadata": {},
   "outputs": [],
   "source": [
    "# Join back into X_train, X_test\n",
    "X_train = pd.merge(train_embeddings, X_train, on=\"PTID\")\n",
    "X_val = pd.merge(val_embeddings, X_val, on=\"PTID\")\n",
    "X_test = pd.merge(test_embeddings, X_test, on=\"PTID\")\n",
    "\n",
    "# Scale remaining data (clinical/genetic)\n",
    "embedding_column_train = X_train[\"embedding\"]\n",
    "embedding_column_val = X_val[\"embedding\"]\n",
    "embedding_column_test = X_test[\"embedding\"]\n",
    "\n",
    "columns_to_scale_train = X_train.drop(columns=[\"embedding\", \"PTID\"])\n",
    "columns_to_scale_val = X_val.drop(columns=[\"embedding\", \"PTID\"])\n",
    "columns_to_scale_test = X_test.drop(columns=[\"embedding\", \"PTID\"])\n",
    "\n",
    "scaled_train = scaler.fit_transform(columns_to_scale_train)\n",
    "scaled_val = scaler.transform(columns_to_scale_val)\n",
    "scaled_test = scaler.transform(columns_to_scale_test)\n",
    "\n",
    "X_train_scaled = pd.DataFrame(data=scaled_train, columns=columns_to_scale_train.columns)\n",
    "X_val_scaled = pd.DataFrame(data=scaled_val, columns=columns_to_scale_val.columns)\n",
    "X_test_scaled = pd.DataFrame(data=scaled_test, columns=columns_to_scale_test.columns)\n",
    "\n",
    "X_train_scaled[\"embedding\"] = embedding_column_train\n",
    "X_val_scaled[\"embedding\"] = embedding_column_val\n",
    "X_test_scaled[\"embedding\"] = embedding_column_test"
   ]
  },
  {
   "cell_type": "code",
   "execution_count": 161,
   "id": "4f6e8b69",
   "metadata": {},
   "outputs": [],
   "source": [
    "# Oversample\n",
    "ros = RandomOverSampler(random_state=42)\n",
    "X_train_resampled, y_train_resampled = ros.fit_resample(X_train_scaled, y_train_final)"
   ]
  },
  {
   "cell_type": "markdown",
   "id": "874e8f9a",
   "metadata": {},
   "source": [
    "## Concatenate pooled embedding with clinical/genetic feature vector"
   ]
  },
  {
   "cell_type": "code",
   "execution_count": 162,
   "id": "ad7f6359",
   "metadata": {},
   "outputs": [],
   "source": [
    "# Structure for training\n",
    "vector_column = X_train_resampled[\"embedding\"].values\n",
    "other_columns = X_train_resampled.drop(columns=[\"embedding\"]).values\n",
    "X_train_final = np.hstack((other_columns, np.vstack(vector_column)))\n",
    "\n",
    "# # Structure for training (no oversampling)\n",
    "# vector_column = X_train_scaled[\"embedding\"].values\n",
    "# other_columns = X_train_scaled.drop(columns=[\"embedding\"]).values\n",
    "# X_train_final = np.hstack((other_columns, np.vstack(vector_column)))\n",
    "\n",
    "vector_column = X_val_scaled[\"embedding\"].values\n",
    "other_columns = X_val_scaled.drop(columns=[\"embedding\"]).values\n",
    "X_val_final = np.hstack((other_columns, np.vstack(vector_column)))\n",
    "\n",
    "# Structure for test\n",
    "vector_column = X_test_scaled[\"embedding\"].values\n",
    "other_columns = X_test_scaled.drop(columns=[\"embedding\"]).values\n",
    "X_test_final = np.hstack((other_columns, np.vstack(vector_column)))"
   ]
  },
  {
   "cell_type": "code",
   "execution_count": 163,
   "id": "7491ba80",
   "metadata": {},
   "outputs": [],
   "source": [
    "IN_FEATURES = X_train_final[0].shape[0]"
   ]
  },
  {
   "cell_type": "code",
   "execution_count": 167,
   "id": "f9880011",
   "metadata": {},
   "outputs": [],
   "source": [
    "def create_model(dropout=0.3, learning_rate=0.0001, l1_penalty=0.001, l2_penalty=0.001):\n",
    "    \"\"\"Builds classification model\"\"\"\n",
    "    \n",
    "    model = tf.keras.Sequential()\n",
    "    inputs = tf.keras.layers.Input(shape=(IN_FEATURES,), name=\"input_layer\") # (Batch, num_features)\n",
    "    \n",
    "    hidden_1 = tf.keras.layers.Dense(256, activation=\"relu\", kernel_regularizer=tf.keras.regularizers.L1L2(l1=l1_penalty, l2=l2_penalty), name=\"hidden_1\")(inputs)\n",
    "    hidden_1 = tf.keras.layers.Dropout(dropout)(hidden_1)\n",
    "    hidden_2 = tf.keras.layers.Dense(128, activation=\"relu\", kernel_regularizer=tf.keras.regularizers.L1L2(l1=l1_penalty, l2=l2_penalty), name=\"hidden_2\")(hidden_1)\n",
    "    hidden_2 = tf.keras.layers.Dropout(dropout)(hidden_2)\n",
    "    \n",
    "    classification = tf.keras.layers.Dense(1, activation=\"sigmoid\", name=\"classification_layer\")(hidden_1)\n",
    "    classification_model = tf.keras.Model(inputs=[inputs], outputs=[classification])\n",
    "    \n",
    "    classification_model.compile(optimizer=tf.keras.optimizers.Adam(learning_rate=learning_rate),\n",
    "                                 loss=tf.keras.losses.BinaryCrossentropy(from_logits=True), \n",
    "                                 metrics=\"accuracy\")\n",
    "\n",
    "    return classification_model"
   ]
  },
  {
   "cell_type": "code",
   "execution_count": 168,
   "id": "4bb04648",
   "metadata": {},
   "outputs": [],
   "source": [
    "model = create_model()"
   ]
  },
  {
   "cell_type": "code",
   "execution_count": 169,
   "id": "05da5fae",
   "metadata": {},
   "outputs": [
    {
     "name": "stdout",
     "output_type": "stream",
     "text": [
      "Epoch 1/100\n",
      "78/78 [==============================] - 2s 22ms/step - loss: 6.5049 - accuracy: 0.5081 - val_loss: 6.0726 - val_accuracy: 0.5144\n",
      "Epoch 2/100\n",
      "78/78 [==============================] - 2s 22ms/step - loss: 5.7016 - accuracy: 0.5258 - val_loss: 5.2757 - val_accuracy: 0.6394\n",
      "Epoch 3/100\n",
      "78/78 [==============================] - 2s 22ms/step - loss: 4.9811 - accuracy: 0.5476 - val_loss: 4.6315 - val_accuracy: 0.5913\n",
      "Epoch 4/100\n",
      "78/78 [==============================] - 2s 22ms/step - loss: 4.3363 - accuracy: 0.5516 - val_loss: 4.0627 - val_accuracy: 0.5385\n",
      "Epoch 5/100\n",
      "78/78 [==============================] - 2s 22ms/step - loss: 3.7669 - accuracy: 0.5831 - val_loss: 3.4913 - val_accuracy: 0.6683\n",
      "Epoch 6/100\n",
      "78/78 [==============================] - 2s 22ms/step - loss: 3.2705 - accuracy: 0.5863 - val_loss: 2.9642 - val_accuracy: 0.7548\n",
      "Epoch 7/100\n",
      "78/78 [==============================] - 2s 23ms/step - loss: 2.8427 - accuracy: 0.5960 - val_loss: 2.6463 - val_accuracy: 0.6394\n",
      "Epoch 8/100\n",
      "78/78 [==============================] - 2s 22ms/step - loss: 2.4707 - accuracy: 0.6137 - val_loss: 2.4352 - val_accuracy: 0.2740\n",
      "Epoch 9/100\n",
      "78/78 [==============================] - 2s 22ms/step - loss: 2.1749 - accuracy: 0.5863 - val_loss: 1.9983 - val_accuracy: 0.7115\n",
      "Epoch 10/100\n",
      "78/78 [==============================] - 2s 22ms/step - loss: 1.9293 - accuracy: 0.6145 - val_loss: 1.8559 - val_accuracy: 0.5769\n",
      "Epoch 11/100\n",
      "78/78 [==============================] - 2s 22ms/step - loss: 1.7405 - accuracy: 0.6210 - val_loss: 1.6987 - val_accuracy: 0.5962\n",
      "Epoch 12/100\n",
      "78/78 [==============================] - 2s 22ms/step - loss: 1.6077 - accuracy: 0.6323 - val_loss: 1.5878 - val_accuracy: 0.6106\n",
      "Epoch 13/100\n",
      "78/78 [==============================] - 2s 22ms/step - loss: 1.5253 - accuracy: 0.6065 - val_loss: 1.4453 - val_accuracy: 0.6971\n",
      "Epoch 14/100\n",
      "78/78 [==============================] - 2s 22ms/step - loss: 1.4586 - accuracy: 0.6105 - val_loss: 1.4431 - val_accuracy: 0.6250\n",
      "Epoch 15/100\n",
      "78/78 [==============================] - 2s 22ms/step - loss: 1.3931 - accuracy: 0.6194 - val_loss: 1.3472 - val_accuracy: 0.6779\n",
      "Epoch 16/100\n",
      "78/78 [==============================] - 2s 22ms/step - loss: 1.3407 - accuracy: 0.6218 - val_loss: 1.2688 - val_accuracy: 0.7067\n",
      "Epoch 17/100\n",
      "78/78 [==============================] - 2s 22ms/step - loss: 1.2947 - accuracy: 0.6250 - val_loss: 1.2616 - val_accuracy: 0.6731\n",
      "Epoch 18/100\n",
      "78/78 [==============================] - 2s 22ms/step - loss: 1.2540 - accuracy: 0.6194 - val_loss: 1.2481 - val_accuracy: 0.6346\n",
      "Epoch 19/100\n",
      "78/78 [==============================] - 2s 22ms/step - loss: 1.2191 - accuracy: 0.6242 - val_loss: 1.1835 - val_accuracy: 0.6731\n",
      "Epoch 20/100\n",
      "78/78 [==============================] - 2s 22ms/step - loss: 1.1851 - accuracy: 0.6202 - val_loss: 1.1626 - val_accuracy: 0.6827\n",
      "Epoch 21/100\n",
      "78/78 [==============================] - 2s 22ms/step - loss: 1.1569 - accuracy: 0.6250 - val_loss: 1.1151 - val_accuracy: 0.6875\n",
      "Epoch 22/100\n",
      "78/78 [==============================] - 2s 22ms/step - loss: 1.1276 - accuracy: 0.6323 - val_loss: 1.1465 - val_accuracy: 0.5962\n",
      "Epoch 23/100\n",
      "78/78 [==============================] - 2s 22ms/step - loss: 1.1063 - accuracy: 0.6339 - val_loss: 1.1082 - val_accuracy: 0.6154\n",
      "Epoch 24/100\n",
      "78/78 [==============================] - 2s 22ms/step - loss: 1.0972 - accuracy: 0.6073 - val_loss: 1.0962 - val_accuracy: 0.6154\n",
      "Epoch 25/100\n",
      "78/78 [==============================] - 2s 22ms/step - loss: 1.0644 - accuracy: 0.6226 - val_loss: 1.0719 - val_accuracy: 0.5962\n",
      "Epoch 26/100\n",
      "78/78 [==============================] - 2s 22ms/step - loss: 1.0422 - accuracy: 0.6177 - val_loss: 1.0451 - val_accuracy: 0.6394\n",
      "Epoch 27/100\n",
      "78/78 [==============================] - 2s 22ms/step - loss: 1.0228 - accuracy: 0.6387 - val_loss: 1.0580 - val_accuracy: 0.5769\n",
      "Epoch 28/100\n",
      "78/78 [==============================] - 2s 22ms/step - loss: 1.0114 - accuracy: 0.6129 - val_loss: 1.0696 - val_accuracy: 0.5096\n",
      "Epoch 29/100\n",
      "78/78 [==============================] - 2s 22ms/step - loss: 0.9955 - accuracy: 0.6468 - val_loss: 0.9744 - val_accuracy: 0.6827\n",
      "Epoch 30/100\n",
      "78/78 [==============================] - 2s 23ms/step - loss: 0.9805 - accuracy: 0.6266 - val_loss: 0.9590 - val_accuracy: 0.6923\n",
      "Epoch 31/100\n",
      "78/78 [==============================] - 2s 22ms/step - loss: 0.9685 - accuracy: 0.6266 - val_loss: 0.9539 - val_accuracy: 0.6827\n",
      "Epoch 32/100\n",
      "78/78 [==============================] - 2s 23ms/step - loss: 0.9557 - accuracy: 0.6258 - val_loss: 0.9542 - val_accuracy: 0.6442\n",
      "Epoch 33/100\n",
      "78/78 [==============================] - 2s 22ms/step - loss: 0.9402 - accuracy: 0.6290 - val_loss: 0.9587 - val_accuracy: 0.6154\n",
      "Epoch 34/100\n",
      "78/78 [==============================] - 2s 22ms/step - loss: 0.9301 - accuracy: 0.6379 - val_loss: 0.9794 - val_accuracy: 0.5481\n",
      "Epoch 35/100\n",
      "78/78 [==============================] - 2s 22ms/step - loss: 0.9220 - accuracy: 0.6339 - val_loss: 0.9471 - val_accuracy: 0.5913\n",
      "Epoch 36/100\n",
      "78/78 [==============================] - 2s 22ms/step - loss: 0.9160 - accuracy: 0.6234 - val_loss: 0.9642 - val_accuracy: 0.5481\n",
      "Epoch 37/100\n",
      "78/78 [==============================] - 2s 22ms/step - loss: 0.9044 - accuracy: 0.6194 - val_loss: 0.8994 - val_accuracy: 0.6683\n",
      "Epoch 38/100\n",
      "78/78 [==============================] - 2s 22ms/step - loss: 0.8959 - accuracy: 0.6266 - val_loss: 0.8632 - val_accuracy: 0.6875\n",
      "Epoch 39/100\n",
      "78/78 [==============================] - 2s 22ms/step - loss: 0.8896 - accuracy: 0.6234 - val_loss: 0.9118 - val_accuracy: 0.5913\n",
      "Epoch 40/100\n",
      "78/78 [==============================] - 2s 22ms/step - loss: 0.8783 - accuracy: 0.6435 - val_loss: 0.8995 - val_accuracy: 0.5962\n",
      "Epoch 41/100\n",
      "78/78 [==============================] - 2s 22ms/step - loss: 0.8702 - accuracy: 0.6323 - val_loss: 0.8708 - val_accuracy: 0.6587\n",
      "Epoch 42/100\n",
      "78/78 [==============================] - 2s 22ms/step - loss: 0.8668 - accuracy: 0.6371 - val_loss: 0.8197 - val_accuracy: 0.6971\n",
      "Epoch 43/100\n",
      "78/78 [==============================] - 2s 22ms/step - loss: 0.8637 - accuracy: 0.6234 - val_loss: 0.9093 - val_accuracy: 0.5625\n",
      "Epoch 44/100\n",
      "78/78 [==============================] - 2s 22ms/step - loss: 0.8525 - accuracy: 0.6242 - val_loss: 0.8484 - val_accuracy: 0.6635\n",
      "Epoch 45/100\n",
      "78/78 [==============================] - 2s 22ms/step - loss: 0.8491 - accuracy: 0.6290 - val_loss: 0.8477 - val_accuracy: 0.6635\n",
      "Epoch 46/100\n",
      "78/78 [==============================] - 2s 22ms/step - loss: 0.8411 - accuracy: 0.6258 - val_loss: 0.8394 - val_accuracy: 0.6635\n",
      "Epoch 47/100\n",
      "78/78 [==============================] - 2s 22ms/step - loss: 0.8346 - accuracy: 0.6355 - val_loss: 0.7942 - val_accuracy: 0.7019\n",
      "Epoch 48/100\n",
      "78/78 [==============================] - 2s 22ms/step - loss: 0.8312 - accuracy: 0.6290 - val_loss: 0.8001 - val_accuracy: 0.7019\n",
      "Epoch 49/100\n",
      "78/78 [==============================] - 2s 22ms/step - loss: 0.8287 - accuracy: 0.6435 - val_loss: 0.8263 - val_accuracy: 0.6683\n",
      "Epoch 50/100\n",
      "78/78 [==============================] - 2s 22ms/step - loss: 0.8253 - accuracy: 0.6298 - val_loss: 0.8010 - val_accuracy: 0.6731\n",
      "Epoch 51/100\n",
      "78/78 [==============================] - 2s 22ms/step - loss: 0.8238 - accuracy: 0.6234 - val_loss: 0.8561 - val_accuracy: 0.5529\n",
      "Epoch 52/100\n",
      "78/78 [==============================] - 2s 22ms/step - loss: 0.8130 - accuracy: 0.6298 - val_loss: 0.8504 - val_accuracy: 0.5817\n",
      "Epoch 53/100\n",
      "78/78 [==============================] - 2s 22ms/step - loss: 0.8125 - accuracy: 0.6298 - val_loss: 0.7911 - val_accuracy: 0.6731\n",
      "Epoch 54/100\n",
      "78/78 [==============================] - 2s 22ms/step - loss: 0.8104 - accuracy: 0.6290 - val_loss: 0.8489 - val_accuracy: 0.5577\n",
      "Epoch 55/100\n",
      "78/78 [==============================] - 2s 22ms/step - loss: 0.8034 - accuracy: 0.6460 - val_loss: 0.8097 - val_accuracy: 0.6442\n",
      "Epoch 56/100\n",
      "78/78 [==============================] - 2s 22ms/step - loss: 0.8008 - accuracy: 0.6387 - val_loss: 0.8293 - val_accuracy: 0.5962\n",
      "Epoch 57/100\n",
      "78/78 [==============================] - 2s 23ms/step - loss: 0.7976 - accuracy: 0.6298 - val_loss: 0.7998 - val_accuracy: 0.6490\n",
      "Epoch 58/100\n",
      "78/78 [==============================] - 2s 23ms/step - loss: 0.7952 - accuracy: 0.6331 - val_loss: 0.8183 - val_accuracy: 0.5962\n",
      "Epoch 59/100\n",
      "78/78 [==============================] - 2s 22ms/step - loss: 0.7989 - accuracy: 0.6169 - val_loss: 0.8481 - val_accuracy: 0.5288\n",
      "Epoch 60/100\n",
      "78/78 [==============================] - 2s 22ms/step - loss: 0.7916 - accuracy: 0.6218 - val_loss: 0.7484 - val_accuracy: 0.7067\n",
      "Epoch 61/100\n",
      "78/78 [==============================] - 2s 22ms/step - loss: 0.7867 - accuracy: 0.6476 - val_loss: 0.8219 - val_accuracy: 0.5865\n",
      "Epoch 62/100\n",
      "78/78 [==============================] - 2s 23ms/step - loss: 0.7851 - accuracy: 0.6258 - val_loss: 0.8248 - val_accuracy: 0.5577\n",
      "Epoch 63/100\n",
      "78/78 [==============================] - 2s 22ms/step - loss: 0.7794 - accuracy: 0.6266 - val_loss: 0.7848 - val_accuracy: 0.6538\n",
      "Epoch 64/100\n",
      "78/78 [==============================] - 2s 23ms/step - loss: 0.7833 - accuracy: 0.6258 - val_loss: 0.7952 - val_accuracy: 0.6394\n",
      "Epoch 65/100\n",
      "78/78 [==============================] - 2s 22ms/step - loss: 0.7729 - accuracy: 0.6411 - val_loss: 0.8263 - val_accuracy: 0.5481\n",
      "Epoch 66/100\n",
      "78/78 [==============================] - 2s 22ms/step - loss: 0.7745 - accuracy: 0.6282 - val_loss: 0.7967 - val_accuracy: 0.6058\n",
      "Epoch 67/100\n",
      "78/78 [==============================] - 2s 22ms/step - loss: 0.7749 - accuracy: 0.6306 - val_loss: 0.7939 - val_accuracy: 0.5962\n",
      "Epoch 68/100\n",
      "78/78 [==============================] - 2s 22ms/step - loss: 0.7702 - accuracy: 0.6290 - val_loss: 0.8092 - val_accuracy: 0.5577\n",
      "Epoch 69/100\n",
      "78/78 [==============================] - 2s 22ms/step - loss: 0.7684 - accuracy: 0.6274 - val_loss: 0.8138 - val_accuracy: 0.5577\n",
      "Epoch 70/100\n",
      "78/78 [==============================] - 2s 23ms/step - loss: 0.7664 - accuracy: 0.6323 - val_loss: 0.7838 - val_accuracy: 0.6298\n",
      "Epoch 71/100\n",
      "78/78 [==============================] - 2s 23ms/step - loss: 0.7638 - accuracy: 0.6323 - val_loss: 0.7567 - val_accuracy: 0.6442\n",
      "Epoch 72/100\n",
      "78/78 [==============================] - 2s 22ms/step - loss: 0.7608 - accuracy: 0.6347 - val_loss: 0.7247 - val_accuracy: 0.6971\n",
      "Epoch 73/100\n",
      "78/78 [==============================] - 2s 22ms/step - loss: 0.7610 - accuracy: 0.6290 - val_loss: 0.7664 - val_accuracy: 0.6346\n",
      "Epoch 74/100\n",
      "78/78 [==============================] - 2s 23ms/step - loss: 0.7567 - accuracy: 0.6395 - val_loss: 0.7855 - val_accuracy: 0.6058\n",
      "Epoch 75/100\n",
      "78/78 [==============================] - 2s 22ms/step - loss: 0.7556 - accuracy: 0.6371 - val_loss: 0.7990 - val_accuracy: 0.5577\n",
      "Epoch 76/100\n",
      "78/78 [==============================] - 2s 22ms/step - loss: 0.7549 - accuracy: 0.6315 - val_loss: 0.7837 - val_accuracy: 0.5865\n",
      "Epoch 77/100\n",
      "78/78 [==============================] - 2s 22ms/step - loss: 0.7517 - accuracy: 0.6274 - val_loss: 0.7525 - val_accuracy: 0.6635\n",
      "Epoch 78/100\n",
      "78/78 [==============================] - 2s 22ms/step - loss: 0.7471 - accuracy: 0.6500 - val_loss: 0.6863 - val_accuracy: 0.7308\n",
      "Epoch 79/100\n",
      "78/78 [==============================] - 2s 22ms/step - loss: 0.7493 - accuracy: 0.6315 - val_loss: 0.7583 - val_accuracy: 0.6587\n",
      "Epoch 80/100\n",
      "78/78 [==============================] - 2s 22ms/step - loss: 0.7477 - accuracy: 0.6387 - val_loss: 0.7428 - val_accuracy: 0.6587\n",
      "Epoch 81/100\n",
      "78/78 [==============================] - 2s 22ms/step - loss: 0.7473 - accuracy: 0.6371 - val_loss: 0.8374 - val_accuracy: 0.4760\n",
      "Epoch 82/100\n",
      "78/78 [==============================] - 2s 22ms/step - loss: 0.7490 - accuracy: 0.6258 - val_loss: 0.7458 - val_accuracy: 0.6490\n",
      "Epoch 83/100\n",
      "78/78 [==============================] - 2s 22ms/step - loss: 0.7481 - accuracy: 0.6339 - val_loss: 0.7750 - val_accuracy: 0.5721\n",
      "Epoch 84/100\n",
      "78/78 [==============================] - 2s 22ms/step - loss: 0.7395 - accuracy: 0.6347 - val_loss: 0.7402 - val_accuracy: 0.6538\n",
      "Epoch 85/100\n",
      "78/78 [==============================] - 2s 22ms/step - loss: 0.7389 - accuracy: 0.6282 - val_loss: 0.7389 - val_accuracy: 0.6538\n",
      "Epoch 86/100\n",
      "78/78 [==============================] - 2s 22ms/step - loss: 0.7405 - accuracy: 0.6234 - val_loss: 0.7830 - val_accuracy: 0.5721\n",
      "Epoch 87/100\n",
      "78/78 [==============================] - 2s 22ms/step - loss: 0.7362 - accuracy: 0.6185 - val_loss: 0.7841 - val_accuracy: 0.5673\n",
      "Epoch 88/100\n",
      "78/78 [==============================] - 2s 22ms/step - loss: 0.7378 - accuracy: 0.6347 - val_loss: 0.7595 - val_accuracy: 0.6106\n",
      "Epoch 89/100\n",
      "78/78 [==============================] - 2s 22ms/step - loss: 0.7409 - accuracy: 0.6202 - val_loss: 0.7089 - val_accuracy: 0.6875\n",
      "Epoch 90/100\n",
      "78/78 [==============================] - 2s 22ms/step - loss: 0.7371 - accuracy: 0.6355 - val_loss: 0.7447 - val_accuracy: 0.6538\n",
      "Epoch 91/100\n",
      "78/78 [==============================] - 2s 22ms/step - loss: 0.7324 - accuracy: 0.6290 - val_loss: 0.8142 - val_accuracy: 0.5096\n",
      "Epoch 92/100\n",
      "78/78 [==============================] - 2s 22ms/step - loss: 0.7359 - accuracy: 0.6298 - val_loss: 0.6799 - val_accuracy: 0.7260\n",
      "Epoch 93/100\n",
      "78/78 [==============================] - 2s 22ms/step - loss: 0.7308 - accuracy: 0.6427 - val_loss: 0.7276 - val_accuracy: 0.6538\n",
      "Epoch 94/100\n",
      "78/78 [==============================] - 2s 22ms/step - loss: 0.7314 - accuracy: 0.6274 - val_loss: 0.7893 - val_accuracy: 0.5433\n",
      "Epoch 95/100\n",
      "78/78 [==============================] - 2s 22ms/step - loss: 0.7274 - accuracy: 0.6290 - val_loss: 0.7068 - val_accuracy: 0.6779\n",
      "Epoch 96/100\n",
      "78/78 [==============================] - 2s 22ms/step - loss: 0.7285 - accuracy: 0.6339 - val_loss: 0.7296 - val_accuracy: 0.6587\n",
      "Epoch 97/100\n",
      "78/78 [==============================] - 2s 22ms/step - loss: 0.7288 - accuracy: 0.6218 - val_loss: 0.7056 - val_accuracy: 0.6779\n",
      "Epoch 98/100\n",
      "78/78 [==============================] - 2s 22ms/step - loss: 0.7281 - accuracy: 0.6323 - val_loss: 0.7649 - val_accuracy: 0.5721\n",
      "Epoch 99/100\n",
      "78/78 [==============================] - 2s 22ms/step - loss: 0.7269 - accuracy: 0.6306 - val_loss: 0.6826 - val_accuracy: 0.7115\n",
      "Epoch 100/100\n",
      "78/78 [==============================] - 2s 22ms/step - loss: 0.7245 - accuracy: 0.6468 - val_loss: 0.7738 - val_accuracy: 0.5673\n"
     ]
    }
   ],
   "source": [
    "tf.config.run_functions_eagerly(True)\n",
    "history = model.fit(X_train_final,\n",
    "                    y_train_resampled,\n",
    "                    validation_data=[X_val_final, y_val_final],\n",
    "                    batch_size=16,\n",
    "                    epochs=100)\n",
    "\n",
    "# tf.config.run_functions_eagerly(True)\n",
    "# history = model.fit(X_train_final,\n",
    "#                     y_train_final,\n",
    "#                     validation_data=[X_val_final, y_val_final],\n",
    "#                     batch_size=16,\n",
    "#                     epochs=10)"
   ]
  },
  {
   "cell_type": "code",
   "execution_count": 171,
   "id": "030323ea",
   "metadata": {},
   "outputs": [
    {
     "name": "stdout",
     "output_type": "stream",
     "text": [
      "If simply guessing all 0, can get this val accuracy: 0.8028846153846154\n",
      "If simply guessing all 0, can get this test accuracy: 0.7790697674418605\n"
     ]
    }
   ],
   "source": [
    "print (\"If simply guessing all 0, can get this val accuracy:\", 1 - y_val_final.sum() / y_val_final.shape[0])\n",
    "print (\"If simply guessing all 0, can get this test accuracy:\", 1 - y_test_final.sum() / y_test_final.shape[0])"
   ]
  },
  {
   "cell_type": "code",
   "execution_count": 172,
   "id": "33ff966f",
   "metadata": {},
   "outputs": [
    {
     "data": {
      "image/png": "[encoded data removed]",
      "text/plain": [
       "<Figure size 432x288 with 1 Axes>"
      ]
     },
     "metadata": {
      "needs_background": "light"
     },
     "output_type": "display_data"
    }
   ],
   "source": [
    "# Visualize loss curve\n",
    "\n",
    "losses = history.history[\"val_loss\"]\n",
    "plt.plot(losses)\n",
    "plt.xlabel(\"Training Step\")\n",
    "plt.ylabel(\"Loss\")\n",
    "plt.title(\"Validation Loss\")\n",
    "plt.show()"
   ]
  },
  {
   "cell_type": "code",
   "execution_count": 173,
   "id": "3e49c735",
   "metadata": {},
   "outputs": [
    {
     "data": {
      "image/png": "[encoded data removed]",
      "text/plain": [
       "<Figure size 432x288 with 1 Axes>"
      ]
     },
     "metadata": {
      "needs_background": "light"
     },
     "output_type": "display_data"
    }
   ],
   "source": [
    "# Visualize accuracy curve\n",
    "\n",
    "losses = history.history[\"val_accuracy\"]\n",
    "plt.plot(losses)\n",
    "plt.xlabel(\"Training Step\")\n",
    "plt.ylabel(\"Accuracy\")\n",
    "plt.title(\"Validation Accuracy\")\n",
    "plt.show()"
   ]
  },
  {
   "cell_type": "code",
   "execution_count": 174,
   "id": "a26ebeb6",
   "metadata": {},
   "outputs": [
    {
     "name": "stdout",
     "output_type": "stream",
     "text": [
      "7/7 [==============================] - 0s 4ms/step\n"
     ]
    },
    {
     "name": "stderr",
     "output_type": "stream",
     "text": [
      "/Users/johngalvin/miniforge3/lib/python3.9/site-packages/tensorflow/python/data/ops/structured_function.py:256: UserWarning: Even though the `tf.config.experimental_run_functions_eagerly` option is set, this option does not apply to tf.data functions. To force eager execution of tf.data functions, please use `tf.data.experimental.enable_debug_mode()`.\n",
      "  warnings.warn(\n"
     ]
    },
    {
     "data": {
      "image/png": "[encoded data removed]",
      "text/plain": [
       "<Figure size 576x432 with 1 Axes>"
      ]
     },
     "metadata": {
      "needs_background": "light"
     },
     "output_type": "display_data"
    }
   ],
   "source": [
    "y_scores = model.predict(X_val_final)\n",
    "precision, recall, thresholds = precision_recall_curve(y_val_final, y_scores)\n",
    "\n",
    "# Calculate area under the curve (AUC) for the precision-recall curve\n",
    "auc_score = auc(recall, precision)\n",
    "\n",
    "# Plot the precision-recall curve\n",
    "plt.figure(figsize=(8, 6))\n",
    "plt.plot(recall, precision, marker='.')\n",
    "plt.xlabel('Recall')\n",
    "plt.ylabel('Precision')\n",
    "plt.title('Precision-Recall Curve (AUC = {:.2f})'.format(auc_score))\n",
    "plt.grid(True)\n",
    "plt.show()"
   ]
  },
  {
   "cell_type": "code",
   "execution_count": 179,
   "id": "4ce2adb5",
   "metadata": {},
   "outputs": [
    {
     "name": "stdout",
     "output_type": "stream",
     "text": [
      "Optimal Classification Threshold: 0.4132321\n"
     ]
    }
   ],
   "source": [
    "target_precision = 0.2\n",
    "target_recall = 0.9\n",
    "\n",
    "idx = np.argmax(np.where((precision >= target_precision) & (recall >= target_recall)))\n",
    "optimal_threshold = thresholds[idx]\n",
    "\n",
    "print(\"Optimal Classification Threshold:\", optimal_threshold)"
   ]
  },
  {
   "cell_type": "code",
   "execution_count": 180,
   "id": "ef628eaf",
   "metadata": {},
   "outputs": [
    {
     "name": "stdout",
     "output_type": "stream",
     "text": [
      "9/9 [==============================] - 0s 3ms/step\n"
     ]
    },
    {
     "name": "stderr",
     "output_type": "stream",
     "text": [
      "/Users/johngalvin/miniforge3/lib/python3.9/site-packages/tensorflow/python/data/ops/structured_function.py:256: UserWarning: Even though the `tf.config.experimental_run_functions_eagerly` option is set, this option does not apply to tf.data functions. To force eager execution of tf.data functions, please use `tf.data.experimental.enable_debug_mode()`.\n",
      "  warnings.warn(\n"
     ]
    }
   ],
   "source": [
    "def custom_predict(model, X, threshold=optimal_threshold):\n",
    "    probabilities = model.predict(X)  # Get predicted probabilities\n",
    "    predictions = (probabilities > threshold).astype(int)  # Apply threshold for binary predictions\n",
    "    return predictions\n",
    "\n",
    "y_test_predictions = custom_predict(model, X_test_final, threshold=optimal_threshold)"
   ]
  },
  {
   "cell_type": "code",
   "execution_count": 181,
   "id": "98131533",
   "metadata": {},
   "outputs": [
    {
     "name": "stdout",
     "output_type": "stream",
     "text": [
      "Accuracy: 0.3488372093023256\n"
     ]
    }
   ],
   "source": [
    "accuracy = accuracy_score(y_test_final, y_test_predictions)\n",
    "print(\"Accuracy:\", accuracy)"
   ]
  },
  {
   "cell_type": "markdown",
   "id": "6805e6b2",
   "metadata": {},
   "source": [
    "## K-fold Cross Validation"
   ]
  },
  {
   "cell_type": "code",
   "execution_count": 99,
   "id": "2403c884",
   "metadata": {},
   "outputs": [],
   "source": [
    "num_folds = 5\n",
    "kf = StratifiedKFold(n_splits=num_folds, shuffle=True, random_state=42)"
   ]
  },
  {
   "cell_type": "code",
   "execution_count": 100,
   "id": "bb5beb30",
   "metadata": {},
   "outputs": [],
   "source": [
    "acc_per_fold = []\n",
    "loss_per_fold = []"
   ]
  },
  {
   "cell_type": "code",
   "execution_count": 101,
   "id": "4ecb5b01",
   "metadata": {},
   "outputs": [
    {
     "name": "stdout",
     "output_type": "stream",
     "text": [
      "Epoch 1/10\n",
      " 7/21 [=========>....................] - ETA: 0s - loss: 6.9733 - accuracy: 0.4107"
     ]
    },
    {
     "name": "stderr",
     "output_type": "stream",
     "text": [
      "/Users/johngalvin/miniforge3/lib/python3.9/site-packages/tensorflow/python/data/ops/structured_function.py:256: UserWarning: Even though the `tf.config.experimental_run_functions_eagerly` option is set, this option does not apply to tf.data functions. To force eager execution of tf.data functions, please use `tf.data.experimental.enable_debug_mode()`.\n",
      "  warnings.warn(\n",
      "/Users/johngalvin/miniforge3/lib/python3.9/site-packages/keras/backend.py:5676: UserWarning: \"`binary_crossentropy` received `from_logits=True`, but the `output` argument was produced by a Sigmoid activation and thus does not represent logits. Was this intended?\n",
      "  output, from_logits = _get_logits(\n"
     ]
    },
    {
     "name": "stdout",
     "output_type": "stream",
     "text": [
      "21/21 [==============================] - 1s 26ms/step - loss: 6.9376 - accuracy: 0.4751 - val_loss: 6.8481 - val_accuracy: 0.6149\n",
      "Epoch 2/10\n",
      "21/21 [==============================] - 1s 24ms/step - loss: 6.8630 - accuracy: 0.5530 - val_loss: 6.7845 - val_accuracy: 0.7516\n",
      "Epoch 3/10\n",
      "21/21 [==============================] - 1s 25ms/step - loss: 6.8117 - accuracy: 0.5903 - val_loss: 6.7319 - val_accuracy: 0.7640\n",
      "Epoch 4/10\n",
      "21/21 [==============================] - 1s 24ms/step - loss: 6.7358 - accuracy: 0.6604 - val_loss: 6.6902 - val_accuracy: 0.7702\n",
      "Epoch 5/10\n",
      "21/21 [==============================] - 1s 24ms/step - loss: 6.7028 - accuracy: 0.6651 - val_loss: 6.6557 - val_accuracy: 0.7702\n",
      "Epoch 6/10\n",
      "21/21 [==============================] - 1s 24ms/step - loss: 6.6539 - accuracy: 0.7274 - val_loss: 6.6258 - val_accuracy: 0.7702\n",
      "Epoch 7/10\n",
      "21/21 [==============================] - 1s 25ms/step - loss: 6.6369 - accuracy: 0.7430 - val_loss: 6.5983 - val_accuracy: 0.7702\n",
      "Epoch 8/10\n",
      "21/21 [==============================] - 1s 24ms/step - loss: 6.6299 - accuracy: 0.7399 - val_loss: 6.5733 - val_accuracy: 0.7702\n",
      "Epoch 9/10\n",
      "21/21 [==============================] - 1s 24ms/step - loss: 6.5890 - accuracy: 0.7586 - val_loss: 6.5486 - val_accuracy: 0.7702\n",
      "Epoch 10/10\n",
      "21/21 [==============================] - 1s 24ms/step - loss: 6.5780 - accuracy: 0.7492 - val_loss: 6.5246 - val_accuracy: 0.7702\n",
      "Score for fold 1: loss of 6.47867488861084; accuracy of 80.28846383094788%\n",
      "Epoch 1/10\n",
      "21/21 [==============================] - 1s 26ms/step - loss: 6.7589 - accuracy: 0.7414 - val_loss: 6.7373 - val_accuracy: 0.7640\n",
      "Epoch 2/10\n",
      "21/21 [==============================] - 1s 24ms/step - loss: 6.7065 - accuracy: 0.7648 - val_loss: 6.7004 - val_accuracy: 0.7702\n",
      "Epoch 3/10\n",
      "21/21 [==============================] - 1s 25ms/step - loss: 6.6884 - accuracy: 0.7632 - val_loss: 6.6702 - val_accuracy: 0.7702\n",
      "Epoch 4/10\n",
      "21/21 [==============================] - 1s 26ms/step - loss: 6.6457 - accuracy: 0.7757 - val_loss: 6.6438 - val_accuracy: 0.7702\n",
      "Epoch 5/10\n",
      "21/21 [==============================] - 1s 26ms/step - loss: 6.6321 - accuracy: 0.7710 - val_loss: 6.6182 - val_accuracy: 0.7702\n",
      "Epoch 6/10\n",
      "21/21 [==============================] - 1s 25ms/step - loss: 6.6078 - accuracy: 0.7710 - val_loss: 6.5945 - val_accuracy: 0.7702\n",
      "Epoch 7/10\n",
      "21/21 [==============================] - 1s 26ms/step - loss: 6.5941 - accuracy: 0.7695 - val_loss: 6.5707 - val_accuracy: 0.7702\n",
      "Epoch 8/10\n",
      "21/21 [==============================] - 1s 24ms/step - loss: 6.5633 - accuracy: 0.7726 - val_loss: 6.5466 - val_accuracy: 0.7702\n",
      "Epoch 9/10\n",
      "21/21 [==============================] - 1s 24ms/step - loss: 6.5335 - accuracy: 0.7741 - val_loss: 6.5227 - val_accuracy: 0.7702\n",
      "Epoch 10/10\n",
      "21/21 [==============================] - 1s 24ms/step - loss: 6.5128 - accuracy: 0.7741 - val_loss: 6.4990 - val_accuracy: 0.7702\n",
      "Score for fold 2: loss of 6.458314895629883; accuracy of 80.28846383094788%\n",
      "Epoch 1/10\n",
      "21/21 [==============================] - 1s 25ms/step - loss: 7.2625 - accuracy: 0.2523 - val_loss: 7.0396 - val_accuracy: 0.2422\n",
      "Epoch 2/10\n",
      "21/21 [==============================] - 1s 25ms/step - loss: 7.1160 - accuracy: 0.2866 - val_loss: 6.9436 - val_accuracy: 0.2795\n",
      "Epoch 3/10\n",
      "21/21 [==============================] - 1s 24ms/step - loss: 7.0237 - accuracy: 0.3255 - val_loss: 6.8670 - val_accuracy: 0.4099\n",
      "Epoch 4/10\n",
      "21/21 [==============================] - 1s 24ms/step - loss: 6.9333 - accuracy: 0.4112 - val_loss: 6.8036 - val_accuracy: 0.5590\n",
      "Epoch 5/10\n",
      "21/21 [==============================] - 1s 24ms/step - loss: 6.8574 - accuracy: 0.4735 - val_loss: 6.7496 - val_accuracy: 0.6646\n",
      "Epoch 6/10\n",
      "21/21 [==============================] - 1s 24ms/step - loss: 6.7797 - accuracy: 0.5732 - val_loss: 6.7055 - val_accuracy: 0.7081\n",
      "Epoch 7/10\n",
      "21/21 [==============================] - 1s 24ms/step - loss: 6.7340 - accuracy: 0.6090 - val_loss: 6.6684 - val_accuracy: 0.7516\n",
      "Epoch 8/10\n",
      "21/21 [==============================] - 1s 24ms/step - loss: 6.6871 - accuracy: 0.6558 - val_loss: 6.6372 - val_accuracy: 0.7702\n",
      "Epoch 9/10\n",
      "21/21 [==============================] - 1s 25ms/step - loss: 6.6530 - accuracy: 0.6760 - val_loss: 6.6098 - val_accuracy: 0.7702\n",
      "Epoch 10/10\n",
      "21/21 [==============================] - 1s 25ms/step - loss: 6.6124 - accuracy: 0.6900 - val_loss: 6.5850 - val_accuracy: 0.7702\n",
      "Score for fold 3: loss of 6.544928550720215; accuracy of 80.28846383094788%\n",
      "Epoch 1/10\n",
      "21/21 [==============================] - 1s 25ms/step - loss: 6.7940 - accuracy: 0.7061 - val_loss: 6.7456 - val_accuracy: 0.7750\n",
      "Epoch 2/10\n",
      "21/21 [==============================] - 1s 25ms/step - loss: 6.7648 - accuracy: 0.7278 - val_loss: 6.7077 - val_accuracy: 0.7750\n",
      "Epoch 3/10\n",
      "21/21 [==============================] - 0s 23ms/step - loss: 6.7259 - accuracy: 0.7621 - val_loss: 6.6754 - val_accuracy: 0.7750\n",
      "Epoch 4/10\n",
      "21/21 [==============================] - 1s 24ms/step - loss: 6.6900 - accuracy: 0.7605 - val_loss: 6.6473 - val_accuracy: 0.7750\n",
      "Epoch 5/10\n",
      "21/21 [==============================] - 1s 24ms/step - loss: 6.6687 - accuracy: 0.7621 - val_loss: 6.6205 - val_accuracy: 0.7750\n",
      "Epoch 6/10\n",
      "21/21 [==============================] - 0s 24ms/step - loss: 6.6388 - accuracy: 0.7574 - val_loss: 6.5950 - val_accuracy: 0.7750\n",
      "Epoch 7/10\n",
      "21/21 [==============================] - 0s 23ms/step - loss: 6.6164 - accuracy: 0.7636 - val_loss: 6.5698 - val_accuracy: 0.7750\n",
      "Epoch 8/10\n",
      "21/21 [==============================] - 0s 23ms/step - loss: 6.5957 - accuracy: 0.7714 - val_loss: 6.5463 - val_accuracy: 0.7750\n",
      "Epoch 9/10\n",
      "21/21 [==============================] - 0s 23ms/step - loss: 6.5724 - accuracy: 0.7652 - val_loss: 6.5221 - val_accuracy: 0.7750\n",
      "Epoch 10/10\n",
      "21/21 [==============================] - 1s 24ms/step - loss: 6.5346 - accuracy: 0.7698 - val_loss: 6.4977 - val_accuracy: 0.7750\n",
      "Score for fold 4: loss of 6.464547634124756; accuracy of 80.28846383094788%\n",
      "Epoch 1/10\n",
      "21/21 [==============================] - 1s 24ms/step - loss: 7.2267 - accuracy: 0.2799 - val_loss: 7.1204 - val_accuracy: 0.2375\n",
      "Epoch 2/10\n",
      "21/21 [==============================] - 0s 23ms/step - loss: 7.0946 - accuracy: 0.3235 - val_loss: 6.9972 - val_accuracy: 0.2562\n",
      "Epoch 3/10\n",
      "21/21 [==============================] - 0s 24ms/step - loss: 6.9976 - accuracy: 0.3904 - val_loss: 6.9017 - val_accuracy: 0.3375\n",
      "Epoch 4/10\n",
      "21/21 [==============================] - 1s 24ms/step - loss: 6.9043 - accuracy: 0.4588 - val_loss: 6.8181 - val_accuracy: 0.5063\n",
      "Epoch 5/10\n",
      "21/21 [==============================] - 1s 24ms/step - loss: 6.8154 - accuracy: 0.5397 - val_loss: 6.7543 - val_accuracy: 0.6813\n",
      "Epoch 6/10\n",
      "21/21 [==============================] - 0s 24ms/step - loss: 6.7530 - accuracy: 0.6330 - val_loss: 6.7017 - val_accuracy: 0.7438\n",
      "Epoch 7/10\n",
      "21/21 [==============================] - 0s 24ms/step - loss: 6.7239 - accuracy: 0.6267 - val_loss: 6.6590 - val_accuracy: 0.7750\n",
      "Epoch 8/10\n",
      "21/21 [==============================] - 1s 24ms/step - loss: 6.6855 - accuracy: 0.6501 - val_loss: 6.6224 - val_accuracy: 0.7750\n",
      "Epoch 9/10\n",
      "21/21 [==============================] - 1s 24ms/step - loss: 6.6414 - accuracy: 0.7045 - val_loss: 6.5933 - val_accuracy: 0.7750\n",
      "Epoch 10/10\n",
      "21/21 [==============================] - 0s 24ms/step - loss: 6.6103 - accuracy: 0.7201 - val_loss: 6.5664 - val_accuracy: 0.7750\n",
      "Score for fold 5: loss of 6.547049522399902; accuracy of 80.28846383094788%\n",
      "------------------------------------------------------------------------\n",
      "Average scores for all folds:\n",
      "> Accuracy: 80.28846383094788 (+- 0.0)\n",
      "> Loss: 6.498703098297119\n",
      "------------------------------------------------------------------------\n"
     ]
    }
   ],
   "source": [
    "fold_no = 1\n",
    "for train, test in kf.split(X_train_final, y_train_resampled):\n",
    "    model = create_model()\n",
    "    \n",
    "    history = model.fit(X_train_final[train], y_train_resampled[train], epochs=10, batch_size=32, validation_data=(X_train_final[test], y_train_final[test]))\n",
    "    \n",
    "    # Generate generalization metrics\n",
    "    scores = model.evaluate(X_val_final, y_val_final, verbose=0)\n",
    "    print(f'Score for fold {fold_no}: {model.metrics_names[0]} of {scores[0]}; {model.metrics_names[1]} of {scores[1]*100}%')\n",
    "    \n",
    "    acc_per_fold.append(scores[1] * 100)\n",
    "    loss_per_fold.append(scores[0])\n",
    "    fold_no += 1\n",
    "\n",
    "# Print average metrics\n",
    "print('------------------------------------------------------------------------')\n",
    "print('Average scores for all folds:')\n",
    "print(f'> Accuracy: {np.mean(acc_per_fold)} (+- {np.std(acc_per_fold)})')\n",
    "print(f'> Loss: {np.mean(loss_per_fold)}')\n",
    "print('------------------------------------------------------------------------')"
   ]
  },
  {
   "cell_type": "markdown",
   "id": "a7743615",
   "metadata": {},
   "source": [
    "# Try SVC"
   ]
  },
  {
   "cell_type": "code",
   "execution_count": 71,
   "id": "6151833f",
   "metadata": {},
   "outputs": [],
   "source": [
    "from sklearn.svm import SVC\n",
    "from sklearn.metrics import classification_report\n",
    "from sklearn.model_selection import GridSearchCV"
   ]
  },
  {
   "cell_type": "code",
   "execution_count": 72,
   "id": "a319cb5e",
   "metadata": {},
   "outputs": [],
   "source": [
    "# Instantiate Model\n",
    "svc = SVC()"
   ]
  },
  {
   "cell_type": "code",
   "execution_count": 73,
   "id": "5aa5c52b",
   "metadata": {},
   "outputs": [],
   "source": [
    "# Grid search\n",
    "param_grid = {\n",
    "    \"C\": [0.1, 1, 10],                \n",
    "    \"kernel\": [\"linear\", \"poly\", \"rbf\", \"sigmoid\"],\n",
    "    \"gamma\": [\"scale\", \"auto\", 0.1],\n",
    "    \"degree\": [1, 2, 3, 4, 5]}"
   ]
  },
  {
   "cell_type": "code",
   "execution_count": 74,
   "id": "6210afb5",
   "metadata": {},
   "outputs": [],
   "source": [
    "grid_search = GridSearchCV(estimator=svc, param_grid=param_grid, cv=5, scoring=\"accuracy\")"
   ]
  },
  {
   "cell_type": "code",
   "execution_count": 75,
   "id": "990f874a",
   "metadata": {},
   "outputs": [
    {
     "data": {
      "text/plain": [
       "GridSearchCV(cv=5, estimator=SVC(),\n",
       "             param_grid={'C': [0.1, 1, 10], 'degree': [1, 2, 3, 4, 5],\n",
       "                         'gamma': ['scale', 'auto', 0.1],\n",
       "                         'kernel': ['linear', 'poly', 'rbf', 'sigmoid']},\n",
       "             scoring='accuracy')"
      ]
     },
     "execution_count": 75,
     "metadata": {},
     "output_type": "execute_result"
    }
   ],
   "source": [
    "# grid_search.fit(X_train_final, y_train_resampled)\n",
    "grid_search.fit(X_train_final, y_train_final)"
   ]
  },
  {
   "cell_type": "code",
   "execution_count": 76,
   "id": "97f5390e",
   "metadata": {},
   "outputs": [
    {
     "name": "stdout",
     "output_type": "stream",
     "text": [
      "Best Parameters: {'C': 1, 'degree': 1, 'gamma': 0.1, 'kernel': 'rbf'}\n",
      "Best Accuracy: 0.7746040372670808\n"
     ]
    }
   ],
   "source": [
    "# Get the best parameters and best accuracy score\n",
    "best_params = grid_search.best_params_\n",
    "best_score = grid_search.best_score_\n",
    "\n",
    "# Print the best parameters and best score\n",
    "print(\"Best Parameters:\", best_params)\n",
    "print(\"Best Accuracy:\", best_score)"
   ]
  },
  {
   "cell_type": "code",
   "execution_count": 77,
   "id": "8aeefe0c",
   "metadata": {},
   "outputs": [
    {
     "data": {
      "text/plain": [
       "SVC(C=1, degree=1, gamma=0.1)"
      ]
     },
     "execution_count": 77,
     "metadata": {},
     "output_type": "execute_result"
    }
   ],
   "source": [
    "# Instantiate and fit model\n",
    "svc = SVC(C=1, degree=1, gamma=0.1, kernel=\"rbf\")\n",
    "\n",
    "svc.fit(X_train_final, y_train_final)"
   ]
  },
  {
   "cell_type": "code",
   "execution_count": 78,
   "id": "d9194cb8",
   "metadata": {},
   "outputs": [
    {
     "name": "stdout",
     "output_type": "stream",
     "text": [
      "              precision    recall  f1-score   support\n",
      "\n",
      "           0       0.78      1.00      0.87       201\n",
      "           1       0.00      0.00      0.00        57\n",
      "\n",
      "    accuracy                           0.78       258\n",
      "   macro avg       0.39      0.50      0.44       258\n",
      "weighted avg       0.61      0.78      0.68       258\n",
      "\n"
     ]
    }
   ],
   "source": [
    "# Assess\n",
    "y_pred = svc.predict(X_test_final)\n",
    "\n",
    "# evaluate predictions\n",
    "print(classification_report(y_test_final, y_pred))"
   ]
  },
  {
   "cell_type": "markdown",
   "id": "02515fd5",
   "metadata": {},
   "source": [
    "# What if we do image-only?\n",
    "\n",
    "Note: this model below accepts the pooled embeddings formed after VGG16 feature extraction. The only difference from above is that it does **not** concatenate each final pooled embedding with the clinical/genetic feature vector."
   ]
  },
  {
   "cell_type": "code",
   "execution_count": 46,
   "id": "a794380e",
   "metadata": {},
   "outputs": [],
   "source": [
    "X_train_img_only = np.vstack(X_train_resampled[\"embedding\"])\n",
    "y_train_img_only = y_train_resampled\n",
    "\n",
    "X_test_img_only = np.vstack(X_test_scaled[\"embedding\"])\n",
    "y_test_img_only = y_test_final"
   ]
  },
  {
   "cell_type": "code",
   "execution_count": 50,
   "id": "0d634de4",
   "metadata": {},
   "outputs": [],
   "source": [
    "def create_model(dropout=0.3, learning_rate=0.0001, l2_penalty=0.01):\n",
    "    \"\"\"Builds classification model\"\"\"\n",
    "    \n",
    "    model = tf.keras.Sequential()\n",
    "    inputs = tf.keras.layers.Input(shape=(512,), name=\"input_layer\") # (Batch, num_features)\n",
    "    \n",
    "    hidden_1 = tf.keras.layers.Dense(256, activation=\"relu\", kernel_regularizer=tf.keras.regularizers.l2(l2_penalty), name=\"hidden_1\")(inputs)\n",
    "    hidden_1 = tf.keras.layers.Dropout(dropout)(hidden_1)\n",
    "    hidden_2 = tf.keras.layers.Dense(128, activation=\"relu\", kernel_regularizer=tf.keras.regularizers.l2(l2_penalty), name=\"hidden_2\")(hidden_1)\n",
    "    hidden_2 = tf.keras.layers.Dropout(dropout)(hidden_2)\n",
    "    \n",
    "    classification = tf.keras.layers.Dense(1, activation=\"sigmoid\", name=\"classification_layer\")(hidden_2)\n",
    "    classification_model = tf.keras.Model(inputs=[inputs], outputs=[classification])\n",
    "    \n",
    "    classification_model.compile(optimizer=tf.keras.optimizers.Adam(learning_rate=learning_rate),\n",
    "                                 loss=tf.keras.losses.BinaryCrossentropy(from_logits=True), \n",
    "                                 metrics=\"accuracy\")\n",
    "\n",
    "    return classification_model"
   ]
  },
  {
   "cell_type": "code",
   "execution_count": 51,
   "id": "b7823ef4",
   "metadata": {},
   "outputs": [],
   "source": [
    "img_only_model = create_model()"
   ]
  },
  {
   "cell_type": "code",
   "execution_count": 52,
   "id": "92af560f",
   "metadata": {},
   "outputs": [
    {
     "name": "stdout",
     "output_type": "stream",
     "text": [
      "Epoch 1/100\n",
      "99/99 [==============================] - 3s 28ms/step - loss: 5.2320 - accuracy: 0.4879\n",
      "Epoch 2/100\n",
      "99/99 [==============================] - 3s 27ms/step - loss: 4.2243 - accuracy: 0.5044\n",
      "Epoch 3/100\n",
      "99/99 [==============================] - 3s 28ms/step - loss: 3.4603 - accuracy: 0.5019\n",
      "Epoch 4/100\n",
      "99/99 [==============================] - 3s 28ms/step - loss: 2.8726 - accuracy: 0.5089\n",
      "Epoch 5/100\n",
      "99/99 [==============================] - 3s 28ms/step - loss: 2.4191 - accuracy: 0.5222\n",
      "Epoch 6/100\n",
      "99/99 [==============================] - 3s 27ms/step - loss: 2.0730 - accuracy: 0.5356\n",
      "Epoch 7/100\n",
      "99/99 [==============================] - 3s 28ms/step - loss: 1.8120 - accuracy: 0.5152\n",
      "Epoch 8/100\n",
      "99/99 [==============================] - 3s 28ms/step - loss: 1.6087 - accuracy: 0.5267\n",
      "Epoch 9/100\n",
      "99/99 [==============================] - 3s 27ms/step - loss: 1.4542 - accuracy: 0.5305\n",
      "Epoch 10/100\n",
      "99/99 [==============================] - 3s 28ms/step - loss: 1.3379 - accuracy: 0.5254\n",
      "Epoch 11/100\n",
      "99/99 [==============================] - 3s 27ms/step - loss: 1.2474 - accuracy: 0.5388\n",
      "Epoch 12/100\n",
      "99/99 [==============================] - 3s 28ms/step - loss: 1.1727 - accuracy: 0.5381\n",
      "Epoch 13/100\n",
      "99/99 [==============================] - 3s 27ms/step - loss: 1.1190 - accuracy: 0.5368\n",
      "Epoch 14/100\n",
      "99/99 [==============================] - 3s 28ms/step - loss: 1.0730 - accuracy: 0.5229\n",
      "Epoch 15/100\n",
      "99/99 [==============================] - 3s 28ms/step - loss: 1.0386 - accuracy: 0.5273\n",
      "Epoch 16/100\n",
      "99/99 [==============================] - 3s 28ms/step - loss: 1.0091 - accuracy: 0.5356\n",
      "Epoch 17/100\n",
      "99/99 [==============================] - 3s 27ms/step - loss: 0.9800 - accuracy: 0.5515\n",
      "Epoch 18/100\n",
      "99/99 [==============================] - 3s 27ms/step - loss: 0.9604 - accuracy: 0.5305\n",
      "Epoch 19/100\n",
      "99/99 [==============================] - 3s 27ms/step - loss: 0.9410 - accuracy: 0.5464\n",
      "Epoch 20/100\n",
      "99/99 [==============================] - 3s 27ms/step - loss: 0.9268 - accuracy: 0.5222\n",
      "Epoch 21/100\n",
      "99/99 [==============================] - 3s 27ms/step - loss: 0.9103 - accuracy: 0.5457\n",
      "Epoch 22/100\n",
      "99/99 [==============================] - 3s 28ms/step - loss: 0.8978 - accuracy: 0.5356\n",
      "Epoch 23/100\n",
      "99/99 [==============================] - 3s 27ms/step - loss: 0.8840 - accuracy: 0.5368\n",
      "Epoch 24/100\n",
      "99/99 [==============================] - 3s 28ms/step - loss: 0.8751 - accuracy: 0.5330\n",
      "Epoch 25/100\n",
      "99/99 [==============================] - 3s 28ms/step - loss: 0.8676 - accuracy: 0.5292\n",
      "Epoch 26/100\n",
      "99/99 [==============================] - 3s 27ms/step - loss: 0.8549 - accuracy: 0.5286\n",
      "Epoch 27/100\n",
      "99/99 [==============================] - 3s 28ms/step - loss: 0.8462 - accuracy: 0.5337\n",
      "Epoch 28/100\n",
      "99/99 [==============================] - 3s 28ms/step - loss: 0.8391 - accuracy: 0.5362\n",
      "Epoch 29/100\n",
      "99/99 [==============================] - 3s 27ms/step - loss: 0.8299 - accuracy: 0.5419\n",
      "Epoch 30/100\n",
      "99/99 [==============================] - 3s 28ms/step - loss: 0.8229 - accuracy: 0.5445\n",
      "Epoch 31/100\n",
      "99/99 [==============================] - 3s 28ms/step - loss: 0.8175 - accuracy: 0.5451\n",
      "Epoch 32/100\n",
      "99/99 [==============================] - 3s 27ms/step - loss: 0.8111 - accuracy: 0.5464\n",
      "Epoch 33/100\n",
      "99/99 [==============================] - 3s 28ms/step - loss: 0.8060 - accuracy: 0.5426\n",
      "Epoch 34/100\n",
      "99/99 [==============================] - 3s 27ms/step - loss: 0.7983 - accuracy: 0.5470\n",
      "Epoch 35/100\n",
      "99/99 [==============================] - 3s 28ms/step - loss: 0.7955 - accuracy: 0.5343\n",
      "Epoch 36/100\n",
      "99/99 [==============================] - 3s 27ms/step - loss: 0.7907 - accuracy: 0.5521\n",
      "Epoch 37/100\n",
      "99/99 [==============================] - 3s 27ms/step - loss: 0.7859 - accuracy: 0.5381\n",
      "Epoch 38/100\n",
      "99/99 [==============================] - 3s 27ms/step - loss: 0.7811 - accuracy: 0.5508\n",
      "Epoch 39/100\n",
      "99/99 [==============================] - 3s 27ms/step - loss: 0.7771 - accuracy: 0.5483\n",
      "Epoch 40/100\n",
      "99/99 [==============================] - 3s 28ms/step - loss: 0.7731 - accuracy: 0.5546\n",
      "Epoch 41/100\n",
      "99/99 [==============================] - 3s 27ms/step - loss: 0.7703 - accuracy: 0.5388\n",
      "Epoch 42/100\n",
      "99/99 [==============================] - 3s 27ms/step - loss: 0.7671 - accuracy: 0.5432\n",
      "Epoch 43/100\n",
      "99/99 [==============================] - 3s 27ms/step - loss: 0.7636 - accuracy: 0.5413\n",
      "Epoch 44/100\n",
      "99/99 [==============================] - 3s 27ms/step - loss: 0.7622 - accuracy: 0.5407\n",
      "Epoch 45/100\n",
      "99/99 [==============================] - 3s 28ms/step - loss: 0.7565 - accuracy: 0.5521\n",
      "Epoch 46/100\n",
      "99/99 [==============================] - 3s 28ms/step - loss: 0.7556 - accuracy: 0.5407\n",
      "Epoch 47/100\n",
      "99/99 [==============================] - 3s 27ms/step - loss: 0.7500 - accuracy: 0.5521\n",
      "Epoch 48/100\n",
      "99/99 [==============================] - 3s 28ms/step - loss: 0.7497 - accuracy: 0.5388\n",
      "Epoch 49/100\n",
      "99/99 [==============================] - 3s 28ms/step - loss: 0.7473 - accuracy: 0.5527\n",
      "Epoch 50/100\n",
      "99/99 [==============================] - 3s 27ms/step - loss: 0.7470 - accuracy: 0.5375\n",
      "Epoch 51/100\n",
      "99/99 [==============================] - 3s 27ms/step - loss: 0.7438 - accuracy: 0.5457\n",
      "Epoch 52/100\n",
      "99/99 [==============================] - 3s 27ms/step - loss: 0.7420 - accuracy: 0.5604\n",
      "Epoch 53/100\n",
      "99/99 [==============================] - 3s 27ms/step - loss: 0.7375 - accuracy: 0.5426\n",
      "Epoch 54/100\n",
      "99/99 [==============================] - 3s 27ms/step - loss: 0.7361 - accuracy: 0.5483\n",
      "Epoch 55/100\n",
      "99/99 [==============================] - 3s 27ms/step - loss: 0.7370 - accuracy: 0.5496\n",
      "Epoch 56/100\n",
      "99/99 [==============================] - 3s 27ms/step - loss: 0.7344 - accuracy: 0.5451\n",
      "Epoch 57/100\n",
      "99/99 [==============================] - 3s 27ms/step - loss: 0.7319 - accuracy: 0.5559\n",
      "Epoch 58/100\n",
      "99/99 [==============================] - 3s 27ms/step - loss: 0.7323 - accuracy: 0.5349\n",
      "Epoch 59/100\n",
      "99/99 [==============================] - 3s 27ms/step - loss: 0.7288 - accuracy: 0.5693\n",
      "Epoch 60/100\n",
      "99/99 [==============================] - 3s 27ms/step - loss: 0.7273 - accuracy: 0.5496\n",
      "Epoch 61/100\n",
      "99/99 [==============================] - 3s 27ms/step - loss: 0.7286 - accuracy: 0.5381\n",
      "Epoch 62/100\n",
      "99/99 [==============================] - 3s 27ms/step - loss: 0.7252 - accuracy: 0.5496\n",
      "Epoch 63/100\n",
      "99/99 [==============================] - 3s 28ms/step - loss: 0.7248 - accuracy: 0.5400\n",
      "Epoch 64/100\n",
      "99/99 [==============================] - 3s 27ms/step - loss: 0.7224 - accuracy: 0.5565\n",
      "Epoch 65/100\n",
      "99/99 [==============================] - 3s 28ms/step - loss: 0.7184 - accuracy: 0.5623\n",
      "Epoch 66/100\n",
      "99/99 [==============================] - 3s 28ms/step - loss: 0.7215 - accuracy: 0.5604\n",
      "Epoch 67/100\n",
      "99/99 [==============================] - 3s 27ms/step - loss: 0.7222 - accuracy: 0.5470\n",
      "Epoch 68/100\n",
      "99/99 [==============================] - 3s 28ms/step - loss: 0.7156 - accuracy: 0.5629\n",
      "Epoch 69/100\n",
      "99/99 [==============================] - 3s 28ms/step - loss: 0.7174 - accuracy: 0.5654\n",
      "Epoch 70/100\n",
      "99/99 [==============================] - 3s 27ms/step - loss: 0.7156 - accuracy: 0.5578\n",
      "Epoch 71/100\n",
      "99/99 [==============================] - 3s 28ms/step - loss: 0.7151 - accuracy: 0.5521\n",
      "Epoch 72/100\n",
      "99/99 [==============================] - 3s 28ms/step - loss: 0.7147 - accuracy: 0.5559\n",
      "Epoch 73/100\n",
      "99/99 [==============================] - 3s 28ms/step - loss: 0.7108 - accuracy: 0.5604\n",
      "Epoch 74/100\n",
      "99/99 [==============================] - 3s 28ms/step - loss: 0.7114 - accuracy: 0.5584\n",
      "Epoch 75/100\n",
      "99/99 [==============================] - 3s 27ms/step - loss: 0.7109 - accuracy: 0.5616\n",
      "Epoch 76/100\n",
      "99/99 [==============================] - 3s 28ms/step - loss: 0.7105 - accuracy: 0.5699\n",
      "Epoch 77/100\n",
      "99/99 [==============================] - 3s 28ms/step - loss: 0.7101 - accuracy: 0.5496\n",
      "Epoch 78/100\n",
      "99/99 [==============================] - 3s 28ms/step - loss: 0.7101 - accuracy: 0.5623\n",
      "Epoch 79/100\n",
      "99/99 [==============================] - 3s 28ms/step - loss: 0.7082 - accuracy: 0.5559\n",
      "Epoch 80/100\n",
      "99/99 [==============================] - 3s 28ms/step - loss: 0.7109 - accuracy: 0.5508\n",
      "Epoch 81/100\n",
      "99/99 [==============================] - 3s 28ms/step - loss: 0.7063 - accuracy: 0.5686\n",
      "Epoch 82/100\n",
      "99/99 [==============================] - 3s 27ms/step - loss: 0.7064 - accuracy: 0.5693\n",
      "Epoch 83/100\n",
      "99/99 [==============================] - 3s 27ms/step - loss: 0.7090 - accuracy: 0.5496\n",
      "Epoch 84/100\n",
      "99/99 [==============================] - 3s 27ms/step - loss: 0.7060 - accuracy: 0.5527\n",
      "Epoch 85/100\n",
      "99/99 [==============================] - 3s 27ms/step - loss: 0.7059 - accuracy: 0.5438\n",
      "Epoch 86/100\n",
      "99/99 [==============================] - 3s 27ms/step - loss: 0.7048 - accuracy: 0.5578\n",
      "Epoch 87/100\n",
      "99/99 [==============================] - 3s 27ms/step - loss: 0.7039 - accuracy: 0.5565\n",
      "Epoch 88/100\n",
      "99/99 [==============================] - 3s 27ms/step - loss: 0.7004 - accuracy: 0.5553\n",
      "Epoch 89/100\n",
      "99/99 [==============================] - 3s 27ms/step - loss: 0.7013 - accuracy: 0.5565\n",
      "Epoch 90/100\n",
      "99/99 [==============================] - 3s 27ms/step - loss: 0.7017 - accuracy: 0.5635\n",
      "Epoch 91/100\n",
      "99/99 [==============================] - 3s 27ms/step - loss: 0.7035 - accuracy: 0.5496\n",
      "Epoch 92/100\n",
      "99/99 [==============================] - 3s 27ms/step - loss: 0.7006 - accuracy: 0.5661\n",
      "Epoch 93/100\n",
      "99/99 [==============================] - 3s 27ms/step - loss: 0.7013 - accuracy: 0.5680\n",
      "Epoch 94/100\n",
      "99/99 [==============================] - 3s 27ms/step - loss: 0.7000 - accuracy: 0.5667\n",
      "Epoch 95/100\n",
      "99/99 [==============================] - 3s 27ms/step - loss: 0.7002 - accuracy: 0.5718\n",
      "Epoch 96/100\n",
      "99/99 [==============================] - 3s 27ms/step - loss: 0.6994 - accuracy: 0.5438\n",
      "Epoch 97/100\n",
      "99/99 [==============================] - 3s 27ms/step - loss: 0.6971 - accuracy: 0.5826\n",
      "Epoch 98/100\n",
      "99/99 [==============================] - 3s 27ms/step - loss: 0.6974 - accuracy: 0.5743\n",
      "Epoch 99/100\n",
      "99/99 [==============================] - 3s 27ms/step - loss: 0.7009 - accuracy: 0.5489\n",
      "Epoch 100/100\n",
      "99/99 [==============================] - 3s 27ms/step - loss: 0.6977 - accuracy: 0.5750\n"
     ]
    }
   ],
   "source": [
    "tf.config.run_functions_eagerly(True)\n",
    "img_only_history = img_only_model.fit(X_train_img_only,\n",
    "                                      y_train_img_only,\n",
    "                                      #validation_data=[X_test_img_only, y_test_img_only],\n",
    "                                      batch_size=16,\n",
    "                                      epochs=100)"
   ]
  },
  {
   "cell_type": "code",
   "execution_count": 53,
   "id": "68f78a40",
   "metadata": {},
   "outputs": [
    {
     "name": "stdout",
     "output_type": "stream",
     "text": [
      "9/9 [==============================] - 0s 14ms/step - loss: 0.7065 - accuracy: 0.5543\n"
     ]
    },
    {
     "data": {
      "text/plain": [
       "[0.706453800201416, 0.5542635917663574]"
      ]
     },
     "execution_count": 53,
     "metadata": {},
     "output_type": "execute_result"
    }
   ],
   "source": [
    "img_only_model.evaluate(X_test_img_only, y_test_img_only)"
   ]
  },
  {
   "cell_type": "code",
   "execution_count": null,
   "id": "724dec35",
   "metadata": {},
   "outputs": [],
   "source": []
  }
 ],
 "metadata": {
  "kernelspec": {
   "display_name": "Python 3 (ipykernel)",
   "language": "python",
   "name": "python3"
  },
  "language_info": {
   "codemirror_mode": {
    "name": "ipython",
    "version": 3
   },
   "file_extension": ".py",
   "mimetype": "text/x-python",
   "name": "python",
   "nbconvert_exporter": "python",
   "pygments_lexer": "ipython3",
   "version": "3.9.7"
  }
 },
 "nbformat": 4,
 "nbformat_minor": 5
}
