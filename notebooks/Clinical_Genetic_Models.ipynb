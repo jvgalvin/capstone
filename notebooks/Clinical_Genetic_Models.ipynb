{
 "cells": [
  {
   "cell_type": "code",
   "execution_count": 1,
   "id": "97f04565-9477-44ff-853c-a856035a7c88",
   "metadata": {},
   "outputs": [],
   "source": [
    "!pip install xgboost -q"
   ]
  },
  {
   "cell_type": "code",
   "execution_count": 2,
   "id": "c987d302-5693-4759-9e66-2384c057b6ea",
   "metadata": {},
   "outputs": [],
   "source": [
    "!pip install graphviz -q"
   ]
  },
  {
   "cell_type": "code",
   "execution_count": 3,
   "id": "88ad62f8-47ee-4c32-b7be-d1bf0ccc1623",
   "metadata": {},
   "outputs": [],
   "source": [
    "import pandas as pd\n",
    "\n",
    "import xgboost as xgb\n",
    "from sklearn.model_selection import train_test_split\n",
    "from sklearn.metrics import accuracy_score, classification_report"
   ]
  },
  {
   "cell_type": "code",
   "execution_count": 14,
   "id": "993335a3-7a1a-4aca-a433-f8d2753ff3cf",
   "metadata": {},
   "outputs": [
    {
     "data": {
      "text/html": [
       "<div>\n",
       "<style scoped>\n",
       "    .dataframe tbody tr th:only-of-type {\n",
       "        vertical-align: middle;\n",
       "    }\n",
       "\n",
       "    .dataframe tbody tr th {\n",
       "        vertical-align: top;\n",
       "    }\n",
       "\n",
       "    .dataframe thead th {\n",
       "        text-align: right;\n",
       "    }\n",
       "</style>\n",
       "<table border=\"1\" class=\"dataframe\">\n",
       "  <thead>\n",
       "    <tr style=\"text-align: right;\">\n",
       "      <th></th>\n",
       "      <th>DX.bl</th>\n",
       "      <th>AGE</th>\n",
       "      <th>PTGENDER</th>\n",
       "      <th>PTEDUCAT</th>\n",
       "      <th>PTETHCAT</th>\n",
       "      <th>PTRACCAT</th>\n",
       "      <th>APOE4</th>\n",
       "      <th>MMSE</th>\n",
       "      <th>AD_dx_in_5_yrs</th>\n",
       "    </tr>\n",
       "  </thead>\n",
       "  <tbody>\n",
       "    <tr>\n",
       "      <th>0</th>\n",
       "      <td>LMCI</td>\n",
       "      <td>67.5</td>\n",
       "      <td>Male</td>\n",
       "      <td>10</td>\n",
       "      <td>Hisp/Latino</td>\n",
       "      <td>White</td>\n",
       "      <td>0</td>\n",
       "      <td>27</td>\n",
       "      <td>0</td>\n",
       "    </tr>\n",
       "    <tr>\n",
       "      <th>1</th>\n",
       "      <td>CN</td>\n",
       "      <td>73.7</td>\n",
       "      <td>Male</td>\n",
       "      <td>16</td>\n",
       "      <td>Not Hisp/Latino</td>\n",
       "      <td>White</td>\n",
       "      <td>0</td>\n",
       "      <td>29</td>\n",
       "      <td>0</td>\n",
       "    </tr>\n",
       "    <tr>\n",
       "      <th>2</th>\n",
       "      <td>LMCI</td>\n",
       "      <td>80.4</td>\n",
       "      <td>Female</td>\n",
       "      <td>13</td>\n",
       "      <td>Not Hisp/Latino</td>\n",
       "      <td>White</td>\n",
       "      <td>0</td>\n",
       "      <td>25</td>\n",
       "      <td>0</td>\n",
       "    </tr>\n",
       "    <tr>\n",
       "      <th>3</th>\n",
       "      <td>CN</td>\n",
       "      <td>78.5</td>\n",
       "      <td>Female</td>\n",
       "      <td>12</td>\n",
       "      <td>Hisp/Latino</td>\n",
       "      <td>White</td>\n",
       "      <td>0</td>\n",
       "      <td>29</td>\n",
       "      <td>0</td>\n",
       "    </tr>\n",
       "    <tr>\n",
       "      <th>4</th>\n",
       "      <td>CN</td>\n",
       "      <td>80.8</td>\n",
       "      <td>Male</td>\n",
       "      <td>18</td>\n",
       "      <td>Not Hisp/Latino</td>\n",
       "      <td>White</td>\n",
       "      <td>1</td>\n",
       "      <td>29</td>\n",
       "      <td>0</td>\n",
       "    </tr>\n",
       "  </tbody>\n",
       "</table>\n",
       "</div>"
      ],
      "text/plain": [
       "  DX.bl   AGE PTGENDER  PTEDUCAT         PTETHCAT PTRACCAT  APOE4  MMSE  \\\n",
       "0  LMCI  67.5     Male        10      Hisp/Latino    White      0    27   \n",
       "1    CN  73.7     Male        16  Not Hisp/Latino    White      0    29   \n",
       "2  LMCI  80.4   Female        13  Not Hisp/Latino    White      0    25   \n",
       "3    CN  78.5   Female        12      Hisp/Latino    White      0    29   \n",
       "4    CN  80.8     Male        18  Not Hisp/Latino    White      1    29   \n",
       "\n",
       "   AD_dx_in_5_yrs  \n",
       "0               0  \n",
       "1               0  \n",
       "2               0  \n",
       "3               0  \n",
       "4               0  "
      ]
     },
     "execution_count": 14,
     "metadata": {},
     "output_type": "execute_result"
    }
   ],
   "source": [
    "data = pd.read_csv('../data/clinical_training_data.csv')\n",
    "data.head()"
   ]
  },
  {
   "cell_type": "code",
   "execution_count": 15,
   "id": "4edfa33d-9e41-45f0-ad2a-e5133f54fe73",
   "metadata": {},
   "outputs": [],
   "source": [
    "X = data.drop(columns=['AD_dx_in_5_yrs'])\n",
    "y = data['AD_dx_in_5_yrs']"
   ]
  },
  {
   "cell_type": "code",
   "execution_count": 16,
   "id": "30af8d74-2fb4-4fd2-a00d-cfa09fe980ad",
   "metadata": {},
   "outputs": [],
   "source": [
    "X[\"DX.bl\"] = X[\"DX.bl\"].astype(\"category\")\n",
    "X[\"PTGENDER\"] = X[\"PTGENDER\"].astype(\"category\")\n",
    "X[\"PTETHCAT\"] = X[\"PTETHCAT\"].astype(\"category\")\n",
    "X[\"PTRACCAT\"] = X[\"PTRACCAT\"].astype(\"category\")"
   ]
  },
  {
   "cell_type": "code",
   "execution_count": 17,
   "id": "2e47f64f-1752-4279-9c8f-3ab583e9d8c1",
   "metadata": {},
   "outputs": [
    {
     "name": "stdout",
     "output_type": "stream",
     "text": [
      "              precision    recall  f1-score   support\n",
      "\n",
      "           0       0.78      0.74      0.76        66\n",
      "           1       0.53      0.58      0.55        33\n",
      "\n",
      "    accuracy                           0.69        99\n",
      "   macro avg       0.65      0.66      0.66        99\n",
      "weighted avg       0.69      0.69      0.69        99\n",
      "\n"
     ]
    }
   ],
   "source": [
    "# split test, train\n",
    "X_train, X_test, y_train, y_test = train_test_split(X, y, test_size=.2)\n",
    "# create model instance\n",
    "model = xgb.XGBClassifier(tree_method=\"hist\", enable_categorical=True, device=\"cuda\")\n",
    "# fit model\n",
    "model.fit(X_train, y_train)\n",
    "# make predictions\n",
    "y_pred = model.predict(X_test)\n",
    "\n",
    "# evaluate predictions\n",
    "print(classification_report(y_test, y_pred))"
   ]
  },
  {
   "cell_type": "code",
   "execution_count": 28,
   "id": "5d1c6fbf-7a2f-4e87-a752-6c2908e7ba65",
   "metadata": {},
   "outputs": [],
   "source": [
    "features = X.columns.to_list()\n",
    "importance = list(model.feature_importances_)"
   ]
  },
  {
   "cell_type": "code",
   "execution_count": 31,
   "id": "aa0fa4e6-7dc3-4067-9acc-ceeca04dc2e5",
   "metadata": {},
   "outputs": [
    {
     "data": {
      "text/html": [
       "<div>\n",
       "<style scoped>\n",
       "    .dataframe tbody tr th:only-of-type {\n",
       "        vertical-align: middle;\n",
       "    }\n",
       "\n",
       "    .dataframe tbody tr th {\n",
       "        vertical-align: top;\n",
       "    }\n",
       "\n",
       "    .dataframe thead th {\n",
       "        text-align: right;\n",
       "    }\n",
       "</style>\n",
       "<table border=\"1\" class=\"dataframe\">\n",
       "  <thead>\n",
       "    <tr style=\"text-align: right;\">\n",
       "      <th></th>\n",
       "      <th>Feature</th>\n",
       "      <th>Importance</th>\n",
       "    </tr>\n",
       "  </thead>\n",
       "  <tbody>\n",
       "    <tr>\n",
       "      <th>0</th>\n",
       "      <td>DX.bl</td>\n",
       "      <td>0.721209</td>\n",
       "    </tr>\n",
       "    <tr>\n",
       "      <th>6</th>\n",
       "      <td>APOE4</td>\n",
       "      <td>0.060033</td>\n",
       "    </tr>\n",
       "    <tr>\n",
       "      <th>7</th>\n",
       "      <td>MMSE</td>\n",
       "      <td>0.058399</td>\n",
       "    </tr>\n",
       "    <tr>\n",
       "      <th>1</th>\n",
       "      <td>AGE</td>\n",
       "      <td>0.036757</td>\n",
       "    </tr>\n",
       "    <tr>\n",
       "      <th>2</th>\n",
       "      <td>PTGENDER</td>\n",
       "      <td>0.034487</td>\n",
       "    </tr>\n",
       "    <tr>\n",
       "      <th>3</th>\n",
       "      <td>PTEDUCAT</td>\n",
       "      <td>0.032423</td>\n",
       "    </tr>\n",
       "    <tr>\n",
       "      <th>4</th>\n",
       "      <td>PTETHCAT</td>\n",
       "      <td>0.028618</td>\n",
       "    </tr>\n",
       "    <tr>\n",
       "      <th>5</th>\n",
       "      <td>PTRACCAT</td>\n",
       "      <td>0.028074</td>\n",
       "    </tr>\n",
       "  </tbody>\n",
       "</table>\n",
       "</div>"
      ],
      "text/plain": [
       "    Feature  Importance\n",
       "0     DX.bl    0.721209\n",
       "6     APOE4    0.060033\n",
       "7      MMSE    0.058399\n",
       "1       AGE    0.036757\n",
       "2  PTGENDER    0.034487\n",
       "3  PTEDUCAT    0.032423\n",
       "4  PTETHCAT    0.028618\n",
       "5  PTRACCAT    0.028074"
      ]
     },
     "execution_count": 31,
     "metadata": {},
     "output_type": "execute_result"
    }
   ],
   "source": [
    "feature_importance = dict(zip(features, importance))\n",
    "feature_importance_df = pd.DataFrame.from_dict(feature_importance, orient='index').reset_index()\n",
    "feature_importance_df.columns = ['Feature', 'Importance']\n",
    "feature_importance_df.sort_values('Importance', ascending=False)"
   ]
  },
  {
   "cell_type": "markdown",
   "id": "0bccb413-2832-4860-9d5e-cbdce2c04608",
   "metadata": {},
   "source": [
    "## Remove DX.bl"
   ]
  },
  {
   "cell_type": "code",
   "execution_count": 32,
   "id": "c74842ec-a106-4370-ad90-929df66f16f5",
   "metadata": {},
   "outputs": [],
   "source": [
    "X = data.drop(columns=['DX.bl','AD_dx_in_5_yrs'])\n",
    "y = data['AD_dx_in_5_yrs']"
   ]
  },
  {
   "cell_type": "code",
   "execution_count": 33,
   "id": "9dbd2917-8fb7-4197-a8d2-8372bffeee82",
   "metadata": {},
   "outputs": [],
   "source": [
    "X[\"PTGENDER\"] = X[\"PTGENDER\"].astype(\"category\")\n",
    "X[\"PTETHCAT\"] = X[\"PTETHCAT\"].astype(\"category\")\n",
    "X[\"PTRACCAT\"] = X[\"PTRACCAT\"].astype(\"category\")"
   ]
  },
  {
   "cell_type": "code",
   "execution_count": 34,
   "id": "bdac0e94-cca9-4a3f-86dd-468fe7475392",
   "metadata": {},
   "outputs": [
    {
     "name": "stdout",
     "output_type": "stream",
     "text": [
      "              precision    recall  f1-score   support\n",
      "\n",
      "           0       0.77      0.81      0.79        72\n",
      "           1       0.42      0.37      0.39        27\n",
      "\n",
      "    accuracy                           0.69        99\n",
      "   macro avg       0.59      0.59      0.59        99\n",
      "weighted avg       0.68      0.69      0.68        99\n",
      "\n"
     ]
    }
   ],
   "source": [
    "# split test, train\n",
    "X_train, X_test, y_train, y_test = train_test_split(X, y, test_size=.2)\n",
    "# create model instance\n",
    "model = xgb.XGBClassifier(tree_method=\"hist\", enable_categorical=True, device=\"cuda\")\n",
    "# fit model\n",
    "model.fit(X_train, y_train)\n",
    "# make predictions\n",
    "y_pred = model.predict(X_test)\n",
    "\n",
    "# evaluate predictions\n",
    "print(classification_report(y_test, y_pred))"
   ]
  },
  {
   "cell_type": "code",
   "execution_count": 35,
   "id": "c6feff35-a83f-454c-90f6-30b081ce6d6a",
   "metadata": {},
   "outputs": [],
   "source": [
    "features = X.columns.to_list()\n",
    "importance = list(model.feature_importances_)"
   ]
  },
  {
   "cell_type": "code",
   "execution_count": 36,
   "id": "0f0b1dd3-bfc4-4efb-b204-0a5194a43d02",
   "metadata": {},
   "outputs": [
    {
     "data": {
      "text/html": [
       "<div>\n",
       "<style scoped>\n",
       "    .dataframe tbody tr th:only-of-type {\n",
       "        vertical-align: middle;\n",
       "    }\n",
       "\n",
       "    .dataframe tbody tr th {\n",
       "        vertical-align: top;\n",
       "    }\n",
       "\n",
       "    .dataframe thead th {\n",
       "        text-align: right;\n",
       "    }\n",
       "</style>\n",
       "<table border=\"1\" class=\"dataframe\">\n",
       "  <thead>\n",
       "    <tr style=\"text-align: right;\">\n",
       "      <th></th>\n",
       "      <th>Feature</th>\n",
       "      <th>Importance</th>\n",
       "    </tr>\n",
       "  </thead>\n",
       "  <tbody>\n",
       "    <tr>\n",
       "      <th>6</th>\n",
       "      <td>MMSE</td>\n",
       "      <td>0.304788</td>\n",
       "    </tr>\n",
       "    <tr>\n",
       "      <th>5</th>\n",
       "      <td>APOE4</td>\n",
       "      <td>0.214837</td>\n",
       "    </tr>\n",
       "    <tr>\n",
       "      <th>4</th>\n",
       "      <td>PTRACCAT</td>\n",
       "      <td>0.115015</td>\n",
       "    </tr>\n",
       "    <tr>\n",
       "      <th>0</th>\n",
       "      <td>AGE</td>\n",
       "      <td>0.105785</td>\n",
       "    </tr>\n",
       "    <tr>\n",
       "      <th>2</th>\n",
       "      <td>PTEDUCAT</td>\n",
       "      <td>0.104718</td>\n",
       "    </tr>\n",
       "    <tr>\n",
       "      <th>1</th>\n",
       "      <td>PTGENDER</td>\n",
       "      <td>0.101483</td>\n",
       "    </tr>\n",
       "    <tr>\n",
       "      <th>3</th>\n",
       "      <td>PTETHCAT</td>\n",
       "      <td>0.053373</td>\n",
       "    </tr>\n",
       "  </tbody>\n",
       "</table>\n",
       "</div>"
      ],
      "text/plain": [
       "    Feature  Importance\n",
       "6      MMSE    0.304788\n",
       "5     APOE4    0.214837\n",
       "4  PTRACCAT    0.115015\n",
       "0       AGE    0.105785\n",
       "2  PTEDUCAT    0.104718\n",
       "1  PTGENDER    0.101483\n",
       "3  PTETHCAT    0.053373"
      ]
     },
     "execution_count": 36,
     "metadata": {},
     "output_type": "execute_result"
    }
   ],
   "source": [
    "feature_importance = dict(zip(features, importance))\n",
    "feature_importance_df = pd.DataFrame.from_dict(feature_importance, orient='index').reset_index()\n",
    "feature_importance_df.columns = ['Feature', 'Importance']\n",
    "feature_importance_df.sort_values('Importance', ascending=False)"
   ]
  },
  {
   "cell_type": "code",
   "execution_count": null,
   "id": "8e9f80f3-5430-400b-ad33-ea08a7883c46",
   "metadata": {},
   "outputs": [],
   "source": []
  }
 ],
 "metadata": {
  "kernelspec": {
   "display_name": "Python 3 (ipykernel)",
   "language": "python",
   "name": "python3"
  },
  "language_info": {
   "codemirror_mode": {
    "name": "ipython",
    "version": 3
   },
   "file_extension": ".py",
   "mimetype": "text/x-python",
   "name": "python",
   "nbconvert_exporter": "python",
   "pygments_lexer": "ipython3",
   "version": "3.10.8"
  }
 },
 "nbformat": 4,
 "nbformat_minor": 5
}
