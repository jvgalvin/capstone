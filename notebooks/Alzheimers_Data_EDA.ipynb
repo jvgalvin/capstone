{
 "cells": [
  {
   "cell_type": "code",
   "execution_count": null,
   "id": "b0ea8680",
   "metadata": {},
   "outputs": [],
   "source": [
    "import os\n",
    "import matplotlib.pyplot as plt\n",
    "import numpy as np\n",
    "import pandas as pd\n",
    "\n",
    "from PIL import Image\n",
    "from sklearn.decomposition import PCA\n",
    "from tqdm import tqdm\n",
    "\n"
   ]
  },
  {
   "cell_type": "markdown",
   "id": "cb1ee9d8",
   "metadata": {},
   "source": [
    "# Script to get patient ids and scan dates"
   ]
  },
  {
   "cell_type": "code",
   "execution_count": null,
   "id": "f2673095",
   "metadata": {},
   "outputs": [],
   "source": [
    "\n",
    "def get_file_list(directory) -> list:\n",
    "    return os.listdir(directory)\n",
    "\n",
    "METADATA_ROOT_PATH = \"data/scan_metadata/\"\n",
    "\n",
    "df = None\n",
    "\n",
    "\n",
    "# dictionary with list object in values\n",
    "df_dict = {\n",
    "    'patient_id' : [],\n",
    "    'group' : [],\n",
    "    'scan_date' : []\n",
    "}\n",
    "\n",
    "patient_ids = get_file_list(METADATA_ROOT_PATH)\n",
    "\n",
    "for pid in patient_ids:\n",
    "    GROUP_DIR_PATH = METADATA_ROOT_PATH + \"/\" + pid\n",
    "\n",
    "    group_list = get_file_list(GROUP_DIR_PATH)\n",
    "\n",
    "    for group in group_list:\n",
    "        DATE_PATH = GROUP_DIR_PATH + \"/\" + group\n",
    "    \n",
    "        date_list = get_file_list(DATE_PATH)\n",
    "    \n",
    "        for date in date_list:\n",
    "            df_dict[\"patient_id\"].append(pid)\n",
    "            df_dict[\"group\"].append(group)\n",
    "            df_dict[\"scan_date\"].append(date)\n",
    "            \n",
    "\n",
    "# creating a Dataframe object \n",
    "df = pd.DataFrame(df_dict)\n",
    "\n",
    "df.to_csv(\"\\data\\adni_patient_scan_dates.csv\")\n",
    "\n",
    "print(df.head())\n",
    "\n"
   ]
  },
  {
   "cell_type": "markdown",
   "id": "450ddd5e",
   "metadata": {},
   "source": [
    "# Functions and Constants"
   ]
  },
  {
   "cell_type": "code",
   "execution_count": null,
   "id": "45219b0f",
   "metadata": {
    "scrolled": true
   },
   "outputs": [],
   "source": [
    "\n",
    "def get_file_list(directory) -> list:\n",
    "    return os.listdir(directory)\n",
    "\n",
    "def generate_dataframe(main_directory) -> pd.DataFrame:\n",
    "    df = pd.DataFrame()\n",
    "    labels_list = list()\n",
    "    \n",
    "    directory_list = get_file_list(main_directory)\n",
    "    \n",
    "    for directory in directory_list:\n",
    "        folder_path = main_directory + \"/\" + directory\n",
    "        file_list = get_file_list(folder_path)\n",
    "        \n",
    "        n_files = len(file_list)\n",
    "        \n",
    "        # Sample 10 files per type\n",
    "        for i in tqdm(range(10)): #n_files\n",
    "            file = file_list[i]\n",
    "            file_path = folder_path + \"/\" + file\n",
    "            \n",
    "            img = Image.open(file_path)\n",
    "            img_array = np.array(img)\n",
    "            img_1d = np.reshape(img_array, -1)\n",
    "            \n",
    "            df_temp = pd.DataFrame(img_1d)\n",
    "            df_temp = df_temp.T\n",
    "\n",
    "            df = df.append(df_temp, ignore_index = True)\n",
    "            labels_list.append(directory)\n",
    "    \n",
    "    df[\"label\"] = pd.Series(labels_list)\n",
    "    \n",
    "    return df\n",
    "    "
   ]
  },
  {
   "cell_type": "markdown",
   "id": "945cce3d",
   "metadata": {},
   "source": [
    "# Load Data"
   ]
  },
  {
   "cell_type": "code",
   "execution_count": null,
   "id": "ee2e73c9",
   "metadata": {},
   "outputs": [],
   "source": [
    "df_oasis = None\n",
    "df_pre = None\n",
    "\n",
    "df_oasis = generate_dataframe(\"data/oasis\")"
   ]
  },
  {
   "cell_type": "code",
   "execution_count": null,
   "id": "3e91d549",
   "metadata": {},
   "outputs": [],
   "source": [
    "df_oasis.loc[:, (df_oasis != 0).any(axis=0)]"
   ]
  },
  {
   "cell_type": "code",
   "execution_count": null,
   "id": "ebe57f96",
   "metadata": {},
   "outputs": [],
   "source": []
  }
 ],
 "metadata": {
  "kernelspec": {
   "display_name": "Python 3",
   "language": "python",
   "name": "python3"
  },
  "language_info": {
   "codemirror_mode": {
    "name": "ipython",
    "version": 3
   },
   "file_extension": ".py",
   "mimetype": "text/x-python",
   "name": "python",
   "nbconvert_exporter": "python",
   "pygments_lexer": "ipython3",
   "version": "3.11.5"
  }
 },
 "nbformat": 4,
 "nbformat_minor": 5
}
