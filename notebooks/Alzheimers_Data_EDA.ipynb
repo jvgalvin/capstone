{
 "cells": [
  {
   "cell_type": "code",
   "execution_count": 1,
   "id": "b0ea8680",
   "metadata": {},
   "outputs": [],
   "source": [
    "import os\n",
    "import matplotlib.pyplot as plt\n",
    "import numpy as np\n",
    "import pandas as pd\n",
    "import pydicom\n",
    "import sys\n",
    "\n",
    "from PIL import Image\n",
    "from tqdm import tqdm"
   ]
  },
  {
   "cell_type": "markdown",
   "id": "7e15c503-fa29-4d6e-afd8-ea3d20774953",
   "metadata": {},
   "source": [
    "# Important Functions"
   ]
  },
  {
   "cell_type": "code",
   "execution_count": 2,
   "id": "ed41d768-4c8b-4ab8-92b3-f8d98fa0bd71",
   "metadata": {},
   "outputs": [],
   "source": [
    "def get_file_list(directory) -> list:\n",
    "    return os.listdir(directory)\n",
    "\n",
    "def unique_items_in_list(list1):\n",
    "    # insert the list to the set\n",
    "    list_set = set(list1)\n",
    "    # convert the set to the list\n",
    "    unique_list = (list(list_set))\n",
    "    \n",
    "    return unique_list"
   ]
  },
  {
   "cell_type": "markdown",
   "id": "6f781ae3-7a39-4918-baa2-3933ef240cbc",
   "metadata": {},
   "source": [
    "# Check out Unique Patients in the AD_time_to_dx.csv file"
   ]
  },
  {
   "cell_type": "code",
   "execution_count": 3,
   "id": "f5b6d151-5bde-4ef3-a10c-83927aa1f39d",
   "metadata": {
    "scrolled": true
   },
   "outputs": [
    {
     "name": "stdout",
     "output_type": "stream",
     "text": [
      "Number of patients in AD_time_to_dx.csv: 495\n",
      "\n",
      "\n",
      "List of 495 Patients:\n",
      "\n",
      "022_S_0004, 011_S_0005, 100_S_0006, 022_S_0014, 100_S_0015, 011_S_0016, 067_S_0019, 011_S_0021, 011_S_0022, 011_S_0023, 023_S_0030, 023_S_0031, 035_S_0033, 100_S_0035, 067_S_0038, 099_S_0040, 007_S_0041, 023_S_0042, 018_S_0043, 100_S_0047, 035_S_0048, 123_S_0050, 099_S_0051, 099_S_0054, 067_S_0056, 018_S_0057, 023_S_0058, 067_S_0059, 099_S_0060, 023_S_0061, 022_S_0066, 010_S_0067, 007_S_0068, 100_S_0069, 007_S_0070, 123_S_0072, 027_S_0074, 067_S_0077, 018_S_0080, 023_S_0081, 136_S_0086, 018_S_0087, 073_S_0089, 099_S_0090, 032_S_0095, 022_S_0096, 020_S_0097, 067_S_0098, 007_S_0101, 123_S_0106, 136_S_0107, 123_S_0108, 099_S_0111, 127_S_0112, 123_S_0113, 027_S_0116, 027_S_0118, 027_S_0120, 131_S_0123, 041_S_0125, 023_S_0126, 068_S_0127, 007_S_0128, 022_S_0130, 021_S_0141, 018_S_0142, 037_S_0150, 018_S_0155, 035_S_0156, 137_S_0158, 021_S_0159, 098_S_0160, 114_S_0166, 011_S_0168, 014_S_0169, 098_S_0171, 098_S_0172, 114_S_0173, 067_S_0176, 067_S_0177, 027_S_0179, 136_S_0184, 136_S_0186, 032_S_0187, 136_S_0195, 136_S_0196, 035_S_0204, 068_S_0210, 032_S_0214, 023_S_0217, 005_S_0222, 005_S_0223, 021_S_0231, 130_S_0232, 013_S_0240, 011_S_0241, 007_S_0249, 027_S_0256, 127_S_0259, 127_S_0260, 041_S_0262, 098_S_0269, 021_S_0273, 021_S_0276, 041_S_0282, 137_S_0283, 067_S_0284, 067_S_0290, 099_S_0291, 035_S_0292, 007_S_0293, 031_S_0294, 002_S_0295, 100_S_0296, 123_S_0298, 137_S_0301, 037_S_0303, 027_S_0307, 073_S_0311, 073_S_0312, 041_S_0314, 072_S_0315, 005_S_0324, 013_S_0325, 011_S_0326, 037_S_0327, 023_S_0331, 021_S_0332, 067_S_0336, 021_S_0337, 031_S_0351, 099_S_0352, 016_S_0354, 016_S_0359, 116_S_0361, 011_S_0362, 018_S_0369, 023_S_0376, 114_S_0378, 116_S_0382, 131_S_0384, 073_S_0386, 023_S_0388, 053_S_0389, 123_S_0390, 127_S_0393, 127_S_0394, 027_S_0403, 018_S_0406, 027_S_0408, 114_S_0410, 002_S_0413, 007_S_0414, 114_S_0416, 010_S_0419, 010_S_0422, 130_S_0423, 021_S_0424, 018_S_0425, 136_S_0429, 133_S_0433, 094_S_0434, 131_S_0441, 068_S_0442, 137_S_0443, 041_S_0446, 005_S_0448, 018_S_0450, 037_S_0454, 114_S_0458, 137_S_0459, 027_S_0461, 057_S_0464, 037_S_0467, 010_S_0472, 068_S_0473, 032_S_0479, 137_S_0481, 027_S_0485, 133_S_0488, 006_S_0498, 037_S_0501, 013_S_0502, 130_S_0505, 053_S_0507, 033_S_0511, 033_S_0513, 033_S_0514, 033_S_0516, 073_S_0518, 014_S_0519, 014_S_0520, 133_S_0525, 094_S_0526, 094_S_0531, 099_S_0533, 099_S_0534, 016_S_0538, 037_S_0539, 022_S_0544, 005_S_0546, 014_S_0548, 041_S_0549, 099_S_0551, 037_S_0552, 005_S_0553, 035_S_0555, 014_S_0557, 014_S_0558, 014_S_0563, 037_S_0566, 033_S_0567, 031_S_0568, 013_S_0575, 036_S_0576, 062_S_0578, 136_S_0579, 037_S_0588, 041_S_0598, 114_S_0601, 005_S_0602, 023_S_0604, 126_S_0605, 067_S_0607, 005_S_0610, 053_S_0621, 127_S_0622, 023_S_0625, 021_S_0626, 133_S_0629, 137_S_0631, 012_S_0634, 012_S_0637, 133_S_0638, 057_S_0643, 027_S_0644, 021_S_0647, 116_S_0648, 116_S_0649, 036_S_0656, 116_S_0657, 014_S_0658, 098_S_0667, 137_S_0668, 137_S_0669, 052_S_0671, 036_S_0672, 036_S_0673, 006_S_0675, 032_S_0677, 041_S_0679, 126_S_0680, 006_S_0681, 127_S_0684, 002_S_0685, 094_S_0692, 136_S_0695, 007_S_0698, 016_S_0702, 126_S_0709, 094_S_0711, 141_S_0717, 032_S_0718, 137_S_0722, 033_S_0723, 033_S_0725, 141_S_0726, 133_S_0727, 002_S_0729, 006_S_0731, 033_S_0734, 033_S_0739, 033_S_0741, 073_S_0746, 036_S_0748, 022_S_0750, 009_S_0751, 116_S_0752, 141_S_0767, 062_S_0768, 133_S_0771, 129_S_0778, 057_S_0779, 002_S_0782, 130_S_0783, 133_S_0792, 137_S_0800, 141_S_0810, 036_S_0813, 057_S_0818, 029_S_0824, 137_S_0825, 031_S_0830, 116_S_0834, 027_S_0835, 057_S_0839, 009_S_0842, 029_S_0843, 029_S_0845, 141_S_0851, 023_S_0855, 011_S_0856, 013_S_0860, 011_S_0861, 009_S_0862, 128_S_0863, 126_S_0865, 029_S_0866, 031_S_0867, 036_S_0869, 068_S_0872, 136_S_0873, 136_S_0874, 029_S_0878, 099_S_0880, 020_S_0883, 130_S_0886, 023_S_0887, 098_S_0896, 041_S_0898, 020_S_0899, 010_S_0904, 033_S_0906, 003_S_0907, 003_S_0908, 073_S_0909, 133_S_0912, 133_S_0913, 029_S_0914, 141_S_0915, 053_S_0919, 033_S_0920, 094_S_0921, 033_S_0922, 033_S_0923, 127_S_0925, 023_S_0926, 082_S_0928, 012_S_0932, 057_S_0934, 057_S_0941, 036_S_0945, 128_S_0947, 109_S_0950, 052_S_0951, 052_S_0952, 002_S_0954, 022_S_0961, 023_S_0963, 109_S_0967, 130_S_0969, 137_S_0972, 036_S_0976, 032_S_0978, 003_S_0981, 141_S_0982, 024_S_0985, 132_S_0987, 137_S_0994, 035_S_0997, 041_S_1002, 141_S_1004, 057_S_1007, 012_S_1009, 041_S_1010, 109_S_1014, 033_S_1016, 036_S_1023, 016_S_1028, 009_S_1030, 127_S_1032, 012_S_1033, 099_S_1034, 013_S_1035, 051_S_1040, 128_S_1043, 027_S_1045, 023_S_1046, 141_S_1052, 052_S_1054, 003_S_1057, 024_S_1063, 031_S_1066, 002_S_1070, 051_S_1072, 029_S_1073, 037_S_1078, 011_S_1080, 033_S_1086, 128_S_1088, 141_S_1094, 033_S_1098, 062_S_1099, 114_S_1103, 114_S_1106, 109_S_1114, 033_S_1116, 016_S_1117, 114_S_1118, 082_S_1119, 013_S_1120, 016_S_1121, 003_S_1122, 051_S_1123, 023_S_1126, 006_S_1130, 051_S_1131, 012_S_1133, 036_S_1135, 127_S_1140, 128_S_1148, 002_S_1155, 012_S_1165, 052_S_1168, 032_S_1169, 062_S_1182, 109_S_1183, 013_S_1186, 126_S_1187, 094_S_1188, 023_S_1190, 941_S_1194, 941_S_1197, 130_S_1200, 941_S_1202, 007_S_1206, 027_S_1213, 029_S_1215, 057_S_1217, 007_S_1222, 005_S_1224, 037_S_1225, 136_S_1227, 116_S_1232, 036_S_1240, 094_S_1241, 128_S_1242, 116_S_1243, 141_S_1245, 129_S_1246, 023_S_1247, 116_S_1249, 052_S_1250, 052_S_1251, 141_S_1255, 082_S_1256, 041_S_1260, 002_S_1261, 057_S_1265, 094_S_1267, 002_S_1268, 057_S_1269, 116_S_1271, 013_S_1275, 027_S_1277, 033_S_1279, 002_S_1280, 011_S_1282, 033_S_1284, 020_S_1288, 012_S_1292, 094_S_1293, 062_S_1299, 123_S_1300, 131_S_1301, 033_S_1309, 941_S_1311, 116_S_1315, 029_S_1318, 012_S_1321, 121_S_1322, 016_S_1326, 051_S_1331, 109_S_1343, 052_S_1346, 022_S_1351, 052_S_1352, 029_S_1384, 027_S_1387, 131_S_1389, 024_S_1393, 022_S_1394, 094_S_1398, 128_S_1407, 128_S_1408, 041_S_1412, 137_S_1414, 094_S_1417, 041_S_1418, 127_S_1419, 037_S_1421, 041_S_1423, 041_S_1425, 137_S_1426, 127_S_1427\n"
     ]
    }
   ],
   "source": [
    "df_labels = pd.read_csv(\"data/AD_time_to_dx.csv\")\n",
    "\n",
    "full_patients_list = df_labels[\"PTID\"].values\n",
    "\n",
    "print(f\"Number of patients in AD_time_to_dx.csv: {len(unique_items_in_list(full_patients_list))}\\n\\n\")\n",
    "\n",
    "print(f\"List of {len(unique_items_in_list(full_patients_list))} Patients:\\n\")\n",
    "print(*full_patients_list, sep=\", \")"
   ]
  },
  {
   "cell_type": "markdown",
   "id": "cb1ee9d8",
   "metadata": {},
   "source": [
    "# Script to get patient ids and scan dates\n",
    "\n",
    "### After downloading the meta data of all MRI scans of all patient in the AD_time_to_dx.csv file, this script explores the most common types of scans and their dates"
   ]
  },
  {
   "cell_type": "code",
   "execution_count": 4,
   "id": "f2673095",
   "metadata": {},
   "outputs": [
    {
     "name": "stderr",
     "output_type": "stream",
     "text": [
      "100%|██████████████████████████████████████████████████████████████████████████████████████████████████████████████████████████████████████████████████████████████████████████████████████████████| 35212/35212 [00:57<00:00, 617.26it/s]\n"
     ]
    },
    {
     "name": "stdout",
     "output_type": "stream",
     "text": [
      "   patient_id              group              scan_date\n",
      "0  002_S_0295  3-plane_localizer  2006-04-18_08_19_08.0\n",
      "1  002_S_0295  3-plane_localizer  2006-11-02_08_15_08.0\n",
      "2  002_S_0295  3-plane_localizer  2007-05-25_07_06_39.0\n",
      "3  002_S_0295  3-plane_localizer  2007-05-25_07_10_07.0\n",
      "4  002_S_0295  3-plane_localizer  2008-07-23_14_49_54.0\n",
      "\n",
      "\n",
      "Number of distinct patients in metadata = 495\n",
      "\n",
      "Number of unique patients per scan group:\n",
      "group\n",
      "MPRAGE                  311\n",
      "MPRAGE_Repeat           247\n",
      "Axial_PD-T2_TSE         246\n",
      "MP-RAGE                 241\n",
      "B1-calibration_Head     231\n",
      "                       ... \n",
      "DOUBLE_TSE_SENSE          1\n",
      "Double_TSE-3rdRepeat      1\n",
      "Double_TSE-repeat         1\n",
      "FLAIR                     1\n",
      "tgse_pcasl_PLD2000        1\n",
      "Name: patient_id, Length: 352, dtype: int64\n"
     ]
    }
   ],
   "source": [
    "METADATA_ROOT_PATH = \"data/Patients_in_AD_time_to_dx_metadata\"\n",
    "\n",
    "df = None\n",
    "\n",
    "# dictionary with list object in values\n",
    "df_dict = {\n",
    "    'patient_id' : [],\n",
    "    'group' : [],\n",
    "    'scan_date' : []\n",
    "}\n",
    "\n",
    "full_patient_ids = get_file_list(METADATA_ROOT_PATH)\n",
    "\n",
    "for i in tqdm(range(len(full_patient_ids))):\n",
    "    pid = full_patient_ids[i]\n",
    "    GROUP_DIR_PATH = METADATA_ROOT_PATH + \"/\" + pid\n",
    "\n",
    "    # Ignore non-directory metadata at this level\n",
    "    if not os.path.isdir(GROUP_DIR_PATH):\n",
    "        continue\n",
    "\n",
    "    group_list = get_file_list(GROUP_DIR_PATH)\n",
    "\n",
    "    for group in group_list:\n",
    "        DATE_PATH = GROUP_DIR_PATH + \"/\" + group\n",
    "            \n",
    "        date_list = get_file_list(DATE_PATH)\n",
    "    \n",
    "        for date in date_list:\n",
    "            df_dict[\"patient_id\"].append(pid)\n",
    "            df_dict[\"group\"].append(group)\n",
    "            df_dict[\"scan_date\"].append(date)\n",
    "            \n",
    "\n",
    "# creating a Dataframe object \n",
    "df = pd.DataFrame(df_dict)\n",
    "\n",
    "df.to_csv(\"\\data\\adni_patient_scan_dates.csv\")\n",
    "\n",
    "print(df.head())\n",
    "\n",
    "print(f\"\\n\\nNumber of distinct patients in metadata = {len(df.patient_id.unique())}\\n\")\n",
    "\n",
    "df_groups = df.groupby('group')\n",
    "\n",
    "# For debugging purposes\n",
    "sorted_df_groups = df.group.unique()\n",
    "sorted_df_groups.sort()\n",
    "\n",
    "#print(sorted_df_groups)\n",
    "\n",
    "print(\"Number of unique patients per scan group:\")\n",
    "print(df_groups['patient_id'].nunique().sort_values(ascending=False))"
   ]
  },
  {
   "cell_type": "markdown",
   "id": "6e642b17-1f91-4403-9a76-bfc038250215",
   "metadata": {},
   "source": [
    "#### It seems that among the 495 patients in the list, MPRAGE is the most common type of scan that they have (311 out of 495 patients)"
   ]
  },
  {
   "cell_type": "markdown",
   "id": "9ef88475-49e3-4953-a15a-70b38f8e66f3",
   "metadata": {},
   "source": [
    "# Test Generating MRI Data Array for MPRAGE Scans"
   ]
  },
  {
   "cell_type": "markdown",
   "id": "43f30590-4615-4143-b2b3-3fd9b2e5bb8d",
   "metadata": {},
   "source": [
    "## Get Maximum number of images of a patient has in an MPRAGE Scan and show the distribution"
   ]
  },
  {
   "cell_type": "code",
   "execution_count": 14,
   "id": "db3f2f9b-8130-4faa-b353-7315f9d8a703",
   "metadata": {},
   "outputs": [
    {
     "name": "stderr",
     "output_type": "stream",
     "text": [
      "100%|███████████████████████████████████████████████████████████████████████████████████████████████████████████████████████████████████████████████████████████████████████████████████████████████████| 311/311 [00:04<00:00, 77.42it/s]\n"
     ]
    },
    {
     "name": "stdout",
     "output_type": "stream",
     "text": [
      "Number of patients: 311\n",
      "\n",
      "Most number of images in an MP-RAGE scan: 184\n",
      "\n",
      "Least number of images in an MP-RAGE scan: 160\n",
      "\n"
     ]
    },
    {
     "data": {
      "image/png": "[encoded data removed]",
      "text/plain": [
       "<Figure size 640x480 with 1 Axes>"
      ]
     },
     "metadata": {},
     "output_type": "display_data"
    }
   ],
   "source": [
    "DATA_PATH = 'data/MPRAGE_data'\n",
    "\n",
    "patient_list = get_file_list(DATA_PATH)\n",
    "\n",
    "list_of_image_quantities = list()\n",
    "\n",
    "for i in tqdm(range(len(patient_list))):\n",
    "    patient_id = patient_list[i]\n",
    "    \n",
    "    PATIENT_ID_PATH = DATA_PATH + \"/\" + patient_id\n",
    "    \n",
    "    scan_list = get_file_list(PATIENT_ID_PATH)\n",
    "\n",
    "    is_group_scanned = False\n",
    "    \n",
    "    for scan_group in scan_list:\n",
    "        \n",
    "        # Scan first group only\n",
    "        if is_group_scanned:\n",
    "            continue\n",
    "            \n",
    "        if scan_group != \"MPRAGE\":\n",
    "            continue\n",
    "        else:\n",
    "            is_group_scanned = True\n",
    "            \n",
    "            array_list = list()\n",
    "\n",
    "            SCAN_PATH = PATIENT_ID_PATH + \"/\" + scan_group\n",
    "\n",
    "            date_list = get_file_list(SCAN_PATH)\n",
    "\n",
    "            date_list.sort()\n",
    "            \n",
    "            is_date_scanned = False\n",
    "            \n",
    "            for date in date_list:\n",
    "\n",
    "                # Use the first date only\n",
    "                if is_date_scanned:\n",
    "                    continue\n",
    "\n",
    "                is_date_scanned = True\n",
    "                \n",
    "                DATE_PATH = SCAN_PATH + \"/\" + date\n",
    "\n",
    "                id_list = get_file_list(DATE_PATH)\n",
    "\n",
    "                is_id_scanned = False\n",
    "                \n",
    "                for id in id_list:\n",
    "\n",
    "                    # Scan first ID only\n",
    "                    if is_id_scanned:\n",
    "                        continue\n",
    "            \n",
    "                    is_id_scanned = True\n",
    "                    \n",
    "                    ID_PATH = DATE_PATH + \"/\" + id\n",
    "                \n",
    "                    file_list = get_file_list(ID_PATH)\n",
    "\n",
    "                    list_of_image_quantities.append(len(file_list))\n",
    "\n",
    "max_images = max(list_of_image_quantities) # Use this variable in the next step\n",
    "min_images = min(list_of_image_quantities)\n",
    "\n",
    "print(f\"Number of patients: {len(list_of_image_quantities)}\\n\")\n",
    "print(f\"Most number of images in an MP-RAGE scan: {max_images}\\n\")\n",
    "print(f\"Least number of images in an MP-RAGE scan: {min_images}\\n\")\n",
    "\n",
    "plt.hist(list_of_image_quantities, bins=(max_images-min_images))\n",
    "plt.title('Distribution of the Number of Images Per Scan')\n",
    "plt.xlabel('Number of Images per scan')\n",
    "plt.ylabel('Occurences')\n",
    "plt.show()"
   ]
  },
  {
   "cell_type": "markdown",
   "id": "ba98010b-97d7-4669-a06e-b8d78ee2b00c",
   "metadata": {},
   "source": [
    "## Train Array"
   ]
  },
  {
   "cell_type": "code",
   "execution_count": 18,
   "id": "faa90b70-70fa-436d-b127-e22e67c32fc9",
   "metadata": {},
   "outputs": [
    {
     "name": "stderr",
     "output_type": "stream",
     "text": [
      "  3%|██████▎                                                                                                                                                                                             | 10/311 [00:10<05:28,  1.09s/it]"
     ]
    },
    {
     "name": "stdout",
     "output_type": "stream",
     "text": [
      "(192, 192)\n"
     ]
    },
    {
     "name": "stderr",
     "output_type": "stream",
     "text": [
      "\n"
     ]
    },
    {
     "ename": "ValueError",
     "evalue": "cannot reshape array of size 36864 into shape (4,3)",
     "output_type": "error",
     "traceback": [
      "\u001b[0;31m---------------------------------------------------------------------------\u001b[0m",
      "\u001b[0;31mValueError\u001b[0m                                Traceback (most recent call last)",
      "Cell \u001b[0;32mIn[18], line 75\u001b[0m\n\u001b[1;32m     73\u001b[0m \u001b[38;5;28;01mif\u001b[39;00m \u001b[38;5;28mstr\u001b[39m(pixel_array\u001b[38;5;241m.\u001b[39mshape) \u001b[38;5;241m!=\u001b[39m \u001b[38;5;124m\"\u001b[39m\u001b[38;5;124m(256, 256)\u001b[39m\u001b[38;5;124m\"\u001b[39m:\n\u001b[1;32m     74\u001b[0m     \u001b[38;5;28mprint\u001b[39m(pixel_array\u001b[38;5;241m.\u001b[39mshape)\n\u001b[0;32m---> 75\u001b[0m     pixel_array \u001b[38;5;241m=\u001b[39m \u001b[43mpixel_array\u001b[49m\u001b[38;5;241;43m.\u001b[39;49m\u001b[43mreshape\u001b[49m\u001b[43m(\u001b[49m\u001b[38;5;241;43m4\u001b[39;49m\u001b[43m,\u001b[49m\u001b[43m \u001b[49m\u001b[38;5;241;43m3\u001b[39;49m\u001b[43m)\u001b[49m\n\u001b[1;32m     77\u001b[0m \u001b[38;5;66;03m#print(pixel_array.shape)\u001b[39;00m\n\u001b[1;32m     78\u001b[0m array_list\u001b[38;5;241m.\u001b[39mappend(pixel_array)\n",
      "\u001b[0;31mValueError\u001b[0m: cannot reshape array of size 36864 into shape (4,3)"
     ]
    }
   ],
   "source": [
    "DATA_PATH = 'data/MPRAGE_data'\n",
    "\n",
    "patient_list = get_file_list(DATA_PATH)\n",
    "\n",
    "output_list = list()\n",
    "\n",
    "for i in tqdm(range(len(patient_list))):\n",
    "    if i >20:\n",
    "        break\n",
    "    \n",
    "    patient_id = patient_list[i]\n",
    "    \n",
    "    PATIENT_ID_PATH = DATA_PATH + \"/\" + patient_id\n",
    "    \n",
    "    scan_list = get_file_list(PATIENT_ID_PATH)\n",
    "    \n",
    "    is_group_scanned = False\n",
    "    \n",
    "    for scan_group in scan_list:\n",
    "\n",
    "        # Scan first group only\n",
    "        if is_group_scanned:\n",
    "            continue\n",
    "        \n",
    "        if scan_group != \"MPRAGE\":\n",
    "            continue\n",
    "        else:\n",
    "            is_group_scanned = True\n",
    "            \n",
    "            array_list = list()\n",
    "\n",
    "            SCAN_PATH = PATIENT_ID_PATH + \"/\" + scan_group\n",
    "\n",
    "            date_list = get_file_list(SCAN_PATH)\n",
    "\n",
    "            date_list.sort()\n",
    "            \n",
    "            is_date_scanned = False\n",
    "            \n",
    "            for date in date_list:\n",
    "\n",
    "                # Use the first date only\n",
    "                if is_date_scanned:\n",
    "                    continue\n",
    "                is_date_scanned = True\n",
    "                \n",
    "                DATE_PATH = SCAN_PATH + \"/\" + date\n",
    "\n",
    "                id_list = get_file_list(DATE_PATH)\n",
    "\n",
    "                is_id_scanned = False\n",
    "                \n",
    "                for id in id_list:\n",
    "\n",
    "                    # Scan first ID only\n",
    "                    if is_id_scanned:\n",
    "                        continue\n",
    "            \n",
    "                    is_id_scanned = True\n",
    "                    \n",
    "                    ID_PATH = DATE_PATH + \"/\" + id\n",
    "                \n",
    "                    file_list = get_file_list(ID_PATH)\n",
    "                    \n",
    "                    for file_name in file_list:\n",
    "                        np.set_printoptions()\n",
    "                        file_path = ID_PATH + \"/\" + file_name\n",
    "        \n",
    "                        dcm = pydicom.dcmread(file_path)\n",
    "                        \n",
    "                        pixel_array = dcm.pixel_array\n",
    "\n",
    "                        if str(pixel_array.shape) != \"(256, 256)\":\n",
    "                            print(pixel_array.shape)\n",
    "                            pixel_array = pixel_array.reshape(256, 256)\n",
    "                        \n",
    "                        #print(pixel_array.shape)\n",
    "                        array_list.append(pixel_array)\n",
    "\n",
    "                    # Fill missing spaces with arrays\n",
    "                    cur_len = len(array_list)\n",
    "                    \n",
    "                    for j in range(max_images-cur_len):\n",
    "                        array_list.append(np.zeros(shape=(256, 256)))\n",
    "\n",
    "    output_list.append(array_list)\n",
    "\n",
    "output_array = np.array(output_list)\n",
    "print(\"Output Array Shape\" + str(output_array.shape))\n",
    "print(\"Output Array Size: %d bytes\" % (output_array. size * output_array. itemsize))\n",
    "print(\"Output Array Size: %d GiB\" % (output_array. size * output_array. itemsize / 1073741824))"
   ]
  },
  {
   "cell_type": "code",
   "execution_count": 13,
   "id": "2aad0efa-363a-4c12-bd87-6aa66d97bed7",
   "metadata": {},
   "outputs": [
    {
     "name": "stdout",
     "output_type": "stream",
     "text": [
      "(256, 256)\n"
     ]
    }
   ],
   "source": [
    "file_path = \"data/MPRAGE_data/002_S_0295/MPRAGE/2011-06-02_07_58_50.0/I238627/ADNI_002_S_0295_MR_MPRAGE_br_raw_20110602125226441_80_S110476_I238627.dcm\"\n",
    "        \n",
    "dcm = pydicom.dcmread(file_path)\n",
    "                        \n",
    "pixel_array = dcm.pixel_array\n",
    "\n",
    "print(pixel_array.shape)"
   ]
  },
  {
   "cell_type": "code",
   "execution_count": null,
   "id": "a1a1e56c-e62c-4358-acba-f7d013ca41c9",
   "metadata": {},
   "outputs": [],
   "source": []
  }
 ],
 "metadata": {
  "kernelspec": {
   "display_name": "Python 3 (ipykernel)",
   "language": "python",
   "name": "python3"
  },
  "language_info": {
   "codemirror_mode": {
    "name": "ipython",
    "version": 3
   },
   "file_extension": ".py",
   "mimetype": "text/x-python",
   "name": "python",
   "nbconvert_exporter": "python",
   "pygments_lexer": "ipython3",
   "version": "3.11.5"
  }
 },
 "nbformat": 4,
 "nbformat_minor": 5
}
