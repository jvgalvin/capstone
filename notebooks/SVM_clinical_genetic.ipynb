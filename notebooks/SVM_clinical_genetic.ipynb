{
 "cells": [
  {
   "cell_type": "code",
   "execution_count": 1,
   "id": "010e39d5",
   "metadata": {},
   "outputs": [
    {
     "name": "stderr",
     "output_type": "stream",
     "text": [
      "/Users/johngalvin/miniforge3/lib/python3.9/site-packages/scipy/__init__.py:146: UserWarning: A NumPy version >=1.16.5 and <1.23.0 is required for this version of SciPy (detected version 1.24.2\n",
      "  warnings.warn(f\"A NumPy version >={np_minversion} and <{np_maxversion}\"\n"
     ]
    }
   ],
   "source": [
    "import pandas as pd\n",
    "import numpy as np\n",
    "\n",
    "from sklearn.model_selection import train_test_split\n",
    "from sklearn.preprocessing import LabelEncoder, MinMaxScaler\n",
    "from sklearn.svm import SVC\n",
    "from sklearn.metrics import classification_report\n",
    "from sklearn.model_selection import GridSearchCV"
   ]
  },
  {
   "cell_type": "code",
   "execution_count": 13,
   "id": "0bfec942",
   "metadata": {},
   "outputs": [],
   "source": [
    "df = pd.read_csv('../data/clinical_training_data.csv')\n",
    "\n",
    "# For converting categorical variables to ints\n",
    "label_encoder = LabelEncoder()\n",
    "scaler = MinMaxScaler()\n",
    "\n",
    "# Split features / target\n",
    "X = df.drop(columns=['AD_dx_in_5_yrs'])\n",
    "y = df['AD_dx_in_5_yrs']\n",
    "\n",
    "# Encode features\n",
    "X[\"DX.bl\"] = label_encoder.fit_transform(X[\"DX.bl\"])\n",
    "X[\"PTGENDER\"] = label_encoder.fit_transform(X[\"PTGENDER\"])\n",
    "X[\"PTETHCAT\"] = label_encoder.fit_transform(X[\"PTETHCAT\"])\n",
    "X[\"PTRACCAT\"] = label_encoder.fit_transform(X[\"PTRACCAT\"])\n",
    "\n",
    "# Split data\n",
    "X_train, X_test, y_train, y_test = train_test_split(X, y, test_size=0.2, random_state=42)\n",
    "\n",
    "# Scale data\n",
    "X_train = scaler.fit_transform(X_train)\n",
    "X_test = scaler.transform(X_test)\n",
    "\n",
    "# Instantiate Model\n",
    "svc = SVC()"
   ]
  },
  {
   "cell_type": "markdown",
   "id": "78e4a533",
   "metadata": {},
   "source": [
    "## Grid Search"
   ]
  },
  {
   "cell_type": "code",
   "execution_count": 14,
   "id": "301a1695",
   "metadata": {},
   "outputs": [],
   "source": [
    "# Grid search\n",
    "param_grid = {\n",
    "    \"C\": [0.1, 1, 10],                \n",
    "    \"kernel\": [\"linear\", \"poly\", \"rbf\", \"sigmoid\"],\n",
    "    \"gamma\": [\"scale\", \"auto\", 0.1],\n",
    "    \"degree\": [1, 2, 3, 4, 5]}"
   ]
  },
  {
   "cell_type": "code",
   "execution_count": 15,
   "id": "ae75dfd5",
   "metadata": {},
   "outputs": [],
   "source": [
    "grid_search = GridSearchCV(estimator=svc, param_grid=param_grid, cv=5, scoring=\"accuracy\")"
   ]
  },
  {
   "cell_type": "code",
   "execution_count": 16,
   "id": "d9f0223a",
   "metadata": {},
   "outputs": [
    {
     "data": {
      "text/plain": [
       "GridSearchCV(cv=5, estimator=SVC(),\n",
       "             param_grid={'C': [0.1, 1, 10], 'degree': [1, 2, 3, 4, 5],\n",
       "                         'gamma': ['scale', 'auto', 0.1],\n",
       "                         'kernel': ['linear', 'poly', 'rbf', 'sigmoid']},\n",
       "             scoring='accuracy')"
      ]
     },
     "execution_count": 16,
     "metadata": {},
     "output_type": "execute_result"
    }
   ],
   "source": [
    "grid_search.fit(X_train, y_train)"
   ]
  },
  {
   "cell_type": "code",
   "execution_count": 17,
   "id": "c27a7e53",
   "metadata": {},
   "outputs": [
    {
     "name": "stdout",
     "output_type": "stream",
     "text": [
      "Best Parameters: {'C': 0.1, 'degree': 4, 'gamma': 'scale', 'kernel': 'poly'}\n",
      "Best Accuracy: 0.777753164556962\n"
     ]
    }
   ],
   "source": [
    "# Get the best parameters and best accuracy score\n",
    "best_params = grid_search.best_params_\n",
    "best_score = grid_search.best_score_\n",
    "\n",
    "# Print the best parameters and best score\n",
    "print(\"Best Parameters:\", best_params)\n",
    "print(\"Best Accuracy:\", best_score)"
   ]
  },
  {
   "cell_type": "markdown",
   "id": "c71f56d0",
   "metadata": {},
   "source": [
    "## Train with Best Parameters"
   ]
  },
  {
   "cell_type": "code",
   "execution_count": 18,
   "id": "d5e014c2",
   "metadata": {},
   "outputs": [
    {
     "data": {
      "text/plain": [
       "SVC(C=0.1, degree=4, kernel='poly')"
      ]
     },
     "execution_count": 18,
     "metadata": {},
     "output_type": "execute_result"
    }
   ],
   "source": [
    "# Instantiate and fit model\n",
    "svc = SVC(C=0.1, degree=4, gamma=\"scale\", kernel=\"poly\")\n",
    "\n",
    "svc.fit(X_train, y_train)"
   ]
  },
  {
   "cell_type": "code",
   "execution_count": 20,
   "id": "49d30a1e",
   "metadata": {},
   "outputs": [
    {
     "name": "stdout",
     "output_type": "stream",
     "text": [
      "              precision    recall  f1-score   support\n",
      "\n",
      "           0       0.91      0.77      0.84        79\n",
      "           1       0.44      0.70      0.54        20\n",
      "\n",
      "    accuracy                           0.76        99\n",
      "   macro avg       0.67      0.74      0.69        99\n",
      "weighted avg       0.81      0.76      0.78        99\n",
      "\n"
     ]
    }
   ],
   "source": [
    "# Assess\n",
    "y_pred = svc.predict(X_test)\n",
    "\n",
    "# evaluate predictions\n",
    "print(classification_report(y_test, y_pred))"
   ]
  },
  {
   "cell_type": "code",
   "execution_count": null,
   "id": "d6a9d38a",
   "metadata": {},
   "outputs": [],
   "source": []
  }
 ],
 "metadata": {
  "kernelspec": {
   "display_name": "Python 3 (ipykernel)",
   "language": "python",
   "name": "python3"
  },
  "language_info": {
   "codemirror_mode": {
    "name": "ipython",
    "version": 3
   },
   "file_extension": ".py",
   "mimetype": "text/x-python",
   "name": "python",
   "nbconvert_exporter": "python",
   "pygments_lexer": "ipython3",
   "version": "3.9.7"
  }
 },
 "nbformat": 4,
 "nbformat_minor": 5
}
