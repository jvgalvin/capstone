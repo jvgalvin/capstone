{
 "cells": [
  {
   "cell_type": "code",
   "execution_count": 1,
   "id": "b0ea8680",
   "metadata": {},
   "outputs": [
    {
     "name": "stderr",
     "output_type": "stream",
     "text": [
      "2023-10-07 05:20:47.033560: I tensorflow/tsl/cuda/cudart_stub.cc:28] Could not find cuda drivers on your machine, GPU will not be used.\n",
      "2023-10-07 05:20:47.205823: E tensorflow/compiler/xla/stream_executor/cuda/cuda_dnn.cc:9342] Unable to register cuDNN factory: Attempting to register factory for plugin cuDNN when one has already been registered\n",
      "2023-10-07 05:20:47.205856: E tensorflow/compiler/xla/stream_executor/cuda/cuda_fft.cc:609] Unable to register cuFFT factory: Attempting to register factory for plugin cuFFT when one has already been registered\n",
      "2023-10-07 05:20:47.207195: E tensorflow/compiler/xla/stream_executor/cuda/cuda_blas.cc:1518] Unable to register cuBLAS factory: Attempting to register factory for plugin cuBLAS when one has already been registered\n",
      "2023-10-07 05:20:47.296900: I tensorflow/tsl/cuda/cudart_stub.cc:28] Could not find cuda drivers on your machine, GPU will not be used.\n",
      "2023-10-07 05:20:47.298128: I tensorflow/core/platform/cpu_feature_guard.cc:182] This TensorFlow binary is optimized to use available CPU instructions in performance-critical operations.\n",
      "To enable the following instructions: AVX2 FMA, in other operations, rebuild TensorFlow with the appropriate compiler flags.\n",
      "2023-10-07 05:20:48.434741: W tensorflow/compiler/tf2tensorrt/utils/py_utils.cc:38] TF-TRT Warning: Could not find TensorRT\n"
     ]
    }
   ],
   "source": [
    "import os\n",
    "import os.path\n",
    "import matplotlib.pyplot as plt\n",
    "import numpy as np\n",
    "import pandas as pd\n",
    "import pydicom\n",
    "import shutil\n",
    "import sys\n",
    "import tensorflow as tf\n",
    "\n",
    "from PIL import Image\n",
    "from sklearn.preprocessing import MinMaxScaler\n",
    "from sklearn.model_selection import train_test_split\n",
    "from tensorflow.keras import models\n",
    "from tensorflow.keras.layers import Flatten, Dense, Dropout, BatchNormalization, Input\n",
    "from tensorflow.keras.layers.experimental.preprocessing import Resizing\n",
    "from tensorflow.keras.models import Model\n",
    "from tensorflow.keras import layers\n",
    "from tensorflow.keras.applications.resnet50 import ResNet50, preprocess_input\n",
    "from tensorflow.keras.preprocessing.image import ImageDataGenerator, array_to_img, img_to_array, load_img\n",
    "from tqdm import tqdm"
   ]
  },
  {
   "cell_type": "markdown",
   "id": "0e8db656-92eb-49fc-bd76-7327c89b2537",
   "metadata": {},
   "source": [
    "# Constants"
   ]
  },
  {
   "cell_type": "code",
   "execution_count": 2,
   "id": "449a0a99-b4b5-44e2-bc7f-2207ff983f9f",
   "metadata": {},
   "outputs": [],
   "source": [
    "SCAN_GROUP = \"MPRAGE\"\n",
    "MRI_DATA_PATH = \"data/MPRAGE_data\"\n",
    "LABEL_DATA_PATH = \"data/AD_time_to_dx.csv\"\n",
    "\n",
    "TRAIN_DATA_PATH = \"data/train\"\n",
    "VAL_DATA_PATH = \"data/val\"\n",
    "\n",
    "NUM_EPOCHS = 10\n",
    "NUM_PATIENTS_PER_GROUP = 25\n",
    "NUM_PATIENTS = NUM_PATIENTS_PER_GROUP*2\n",
    "IMG_SHAPE = (256,256)"
   ]
  },
  {
   "cell_type": "markdown",
   "id": "7e15c503-fa29-4d6e-afd8-ea3d20774953",
   "metadata": {},
   "source": [
    "# Important Functions"
   ]
  },
  {
   "cell_type": "code",
   "execution_count": 3,
   "id": "ed41d768-4c8b-4ab8-92b3-f8d98fa0bd71",
   "metadata": {},
   "outputs": [],
   "source": [
    "def get_file_list(directory) -> list:\n",
    "    return os.listdir(directory)\n",
    "\n",
    "def unique_items_in_list(list1):\n",
    "    # insert the list to the set\n",
    "    list_set = set(list1)\n",
    "    # convert the set to the list\n",
    "    unique_list = (list(list_set))\n",
    "    \n",
    "    return unique_list\n",
    "\n",
    "def convert_3d_to_2d(array_3d):\n",
    "    return np.reshape(array_3d, (array_3d.shape[0], array_3d.shape[1]*array_3d.shape[2]))\n",
    "\n",
    "def resize_array(val, image_size=(256,256)):\n",
    "    # Do not resize arrays of the correct size\n",
    "    if val.shape == image_size:\n",
    "        return val\n",
    "    \n",
    "    # Resize image arrays with Bilinear Interpolation\n",
    "    image = Image.fromarray(val, mode='L')\n",
    "    resized_image = image.resize(image_size, Image.BILINEAR)\n",
    "    #resized_array = np.expand_dims(np.array(resized_image), axis=-1) # TF expects channels dim\n",
    "    resized_array = np.array(resized_image)\n",
    "    return resized_array\n",
    "\n",
    "\n",
    "def copy_file_to_dir(filename, src_dir, dest_dir):\n",
    "    # Create directory ifit doesn't exist\n",
    "    if not os.path.isdir(dest_dir):\n",
    "        os.mkdir(dest_dir)\n",
    "\n",
    "    src_path = src_dir + \"/\" + filename\n",
    "    dest_path = dest_dir + \"/\" + filename\n",
    "\n",
    "    try:\n",
    "        os.path.isfile(dest_path) \n",
    "    except FileNotFoundError:\n",
    "        # doesn't exist\n",
    "        shutil.copy(src_path, dest_path)\n",
    "    else:\n",
    "        # exists\n",
    "        pass\n",
    "        "
   ]
  },
  {
   "cell_type": "markdown",
   "id": "6f781ae3-7a39-4918-baa2-3933ef240cbc",
   "metadata": {},
   "source": [
    "# Check out Unique Patients in the AD_time_to_dx.csv file"
   ]
  },
  {
   "cell_type": "code",
   "execution_count": 4,
   "id": "f5b6d151-5bde-4ef3-a10c-83927aa1f39d",
   "metadata": {
    "scrolled": true
   },
   "outputs": [
    {
     "name": "stdout",
     "output_type": "stream",
     "text": [
      "Number of patients in AD_time_to_dx.csv: 495\n",
      "\n",
      "\n",
      "List of 495 Patients:\n",
      "\n",
      "022_S_0004, 011_S_0005, 100_S_0006, 022_S_0014, 100_S_0015, 011_S_0016, 067_S_0019, 011_S_0021, 011_S_0022, 011_S_0023, 023_S_0030, 023_S_0031, 035_S_0033, 100_S_0035, 067_S_0038, 099_S_0040, 007_S_0041, 023_S_0042, 018_S_0043, 100_S_0047, 035_S_0048, 123_S_0050, 099_S_0051, 099_S_0054, 067_S_0056, 018_S_0057, 023_S_0058, 067_S_0059, 099_S_0060, 023_S_0061, 022_S_0066, 010_S_0067, 007_S_0068, 100_S_0069, 007_S_0070, 123_S_0072, 027_S_0074, 067_S_0077, 018_S_0080, 023_S_0081, 136_S_0086, 018_S_0087, 073_S_0089, 099_S_0090, 032_S_0095, 022_S_0096, 020_S_0097, 067_S_0098, 007_S_0101, 123_S_0106, 136_S_0107, 123_S_0108, 099_S_0111, 127_S_0112, 123_S_0113, 027_S_0116, 027_S_0118, 027_S_0120, 131_S_0123, 041_S_0125, 023_S_0126, 068_S_0127, 007_S_0128, 022_S_0130, 021_S_0141, 018_S_0142, 037_S_0150, 018_S_0155, 035_S_0156, 137_S_0158, 021_S_0159, 098_S_0160, 114_S_0166, 011_S_0168, 014_S_0169, 098_S_0171, 098_S_0172, 114_S_0173, 067_S_0176, 067_S_0177, 027_S_0179, 136_S_0184, 136_S_0186, 032_S_0187, 136_S_0195, 136_S_0196, 035_S_0204, 068_S_0210, 032_S_0214, 023_S_0217, 005_S_0222, 005_S_0223, 021_S_0231, 130_S_0232, 013_S_0240, 011_S_0241, 007_S_0249, 027_S_0256, 127_S_0259, 127_S_0260, 041_S_0262, 098_S_0269, 021_S_0273, 021_S_0276, 041_S_0282, 137_S_0283, 067_S_0284, 067_S_0290, 099_S_0291, 035_S_0292, 007_S_0293, 031_S_0294, 002_S_0295, 100_S_0296, 123_S_0298, 137_S_0301, 037_S_0303, 027_S_0307, 073_S_0311, 073_S_0312, 041_S_0314, 072_S_0315, 005_S_0324, 013_S_0325, 011_S_0326, 037_S_0327, 023_S_0331, 021_S_0332, 067_S_0336, 021_S_0337, 031_S_0351, 099_S_0352, 016_S_0354, 016_S_0359, 116_S_0361, 011_S_0362, 018_S_0369, 023_S_0376, 114_S_0378, 116_S_0382, 131_S_0384, 073_S_0386, 023_S_0388, 053_S_0389, 123_S_0390, 127_S_0393, 127_S_0394, 027_S_0403, 018_S_0406, 027_S_0408, 114_S_0410, 002_S_0413, 007_S_0414, 114_S_0416, 010_S_0419, 010_S_0422, 130_S_0423, 021_S_0424, 018_S_0425, 136_S_0429, 133_S_0433, 094_S_0434, 131_S_0441, 068_S_0442, 137_S_0443, 041_S_0446, 005_S_0448, 018_S_0450, 037_S_0454, 114_S_0458, 137_S_0459, 027_S_0461, 057_S_0464, 037_S_0467, 010_S_0472, 068_S_0473, 032_S_0479, 137_S_0481, 027_S_0485, 133_S_0488, 006_S_0498, 037_S_0501, 013_S_0502, 130_S_0505, 053_S_0507, 033_S_0511, 033_S_0513, 033_S_0514, 033_S_0516, 073_S_0518, 014_S_0519, 014_S_0520, 133_S_0525, 094_S_0526, 094_S_0531, 099_S_0533, 099_S_0534, 016_S_0538, 037_S_0539, 022_S_0544, 005_S_0546, 014_S_0548, 041_S_0549, 099_S_0551, 037_S_0552, 005_S_0553, 035_S_0555, 014_S_0557, 014_S_0558, 014_S_0563, 037_S_0566, 033_S_0567, 031_S_0568, 013_S_0575, 036_S_0576, 062_S_0578, 136_S_0579, 037_S_0588, 041_S_0598, 114_S_0601, 005_S_0602, 023_S_0604, 126_S_0605, 067_S_0607, 005_S_0610, 053_S_0621, 127_S_0622, 023_S_0625, 021_S_0626, 133_S_0629, 137_S_0631, 012_S_0634, 012_S_0637, 133_S_0638, 057_S_0643, 027_S_0644, 021_S_0647, 116_S_0648, 116_S_0649, 036_S_0656, 116_S_0657, 014_S_0658, 098_S_0667, 137_S_0668, 137_S_0669, 052_S_0671, 036_S_0672, 036_S_0673, 006_S_0675, 032_S_0677, 041_S_0679, 126_S_0680, 006_S_0681, 127_S_0684, 002_S_0685, 094_S_0692, 136_S_0695, 007_S_0698, 016_S_0702, 126_S_0709, 094_S_0711, 141_S_0717, 032_S_0718, 137_S_0722, 033_S_0723, 033_S_0725, 141_S_0726, 133_S_0727, 002_S_0729, 006_S_0731, 033_S_0734, 033_S_0739, 033_S_0741, 073_S_0746, 036_S_0748, 022_S_0750, 009_S_0751, 116_S_0752, 141_S_0767, 062_S_0768, 133_S_0771, 129_S_0778, 057_S_0779, 002_S_0782, 130_S_0783, 133_S_0792, 137_S_0800, 141_S_0810, 036_S_0813, 057_S_0818, 029_S_0824, 137_S_0825, 031_S_0830, 116_S_0834, 027_S_0835, 057_S_0839, 009_S_0842, 029_S_0843, 029_S_0845, 141_S_0851, 023_S_0855, 011_S_0856, 013_S_0860, 011_S_0861, 009_S_0862, 128_S_0863, 126_S_0865, 029_S_0866, 031_S_0867, 036_S_0869, 068_S_0872, 136_S_0873, 136_S_0874, 029_S_0878, 099_S_0880, 020_S_0883, 130_S_0886, 023_S_0887, 098_S_0896, 041_S_0898, 020_S_0899, 010_S_0904, 033_S_0906, 003_S_0907, 003_S_0908, 073_S_0909, 133_S_0912, 133_S_0913, 029_S_0914, 141_S_0915, 053_S_0919, 033_S_0920, 094_S_0921, 033_S_0922, 033_S_0923, 127_S_0925, 023_S_0926, 082_S_0928, 012_S_0932, 057_S_0934, 057_S_0941, 036_S_0945, 128_S_0947, 109_S_0950, 052_S_0951, 052_S_0952, 002_S_0954, 022_S_0961, 023_S_0963, 109_S_0967, 130_S_0969, 137_S_0972, 036_S_0976, 032_S_0978, 003_S_0981, 141_S_0982, 024_S_0985, 132_S_0987, 137_S_0994, 035_S_0997, 041_S_1002, 141_S_1004, 057_S_1007, 012_S_1009, 041_S_1010, 109_S_1014, 033_S_1016, 036_S_1023, 016_S_1028, 009_S_1030, 127_S_1032, 012_S_1033, 099_S_1034, 013_S_1035, 051_S_1040, 128_S_1043, 027_S_1045, 023_S_1046, 141_S_1052, 052_S_1054, 003_S_1057, 024_S_1063, 031_S_1066, 002_S_1070, 051_S_1072, 029_S_1073, 037_S_1078, 011_S_1080, 033_S_1086, 128_S_1088, 141_S_1094, 033_S_1098, 062_S_1099, 114_S_1103, 114_S_1106, 109_S_1114, 033_S_1116, 016_S_1117, 114_S_1118, 082_S_1119, 013_S_1120, 016_S_1121, 003_S_1122, 051_S_1123, 023_S_1126, 006_S_1130, 051_S_1131, 012_S_1133, 036_S_1135, 127_S_1140, 128_S_1148, 002_S_1155, 012_S_1165, 052_S_1168, 032_S_1169, 062_S_1182, 109_S_1183, 013_S_1186, 126_S_1187, 094_S_1188, 023_S_1190, 941_S_1194, 941_S_1197, 130_S_1200, 941_S_1202, 007_S_1206, 027_S_1213, 029_S_1215, 057_S_1217, 007_S_1222, 005_S_1224, 037_S_1225, 136_S_1227, 116_S_1232, 036_S_1240, 094_S_1241, 128_S_1242, 116_S_1243, 141_S_1245, 129_S_1246, 023_S_1247, 116_S_1249, 052_S_1250, 052_S_1251, 141_S_1255, 082_S_1256, 041_S_1260, 002_S_1261, 057_S_1265, 094_S_1267, 002_S_1268, 057_S_1269, 116_S_1271, 013_S_1275, 027_S_1277, 033_S_1279, 002_S_1280, 011_S_1282, 033_S_1284, 020_S_1288, 012_S_1292, 094_S_1293, 062_S_1299, 123_S_1300, 131_S_1301, 033_S_1309, 941_S_1311, 116_S_1315, 029_S_1318, 012_S_1321, 121_S_1322, 016_S_1326, 051_S_1331, 109_S_1343, 052_S_1346, 022_S_1351, 052_S_1352, 029_S_1384, 027_S_1387, 131_S_1389, 024_S_1393, 022_S_1394, 094_S_1398, 128_S_1407, 128_S_1408, 041_S_1412, 137_S_1414, 094_S_1417, 041_S_1418, 127_S_1419, 037_S_1421, 041_S_1423, 041_S_1425, 137_S_1426, 127_S_1427\n"
     ]
    }
   ],
   "source": [
    "df_labels = pd.read_csv(LABEL_DATA_PATH)\n",
    "\n",
    "full_patients_list = df_labels[\"PTID\"].values\n",
    "\n",
    "print(f\"Number of patients in AD_time_to_dx.csv: {len(unique_items_in_list(full_patients_list))}\\n\\n\")\n",
    "\n",
    "print(f\"List of {len(unique_items_in_list(full_patients_list))} Patients:\\n\")\n",
    "print(*full_patients_list, sep=\", \")"
   ]
  },
  {
   "cell_type": "markdown",
   "id": "cb1ee9d8",
   "metadata": {},
   "source": [
    "# Script to get patient ids and scan dates\n",
    "\n",
    "### After downloading the meta data of all MRI scans of all patient in the AD_time_to_dx.csv file, this script explores the most common types of scans and their dates"
   ]
  },
  {
   "cell_type": "code",
   "execution_count": 5,
   "id": "f2673095",
   "metadata": {
    "scrolled": true
   },
   "outputs": [
    {
     "name": "stderr",
     "output_type": "stream",
     "text": [
      "100%|█████████████████████████████████████████████████████████████████████████████████████████████████████████████████████████████████████████████████████████████████████████████████| 311/311 [00:01<00:00, 237.09it/s]"
     ]
    },
    {
     "name": "stdout",
     "output_type": "stream",
     "text": [
      "   patient_id   group              scan_date\n",
      "0  002_S_0295  MPRAGE  2011-06-02_07_58_50.0\n",
      "1  002_S_0295  MPRAGE  2012-05-10_15_44_50.0\n",
      "2  002_S_0413  MPRAGE  2006-11-15_14_23_26.0\n",
      "3  002_S_0413  MPRAGE  2006-11-15_14_34_44.0\n",
      "4  002_S_0413  MPRAGE  2007-06-01_07_57_43.0\n",
      "\n",
      "\n",
      "Number of distinct patients in metadata = 311\n",
      "\n",
      "Number of unique patients per scan group:\n",
      "group\n",
      "MPRAGE    311\n",
      "Name: patient_id, dtype: int64\n",
      "\n",
      "Patient IDs with MPRAGE scans:\n",
      "\n",
      "['002_S_0295' '002_S_0413' '002_S_0685' '002_S_0729' '002_S_0954'\n",
      " '002_S_1070' '002_S_1155' '002_S_1261' '002_S_1268' '002_S_1280'\n",
      " '003_S_0907' '003_S_0908' '003_S_0981' '003_S_1057' '003_S_1122'\n",
      " '006_S_0498' '006_S_0731' '009_S_0751' '009_S_0842' '009_S_1030'\n",
      " '010_S_0067' '010_S_0419' '010_S_0422' '010_S_0472' '010_S_0904'\n",
      " '011_S_0005' '011_S_0016' '011_S_0021' '011_S_0022' '011_S_0023'\n",
      " '011_S_0168' '011_S_0241' '011_S_0326' '011_S_0362' '011_S_0856'\n",
      " '011_S_0861' '011_S_1080' '011_S_1282' '012_S_0634' '012_S_0637'\n",
      " '012_S_0932' '012_S_1009' '012_S_1033' '012_S_1133' '012_S_1165'\n",
      " '012_S_1292' '012_S_1321' '013_S_0240' '013_S_0325' '013_S_0502'\n",
      " '013_S_0575' '013_S_0860' '013_S_1035' '013_S_1120' '013_S_1186'\n",
      " '013_S_1275' '016_S_0354' '016_S_0359' '016_S_0538' '016_S_0702'\n",
      " '016_S_1028' '016_S_1117' '016_S_1121' '016_S_1326' '018_S_0043'\n",
      " '018_S_0057' '018_S_0080' '018_S_0087' '018_S_0142' '018_S_0155'\n",
      " '018_S_0369' '018_S_0406' '018_S_0425' '018_S_0450' '020_S_0097'\n",
      " '020_S_0883' '020_S_0899' '020_S_1288' '021_S_0332' '022_S_0004'\n",
      " '022_S_0014' '022_S_0066' '022_S_0096' '022_S_0130' '022_S_0544'\n",
      " '022_S_0750' '022_S_1394' '023_S_0030' '023_S_0031' '023_S_0042'\n",
      " '023_S_0058' '023_S_0061' '023_S_0081' '023_S_0126' '023_S_0217'\n",
      " '023_S_0331' '023_S_0376' '023_S_0388' '023_S_0604' '023_S_0625'\n",
      " '023_S_0855' '023_S_0887' '023_S_0926' '023_S_0963' '023_S_1046'\n",
      " '023_S_1126' '023_S_1190' '023_S_1247' '027_S_0307' '027_S_0403'\n",
      " '027_S_0835' '027_S_1277' '027_S_1387' '031_S_0568' '031_S_0830'\n",
      " '031_S_1066' '032_S_0095' '032_S_0187' '032_S_0214' '032_S_0479'\n",
      " '032_S_0677' '032_S_0718' '032_S_0978' '032_S_1169' '033_S_0514'\n",
      " '033_S_0725' '033_S_0920' '033_S_0922' '033_S_1016' '033_S_1086'\n",
      " '033_S_1098' '033_S_1116' '033_S_1279' '033_S_1309' '035_S_0033'\n",
      " '035_S_0048' '035_S_0156' '035_S_0204' '035_S_0292' '035_S_0555'\n",
      " '035_S_0997' '036_S_0576' '036_S_0656' '036_S_0672' '036_S_0673'\n",
      " '036_S_0748' '036_S_0813' '036_S_0869' '036_S_0945' '036_S_0976'\n",
      " '036_S_1023' '036_S_1135' '036_S_1240' '037_S_0150' '037_S_0303'\n",
      " '037_S_0454' '037_S_0467' '037_S_0501' '037_S_0566' '037_S_0588'\n",
      " '037_S_1078' '037_S_1225' '041_S_0125' '041_S_0262' '041_S_0282'\n",
      " '041_S_0314' '041_S_0446' '041_S_0549' '041_S_0598' '041_S_0679'\n",
      " '041_S_0898' '041_S_1002' '041_S_1010' '041_S_1260' '041_S_1412'\n",
      " '041_S_1418' '041_S_1423' '041_S_1425' '051_S_1040' '051_S_1072'\n",
      " '051_S_1123' '051_S_1131' '051_S_1331' '053_S_0507' '053_S_0919'\n",
      " '057_S_0464' '057_S_0643' '057_S_0779' '057_S_0818' '057_S_0839'\n",
      " '057_S_0934' '057_S_0941' '057_S_1007' '057_S_1217' '057_S_1265'\n",
      " '057_S_1269' '062_S_0578' '062_S_0768' '062_S_1099' '062_S_1182'\n",
      " '062_S_1299' '067_S_0019' '067_S_0038' '067_S_0056' '067_S_0059'\n",
      " '067_S_0077' '067_S_0098' '067_S_0176' '067_S_0177' '067_S_0284'\n",
      " '067_S_0290' '067_S_0336' '067_S_0607' '068_S_0210' '068_S_0473'\n",
      " '072_S_0315' '073_S_0089' '073_S_0311' '073_S_0312' '073_S_0386'\n",
      " '073_S_0518' '073_S_0746' '073_S_0909' '082_S_0928' '082_S_1119'\n",
      " '082_S_1256' '099_S_0040' '099_S_0051' '099_S_0054' '099_S_0060'\n",
      " '099_S_0090' '099_S_0111' '099_S_0291' '099_S_0352' '099_S_0533'\n",
      " '099_S_0534' '099_S_0551' '099_S_0880' '099_S_1034' '100_S_0069'\n",
      " '100_S_0296' '109_S_0950' '109_S_0967' '109_S_1014' '109_S_1114'\n",
      " '109_S_1183' '109_S_1343' '114_S_0166' '114_S_0173' '114_S_0378'\n",
      " '114_S_0410' '114_S_0416' '114_S_0458' '114_S_0601' '114_S_1103'\n",
      " '114_S_1106' '114_S_1118' '116_S_0382' '116_S_0649' '116_S_0752'\n",
      " '116_S_1232' '116_S_1249' '121_S_1322' '123_S_0072' '123_S_0106'\n",
      " '123_S_0108' '123_S_0113' '128_S_0863' '128_S_0947' '128_S_1043'\n",
      " '128_S_1088' '128_S_1148' '128_S_1242' '129_S_0778' '129_S_1246'\n",
      " '130_S_0969' '133_S_0433' '133_S_0488' '133_S_0525' '133_S_0629'\n",
      " '133_S_0638' '133_S_0727' '133_S_0771' '133_S_0792' '133_S_0912'\n",
      " '133_S_0913' '136_S_0107' '136_S_0186' '137_S_0301' '137_S_0668'\n",
      " '137_S_0722' '137_S_0800' '137_S_0972' '137_S_0994' '137_S_1414'\n",
      " '141_S_0717' '141_S_0726' '141_S_0767' '141_S_0810' '141_S_0851'\n",
      " '141_S_0915' '141_S_0982' '141_S_1004' '141_S_1052' '141_S_1094'\n",
      " '141_S_1245' '141_S_1255' '941_S_1194' '941_S_1197' '941_S_1202'\n",
      " '941_S_1311']\n"
     ]
    },
    {
     "name": "stderr",
     "output_type": "stream",
     "text": [
      "\n"
     ]
    }
   ],
   "source": [
    "df = None\n",
    "\n",
    "# dictionary with list object in values\n",
    "df_dict = {\n",
    "    'patient_id' : [],\n",
    "    'group' : [],\n",
    "    'scan_date' : []\n",
    "}\n",
    "\n",
    "full_patient_ids = get_file_list(MRI_DATA_PATH)\n",
    "\n",
    "for i in tqdm(range(len(full_patient_ids))):\n",
    "    pid = full_patient_ids[i]\n",
    "    GROUP_DIR_PATH = MRI_DATA_PATH + \"/\" + pid\n",
    "\n",
    "    # Ignore non-directory metadata at this level\n",
    "    if not os.path.isdir(GROUP_DIR_PATH):\n",
    "        continue\n",
    "\n",
    "    group_list = get_file_list(GROUP_DIR_PATH)\n",
    "\n",
    "    for group in group_list:\n",
    "        DATE_PATH = GROUP_DIR_PATH + \"/\" + group\n",
    "            \n",
    "        date_list = get_file_list(DATE_PATH)\n",
    "    \n",
    "        for date in date_list:\n",
    "            df_dict[\"patient_id\"].append(pid)\n",
    "            df_dict[\"group\"].append(group)\n",
    "            df_dict[\"scan_date\"].append(date)\n",
    "            \n",
    "\n",
    "# creating a Dataframe object \n",
    "df = pd.DataFrame(df_dict)\n",
    "\n",
    "df.to_csv(\"data/adni_patient_scan_dates.csv\")\n",
    "\n",
    "print(df.head())\n",
    "\n",
    "print(f\"\\n\\nNumber of distinct patients in metadata = {len(df.patient_id.unique())}\\n\")\n",
    "\n",
    "df_groups = df.groupby('group')\n",
    "\n",
    "# For debugging purposes\n",
    "sorted_df_groups = df.group.unique()\n",
    "sorted_df_groups.sort()\n",
    "\n",
    "print(\"Number of unique patients per scan group:\")\n",
    "print(df_groups['patient_id'].nunique().sort_values(ascending=False), end=\"\\n\\n\")\n",
    "\n",
    "mprage_patient_list = df_groups.get_group(SCAN_GROUP)['patient_id'].unique()\n",
    "\n",
    "print(\"Patient IDs with \" + SCAN_GROUP + \" scans:\\n\")\n",
    "print(mprage_patient_list)"
   ]
  },
  {
   "cell_type": "markdown",
   "id": "6e642b17-1f91-4403-9a76-bfc038250215",
   "metadata": {},
   "source": [
    "#### It seems that among the 495 patients in the list, MPRAGE is the most common type of scan that they have (311 out of 495 patients)"
   ]
  },
  {
   "cell_type": "code",
   "execution_count": 6,
   "id": "8a0973fd-ce9f-4596-8934-d73763cb9f4e",
   "metadata": {},
   "outputs": [
    {
     "name": "stdout",
     "output_type": "stream",
     "text": [
      "AD_dx_in_5_yrs\n",
      "0    218\n",
      "1     93\n",
      "Name: count, dtype: int64\n"
     ]
    },
    {
     "data": {
      "image/png": "[encoded data removed]",
      "text/plain": [
       "<Figure size 640x480 with 1 Axes>"
      ]
     },
     "metadata": {},
     "output_type": "display_data"
    }
   ],
   "source": [
    "df_mprage_labels = df_labels[df_labels['PTID'].isin(mprage_patient_list)]\n",
    "\n",
    "diagnosis_value_counts = df_mprage_labels['AD_dx_in_5_yrs'].value_counts()\n",
    "\n",
    "print(diagnosis_value_counts)\n",
    "\n",
    "plt.hist(df_mprage_labels['AD_dx_in_5_yrs'], bins=3)\n",
    "plt.title('Distribution of the Patients and Labels')\n",
    "plt.xlabel('Diagnosis')\n",
    "plt.ylabel('Count')\n",
    "plt.show()"
   ]
  },
  {
   "cell_type": "markdown",
   "id": "464c9a6c-0eb5-4dd5-b070-8a90bc59a1dc",
   "metadata": {},
   "source": [
    "## Sample the Amount of Patients for an even split between 0 and 1\n",
    "\n",
    "### Because my RAM can't handle the entire dataset (get first `NUM_PATIENTS_PER_GROUP` patients of each group)"
   ]
  },
  {
   "cell_type": "code",
   "execution_count": 7,
   "id": "2697c646-df0e-4c78-aeaf-e658b31158ac",
   "metadata": {},
   "outputs": [
    {
     "name": "stdout",
     "output_type": "stream",
     "text": [
      "25 patients with 0 value\n",
      "25 patients with 1 value\n"
     ]
    }
   ],
   "source": [
    "patients_AD_dx_in_5_yrs_0_list = df_mprage_labels[df_mprage_labels['AD_dx_in_5_yrs'] == 0]['PTID'].unique()[0:NUM_PATIENTS_PER_GROUP]\n",
    "patients_AD_dx_in_5_yrs_1_list = df_mprage_labels[df_mprage_labels['AD_dx_in_5_yrs'] == 1]['PTID'].unique()[0:NUM_PATIENTS_PER_GROUP]\n",
    "filtered_patients_list = np.concatenate((patients_AD_dx_in_5_yrs_0_list, patients_AD_dx_in_5_yrs_1_list), axis=0)\n",
    "\n",
    "print(f\"{len(patients_AD_dx_in_5_yrs_0_list)} patients with 0 value\\n{len(patients_AD_dx_in_5_yrs_1_list)} patients with 1 value\")"
   ]
  },
  {
   "cell_type": "markdown",
   "id": "9ef88475-49e3-4953-a15a-70b38f8e66f3",
   "metadata": {},
   "source": [
    "# Test Generating MRI Data Array for MPRAGE Scans"
   ]
  },
  {
   "cell_type": "markdown",
   "id": "43f30590-4615-4143-b2b3-3fd9b2e5bb8d",
   "metadata": {},
   "source": [
    "## Get Maximum number of images of a patient has in an MPRAGE Scan and show the distribution"
   ]
  },
  {
   "cell_type": "code",
   "execution_count": 8,
   "id": "db3f2f9b-8130-4faa-b353-7315f9d8a703",
   "metadata": {},
   "outputs": [
    {
     "name": "stderr",
     "output_type": "stream",
     "text": [
      "100%|█████████████████████████████████████████████████████████████████████████████████████████████████████████████████████████████████████████████████████████████████████████████████| 311/311 [00:00<00:00, 527.39it/s]\n"
     ]
    },
    {
     "name": "stdout",
     "output_type": "stream",
     "text": [
      "Number of patients: 50\n",
      "\n",
      "Most number of images in an MP-RAGE scan: 184\n",
      "\n",
      "Least number of images in an MP-RAGE scan: 160\n",
      "\n"
     ]
    },
    {
     "data": {
      "image/png": "[encoded data removed]",
      "text/plain": [
       "<Figure size 640x480 with 1 Axes>"
      ]
     },
     "metadata": {},
     "output_type": "display_data"
    }
   ],
   "source": [
    "patient_list = get_file_list(MRI_DATA_PATH)\n",
    "\n",
    "list_of_image_quantities = list()\n",
    "\n",
    "for i in tqdm(range(len(patient_list))):\n",
    "    patient_id = patient_list[i]\n",
    "\n",
    "    # temporarily limit amount of data\n",
    "    if patient_id not in filtered_patients_list:\n",
    "        continue\n",
    "    \n",
    "    PATIENT_ID_PATH = MRI_DATA_PATH + \"/\" + patient_id\n",
    "    \n",
    "    scan_list = get_file_list(PATIENT_ID_PATH)\n",
    "\n",
    "    is_group_scanned = False\n",
    "    \n",
    "    for scan_group in scan_list:\n",
    "        \n",
    "        # Scan first group only\n",
    "        if is_group_scanned:\n",
    "            continue\n",
    "            \n",
    "        if scan_group != SCAN_GROUP:\n",
    "            continue\n",
    "        else:\n",
    "            is_group_scanned = True\n",
    "            \n",
    "            array_list = list()\n",
    "\n",
    "            SCAN_PATH = PATIENT_ID_PATH + \"/\" + scan_group\n",
    "\n",
    "            date_list = get_file_list(SCAN_PATH)\n",
    "\n",
    "            date_list.sort()\n",
    "            \n",
    "            is_date_scanned = False\n",
    "            \n",
    "            for date in date_list:\n",
    "\n",
    "                # Use the first date only\n",
    "                if is_date_scanned:\n",
    "                    continue\n",
    "\n",
    "                is_date_scanned = True\n",
    "                \n",
    "                DATE_PATH = SCAN_PATH + \"/\" + date\n",
    "\n",
    "                id_list = get_file_list(DATE_PATH)\n",
    "\n",
    "                is_id_scanned = False\n",
    "                \n",
    "                for id in id_list:\n",
    "\n",
    "                    # Scan first ID only\n",
    "                    if is_id_scanned:\n",
    "                        continue\n",
    "            \n",
    "                    is_id_scanned = True\n",
    "                    \n",
    "                    ID_PATH = DATE_PATH + \"/\" + id\n",
    "                \n",
    "                    file_list = get_file_list(ID_PATH)\n",
    "\n",
    "                    list_of_image_quantities.append(len(file_list))\n",
    "\n",
    "max_images = max(list_of_image_quantities) # Use this variable in the next step\n",
    "min_images = min(list_of_image_quantities)\n",
    "\n",
    "print(f\"Number of patients: {len(list_of_image_quantities)}\\n\")\n",
    "print(f\"Most number of images in an MP-RAGE scan: {max_images}\\n\")\n",
    "print(f\"Least number of images in an MP-RAGE scan: {min_images}\\n\")\n",
    "\n",
    "plt.hist(list_of_image_quantities, bins=(max_images-min_images))\n",
    "plt.title('Distribution of the Number of Images Per Scan')\n",
    "plt.xlabel(f'Number of Images per scan ({len(list_of_image_quantities)} patients)')\n",
    "plt.ylabel('Occurences')\n",
    "plt.show()"
   ]
  },
  {
   "cell_type": "markdown",
   "id": "ba98010b-97d7-4669-a06e-b8d78ee2b00c",
   "metadata": {},
   "source": [
    "## Build Data and Label Arrays\n",
    "\n",
    "### The Data array is a 3D array that is a list of 256 x 256 pixel arrays (N x 256 x 256)\n",
    "### The Label array is a 2D array that is a list of single-digit labels (N x 1)"
   ]
  },
  {
   "cell_type": "code",
   "execution_count": 9,
   "id": "faa90b70-70fa-436d-b127-e22e67c32fc9",
   "metadata": {},
   "outputs": [
    {
     "name": "stderr",
     "output_type": "stream",
     "text": [
      "100%|██████████████████████████████████████████████████████████████████████████████████████████████████████████████████████████████████████████████████████████████████████████████████| 311/311 [01:32<00:00,  3.38it/s]"
     ]
    },
    {
     "name": "stdout",
     "output_type": "stream",
     "text": [
      "Data Array Shape(8128, 256, 256)\n",
      "Data Array Size: 532676608 bytes\n",
      "Data Array Size: 508 MiB\n",
      "Data Array Size: 0 GiB\n"
     ]
    },
    {
     "name": "stderr",
     "output_type": "stream",
     "text": [
      "\n"
     ]
    }
   ],
   "source": [
    "# Create look-up dictionary for labels {\"patient_id\" : \"AD_dx_in_5_yrs\"}\n",
    "patient_label_dict = df_labels[['PTID','AD_dx_in_5_yrs']].set_index('PTID').to_dict()['AD_dx_in_5_yrs']\n",
    "\n",
    "patient_list = get_file_list(MRI_DATA_PATH)\n",
    "\n",
    "# Carriers for data to be turned into arrays\n",
    "data_list = list()\n",
    "label_list = list()\n",
    "\n",
    "for i in tqdm(range(len(patient_list))):\n",
    "    \n",
    "    patient_id = patient_list[i]\n",
    "    \n",
    "    # temporarily limit amount of data\n",
    "    if patient_id not in filtered_patients_list:\n",
    "        continue\n",
    "    \n",
    "    PATIENT_ID_PATH = MRI_DATA_PATH + \"/\" + patient_id\n",
    "    \n",
    "    scan_list = get_file_list(PATIENT_ID_PATH)\n",
    "    \n",
    "    is_group_scanned = False\n",
    "    \n",
    "    for scan_group in scan_list:\n",
    "\n",
    "        # Scan first group only\n",
    "        if is_group_scanned:\n",
    "            continue\n",
    "        \n",
    "        if scan_group != SCAN_GROUP:\n",
    "            continue\n",
    "        else:\n",
    "            is_group_scanned = True\n",
    "\n",
    "            SCAN_PATH = PATIENT_ID_PATH + \"/\" + scan_group\n",
    "\n",
    "            date_list = get_file_list(SCAN_PATH)\n",
    "\n",
    "            date_list.sort()\n",
    "            \n",
    "            is_date_scanned = False\n",
    "            \n",
    "            for date in date_list:\n",
    "\n",
    "                # Use the first date only\n",
    "                if is_date_scanned:\n",
    "                    continue\n",
    "                is_date_scanned = True\n",
    "                \n",
    "                DATE_PATH = SCAN_PATH + \"/\" + date\n",
    "\n",
    "                id_list = get_file_list(DATE_PATH)\n",
    "\n",
    "                is_id_scanned = False\n",
    "                \n",
    "                for id in id_list:\n",
    "\n",
    "                    # Scan first ID only\n",
    "                    if is_id_scanned:\n",
    "                        continue\n",
    "            \n",
    "                    is_id_scanned = True\n",
    "                    \n",
    "                    ID_PATH = DATE_PATH + \"/\" + id\n",
    "                \n",
    "                    file_list = get_file_list(ID_PATH)\n",
    "                    \n",
    "                    for file_name in file_list:\n",
    "                        np.set_printoptions()\n",
    "                        file_path = ID_PATH + \"/\" + file_name\n",
    "        \n",
    "                        # Convert DCM file to pixel array\n",
    "                        dcm = pydicom.dcmread(file_path)\n",
    "                        pixel_array = dcm.pixel_array\n",
    "\n",
    "                        # Resize to (256, 256)\n",
    "                        # if pixel_array.shape != IMG_SHAPE:\n",
    "                        #     pixel_array = np.resize(pixel_array, IMG_SHAPE)\n",
    "\n",
    "                        # Resize to (256, 256)\n",
    "                        pixel_array = resize_array(val=pixel_array, image_size=IMG_SHAPE)\n",
    "                        \n",
    "                        # Scale pixel array\n",
    "                        ## Step 1. Convert to float to avoid overflow or underflow losses.\n",
    "                        pixel_array = pixel_array.astype(float)\n",
    "\n",
    "                        ## Step 2. Rescaling grey scale between 0-255\n",
    "                        pixel_array = (np.maximum(pixel_array,0) / pixel_array.max()) * 255.0\n",
    "                        \n",
    "                        ## Step 3. Convert to uint\n",
    "                        pixel_array = np.uint8(pixel_array)\n",
    "                        \n",
    "                        data_list.append(pixel_array)\n",
    "                        label_list.append(patient_label_dict[patient_id])\n",
    "\n",
    "data_array = np.array(data_list)\n",
    "label_array = np.array(label_list)\n",
    "print(\"Data Array Shape\" + str(data_array.shape))\n",
    "print(\"Data Array Size: %d bytes\" % (data_array. size * data_array. itemsize))\n",
    "print(\"Data Array Size: %d MiB\" % (data_array. size * data_array. itemsize / 1048576 ))\n",
    "print(\"Data Array Size: %d GiB\" % (data_array. size * data_array. itemsize / 1073741824))\n",
    "\n",
    "# Free up memory\n",
    "del data_list\n",
    "del label_list"
   ]
  },
  {
   "cell_type": "code",
   "execution_count": 10,
   "id": "0d6df23d-ead9-4789-9f8c-998d394ac2ac",
   "metadata": {},
   "outputs": [
    {
     "data": {
      "image/png": "[encoded data removed]",
      "text/plain": [
       "<Figure size 640x480 with 1 Axes>"
      ]
     },
     "metadata": {},
     "output_type": "display_data"
    }
   ],
   "source": [
    "plt.hist(label_array)\n",
    "plt.title('Distribution of the Number of Images')\n",
    "plt.xlabel(f'Number of Images per scan ({len(label_array)} images), {NUM_PATIENTS} patients)')\n",
    "plt.ylabel('Occurences')\n",
    "plt.show()"
   ]
  },
  {
   "cell_type": "markdown",
   "id": "10943944-bcd5-42e1-80a4-88ecef0fab62",
   "metadata": {},
   "source": [
    "# Train Test Split (80:20)"
   ]
  },
  {
   "cell_type": "code",
   "execution_count": 11,
   "id": "d91ad584-840d-43d8-9d30-33ece8809c0f",
   "metadata": {},
   "outputs": [],
   "source": [
    "X_train, X_test, y_train, y_test = train_test_split(data_array, label_array,\n",
    "                                   random_state=104, \n",
    "                                   test_size=0.20, \n",
    "                                   shuffle=True,\n",
    "                                   stratify=label_array\n",
    "                                  )"
   ]
  },
  {
   "cell_type": "markdown",
   "id": "0aa6432c-659f-40b4-a245-a47e5e3cd79d",
   "metadata": {},
   "source": [
    "# Build Model\n",
    "\n",
    "### Copy-pasted from the \"classification_notebook.ipynb\"  notebook"
   ]
  },
  {
   "cell_type": "raw",
   "id": "2137c6fd-7ca5-487f-a4c5-2f1b2eac3178",
   "metadata": {},
   "source": [
    "# Instantiate base model from ResNet50 and exclude head\n",
    "\n",
    "tf.keras.backend.clear_session()\n",
    "\n",
    "base_model = ResNet50(include_top=False,\n",
    "                      input_shape=(256,256) + (3,),\n",
    "                      weights=\"imagenet\")\n",
    "\n",
    "# Freeze all layers\n",
    "\n",
    "for layer in base_model.layers[:]:\n",
    "    layer.trainable = False\n",
    "    \n",
    "# Customize the model by adding Dense layers\n",
    "# Include Dropout and Normalization to combat overfitting\n",
    "\n",
    "model = tf.keras.models.Sequential()\n",
    "#model.add(tf.keras.layers.Resizing(256,256))\n",
    "model.add(base_model)\n",
    "model.add(tf.keras.layers.Flatten())\n",
    "model.add(tf.keras.layers.Dense(512, activation=\"relu\"))\n",
    "model.add(tf.keras.layers.Dropout(0.3))\n",
    "model.add(tf.keras.layers.BatchNormalization())\n",
    "model.add(tf.keras.layers.Dense(256, activation=\"relu\"))\n",
    "model.add(tf.keras.layers.Dropout(0.3))\n",
    "model.add(tf.keras.layers.BatchNormalization())\n",
    "model.add(tf.keras.layers.Dense(128, activation=\"relu\"))\n",
    "model.add(tf.keras.layers.Dropout(0.3))\n",
    "model.add(tf.keras.layers.BatchNormalization())\n",
    "model.add(tf.keras.layers.Dense(64, activation=\"relu\"))\n",
    "model.add(tf.keras.layers.Dropout(0.3))\n",
    "model.add(tf.keras.layers.BatchNormalization())\n",
    "model.add(tf.keras.layers.Dense(1, activation=\"softmax\"))\n",
    "\n",
    "# Compile model\n",
    "\n",
    "model.compile(loss=\"categorical_crossentropy\",\n",
    "              #optimizer=tf.keras.optimizers.Adam(learning_rate=LR),\n",
    "              metrics=[\"accuracy\"])"
   ]
  },
  {
   "cell_type": "code",
   "execution_count": 12,
   "id": "d2d5fdaf-e508-4df1-aea5-b38971b13f62",
   "metadata": {},
   "outputs": [
    {
     "name": "stdout",
     "output_type": "stream",
     "text": [
      "Training data shape before adding RGB: (6502, 256, 256)\n",
      "Training data shape after adding RGB: (6502, 256, 256, 3)\n",
      "Model: \"model\"\n",
      "_________________________________________________________________\n",
      " Layer (type)                Output Shape              Param #   \n",
      "=================================================================\n",
      " input_2 (InputLayer)        [(None, 256, 256, 3)]     0         \n",
      "                                                                 \n",
      " resizing (Resizing)         (None, 256, 256, 3)       0         \n",
      "                                                                 \n",
      " resnet50 (Functional)       (None, 8, 8, 2048)        23587712  \n",
      "                                                                 \n",
      " flatten (Flatten)           (None, 131072)            0         \n",
      "                                                                 \n",
      " dense (Dense)               (None, 512)               67109376  \n",
      "                                                                 \n",
      " dropout (Dropout)           (None, 512)               0         \n",
      "                                                                 \n",
      " batch_normalization (Batch  (None, 512)               2048      \n",
      " Normalization)                                                  \n",
      "                                                                 \n",
      " dense_1 (Dense)             (None, 1)                 513       \n",
      "                                                                 \n",
      "=================================================================\n",
      "Total params: 90699649 (345.99 MB)\n",
      "Trainable params: 67110913 (256.01 MB)\n",
      "Non-trainable params: 23588736 (89.98 MB)\n",
      "_________________________________________________________________\n"
     ]
    }
   ],
   "source": [
    "\n",
    "# Assuming your grayscale images have a shape of (1288, 256, 256)\n",
    "input_shape = (256, 256, 3)  # Assuming 256x256 RGB images\n",
    "\n",
    "# Add RGB Channel to Grayscaled Input\n",
    "print(f\"Training data shape before adding RGB: {X_train.shape}\")\n",
    "X_train_rgb = np.repeat(X_train[..., np.newaxis], 3, -1)\n",
    "X_test_rgb = np.repeat(X_test[..., np.newaxis], 3, -1)\n",
    "print(f\"Training data shape after adding RGB: {X_train_rgb.shape}\")\n",
    "\n",
    "# Preprocess input\n",
    "X_rgb = preprocess_input(X_train_rgb, data_format=None)\n",
    "X_test_rgb = preprocess_input(X_test_rgb, data_format=None)\n",
    "\n",
    "# Instantiate base model from ResNet50 and exclude head\n",
    "base_model = ResNet50(include_top=False, input_shape=input_shape, weights=\"imagenet\")\n",
    "\n",
    "# Freeze all layers\n",
    "for layer in base_model.layers:\n",
    "    layer.trainable = False\n",
    "    \n",
    "# Customize the model by adding Dense layers\n",
    "input_tensor = Input(shape=input_shape)\n",
    "resized_input = Resizing(256, 256)(input_tensor)\n",
    "base_model_output = base_model(resized_input)\n",
    "flatten_output = Flatten()(base_model_output)\n",
    "\n",
    "# Original Layer\n",
    "dense_output_1 = Dense(512, activation=\"relu\")(flatten_output)\n",
    "dropout_output_1 = Dropout(0.3)(dense_output_1)\n",
    "normalized_output_1 = BatchNormalization()(dropout_output_1)\n",
    "\n",
    "# Additional layer\n",
    "# dense_output_2 = Dense(256, activation=\"relu\")(normalized_output_1)\n",
    "# dropout_output_2 = Dropout(0.3)(dense_output_2)\n",
    "# normalized_output_2 = BatchNormalization()(dropout_output_2)\n",
    "\n",
    "# Additional layer\n",
    "# dense_output_3 = Dense(128, activation=\"relu\")(normalized_output_2)\n",
    "# dropout_output_3 = Dropout(0.3)(dense_output_3)\n",
    "# normalized_output_3 = BatchNormalization()(dropout_output_3)\n",
    "\n",
    "# dense_output_4 = Dense(64, activation=\"relu\")(normalized_output_3)\n",
    "# dropout_output_4 = Dropout(0.3)(dense_output_4)\n",
    "# normalized_output_4 = BatchNormalization()(dropout_output_4)\n",
    "# ... add more layers as needed\n",
    "\n",
    "# Final output layer (use two inner layers on top of base model)\n",
    "output_tensor = Dense(1, activation=\"sigmoid\")(normalized_output_1) # activation=\"softmax\"\n",
    "# Create the model\n",
    "model = Model(inputs=input_tensor, outputs=output_tensor)\n",
    "\n",
    "# Compile the model\n",
    "model.compile(loss=tf.keras.losses.BinaryCrossentropy(from_logits=False), optimizer=\"adam\", metrics=[\"accuracy\"])\n",
    "\n",
    "# Print model summary\n",
    "model.summary()"
   ]
  },
  {
   "cell_type": "markdown",
   "id": "bbdef435-a125-45dc-aec6-9e9217b80980",
   "metadata": {},
   "source": [
    "# Train ResNet50 Model"
   ]
  },
  {
   "cell_type": "code",
   "execution_count": 13,
   "id": "ae8c8da3-63c7-4dec-a3ba-b2f08d48664f",
   "metadata": {},
   "outputs": [
    {
     "name": "stdout",
     "output_type": "stream",
     "text": [
      "Epoch 1/10\n"
     ]
    },
    {
     "name": "stderr",
     "output_type": "stream",
     "text": [
      "2023-10-07 05:22:35.561093: W tensorflow/tsl/framework/cpu_allocator_impl.cc:83] Allocation of 5113380864 exceeds 10% of free system memory.\n"
     ]
    },
    {
     "name": "stdout",
     "output_type": "stream",
     "text": [
      "204/204 [==============================] - 383s 2s/step - loss: 0.5093 - accuracy: 0.7350 - val_loss: 0.3547 - val_accuracy: 0.8167\n",
      "Epoch 2/10\n",
      "204/204 [==============================] - 375s 2s/step - loss: 0.3182 - accuracy: 0.8507 - val_loss: 0.3044 - val_accuracy: 0.8622\n",
      "Epoch 3/10\n",
      "204/204 [==============================] - 403s 2s/step - loss: 0.2572 - accuracy: 0.8876 - val_loss: 0.2959 - val_accuracy: 0.8739\n",
      "Epoch 4/10\n",
      "204/204 [==============================] - 378s 2s/step - loss: 0.2168 - accuracy: 0.9033 - val_loss: 0.2369 - val_accuracy: 0.8918\n",
      "Epoch 5/10\n",
      "204/204 [==============================] - 379s 2s/step - loss: 0.2011 - accuracy: 0.9140 - val_loss: 0.3343 - val_accuracy: 0.8198\n",
      "Epoch 6/10\n",
      "204/204 [==============================] - 383s 2s/step - loss: 0.1941 - accuracy: 0.9196 - val_loss: 0.2410 - val_accuracy: 0.8868\n",
      "Epoch 7/10\n",
      "204/204 [==============================] - 373s 2s/step - loss: 0.2034 - accuracy: 0.9096 - val_loss: 0.2200 - val_accuracy: 0.9084\n",
      "Epoch 8/10\n",
      "204/204 [==============================] - 375s 2s/step - loss: 0.1900 - accuracy: 0.9160 - val_loss: 0.2596 - val_accuracy: 0.8696\n",
      "Epoch 9/10\n",
      "204/204 [==============================] - 387s 2s/step - loss: 0.1764 - accuracy: 0.9239 - val_loss: 0.2386 - val_accuracy: 0.8850\n",
      "Epoch 10/10\n",
      "204/204 [==============================] - 562s 2s/step - loss: 0.1946 - accuracy: 0.9102 - val_loss: 0.2416 - val_accuracy: 0.8905\n"
     ]
    }
   ],
   "source": [
    "history = model.fit(X_rgb, y_train,\n",
    "                    epochs=NUM_EPOCHS, \n",
    "                    validation_data=(X_test_rgb, y_test))\n"
   ]
  },
  {
   "cell_type": "code",
   "execution_count": 14,
   "id": "e64fe99c-56c6-4d1d-b245-f35b8157d8e7",
   "metadata": {},
   "outputs": [
    {
     "name": "stdout",
     "output_type": "stream",
     "text": [
      "Model: \"model\"\n",
      "_________________________________________________________________\n",
      " Layer (type)                Output Shape              Param #   \n",
      "=================================================================\n",
      " input_2 (InputLayer)        [(None, 256, 256, 3)]     0         \n",
      "                                                                 \n",
      " resizing (Resizing)         (None, 256, 256, 3)       0         \n",
      "                                                                 \n",
      " resnet50 (Functional)       (None, 8, 8, 2048)        23587712  \n",
      "                                                                 \n",
      " flatten (Flatten)           (None, 131072)            0         \n",
      "                                                                 \n",
      " dense (Dense)               (None, 512)               67109376  \n",
      "                                                                 \n",
      " dropout (Dropout)           (None, 512)               0         \n",
      "                                                                 \n",
      " batch_normalization (Batch  (None, 512)               2048      \n",
      " Normalization)                                                  \n",
      "                                                                 \n",
      " dense_1 (Dense)             (None, 1)                 513       \n",
      "                                                                 \n",
      "=================================================================\n",
      "Total params: 90699649 (345.99 MB)\n",
      "Trainable params: 67110913 (256.01 MB)\n",
      "Non-trainable params: 23588736 (89.98 MB)\n",
      "_________________________________________________________________\n"
     ]
    }
   ],
   "source": [
    "model.summary()"
   ]
  },
  {
   "cell_type": "code",
   "execution_count": 15,
   "id": "67521e0a-741a-4cdb-9575-5ec8b06b04e9",
   "metadata": {},
   "outputs": [
    {
     "data": {
      "image/png": "[encoded data removed]",
      "text/plain": [
       "<Figure size 1200x400 with 2 Axes>"
      ]
     },
     "metadata": {},
     "output_type": "display_data"
    }
   ],
   "source": [
    "hist = history.history\n",
    "x_arr = np.arange(len(hist['loss'])) + 1\n",
    "\n",
    "fig = plt.figure(figsize=(12, 4))\n",
    "ax = fig.add_subplot(1, 2, 1)\n",
    "ax.plot(x_arr, hist['loss'], '-o', label='Train loss')\n",
    "ax.plot(x_arr, hist['val_loss'], '--<', label='Validation loss')\n",
    "ax.legend(fontsize=15)\n",
    "ax.set_xlabel('Epoch', size=15)\n",
    "ax.set_ylabel('Loss', size=15)\n",
    "ax.set_title(f\"Resnet50 Model\\nAccuracy and Loss ({len(label_array)} images, {NUM_PATIENTS} patients)\")\n",
    "\n",
    "ax = fig.add_subplot(1, 2, 2)\n",
    "ax.plot(x_arr, hist['accuracy'], '-o', label='Train acc.')\n",
    "ax.plot(x_arr, hist['val_accuracy'], '--<', label='Validation acc.')\n",
    "ax.legend(fontsize=15)\n",
    "ax.set_xlabel('Epoch', size=15)\n",
    "ax.set_ylabel('Accuracy', size=15)\n",
    "ax.set_ylim(0.7,1)\n",
    "ax.set_title(f\"Resnet50 Model\\nAccuracy and Loss ({len(label_array)} images, {NUM_PATIENTS} patients)\")\n",
    "plt.show()"
   ]
  },
  {
   "cell_type": "markdown",
   "id": "43c82853-8776-43a3-bf82-83bd9821f285",
   "metadata": {},
   "source": [
    "# Compare with Original Model"
   ]
  },
  {
   "cell_type": "code",
   "execution_count": 16,
   "id": "31b1b7ba-ac08-457b-b178-58d64c2c0707",
   "metadata": {},
   "outputs": [
    {
     "name": "stdout",
     "output_type": "stream",
     "text": [
      "Model: \"sequential\"\n",
      "_________________________________________________________________\n",
      " Layer (type)                Output Shape              Param #   \n",
      "=================================================================\n",
      " flatten_1 (Flatten)         (None, 65536)             0         \n",
      "                                                                 \n",
      " dense_2 (Dense)             (None, 256)               16777472  \n",
      "                                                                 \n",
      " dense_3 (Dense)             (None, 128)               32896     \n",
      "                                                                 \n",
      " dense_4 (Dense)             (None, 1)                 129       \n",
      "                                                                 \n",
      "=================================================================\n",
      "Total params: 16810497 (64.13 MB)\n",
      "Trainable params: 16810497 (64.13 MB)\n",
      "Non-trainable params: 0 (0.00 Byte)\n",
      "_________________________________________________________________\n"
     ]
    }
   ],
   "source": [
    "model_old = tf.keras.Sequential([\n",
    "    tf.keras.layers.Flatten(input_shape=(65536, 1)),\n",
    "    tf.keras.layers.Dense(256, activation='relu'),\n",
    "    tf.keras.layers.Dense(128, activation='relu'),\n",
    "    tf.keras.layers.Dense(1)\n",
    "])\n",
    "model_old.summary()\n",
    "\n",
    "model_old.compile(optimizer=tf.keras.optimizers.Adam(),\n",
    "              loss=tf.keras.losses.BinaryCrossentropy(from_logits=True),  \n",
    "              # ^ because our last layer does not apply sigmoid, by specifying from logits=True, the loss function applies the sigmoid function internally\n",
    "              # ^ it's more efficient than doing it manually\n",
    "              metrics=['accuracy']) # you can add other metrics here"
   ]
  },
  {
   "cell_type": "code",
   "execution_count": 17,
   "id": "e18b4aca-deb6-4963-9aef-a538017c598f",
   "metadata": {},
   "outputs": [
    {
     "name": "stdout",
     "output_type": "stream",
     "text": [
      "Training data shape before scaling: (6502, 256, 256)\n",
      "Training data shape after scaling: (6502, 256, 256)\n"
     ]
    }
   ],
   "source": [
    "X_train_2d = convert_3d_to_2d(X_train)\n",
    "X_test_2d = convert_3d_to_2d(X_test)\n",
    "print(f\"Training data shape before scaling: {X_train.shape}\")\n",
    "\n",
    "# Add scaling\n",
    "scaler = MinMaxScaler()\n",
    "X_train_2d = scaler.fit_transform(X_train_2d)\n",
    "X_test_2d = scaler.transform(X_test_2d)\n",
    "print(f\"Training data shape after scaling: {X_train.shape}\")"
   ]
  },
  {
   "cell_type": "code",
   "execution_count": null,
   "id": "bf0f42c5-e993-4c58-a29f-458b6152c92d",
   "metadata": {},
   "outputs": [],
   "source": [
    "history_old = model_old.fit(X_train_2d, y_train,\n",
    "                    epochs=NUM_EPOCHS, \n",
    "                    validation_data=(X_test_2d, y_test))"
   ]
  },
  {
   "cell_type": "code",
   "execution_count": null,
   "id": "2422bac6-f4ce-415f-ba87-0b65bb0dc952",
   "metadata": {},
   "outputs": [],
   "source": [
    "hist = history_old.history\n",
    "x_arr = np.arange(len(hist['loss'])) + 1\n",
    "\n",
    "fig = plt.figure(figsize=(12, 4))\n",
    "ax = fig.add_subplot(1, 2, 1)\n",
    "ax.plot(x_arr, hist['loss'], '-o', label='Train loss')\n",
    "ax.plot(x_arr, hist['val_loss'], '--<', label='Validation loss')\n",
    "ax.legend(fontsize=15)\n",
    "ax.set_xlabel('Epoch', size=15)\n",
    "ax.set_ylabel('Loss', size=15)\n",
    "ax.set_title(f\"Old Model\\nAccuracy and Loss ({len(label_array)} images, {NUM_PATIENTS} patients)\")\n",
    "\n",
    "ax = fig.add_subplot(1, 2, 2)\n",
    "ax.plot(x_arr, hist['accuracy'], '-o', label='Train acc.')\n",
    "ax.plot(x_arr, hist['val_accuracy'], '--<', label='Validation acc.')\n",
    "ax.legend(fontsize=15)\n",
    "ax.set_xlabel('Epoch', size=15)\n",
    "ax.set_ylabel('Accuracy', size=15)\n",
    "ax.set_ylim(0.7,1)\n",
    "ax.set_title(f\"Old Model\\nAccuracy and Loss ({len(label_array)} images, {NUM_PATIENTS} patients)\")\n",
    "plt.show()"
   ]
  },
  {
   "cell_type": "code",
   "execution_count": null,
   "id": "be394db2-cf36-4a2e-8115-b063c4549d8c",
   "metadata": {},
   "outputs": [],
   "source": []
  }
 ],
 "metadata": {
  "kernelspec": {
   "display_name": "Python 3 (ipykernel)",
   "language": "python",
   "name": "python3"
  },
  "language_info": {
   "codemirror_mode": {
    "name": "ipython",
    "version": 3
   },
   "file_extension": ".py",
   "mimetype": "text/x-python",
   "name": "python",
   "nbconvert_exporter": "python",
   "pygments_lexer": "ipython3",
   "version": "3.11.6"
  }
 },
 "nbformat": 4,
 "nbformat_minor": 5
}
