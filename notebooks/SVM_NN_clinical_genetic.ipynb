{
 "cells": [
  {
   "cell_type": "markdown",
   "id": "d5b258a1",
   "metadata": {},
   "source": [
    "# Support Vector Classifier"
   ]
  },
  {
   "cell_type": "code",
   "execution_count": 1,
   "id": "010e39d5",
   "metadata": {},
   "outputs": [
    {
     "name": "stderr",
     "output_type": "stream",
     "text": [
      "/Users/johngalvin/miniforge3/lib/python3.9/site-packages/scipy/__init__.py:146: UserWarning: A NumPy version >=1.16.5 and <1.23.0 is required for this version of SciPy (detected version 1.24.2\n",
      "  warnings.warn(f\"A NumPy version >={np_minversion} and <{np_maxversion}\"\n"
     ]
    }
   ],
   "source": [
    "import pandas as pd\n",
    "import numpy as np\n",
    "\n",
    "from sklearn.model_selection import train_test_split\n",
    "from sklearn.preprocessing import LabelEncoder, MinMaxScaler\n",
    "from sklearn.svm import SVC\n",
    "from sklearn.metrics import classification_report\n",
    "from sklearn.model_selection import GridSearchCV\n",
    "from imblearn.over_sampling import SMOTE\n",
    "\n",
    "pd.set_option('display.max_columns', 500)"
   ]
  },
  {
   "cell_type": "code",
   "execution_count": 6,
   "id": "0bfec942",
   "metadata": {},
   "outputs": [],
   "source": [
    "df = pd.read_csv('../data/clinical_training_data.csv')\n",
    "\n",
    "# For converting categorical variables to ints\n",
    "label_encoder = LabelEncoder()\n",
    "scaler = MinMaxScaler()\n",
    "\n",
    "# Split features / target\n",
    "X = df.drop(columns=['AD_dx_in_5_yrs'])\n",
    "y = df['AD_dx_in_5_yrs']\n",
    "\n",
    "# Encode features\n",
    "X[\"DX.bl\"] = label_encoder.fit_transform(X[\"DX.bl\"])\n",
    "X[\"PTGENDER\"] = label_encoder.fit_transform(X[\"PTGENDER\"])\n",
    "X[\"PTETHCAT\"] = label_encoder.fit_transform(X[\"PTETHCAT\"])\n",
    "X[\"PTRACCAT\"] = label_encoder.fit_transform(X[\"PTRACCAT\"])\n",
    "\n",
    "# Split data\n",
    "X_train, X_test, y_train, y_test = train_test_split(X, y, test_size=0.2, random_state=42)\n",
    "\n",
    "# Scale data\n",
    "X_train = scaler.fit_transform(X_train)\n",
    "X_test = scaler.transform(X_test)\n",
    "\n",
    "# SMOTE\n",
    "smote = SMOTE(sampling_strategy=\"auto\")\n",
    "X_resampled, y_resampled = smote.fit_resample(X_train, y_train)\n",
    "\n",
    "# Instantiate Model\n",
    "svc = SVC()"
   ]
  },
  {
   "cell_type": "markdown",
   "id": "78e4a533",
   "metadata": {},
   "source": [
    "### Grid Search"
   ]
  },
  {
   "cell_type": "code",
   "execution_count": 7,
   "id": "301a1695",
   "metadata": {},
   "outputs": [],
   "source": [
    "# Grid search\n",
    "param_grid = {\n",
    "    \"C\": [0.1, 1, 10],                \n",
    "    \"kernel\": [\"linear\", \"poly\", \"rbf\", \"sigmoid\"],\n",
    "    \"gamma\": [\"scale\", \"auto\", 0.1],\n",
    "    \"degree\": [1, 2, 3, 4, 5]}"
   ]
  },
  {
   "cell_type": "code",
   "execution_count": 8,
   "id": "ae75dfd5",
   "metadata": {},
   "outputs": [],
   "source": [
    "grid_search = GridSearchCV(estimator=svc, param_grid=param_grid, cv=5, scoring=\"accuracy\")"
   ]
  },
  {
   "cell_type": "code",
   "execution_count": 9,
   "id": "d9f0223a",
   "metadata": {},
   "outputs": [
    {
     "data": {
      "text/plain": [
       "GridSearchCV(cv=5, estimator=SVC(),\n",
       "             param_grid={'C': [0.1, 1, 10], 'degree': [1, 2, 3, 4, 5],\n",
       "                         'gamma': ['scale', 'auto', 0.1],\n",
       "                         'kernel': ['linear', 'poly', 'rbf', 'sigmoid']},\n",
       "             scoring='accuracy')"
      ]
     },
     "execution_count": 9,
     "metadata": {},
     "output_type": "execute_result"
    }
   ],
   "source": [
    "grid_search.fit(X_resampled, y_resampled)"
   ]
  },
  {
   "cell_type": "code",
   "execution_count": 10,
   "id": "c27a7e53",
   "metadata": {},
   "outputs": [
    {
     "name": "stdout",
     "output_type": "stream",
     "text": [
      "Best Parameters: {'C': 1, 'degree': 5, 'gamma': 'scale', 'kernel': 'poly'}\n",
      "Best Accuracy: 0.8308763886439781\n"
     ]
    }
   ],
   "source": [
    "# Get the best parameters and best accuracy score\n",
    "best_params = grid_search.best_params_\n",
    "best_score = grid_search.best_score_\n",
    "\n",
    "# Print the best parameters and best score\n",
    "print(\"Best Parameters:\", best_params)\n",
    "print(\"Best Accuracy:\", best_score)"
   ]
  },
  {
   "cell_type": "markdown",
   "id": "c71f56d0",
   "metadata": {},
   "source": [
    "### Train with Best Parameters"
   ]
  },
  {
   "cell_type": "code",
   "execution_count": 11,
   "id": "d5e014c2",
   "metadata": {},
   "outputs": [
    {
     "data": {
      "text/plain": [
       "SVC(C=1, degree=5, kernel='poly')"
      ]
     },
     "execution_count": 11,
     "metadata": {},
     "output_type": "execute_result"
    }
   ],
   "source": [
    "# Instantiate and fit model\n",
    "svc = SVC(C=1, degree=5, gamma=\"scale\", kernel=\"poly\")\n",
    "\n",
    "svc.fit(X_resampled, y_resampled)"
   ]
  },
  {
   "cell_type": "code",
   "execution_count": 12,
   "id": "49d30a1e",
   "metadata": {},
   "outputs": [
    {
     "name": "stdout",
     "output_type": "stream",
     "text": [
      "              precision    recall  f1-score   support\n",
      "\n",
      "           0       0.94      0.76      0.84        79\n",
      "           1       0.46      0.80      0.58        20\n",
      "\n",
      "    accuracy                           0.77        99\n",
      "   macro avg       0.70      0.78      0.71        99\n",
      "weighted avg       0.84      0.77      0.79        99\n",
      "\n"
     ]
    }
   ],
   "source": [
    "# Assess\n",
    "y_pred = svc.predict(X_test)\n",
    "\n",
    "# evaluate predictions\n",
    "print(classification_report(y_test, y_pred))"
   ]
  },
  {
   "cell_type": "markdown",
   "id": "bc096cbc",
   "metadata": {},
   "source": [
    "# Neural Network"
   ]
  },
  {
   "cell_type": "code",
   "execution_count": 13,
   "id": "7aa89c8f",
   "metadata": {},
   "outputs": [],
   "source": [
    "import pandas as pd\n",
    "import numpy as np\n",
    "import tensorflow as tf\n",
    "import matplotlib.pyplot as plt\n",
    "%matplotlib inline\n",
    "\n",
    "from sklearn.model_selection import train_test_split\n",
    "from sklearn.preprocessing import LabelEncoder, MinMaxScaler\n",
    "from imblearn.over_sampling import SMOTE\n",
    "\n",
    "tf.config.run_functions_eagerly(True)"
   ]
  },
  {
   "cell_type": "code",
   "execution_count": 14,
   "id": "9502d2c3",
   "metadata": {},
   "outputs": [],
   "source": [
    "df = pd.read_csv('../data/clinical_training_data.csv')\n",
    "\n",
    "# For converting categorical variables to ints\n",
    "label_encoder = LabelEncoder()\n",
    "scaler = MinMaxScaler()\n",
    "\n",
    "# Split features / target\n",
    "X = df.drop(columns=['AD_dx_in_5_yrs'])\n",
    "y = df['AD_dx_in_5_yrs']\n",
    "\n",
    "# Encode features\n",
    "X[\"DX.bl\"] = label_encoder.fit_transform(X[\"DX.bl\"])\n",
    "X[\"PTGENDER\"] = label_encoder.fit_transform(X[\"PTGENDER\"])\n",
    "X[\"PTETHCAT\"] = label_encoder.fit_transform(X[\"PTETHCAT\"])\n",
    "X[\"PTRACCAT\"] = label_encoder.fit_transform(X[\"PTRACCAT\"])\n",
    "\n",
    "# Split data\n",
    "X_train, X_test, y_train, y_test = train_test_split(X, y, test_size=0.2, random_state=42)\n",
    "\n",
    "# Scale data\n",
    "X_train = scaler.fit_transform(X_train)\n",
    "X_test = scaler.transform(X_test)\n",
    "\n",
    "# SMOTE\n",
    "smote = SMOTE(sampling_strategy=\"auto\")\n",
    "X_resampled, y_resampled = smote.fit_resample(X_train, y_train)"
   ]
  },
  {
   "cell_type": "code",
   "execution_count": 15,
   "id": "923e45f0",
   "metadata": {},
   "outputs": [],
   "source": [
    "IN_FEATURES = X_train[0].shape[0]"
   ]
  },
  {
   "cell_type": "code",
   "execution_count": 16,
   "id": "43e9baf9",
   "metadata": {},
   "outputs": [],
   "source": [
    "def create_model(dropout=0.3, learning_rate=0.0001):\n",
    "    \n",
    "    \"\"\"Builds classification model\"\"\"\n",
    "    \n",
    "    model = tf.keras.Sequential()\n",
    "    inputs = tf.keras.layers.Input(shape=(IN_FEATURES,), name=\"input_layer\") # (Batch, num_features)\n",
    "    \n",
    "    hidden_1 = tf.keras.layers.Dense(512, activation=\"relu\", name=\"hidden_1\")(inputs)\n",
    "    hidden_1 = tf.keras.layers.Dropout(dropout)(hidden_1)\n",
    "    hidden_2 = tf.keras.layers.Dense(256, activation=\"relu\", name=\"hidden_2\")(hidden_1)\n",
    "    hidden_2 = tf.keras.layers.Dropout(dropout)(hidden_2)\n",
    "    \n",
    "    classification = tf.keras.layers.Dense(1, activation=\"sigmoid\", name=\"classification_layer\")(hidden_2)\n",
    "    classification_model = tf.keras.Model(inputs=[inputs], outputs=[classification])\n",
    "    \n",
    "    classification_model.compile(optimizer=tf.keras.optimizers.Adam(learning_rate=learning_rate),\n",
    "                                 loss=tf.keras.losses.BinaryCrossentropy(from_logits=True), \n",
    "                                 metrics=\"accuracy\")\n",
    "\n",
    "    return classification_model"
   ]
  },
  {
   "cell_type": "code",
   "execution_count": 17,
   "id": "e6062567",
   "metadata": {},
   "outputs": [
    {
     "name": "stdout",
     "output_type": "stream",
     "text": [
      "Metal device set to: Apple M2 Pro\n"
     ]
    },
    {
     "name": "stderr",
     "output_type": "stream",
     "text": [
      "2023-10-02 09:30:51.730907: I tensorflow/core/common_runtime/pluggable_device/pluggable_device_factory.cc:306] Could not identify NUMA node of platform GPU ID 0, defaulting to 0. Your kernel may not have been built with NUMA support.\n",
      "2023-10-02 09:30:51.730981: I tensorflow/core/common_runtime/pluggable_device/pluggable_device_factory.cc:272] Created TensorFlow device (/job:localhost/replica:0/task:0/device:GPU:0 with 0 MB memory) -> physical PluggableDevice (device: 0, name: METAL, pci bus id: <undefined>)\n"
     ]
    }
   ],
   "source": [
    "model = create_model()"
   ]
  },
  {
   "cell_type": "code",
   "execution_count": 18,
   "id": "8d22dcc4",
   "metadata": {},
   "outputs": [
    {
     "name": "stdout",
     "output_type": "stream",
     "text": [
      "Epoch 1/20\n"
     ]
    },
    {
     "name": "stderr",
     "output_type": "stream",
     "text": [
      "/Users/johngalvin/miniforge3/lib/python3.9/site-packages/tensorflow/python/data/ops/structured_function.py:256: UserWarning: Even though the `tf.config.experimental_run_functions_eagerly` option is set, this option does not apply to tf.data functions. To force eager execution of tf.data functions, please use `tf.data.experimental.enable_debug_mode()`.\n",
      "  warnings.warn(\n",
      "2023-10-02 09:30:52.003272: W tensorflow/tsl/platform/profile_utils/cpu_utils.cc:128] Failed to get CPU frequency: 0 Hz\n",
      "/Users/johngalvin/miniforge3/lib/python3.9/site-packages/keras/backend.py:5676: UserWarning: \"`binary_crossentropy` received `from_logits=True`, but the `output` argument was produced by a Sigmoid activation and thus does not represent logits. Was this intended?\n",
      "  output, from_logits = _get_logits(\n"
     ]
    },
    {
     "name": "stdout",
     "output_type": "stream",
     "text": [
      "34/34 [==============================] - 1s 25ms/step - loss: 0.6827 - accuracy: 0.5921\n",
      "Epoch 2/20\n",
      "34/34 [==============================] - 1s 21ms/step - loss: 0.6407 - accuracy: 0.7425\n",
      "Epoch 3/20\n",
      "34/34 [==============================] - 1s 24ms/step - loss: 0.5981 - accuracy: 0.7744\n",
      "Epoch 4/20\n",
      "34/34 [==============================] - 1s 23ms/step - loss: 0.5528 - accuracy: 0.7951\n",
      "Epoch 5/20\n",
      "34/34 [==============================] - 1s 21ms/step - loss: 0.5200 - accuracy: 0.8026\n",
      "Epoch 6/20\n",
      "34/34 [==============================] - 1s 21ms/step - loss: 0.4930 - accuracy: 0.7932\n",
      "Epoch 7/20\n",
      "34/34 [==============================] - 1s 21ms/step - loss: 0.4684 - accuracy: 0.8139\n",
      "Epoch 8/20\n",
      "34/34 [==============================] - 1s 21ms/step - loss: 0.4555 - accuracy: 0.7951\n",
      "Epoch 9/20\n",
      "34/34 [==============================] - 1s 21ms/step - loss: 0.4440 - accuracy: 0.7970\n",
      "Epoch 10/20\n",
      "34/34 [==============================] - 1s 21ms/step - loss: 0.4474 - accuracy: 0.7989\n",
      "Epoch 11/20\n",
      "34/34 [==============================] - 1s 21ms/step - loss: 0.4378 - accuracy: 0.7989\n",
      "Epoch 12/20\n",
      "34/34 [==============================] - 1s 21ms/step - loss: 0.4387 - accuracy: 0.8083\n",
      "Epoch 13/20\n",
      "34/34 [==============================] - 1s 21ms/step - loss: 0.4319 - accuracy: 0.7989\n",
      "Epoch 14/20\n",
      "34/34 [==============================] - 1s 21ms/step - loss: 0.4313 - accuracy: 0.8008\n",
      "Epoch 15/20\n",
      "34/34 [==============================] - 1s 21ms/step - loss: 0.4290 - accuracy: 0.7914\n",
      "Epoch 16/20\n",
      "34/34 [==============================] - 1s 21ms/step - loss: 0.4289 - accuracy: 0.7970\n",
      "Epoch 17/20\n",
      "34/34 [==============================] - 1s 21ms/step - loss: 0.4275 - accuracy: 0.8026\n",
      "Epoch 18/20\n",
      "34/34 [==============================] - 1s 21ms/step - loss: 0.4246 - accuracy: 0.8026\n",
      "Epoch 19/20\n",
      "34/34 [==============================] - 1s 21ms/step - loss: 0.4239 - accuracy: 0.8008\n",
      "Epoch 20/20\n",
      "34/34 [==============================] - 1s 21ms/step - loss: 0.4245 - accuracy: 0.8158\n"
     ]
    }
   ],
   "source": [
    "history = model.fit(X_resampled,\n",
    "                    y_resampled,\n",
    "                    batch_size=16,\n",
    "                    epochs=20)"
   ]
  },
  {
   "cell_type": "code",
   "execution_count": 19,
   "id": "18d0930b",
   "metadata": {},
   "outputs": [
    {
     "data": {
      "image/png": "[encoded data removed]",
      "text/plain": [
       "<Figure size 432x288 with 1 Axes>"
      ]
     },
     "metadata": {
      "needs_background": "light"
     },
     "output_type": "display_data"
    }
   ],
   "source": [
    "# Visualize loss curve\n",
    "\n",
    "losses = history.history[\"loss\"]\n",
    "plt.plot(losses)\n",
    "plt.xlabel(\"Training Step\")\n",
    "plt.ylabel(\"Loss\")\n",
    "plt.title(\"Training Loss\")\n",
    "plt.show()"
   ]
  },
  {
   "cell_type": "code",
   "execution_count": 20,
   "id": "8f7e941c",
   "metadata": {},
   "outputs": [
    {
     "data": {
      "image/png": "[encoded data removed]",
      "text/plain": [
       "<Figure size 432x288 with 1 Axes>"
      ]
     },
     "metadata": {
      "needs_background": "light"
     },
     "output_type": "display_data"
    }
   ],
   "source": [
    "# Visualize accuracy curve\n",
    "\n",
    "losses = history.history[\"accuracy\"]\n",
    "plt.plot(losses)\n",
    "plt.xlabel(\"Training Step\")\n",
    "plt.ylabel(\"Accuracy\")\n",
    "plt.title(\"Training Accuracy\")\n",
    "plt.show()"
   ]
  },
  {
   "cell_type": "code",
   "execution_count": 21,
   "id": "869fd1c6",
   "metadata": {},
   "outputs": [
    {
     "name": "stdout",
     "output_type": "stream",
     "text": [
      "4/4 [==============================] - 0s 22ms/step - loss: 0.4891 - accuracy: 0.7273\n"
     ]
    },
    {
     "data": {
      "text/plain": [
       "[0.4891086220741272, 0.7272727489471436]"
      ]
     },
     "execution_count": 21,
     "metadata": {},
     "output_type": "execute_result"
    }
   ],
   "source": [
    "model.evaluate(X_test, y_test)"
   ]
  },
  {
   "cell_type": "code",
   "execution_count": 22,
   "id": "ab799e82",
   "metadata": {},
   "outputs": [
    {
     "name": "stdout",
     "output_type": "stream",
     "text": [
      "4/4 [==============================] - 0s 4ms/step\n"
     ]
    },
    {
     "data": {
      "text/plain": [
       "array([[0.06204857],\n",
       "       [0.5645148 ],\n",
       "       [0.7192468 ],\n",
       "       [0.03715334],\n",
       "       [0.76087755],\n",
       "       [0.792556  ],\n",
       "       [0.42499614],\n",
       "       [0.2953972 ],\n",
       "       [0.02766663],\n",
       "       [0.06094112],\n",
       "       [0.40384668],\n",
       "       [0.5940333 ],\n",
       "       [0.41700128],\n",
       "       [0.03182071],\n",
       "       [0.6914573 ],\n",
       "       [0.04605116],\n",
       "       [0.70730776],\n",
       "       [0.01564723],\n",
       "       [0.4725941 ],\n",
       "       [0.5203284 ],\n",
       "       [0.49514875],\n",
       "       [0.0179326 ],\n",
       "       [0.6972763 ],\n",
       "       [0.04689747],\n",
       "       [0.01658665],\n",
       "       [0.01911455],\n",
       "       [0.12015694],\n",
       "       [0.76597214],\n",
       "       [0.01605178],\n",
       "       [0.01598399],\n",
       "       [0.6935486 ],\n",
       "       [0.04026412],\n",
       "       [0.34863123],\n",
       "       [0.79870635],\n",
       "       [0.8855331 ],\n",
       "       [0.04133075],\n",
       "       [0.01853592],\n",
       "       [0.02042908],\n",
       "       [0.63452154],\n",
       "       [0.89160866],\n",
       "       [0.03033729],\n",
       "       [0.6460805 ],\n",
       "       [0.02840774],\n",
       "       [0.66395724],\n",
       "       [0.5084336 ],\n",
       "       [0.02716413],\n",
       "       [0.04360314],\n",
       "       [0.03029248],\n",
       "       [0.8423059 ],\n",
       "       [0.7452525 ],\n",
       "       [0.02604117],\n",
       "       [0.51046807],\n",
       "       [0.40284953],\n",
       "       [0.48363554],\n",
       "       [0.02023948],\n",
       "       [0.49930623],\n",
       "       [0.70627844],\n",
       "       [0.6636472 ],\n",
       "       [0.8237446 ],\n",
       "       [0.08202456],\n",
       "       [0.4081958 ],\n",
       "       [0.02778377],\n",
       "       [0.48080695],\n",
       "       [0.80628145],\n",
       "       [0.8573256 ],\n",
       "       [0.04089606],\n",
       "       [0.6058602 ],\n",
       "       [0.02770326],\n",
       "       [0.80105895],\n",
       "       [0.7843543 ],\n",
       "       [0.7720081 ],\n",
       "       [0.5634116 ],\n",
       "       [0.7088866 ],\n",
       "       [0.4867354 ],\n",
       "       [0.32378486],\n",
       "       [0.78863776],\n",
       "       [0.65683573],\n",
       "       [0.71894443],\n",
       "       [0.06758389],\n",
       "       [0.10955971],\n",
       "       [0.01543105],\n",
       "       [0.56042975],\n",
       "       [0.04009444],\n",
       "       [0.06808936],\n",
       "       [0.69395065],\n",
       "       [0.56115234],\n",
       "       [0.89389795],\n",
       "       [0.81384903],\n",
       "       [0.8450961 ],\n",
       "       [0.04464321],\n",
       "       [0.84243965],\n",
       "       [0.7994272 ],\n",
       "       [0.02755959],\n",
       "       [0.05720462],\n",
       "       [0.02113097],\n",
       "       [0.6550384 ],\n",
       "       [0.06458325],\n",
       "       [0.01274213],\n",
       "       [0.6050007 ]], dtype=float32)"
      ]
     },
     "execution_count": 22,
     "metadata": {},
     "output_type": "execute_result"
    }
   ],
   "source": [
    "preds = model.predict(X_test)\n",
    "preds"
   ]
  },
  {
   "cell_type": "code",
   "execution_count": null,
   "id": "c3b0066e",
   "metadata": {},
   "outputs": [],
   "source": []
  }
 ],
 "metadata": {
  "kernelspec": {
   "display_name": "Python 3 (ipykernel)",
   "language": "python",
   "name": "python3"
  },
  "language_info": {
   "codemirror_mode": {
    "name": "ipython",
    "version": 3
   },
   "file_extension": ".py",
   "mimetype": "text/x-python",
   "name": "python",
   "nbconvert_exporter": "python",
   "pygments_lexer": "ipython3",
   "version": "3.9.7"
  }
 },
 "nbformat": 4,
 "nbformat_minor": 5
}
