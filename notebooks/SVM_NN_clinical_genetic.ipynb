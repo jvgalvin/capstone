{
 "cells": [
  {
   "cell_type": "markdown",
   "id": "d5b258a1",
   "metadata": {},
   "source": [
    "# Support Vector Classifier"
   ]
  },
  {
   "cell_type": "code",
   "execution_count": 1,
   "id": "010e39d5",
   "metadata": {},
   "outputs": [
    {
     "name": "stderr",
     "output_type": "stream",
     "text": [
      "/Users/johngalvin/miniforge3/lib/python3.9/site-packages/scipy/__init__.py:146: UserWarning: A NumPy version >=1.16.5 and <1.23.0 is required for this version of SciPy (detected version 1.24.2\n",
      "  warnings.warn(f\"A NumPy version >={np_minversion} and <{np_maxversion}\"\n"
     ]
    }
   ],
   "source": [
    "import pandas as pd\n",
    "import numpy as np\n",
    "\n",
    "from sklearn.model_selection import train_test_split\n",
    "from sklearn.preprocessing import LabelEncoder, MinMaxScaler\n",
    "from sklearn.svm import SVC\n",
    "from sklearn.metrics import classification_report\n",
    "from sklearn.model_selection import GridSearchCV\n",
    "from imblearn.over_sampling import SMOTE"
   ]
  },
  {
   "cell_type": "code",
   "execution_count": 8,
   "id": "0bfec942",
   "metadata": {},
   "outputs": [],
   "source": [
    "df = pd.read_csv('../data/clinical_training_data.csv')\n",
    "\n",
    "# For converting categorical variables to ints\n",
    "label_encoder = LabelEncoder()\n",
    "scaler = MinMaxScaler()\n",
    "\n",
    "# Split features / target\n",
    "X = df.drop(columns=['AD_dx_in_5_yrs'])\n",
    "y = df['AD_dx_in_5_yrs']\n",
    "\n",
    "# Encode features\n",
    "X[\"DX.bl\"] = label_encoder.fit_transform(X[\"DX.bl\"])\n",
    "X[\"PTGENDER\"] = label_encoder.fit_transform(X[\"PTGENDER\"])\n",
    "X[\"PTETHCAT\"] = label_encoder.fit_transform(X[\"PTETHCAT\"])\n",
    "X[\"PTRACCAT\"] = label_encoder.fit_transform(X[\"PTRACCAT\"])\n",
    "\n",
    "# Split data\n",
    "X_train, X_test, y_train, y_test = train_test_split(X, y, test_size=0.2, random_state=42)\n",
    "\n",
    "# Scale data\n",
    "X_train = scaler.fit_transform(X_train)\n",
    "X_test = scaler.transform(X_test)\n",
    "\n",
    "# SMOTE\n",
    "smote = SMOTE(sampling_strategy=\"auto\")\n",
    "X_resampled, y_resampled = smote.fit_resample(X_train, y_train)\n",
    "\n",
    "# Instantiate Model\n",
    "svc = SVC()"
   ]
  },
  {
   "cell_type": "markdown",
   "id": "78e4a533",
   "metadata": {},
   "source": [
    "### Grid Search"
   ]
  },
  {
   "cell_type": "code",
   "execution_count": 9,
   "id": "301a1695",
   "metadata": {},
   "outputs": [],
   "source": [
    "# Grid search\n",
    "param_grid = {\n",
    "    \"C\": [0.1, 1, 10],                \n",
    "    \"kernel\": [\"linear\", \"poly\", \"rbf\", \"sigmoid\"],\n",
    "    \"gamma\": [\"scale\", \"auto\", 0.1],\n",
    "    \"degree\": [1, 2, 3, 4, 5]}"
   ]
  },
  {
   "cell_type": "code",
   "execution_count": 10,
   "id": "ae75dfd5",
   "metadata": {},
   "outputs": [],
   "source": [
    "grid_search = GridSearchCV(estimator=svc, param_grid=param_grid, cv=5, scoring=\"accuracy\")"
   ]
  },
  {
   "cell_type": "code",
   "execution_count": 11,
   "id": "d9f0223a",
   "metadata": {},
   "outputs": [
    {
     "data": {
      "text/plain": [
       "GridSearchCV(cv=5, estimator=SVC(),\n",
       "             param_grid={'C': [0.1, 1, 10], 'degree': [1, 2, 3, 4, 5],\n",
       "                         'gamma': ['scale', 'auto', 0.1],\n",
       "                         'kernel': ['linear', 'poly', 'rbf', 'sigmoid']},\n",
       "             scoring='accuracy')"
      ]
     },
     "execution_count": 11,
     "metadata": {},
     "output_type": "execute_result"
    }
   ],
   "source": [
    "grid_search.fit(X_resampled, y_resampled)"
   ]
  },
  {
   "cell_type": "code",
   "execution_count": 12,
   "id": "c27a7e53",
   "metadata": {},
   "outputs": [
    {
     "name": "stdout",
     "output_type": "stream",
     "text": [
      "Best Parameters: {'C': 1, 'degree': 5, 'gamma': 'scale', 'kernel': 'poly'}\n",
      "Best Accuracy: 0.8176688414741669\n"
     ]
    }
   ],
   "source": [
    "# Get the best parameters and best accuracy score\n",
    "best_params = grid_search.best_params_\n",
    "best_score = grid_search.best_score_\n",
    "\n",
    "# Print the best parameters and best score\n",
    "print(\"Best Parameters:\", best_params)\n",
    "print(\"Best Accuracy:\", best_score)"
   ]
  },
  {
   "cell_type": "markdown",
   "id": "c71f56d0",
   "metadata": {},
   "source": [
    "### Train with Best Parameters"
   ]
  },
  {
   "cell_type": "code",
   "execution_count": 13,
   "id": "d5e014c2",
   "metadata": {},
   "outputs": [
    {
     "data": {
      "text/plain": [
       "SVC(C=1, degree=5, kernel='poly')"
      ]
     },
     "execution_count": 13,
     "metadata": {},
     "output_type": "execute_result"
    }
   ],
   "source": [
    "# Instantiate and fit model\n",
    "svc = SVC(C=1, degree=5, gamma=\"scale\", kernel=\"poly\")\n",
    "\n",
    "svc.fit(X_resampled, y_resampled)"
   ]
  },
  {
   "cell_type": "code",
   "execution_count": 14,
   "id": "49d30a1e",
   "metadata": {},
   "outputs": [
    {
     "name": "stdout",
     "output_type": "stream",
     "text": [
      "              precision    recall  f1-score   support\n",
      "\n",
      "           0       0.96      0.70      0.81        79\n",
      "           1       0.43      0.90      0.58        20\n",
      "\n",
      "    accuracy                           0.74        99\n",
      "   macro avg       0.70      0.80      0.69        99\n",
      "weighted avg       0.86      0.74      0.76        99\n",
      "\n"
     ]
    }
   ],
   "source": [
    "# Assess\n",
    "y_pred = svc.predict(X_test)\n",
    "\n",
    "# evaluate predictions\n",
    "print(classification_report(y_test, y_pred))"
   ]
  },
  {
   "cell_type": "markdown",
   "id": "bc096cbc",
   "metadata": {},
   "source": [
    "# Neural Network"
   ]
  },
  {
   "cell_type": "code",
   "execution_count": 15,
   "id": "7aa89c8f",
   "metadata": {},
   "outputs": [],
   "source": [
    "import pandas as pd\n",
    "import numpy as np\n",
    "import tensorflow as tf\n",
    "import matplotlib.pyplot as plt\n",
    "%matplotlib inline\n",
    "\n",
    "from sklearn.model_selection import train_test_split\n",
    "from sklearn.preprocessing import LabelEncoder, MinMaxScaler\n",
    "from imblearn.over_sampling import SMOTE\n",
    "\n",
    "tf.config.run_functions_eagerly(True)"
   ]
  },
  {
   "cell_type": "code",
   "execution_count": 24,
   "id": "9502d2c3",
   "metadata": {},
   "outputs": [],
   "source": [
    "df = pd.read_csv('../data/clinical_training_data.csv')\n",
    "\n",
    "# For converting categorical variables to ints\n",
    "label_encoder = LabelEncoder()\n",
    "scaler = MinMaxScaler()\n",
    "\n",
    "# Split features / target\n",
    "X = df.drop(columns=['AD_dx_in_5_yrs'])\n",
    "y = df['AD_dx_in_5_yrs']\n",
    "\n",
    "# Encode features\n",
    "X[\"DX.bl\"] = label_encoder.fit_transform(X[\"DX.bl\"])\n",
    "X[\"PTGENDER\"] = label_encoder.fit_transform(X[\"PTGENDER\"])\n",
    "X[\"PTETHCAT\"] = label_encoder.fit_transform(X[\"PTETHCAT\"])\n",
    "X[\"PTRACCAT\"] = label_encoder.fit_transform(X[\"PTRACCAT\"])\n",
    "\n",
    "# Split data\n",
    "X_train, X_test, y_train, y_test = train_test_split(X, y, test_size=0.2, random_state=42)\n",
    "\n",
    "# Scale data\n",
    "X_train = scaler.fit_transform(X_train)\n",
    "X_test = scaler.transform(X_test)\n",
    "\n",
    "# SMOTE\n",
    "smote = SMOTE(sampling_strategy=\"auto\")\n",
    "X_resampled, y_resampled = smote.fit_resample(X_train, y_train)"
   ]
  },
  {
   "cell_type": "code",
   "execution_count": 25,
   "id": "923e45f0",
   "metadata": {},
   "outputs": [],
   "source": [
    "IN_FEATURES = X_train[0].shape[0]"
   ]
  },
  {
   "cell_type": "code",
   "execution_count": 26,
   "id": "43e9baf9",
   "metadata": {},
   "outputs": [],
   "source": [
    "def create_model(dropout=0.3, learning_rate=0.0001):\n",
    "    \n",
    "    \"\"\"Builds classification model\"\"\"\n",
    "    \n",
    "    model = tf.keras.Sequential()\n",
    "    inputs = tf.keras.layers.Input(shape=(IN_FEATURES,), name=\"input_layer\") # (Batch, num_features)\n",
    "    \n",
    "    hidden_1 = tf.keras.layers.Dense(512, activation=\"relu\", name=\"hidden_1\")(inputs)\n",
    "    hidden_1 = tf.keras.layers.Dropout(dropout)(hidden_1)\n",
    "    hidden_2 = tf.keras.layers.Dense(256, activation=\"relu\", name=\"hidden_2\")(hidden_1)\n",
    "    hidden_2 = tf.keras.layers.Dropout(dropout)(hidden_2)\n",
    "    \n",
    "    classification = tf.keras.layers.Dense(2, activation=\"sigmoid\", name=\"classification_layer\")(hidden_2)\n",
    "    classification_model = tf.keras.Model(inputs=[inputs], outputs=[classification])\n",
    "    \n",
    "    classification_model.compile(optimizer=tf.keras.optimizers.Adam(learning_rate=learning_rate),\n",
    "                                 loss=tf.keras.losses.SparseCategoricalCrossentropy(from_logits=False), \n",
    "                                 metrics=\"accuracy\")\n",
    "    \n",
    "    return classification_model"
   ]
  },
  {
   "cell_type": "code",
   "execution_count": 27,
   "id": "e6062567",
   "metadata": {},
   "outputs": [],
   "source": [
    "model = create_model()"
   ]
  },
  {
   "cell_type": "code",
   "execution_count": 28,
   "id": "8d22dcc4",
   "metadata": {},
   "outputs": [
    {
     "name": "stdout",
     "output_type": "stream",
     "text": [
      "Epoch 1/20\n",
      " 5/34 [===>..........................] - ETA: 0s - loss: 0.7055 - accuracy: 0.4375"
     ]
    },
    {
     "name": "stderr",
     "output_type": "stream",
     "text": [
      "/Users/johngalvin/miniforge3/lib/python3.9/site-packages/tensorflow/python/data/ops/structured_function.py:256: UserWarning: Even though the `tf.config.experimental_run_functions_eagerly` option is set, this option does not apply to tf.data functions. To force eager execution of tf.data functions, please use `tf.data.experimental.enable_debug_mode()`.\n",
      "  warnings.warn(\n"
     ]
    },
    {
     "name": "stdout",
     "output_type": "stream",
     "text": [
      "34/34 [==============================] - 1s 28ms/step - loss: 0.6690 - accuracy: 0.6128\n",
      "Epoch 2/20\n",
      "34/34 [==============================] - 1s 28ms/step - loss: 0.6047 - accuracy: 0.7650\n",
      "Epoch 3/20\n",
      "34/34 [==============================] - 1s 28ms/step - loss: 0.5671 - accuracy: 0.7650\n",
      "Epoch 4/20\n",
      "34/34 [==============================] - 1s 28ms/step - loss: 0.5223 - accuracy: 0.7801\n",
      "Epoch 5/20\n",
      "34/34 [==============================] - 1s 28ms/step - loss: 0.4960 - accuracy: 0.7801\n",
      "Epoch 6/20\n",
      "34/34 [==============================] - 1s 28ms/step - loss: 0.4768 - accuracy: 0.7801\n",
      "Epoch 7/20\n",
      "34/34 [==============================] - 1s 28ms/step - loss: 0.4677 - accuracy: 0.7857\n",
      "Epoch 8/20\n",
      "34/34 [==============================] - 1s 28ms/step - loss: 0.4582 - accuracy: 0.7801\n",
      "Epoch 9/20\n",
      "34/34 [==============================] - 1s 29ms/step - loss: 0.4513 - accuracy: 0.7932\n",
      "Epoch 10/20\n",
      "34/34 [==============================] - 1s 29ms/step - loss: 0.4505 - accuracy: 0.7857\n",
      "Epoch 11/20\n",
      "34/34 [==============================] - 1s 29ms/step - loss: 0.4474 - accuracy: 0.7914\n",
      "Epoch 12/20\n",
      "34/34 [==============================] - 1s 28ms/step - loss: 0.4494 - accuracy: 0.7932\n",
      "Epoch 13/20\n",
      "34/34 [==============================] - 1s 28ms/step - loss: 0.4508 - accuracy: 0.7895\n",
      "Epoch 14/20\n",
      "34/34 [==============================] - 1s 28ms/step - loss: 0.4457 - accuracy: 0.7914\n",
      "Epoch 15/20\n",
      "34/34 [==============================] - 1s 28ms/step - loss: 0.4366 - accuracy: 0.7951\n",
      "Epoch 16/20\n",
      "34/34 [==============================] - 1s 29ms/step - loss: 0.4411 - accuracy: 0.7932\n",
      "Epoch 17/20\n",
      "34/34 [==============================] - 1s 29ms/step - loss: 0.4473 - accuracy: 0.7895\n",
      "Epoch 18/20\n",
      "34/34 [==============================] - 1s 29ms/step - loss: 0.4436 - accuracy: 0.7876\n",
      "Epoch 19/20\n",
      "34/34 [==============================] - 1s 28ms/step - loss: 0.4395 - accuracy: 0.7895\n",
      "Epoch 20/20\n",
      "34/34 [==============================] - 1s 28ms/step - loss: 0.4392 - accuracy: 0.7914\n"
     ]
    }
   ],
   "source": [
    "history = model.fit(X_resampled,\n",
    "                    y_resampled,\n",
    "                    batch_size=16,\n",
    "                    epochs=20)"
   ]
  },
  {
   "cell_type": "code",
   "execution_count": 29,
   "id": "18d0930b",
   "metadata": {},
   "outputs": [
    {
     "data": {
      "image/png": "[encoded data removed]",
      "text/plain": [
       "<Figure size 432x288 with 1 Axes>"
      ]
     },
     "metadata": {
      "needs_background": "light"
     },
     "output_type": "display_data"
    }
   ],
   "source": [
    "# Visualize loss curve\n",
    "\n",
    "losses = history.history[\"loss\"]\n",
    "plt.plot(losses)\n",
    "plt.xlabel(\"Training Step\")\n",
    "plt.ylabel(\"Loss\")\n",
    "plt.title(\"Training Loss\")\n",
    "plt.show()"
   ]
  },
  {
   "cell_type": "code",
   "execution_count": 30,
   "id": "869fd1c6",
   "metadata": {},
   "outputs": [
    {
     "name": "stdout",
     "output_type": "stream",
     "text": [
      "4/4 [==============================] - 0s 10ms/step - loss: 0.4891 - accuracy: 0.7374\n"
     ]
    },
    {
     "data": {
      "text/plain": [
       "[0.4891437292098999, 0.7373737096786499]"
      ]
     },
     "execution_count": 30,
     "metadata": {},
     "output_type": "execute_result"
    }
   ],
   "source": [
    "model.evaluate(X_test, y_test)"
   ]
  },
  {
   "cell_type": "code",
   "execution_count": 31,
   "id": "ab799e82",
   "metadata": {},
   "outputs": [
    {
     "name": "stdout",
     "output_type": "stream",
     "text": [
      "4/4 [==============================] - 0s 4ms/step\n"
     ]
    },
    {
     "data": {
      "text/plain": [
       "array([[0.77603734, 0.23016505],\n",
       "       [0.49900967, 0.54025495],\n",
       "       [0.4138175 , 0.6206088 ],\n",
       "       [0.85008126, 0.15593433],\n",
       "       [0.37386608, 0.66032463],\n",
       "       [0.3645603 , 0.6602449 ],\n",
       "       [0.5543312 , 0.47125974],\n",
       "       [0.6066308 , 0.4270262 ],\n",
       "       [0.8550956 , 0.1453831 ],\n",
       "       [0.8171459 , 0.19049555],\n",
       "       [0.50798565, 0.5166798 ],\n",
       "       [0.47653708, 0.55115294],\n",
       "       [0.5600483 , 0.4664184 ],\n",
       "       [0.8487889 , 0.1475066 ],\n",
       "       [0.4093537 , 0.62439656],\n",
       "       [0.8251321 , 0.1680773 ],\n",
       "       [0.39258134, 0.6512123 ],\n",
       "       [0.89555824, 0.10634004],\n",
       "       [0.5386116 , 0.49279517],\n",
       "       [0.4937107 , 0.53507346],\n",
       "       [0.51616716, 0.52222216],\n",
       "       [0.8877597 , 0.11595295],\n",
       "       [0.40444088, 0.6346134 ],\n",
       "       [0.8115865 , 0.18836631],\n",
       "       [0.89411294, 0.10666152],\n",
       "       [0.8864143 , 0.11820167],\n",
       "       [0.74569297, 0.2615231 ],\n",
       "       [0.369167  , 0.67469823],\n",
       "       [0.8948425 , 0.10672133],\n",
       "       [0.8951156 , 0.10636437],\n",
       "       [0.43388933, 0.59496105],\n",
       "       [0.83492357, 0.16391632],\n",
       "       [0.5903771 , 0.4420494 ],\n",
       "       [0.37225473, 0.6593746 ],\n",
       "       [0.30207002, 0.7300329 ],\n",
       "       [0.83049655, 0.16693427],\n",
       "       [0.8874598 , 0.11733711],\n",
       "       [0.8843883 , 0.11831087],\n",
       "       [0.46620193, 0.5661214 ],\n",
       "       [0.28863072, 0.7416816 ],\n",
       "       [0.8504303 , 0.1464604 ],\n",
       "       [0.45232832, 0.5886455 ],\n",
       "       [0.8703083 , 0.1319758 ],\n",
       "       [0.45775104, 0.5802403 ],\n",
       "       [0.49323243, 0.5473912 ],\n",
       "       [0.85654134, 0.14425565],\n",
       "       [0.81077826, 0.18615517],\n",
       "       [0.8504996 , 0.1464372 ],\n",
       "       [0.32809868, 0.71233344],\n",
       "       [0.3817684 , 0.64126784],\n",
       "       [0.8738988 , 0.13079144],\n",
       "       [0.5157477 , 0.5019587 ],\n",
       "       [0.56933504, 0.46430665],\n",
       "       [0.52061296, 0.51827425],\n",
       "       [0.88452524, 0.11749475],\n",
       "       [0.5299662 , 0.5022965 ],\n",
       "       [0.39448595, 0.64760965],\n",
       "       [0.41826862, 0.60883564],\n",
       "       [0.3360847 , 0.6995205 ],\n",
       "       [0.77221984, 0.2346739 ],\n",
       "       [0.56371707, 0.4466707 ],\n",
       "       [0.86341584, 0.13938046],\n",
       "       [0.5323859 , 0.50015634],\n",
       "       [0.3492867 , 0.67548454],\n",
       "       [0.30575722, 0.72631925],\n",
       "       [0.83109206, 0.16669635],\n",
       "       [0.47525677, 0.55455583],\n",
       "       [0.85514367, 0.1449696 ],\n",
       "       [0.35456896, 0.6861211 ],\n",
       "       [0.34807506, 0.6978837 ],\n",
       "       [0.36185712, 0.67640805],\n",
       "       [0.4928539 , 0.54227626],\n",
       "       [0.4275478 , 0.6146112 ],\n",
       "       [0.52189505, 0.5042944 ],\n",
       "       [0.6057906 , 0.4244555 ],\n",
       "       [0.3568784 , 0.6666532 ],\n",
       "       [0.4462949 , 0.5964288 ],\n",
       "       [0.3904389 , 0.648733  ],\n",
       "       [0.79684466, 0.20931529],\n",
       "       [0.7418188 , 0.26196072],\n",
       "       [0.8957625 , 0.10561487],\n",
       "       [0.4884975 , 0.55232745],\n",
       "       [0.8321454 , 0.16632842],\n",
       "       [0.788694  , 0.20808156],\n",
       "       [0.39461532, 0.6497203 ],\n",
       "       [0.49344978, 0.5421844 ],\n",
       "       [0.28603834, 0.74626803],\n",
       "       [0.34627149, 0.6853546 ],\n",
       "       [0.30917746, 0.72048014],\n",
       "       [0.84077156, 0.16859189],\n",
       "       [0.3235011 , 0.71394515],\n",
       "       [0.37533078, 0.6519705 ],\n",
       "       [0.8553906 , 0.14490439],\n",
       "       [0.8088343 , 0.18818572],\n",
       "       [0.8833729 , 0.1188286 ],\n",
       "       [0.4473095 , 0.59204674],\n",
       "       [0.77731144, 0.23477751],\n",
       "       [0.9010254 , 0.10495532],\n",
       "       [0.4756288 , 0.554685  ]], dtype=float32)"
      ]
     },
     "execution_count": 31,
     "metadata": {},
     "output_type": "execute_result"
    }
   ],
   "source": [
    "preds = model.predict(X_test)\n",
    "preds"
   ]
  },
  {
   "cell_type": "code",
   "execution_count": null,
   "id": "c3b0066e",
   "metadata": {},
   "outputs": [],
   "source": []
  }
 ],
 "metadata": {
  "kernelspec": {
   "display_name": "Python 3 (ipykernel)",
   "language": "python",
   "name": "python3"
  },
  "language_info": {
   "codemirror_mode": {
    "name": "ipython",
    "version": 3
   },
   "file_extension": ".py",
   "mimetype": "text/x-python",
   "name": "python",
   "nbconvert_exporter": "python",
   "pygments_lexer": "ipython3",
   "version": "3.9.7"
  }
 },
 "nbformat": 4,
 "nbformat_minor": 5
}
