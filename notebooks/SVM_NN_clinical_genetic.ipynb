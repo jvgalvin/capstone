{
 "cells": [
  {
   "cell_type": "markdown",
   "id": "d5b258a1",
   "metadata": {},
   "source": [
    "# Support Vector Classifier"
   ]
  },
  {
   "cell_type": "code",
   "execution_count": 5,
   "id": "010e39d5",
   "metadata": {},
   "outputs": [],
   "source": [
    "import pandas as pd\n",
    "import numpy as np\n",
    "\n",
    "from sklearn.model_selection import train_test_split\n",
    "from sklearn.preprocessing import LabelEncoder, MinMaxScaler\n",
    "from sklearn.svm import SVC\n",
    "from sklearn.metrics import classification_report\n",
    "from sklearn.model_selection import GridSearchCV\n",
    "from imblearn.over_sampling import SMOTE\n",
    "\n",
    "pd.set_option('display.max_columns', 500)"
   ]
  },
  {
   "cell_type": "code",
   "execution_count": 39,
   "id": "0bfec942",
   "metadata": {},
   "outputs": [],
   "source": [
    "df = pd.read_csv('../data/clinical_training_data_with_medhist_famhist.csv')\n",
    "\n",
    "# For converting categorical variables to ints\n",
    "label_encoder = LabelEncoder()\n",
    "scaler = MinMaxScaler()\n",
    "\n",
    "# Split features / target\n",
    "X = df.drop(columns=['AD_dx_in_5_yrs'])\n",
    "y = df['AD_dx_in_5_yrs']\n",
    "\n",
    "# Encode features\n",
    "X[\"Diagnosis_at_Baseline\"] = label_encoder.fit_transform(X[\"Diagnosis_at_Baseline\"])\n",
    "X[\"Gender\"] = label_encoder.fit_transform(X[\"Gender\"])\n",
    "X[\"Ethnicity\"] = label_encoder.fit_transform(X[\"Ethnicity\"])\n",
    "X[\"Race\"] = label_encoder.fit_transform(X[\"Race\"])\n",
    "\n",
    "# Handle NaN\n",
    "X[\"Family_History_of_AD\"] = X[\"Family_History_of_AD\"].fillna(0)\n",
    "X[\"Family_History_of_Dementia\"] = X[\"Family_History_of_Dementia\"].fillna(0)\n",
    "\n",
    "# Split data\n",
    "X_train, X_test, y_train, y_test = train_test_split(X, y, test_size=0.2, random_state=42)\n",
    "\n",
    "# Scale data\n",
    "X_train = scaler.fit_transform(X_train)\n",
    "X_test = scaler.transform(X_test)\n",
    "\n",
    "# SMOTE\n",
    "smote = SMOTE(sampling_strategy=\"auto\")\n",
    "X_resampled, y_resampled = smote.fit_resample(X_train, y_train)\n",
    "\n",
    "# Instantiate Model\n",
    "svc = SVC()"
   ]
  },
  {
   "cell_type": "markdown",
   "id": "78e4a533",
   "metadata": {},
   "source": [
    "### Grid Search"
   ]
  },
  {
   "cell_type": "code",
   "execution_count": 22,
   "id": "301a1695",
   "metadata": {},
   "outputs": [],
   "source": [
    "# Grid search\n",
    "param_grid = {\n",
    "    \"C\": [0.1, 1, 10],                \n",
    "    \"kernel\": [\"linear\", \"poly\", \"rbf\", \"sigmoid\"],\n",
    "    \"gamma\": [\"scale\", \"auto\", 0.1],\n",
    "    \"degree\": [1, 2, 3, 4, 5]}"
   ]
  },
  {
   "cell_type": "code",
   "execution_count": 23,
   "id": "ae75dfd5",
   "metadata": {},
   "outputs": [],
   "source": [
    "grid_search = GridSearchCV(estimator=svc, param_grid=param_grid, cv=5, scoring=\"accuracy\")"
   ]
  },
  {
   "cell_type": "code",
   "execution_count": 24,
   "id": "d9f0223a",
   "metadata": {},
   "outputs": [
    {
     "data": {
      "text/plain": [
       "GridSearchCV(cv=5, estimator=SVC(),\n",
       "             param_grid={'C': [0.1, 1, 10], 'degree': [1, 2, 3, 4, 5],\n",
       "                         'gamma': ['scale', 'auto', 0.1],\n",
       "                         'kernel': ['linear', 'poly', 'rbf', 'sigmoid']},\n",
       "             scoring='accuracy')"
      ]
     },
     "execution_count": 24,
     "metadata": {},
     "output_type": "execute_result"
    }
   ],
   "source": [
    "grid_search.fit(X_resampled, y_resampled)"
   ]
  },
  {
   "cell_type": "code",
   "execution_count": 25,
   "id": "c27a7e53",
   "metadata": {},
   "outputs": [
    {
     "name": "stdout",
     "output_type": "stream",
     "text": [
      "Best Parameters: {'C': 1, 'degree': 4, 'gamma': 'scale', 'kernel': 'poly'}\n",
      "Best Accuracy: 0.8309717974855589\n"
     ]
    }
   ],
   "source": [
    "# Get the best parameters and best accuracy score\n",
    "best_params = grid_search.best_params_\n",
    "best_score = grid_search.best_score_\n",
    "\n",
    "# Print the best parameters and best score\n",
    "print(\"Best Parameters:\", best_params)\n",
    "print(\"Best Accuracy:\", best_score)"
   ]
  },
  {
   "cell_type": "markdown",
   "id": "c71f56d0",
   "metadata": {},
   "source": [
    "### Train with Best Parameters"
   ]
  },
  {
   "cell_type": "code",
   "execution_count": 26,
   "id": "d5e014c2",
   "metadata": {},
   "outputs": [
    {
     "data": {
      "text/plain": [
       "SVC(C=1, degree=4, kernel='poly')"
      ]
     },
     "execution_count": 26,
     "metadata": {},
     "output_type": "execute_result"
    }
   ],
   "source": [
    "# Instantiate and fit model\n",
    "svc = SVC(C=1, degree=4, gamma=\"scale\", kernel=\"poly\")\n",
    "\n",
    "svc.fit(X_resampled, y_resampled)"
   ]
  },
  {
   "cell_type": "code",
   "execution_count": 27,
   "id": "49d30a1e",
   "metadata": {},
   "outputs": [
    {
     "name": "stdout",
     "output_type": "stream",
     "text": [
      "              precision    recall  f1-score   support\n",
      "\n",
      "           0       0.84      0.86      0.85        72\n",
      "           1       0.60      0.56      0.58        27\n",
      "\n",
      "    accuracy                           0.78        99\n",
      "   macro avg       0.72      0.71      0.71        99\n",
      "weighted avg       0.77      0.78      0.78        99\n",
      "\n"
     ]
    }
   ],
   "source": [
    "# Assess\n",
    "y_pred = svc.predict(X_test)\n",
    "\n",
    "# evaluate predictions\n",
    "print(classification_report(y_test, y_pred))"
   ]
  },
  {
   "cell_type": "markdown",
   "id": "bc096cbc",
   "metadata": {},
   "source": [
    "# Neural Network"
   ]
  },
  {
   "cell_type": "code",
   "execution_count": 28,
   "id": "7aa89c8f",
   "metadata": {},
   "outputs": [],
   "source": [
    "import pandas as pd\n",
    "import numpy as np\n",
    "import tensorflow as tf\n",
    "import matplotlib.pyplot as plt\n",
    "%matplotlib inline\n",
    "\n",
    "from sklearn.model_selection import train_test_split\n",
    "from sklearn.preprocessing import LabelEncoder, MinMaxScaler\n",
    "from imblearn.over_sampling import SMOTE\n",
    "\n",
    "tf.config.run_functions_eagerly(True)"
   ]
  },
  {
   "cell_type": "code",
   "execution_count": 74,
   "id": "9502d2c3",
   "metadata": {},
   "outputs": [],
   "source": [
    "df = pd.read_csv('../data/clinical_training_data_with_medhist_famhist.csv')\n",
    "\n",
    "# For converting categorical variables to ints\n",
    "label_encoder = LabelEncoder()\n",
    "scaler = MinMaxScaler()\n",
    "\n",
    "# Split features / target\n",
    "X = df.drop(columns=['AD_dx_in_5_yrs'])\n",
    "y = df['AD_dx_in_5_yrs']\n",
    "\n",
    "# Encode features\n",
    "X[\"Diagnosis_at_Baseline\"] = label_encoder.fit_transform(X[\"Diagnosis_at_Baseline\"])\n",
    "X[\"Gender\"] = label_encoder.fit_transform(X[\"Gender\"])\n",
    "X[\"Ethnicity\"] = label_encoder.fit_transform(X[\"Ethnicity\"])\n",
    "X[\"Race\"] = label_encoder.fit_transform(X[\"Race\"])\n",
    "\n",
    "# Handle NaN\n",
    "X[\"Family_History_of_AD\"] = X[\"Family_History_of_AD\"].fillna(0)\n",
    "X[\"Family_History_of_Dementia\"] = X[\"Family_History_of_Dementia\"].fillna(0)\n",
    "\n",
    "# Split data\n",
    "X_train, X_test, y_train, y_test = train_test_split(X, y, test_size=0.2, random_state=42)\n",
    "\n",
    "# Scale data\n",
    "X_train = scaler.fit_transform(X_train)\n",
    "X_test = scaler.transform(X_test)\n",
    "\n",
    "# SMOTE\n",
    "smote = SMOTE(sampling_strategy=\"auto\")\n",
    "X_resampled, y_resampled = smote.fit_resample(X_train, y_train)"
   ]
  },
  {
   "cell_type": "code",
   "execution_count": 75,
   "id": "923e45f0",
   "metadata": {},
   "outputs": [],
   "source": [
    "IN_FEATURES = X_train[0].shape[0]"
   ]
  },
  {
   "cell_type": "code",
   "execution_count": 76,
   "id": "43e9baf9",
   "metadata": {},
   "outputs": [],
   "source": [
    "def create_model(dropout=0.3, learning_rate=0.0001):\n",
    "    \n",
    "    \"\"\"Builds classification model\"\"\"\n",
    "    \n",
    "    model = tf.keras.Sequential()\n",
    "    inputs = tf.keras.layers.Input(shape=(IN_FEATURES,), name=\"input_layer\") # (Batch, num_features)\n",
    "    \n",
    "    hidden_1 = tf.keras.layers.Dense(512, activation=\"relu\", name=\"hidden_1\")(inputs)\n",
    "    hidden_1 = tf.keras.layers.Dropout(dropout)(hidden_1)\n",
    "    hidden_2 = tf.keras.layers.Dense(256, activation=\"relu\", name=\"hidden_2\")(hidden_1)\n",
    "    hidden_2 = tf.keras.layers.Dropout(dropout)(hidden_2)\n",
    "    \n",
    "    classification = tf.keras.layers.Dense(1, activation=\"sigmoid\", name=\"classification_layer\")(hidden_2)\n",
    "    classification_model = tf.keras.Model(inputs=[inputs], outputs=[classification])\n",
    "    \n",
    "    classification_model.compile(optimizer=tf.keras.optimizers.Adam(learning_rate=learning_rate),\n",
    "                                 loss=tf.keras.losses.BinaryCrossentropy(from_logits=True), \n",
    "                                 metrics=\"accuracy\")\n",
    "\n",
    "    return classification_model"
   ]
  },
  {
   "cell_type": "code",
   "execution_count": 77,
   "id": "e6062567",
   "metadata": {},
   "outputs": [],
   "source": [
    "model = create_model()"
   ]
  },
  {
   "cell_type": "code",
   "execution_count": 78,
   "id": "8d22dcc4",
   "metadata": {},
   "outputs": [
    {
     "name": "stdout",
     "output_type": "stream",
     "text": [
      "Epoch 1/20\n",
      " 4/34 [==>...........................] - ETA: 0s - loss: 0.6900 - accuracy: 0.6094"
     ]
    },
    {
     "name": "stderr",
     "output_type": "stream",
     "text": [
      "/Users/johngalvin/miniforge3/lib/python3.9/site-packages/tensorflow/python/data/ops/structured_function.py:256: UserWarning: Even though the `tf.config.experimental_run_functions_eagerly` option is set, this option does not apply to tf.data functions. To force eager execution of tf.data functions, please use `tf.data.experimental.enable_debug_mode()`.\n",
      "  warnings.warn(\n",
      "/Users/johngalvin/miniforge3/lib/python3.9/site-packages/keras/backend.py:5676: UserWarning: \"`binary_crossentropy` received `from_logits=True`, but the `output` argument was produced by a Sigmoid activation and thus does not represent logits. Was this intended?\n",
      "  output, from_logits = _get_logits(\n"
     ]
    },
    {
     "name": "stdout",
     "output_type": "stream",
     "text": [
      "34/34 [==============================] - 1s 21ms/step - loss: 0.6960 - accuracy: 0.5294\n",
      "Epoch 2/20\n",
      "34/34 [==============================] - 1s 21ms/step - loss: 0.6635 - accuracy: 0.6342\n",
      "Epoch 3/20\n",
      "34/34 [==============================] - 1s 22ms/step - loss: 0.6265 - accuracy: 0.7298\n",
      "Epoch 4/20\n",
      "34/34 [==============================] - 1s 22ms/step - loss: 0.6017 - accuracy: 0.7408\n",
      "Epoch 5/20\n",
      "34/34 [==============================] - 1s 23ms/step - loss: 0.5671 - accuracy: 0.7684\n",
      "Epoch 6/20\n",
      "34/34 [==============================] - 1s 23ms/step - loss: 0.5340 - accuracy: 0.7923\n",
      "Epoch 7/20\n",
      "34/34 [==============================] - 1s 22ms/step - loss: 0.5083 - accuracy: 0.7941\n",
      "Epoch 8/20\n",
      "34/34 [==============================] - 1s 23ms/step - loss: 0.4860 - accuracy: 0.7996\n",
      "Epoch 9/20\n",
      "34/34 [==============================] - 1s 22ms/step - loss: 0.4654 - accuracy: 0.8125\n",
      "Epoch 10/20\n",
      "34/34 [==============================] - 1s 21ms/step - loss: 0.4501 - accuracy: 0.8015\n",
      "Epoch 11/20\n",
      "34/34 [==============================] - 1s 21ms/step - loss: 0.4433 - accuracy: 0.8070\n",
      "Epoch 12/20\n",
      "34/34 [==============================] - 1s 21ms/step - loss: 0.4293 - accuracy: 0.8180\n",
      "Epoch 13/20\n",
      "34/34 [==============================] - 1s 21ms/step - loss: 0.4291 - accuracy: 0.7996\n",
      "Epoch 14/20\n",
      "34/34 [==============================] - 1s 21ms/step - loss: 0.4087 - accuracy: 0.8217\n",
      "Epoch 15/20\n",
      "34/34 [==============================] - 1s 21ms/step - loss: 0.4122 - accuracy: 0.8088\n",
      "Epoch 16/20\n",
      "34/34 [==============================] - 1s 22ms/step - loss: 0.4079 - accuracy: 0.8015\n",
      "Epoch 17/20\n",
      "34/34 [==============================] - 1s 21ms/step - loss: 0.4034 - accuracy: 0.8143\n",
      "Epoch 18/20\n",
      "34/34 [==============================] - 1s 21ms/step - loss: 0.3963 - accuracy: 0.8327\n",
      "Epoch 19/20\n",
      "34/34 [==============================] - 1s 21ms/step - loss: 0.3904 - accuracy: 0.8217\n",
      "Epoch 20/20\n",
      "34/34 [==============================] - 1s 21ms/step - loss: 0.3946 - accuracy: 0.8309\n"
     ]
    }
   ],
   "source": [
    "history = model.fit(X_resampled,\n",
    "                    y_resampled,\n",
    "                    batch_size=16,\n",
    "                    epochs=20)"
   ]
  },
  {
   "cell_type": "code",
   "execution_count": 79,
   "id": "18d0930b",
   "metadata": {},
   "outputs": [
    {
     "data": {
      "image/png": "[encoded data removed]",
      "text/plain": [
       "<Figure size 432x288 with 1 Axes>"
      ]
     },
     "metadata": {
      "needs_background": "light"
     },
     "output_type": "display_data"
    }
   ],
   "source": [
    "# Visualize loss curve\n",
    "\n",
    "losses = history.history[\"loss\"]\n",
    "plt.plot(losses)\n",
    "plt.xlabel(\"Training Step\")\n",
    "plt.ylabel(\"Loss\")\n",
    "plt.title(\"Training Loss\")\n",
    "plt.show()"
   ]
  },
  {
   "cell_type": "code",
   "execution_count": 80,
   "id": "8f7e941c",
   "metadata": {},
   "outputs": [
    {
     "data": {
      "image/png": "[encoded data removed]",
      "text/plain": [
       "<Figure size 432x288 with 1 Axes>"
      ]
     },
     "metadata": {
      "needs_background": "light"
     },
     "output_type": "display_data"
    }
   ],
   "source": [
    "# Visualize accuracy curve\n",
    "\n",
    "losses = history.history[\"accuracy\"]\n",
    "plt.plot(losses)\n",
    "plt.xlabel(\"Training Step\")\n",
    "plt.ylabel(\"Accuracy\")\n",
    "plt.title(\"Training Accuracy\")\n",
    "plt.show()"
   ]
  },
  {
   "cell_type": "code",
   "execution_count": 81,
   "id": "869fd1c6",
   "metadata": {},
   "outputs": [
    {
     "name": "stdout",
     "output_type": "stream",
     "text": [
      "4/4 [==============================] - 0s 9ms/step - loss: 0.4467 - accuracy: 0.7576\n"
     ]
    },
    {
     "data": {
      "text/plain": [
       "[0.44667932391166687, 0.7575757503509521]"
      ]
     },
     "execution_count": 81,
     "metadata": {},
     "output_type": "execute_result"
    }
   ],
   "source": [
    "model.evaluate(X_test, y_test)"
   ]
  },
  {
   "cell_type": "code",
   "execution_count": 73,
   "id": "ab799e82",
   "metadata": {},
   "outputs": [
    {
     "name": "stdout",
     "output_type": "stream",
     "text": [
      "4/4 [==============================] - 0s 5ms/step\n"
     ]
    },
    {
     "data": {
      "text/plain": [
       "array([[0.83025366, 0.13173184],\n",
       "       [0.58554125, 0.30972934],\n",
       "       [0.34647143, 0.5853814 ],\n",
       "       [0.874224  , 0.07530349],\n",
       "       [0.32720515, 0.65340126],\n",
       "       [0.89023155, 0.07198436],\n",
       "       [0.5215387 , 0.43603942],\n",
       "       [0.5885729 , 0.3099296 ],\n",
       "       [0.4588393 , 0.46300972],\n",
       "       [0.7707359 , 0.18807888],\n",
       "       [0.59988165, 0.3531658 ],\n",
       "       [0.5400775 , 0.41626772],\n",
       "       [0.86411464, 0.09744453],\n",
       "       [0.7802302 , 0.1625373 ],\n",
       "       [0.39044634, 0.6114196 ],\n",
       "       [0.8723717 , 0.07677459],\n",
       "       [0.4527714 , 0.5141437 ],\n",
       "       [0.859606  , 0.08936518],\n",
       "       [0.49396205, 0.4999123 ],\n",
       "       [0.517729  , 0.47749078],\n",
       "       [0.48128745, 0.49076828],\n",
       "       [0.82961124, 0.12068537],\n",
       "       [0.31975636, 0.7169026 ],\n",
       "       [0.8579848 , 0.10239985],\n",
       "       [0.875369  , 0.08542534],\n",
       "       [0.87493277, 0.0879528 ],\n",
       "       [0.7849036 , 0.1510566 ],\n",
       "       [0.36504632, 0.56961733],\n",
       "       [0.8692314 , 0.07882469],\n",
       "       [0.82231504, 0.10798053],\n",
       "       [0.45079836, 0.48639172],\n",
       "       [0.88474584, 0.07579481],\n",
       "       [0.5043651 , 0.45835772],\n",
       "       [0.4096549 , 0.53418446],\n",
       "       [0.3440831 , 0.5992946 ],\n",
       "       [0.8117594 , 0.13037702],\n",
       "       [0.45371512, 0.48166692],\n",
       "       [0.4735952 , 0.5160066 ],\n",
       "       [0.42499137, 0.5595162 ],\n",
       "       [0.4738962 , 0.4672956 ],\n",
       "       [0.83826154, 0.10678896],\n",
       "       [0.88337874, 0.07707526],\n",
       "       [0.8287179 , 0.12832676],\n",
       "       [0.7828606 , 0.16985536],\n",
       "       [0.47607958, 0.48172075],\n",
       "       [0.8599266 , 0.09328518],\n",
       "       [0.2589701 , 0.7396346 ],\n",
       "       [0.86995435, 0.09983286],\n",
       "       [0.30662748, 0.6341102 ],\n",
       "       [0.80283666, 0.14229567],\n",
       "       [0.8477912 , 0.12715419],\n",
       "       [0.38822964, 0.5877551 ],\n",
       "       [0.5129003 , 0.47566462],\n",
       "       [0.48604265, 0.449542  ],\n",
       "       [0.856253  , 0.09421212],\n",
       "       [0.56389093, 0.42715377],\n",
       "       [0.50794756, 0.44534257],\n",
       "       [0.5320414 , 0.4237472 ],\n",
       "       [0.49735275, 0.46494257],\n",
       "       [0.58247113, 0.38093308],\n",
       "       [0.62468624, 0.35533422],\n",
       "       [0.86846566, 0.08689052],\n",
       "       [0.87522054, 0.08088011],\n",
       "       [0.85403955, 0.11161389],\n",
       "       [0.31790945, 0.6552494 ],\n",
       "       [0.84304273, 0.0970033 ],\n",
       "       [0.8373783 , 0.12693533],\n",
       "       [0.86014384, 0.11609942],\n",
       "       [0.5086657 , 0.45267093],\n",
       "       [0.4928817 , 0.4555844 ],\n",
       "       [0.4620984 , 0.49222976],\n",
       "       [0.3847517 , 0.53506976],\n",
       "       [0.4738615 , 0.49948937],\n",
       "       [0.47534204, 0.49519825],\n",
       "       [0.4868531 , 0.5253494 ],\n",
       "       [0.8617281 , 0.09074289],\n",
       "       [0.8481534 , 0.08782729],\n",
       "       [0.45597923, 0.4956952 ],\n",
       "       [0.7152441 , 0.21822909],\n",
       "       [0.5197577 , 0.38920656],\n",
       "       [0.8424549 , 0.10308829],\n",
       "       [0.41136312, 0.5871936 ],\n",
       "       [0.8266522 , 0.1351075 ],\n",
       "       [0.83227426, 0.11657538],\n",
       "       [0.45113826, 0.5485035 ],\n",
       "       [0.5500618 , 0.42744341],\n",
       "       [0.5478062 , 0.42079186],\n",
       "       [0.4119155 , 0.61079496],\n",
       "       [0.30733725, 0.6887519 ],\n",
       "       [0.32957515, 0.6494346 ],\n",
       "       [0.43818069, 0.60251564],\n",
       "       [0.34428367, 0.6609213 ],\n",
       "       [0.8511733 , 0.09052232],\n",
       "       [0.84938633, 0.12406872],\n",
       "       [0.8669202 , 0.08580594],\n",
       "       [0.4026048 , 0.5519538 ],\n",
       "       [0.8576123 , 0.09515242],\n",
       "       [0.8820035 , 0.07992452],\n",
       "       [0.51706356, 0.43854004]], dtype=float32)"
      ]
     },
     "execution_count": 73,
     "metadata": {},
     "output_type": "execute_result"
    }
   ],
   "source": [
    "preds = model.predict(X_test)\n",
    "preds"
   ]
  },
  {
   "cell_type": "code",
   "execution_count": null,
   "id": "c3b0066e",
   "metadata": {},
   "outputs": [],
   "source": []
  }
 ],
 "metadata": {
  "kernelspec": {
   "display_name": "Python 3 (ipykernel)",
   "language": "python",
   "name": "python3"
  },
  "language_info": {
   "codemirror_mode": {
    "name": "ipython",
    "version": 3
   },
   "file_extension": ".py",
   "mimetype": "text/x-python",
   "name": "python",
   "nbconvert_exporter": "python",
   "pygments_lexer": "ipython3",
   "version": "3.9.7"
  }
 },
 "nbformat": 4,
 "nbformat_minor": 5
}
