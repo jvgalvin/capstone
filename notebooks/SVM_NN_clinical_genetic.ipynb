{
 "cells": [
  {
   "cell_type": "markdown",
   "id": "d5b258a1",
   "metadata": {},
   "source": [
    "# Support Vector Classifier"
   ]
  },
  {
   "cell_type": "code",
   "execution_count": 1,
   "id": "010e39d5",
   "metadata": {},
   "outputs": [
    {
     "name": "stderr",
     "output_type": "stream",
     "text": [
      "/Users/johngalvin/miniforge3/lib/python3.9/site-packages/scipy/__init__.py:146: UserWarning: A NumPy version >=1.16.5 and <1.23.0 is required for this version of SciPy (detected version 1.24.2\n",
      "  warnings.warn(f\"A NumPy version >={np_minversion} and <{np_maxversion}\"\n"
     ]
    }
   ],
   "source": [
    "import pandas as pd\n",
    "import numpy as np\n",
    "\n",
    "from sklearn.model_selection import train_test_split\n",
    "from sklearn.preprocessing import LabelEncoder, MinMaxScaler\n",
    "from sklearn.svm import SVC\n",
    "from sklearn.metrics import classification_report\n",
    "from sklearn.model_selection import GridSearchCV"
   ]
  },
  {
   "cell_type": "code",
   "execution_count": 2,
   "id": "0bfec942",
   "metadata": {},
   "outputs": [],
   "source": [
    "df = pd.read_csv('../data/clinical_training_data.csv')\n",
    "\n",
    "# For converting categorical variables to ints\n",
    "label_encoder = LabelEncoder()\n",
    "scaler = MinMaxScaler()\n",
    "\n",
    "# Split features / target\n",
    "X = df.drop(columns=['AD_dx_in_5_yrs'])\n",
    "y = df['AD_dx_in_5_yrs']\n",
    "\n",
    "# Encode features\n",
    "X[\"DX.bl\"] = label_encoder.fit_transform(X[\"DX.bl\"])\n",
    "X[\"PTGENDER\"] = label_encoder.fit_transform(X[\"PTGENDER\"])\n",
    "X[\"PTETHCAT\"] = label_encoder.fit_transform(X[\"PTETHCAT\"])\n",
    "X[\"PTRACCAT\"] = label_encoder.fit_transform(X[\"PTRACCAT\"])\n",
    "\n",
    "# Split data\n",
    "X_train, X_test, y_train, y_test = train_test_split(X, y, test_size=0.2, random_state=42)\n",
    "\n",
    "# Scale data\n",
    "X_train = scaler.fit_transform(X_train)\n",
    "X_test = scaler.transform(X_test)\n",
    "\n",
    "# Instantiate Model\n",
    "svc = SVC()"
   ]
  },
  {
   "cell_type": "markdown",
   "id": "78e4a533",
   "metadata": {},
   "source": [
    "### Grid Search"
   ]
  },
  {
   "cell_type": "code",
   "execution_count": 14,
   "id": "301a1695",
   "metadata": {},
   "outputs": [],
   "source": [
    "# Grid search\n",
    "param_grid = {\n",
    "    \"C\": [0.1, 1, 10],                \n",
    "    \"kernel\": [\"linear\", \"poly\", \"rbf\", \"sigmoid\"],\n",
    "    \"gamma\": [\"scale\", \"auto\", 0.1],\n",
    "    \"degree\": [1, 2, 3, 4, 5]}"
   ]
  },
  {
   "cell_type": "code",
   "execution_count": 15,
   "id": "ae75dfd5",
   "metadata": {},
   "outputs": [],
   "source": [
    "grid_search = GridSearchCV(estimator=svc, param_grid=param_grid, cv=5, scoring=\"accuracy\")"
   ]
  },
  {
   "cell_type": "code",
   "execution_count": 16,
   "id": "d9f0223a",
   "metadata": {},
   "outputs": [
    {
     "data": {
      "text/plain": [
       "GridSearchCV(cv=5, estimator=SVC(),\n",
       "             param_grid={'C': [0.1, 1, 10], 'degree': [1, 2, 3, 4, 5],\n",
       "                         'gamma': ['scale', 'auto', 0.1],\n",
       "                         'kernel': ['linear', 'poly', 'rbf', 'sigmoid']},\n",
       "             scoring='accuracy')"
      ]
     },
     "execution_count": 16,
     "metadata": {},
     "output_type": "execute_result"
    }
   ],
   "source": [
    "grid_search.fit(X_train, y_train)"
   ]
  },
  {
   "cell_type": "code",
   "execution_count": 17,
   "id": "c27a7e53",
   "metadata": {},
   "outputs": [
    {
     "name": "stdout",
     "output_type": "stream",
     "text": [
      "Best Parameters: {'C': 0.1, 'degree': 4, 'gamma': 'scale', 'kernel': 'poly'}\n",
      "Best Accuracy: 0.777753164556962\n"
     ]
    }
   ],
   "source": [
    "# Get the best parameters and best accuracy score\n",
    "best_params = grid_search.best_params_\n",
    "best_score = grid_search.best_score_\n",
    "\n",
    "# Print the best parameters and best score\n",
    "print(\"Best Parameters:\", best_params)\n",
    "print(\"Best Accuracy:\", best_score)"
   ]
  },
  {
   "cell_type": "markdown",
   "id": "c71f56d0",
   "metadata": {},
   "source": [
    "### Train with Best Parameters"
   ]
  },
  {
   "cell_type": "code",
   "execution_count": 18,
   "id": "d5e014c2",
   "metadata": {},
   "outputs": [
    {
     "data": {
      "text/plain": [
       "SVC(C=0.1, degree=4, kernel='poly')"
      ]
     },
     "execution_count": 18,
     "metadata": {},
     "output_type": "execute_result"
    }
   ],
   "source": [
    "# Instantiate and fit model\n",
    "svc = SVC(C=0.1, degree=4, gamma=\"scale\", kernel=\"poly\")\n",
    "\n",
    "svc.fit(X_train, y_train)"
   ]
  },
  {
   "cell_type": "code",
   "execution_count": 20,
   "id": "49d30a1e",
   "metadata": {},
   "outputs": [
    {
     "name": "stdout",
     "output_type": "stream",
     "text": [
      "              precision    recall  f1-score   support\n",
      "\n",
      "           0       0.91      0.77      0.84        79\n",
      "           1       0.44      0.70      0.54        20\n",
      "\n",
      "    accuracy                           0.76        99\n",
      "   macro avg       0.67      0.74      0.69        99\n",
      "weighted avg       0.81      0.76      0.78        99\n",
      "\n"
     ]
    }
   ],
   "source": [
    "# Assess\n",
    "y_pred = svc.predict(X_test)\n",
    "\n",
    "# evaluate predictions\n",
    "print(classification_report(y_test, y_pred))"
   ]
  },
  {
   "cell_type": "markdown",
   "id": "bc096cbc",
   "metadata": {},
   "source": [
    "# Neural Network"
   ]
  },
  {
   "cell_type": "code",
   "execution_count": 38,
   "id": "7aa89c8f",
   "metadata": {},
   "outputs": [],
   "source": [
    "import pandas as pd\n",
    "import numpy as np\n",
    "import tensorflow as tf\n",
    "import matplotlib.pyplot as plt\n",
    "%matplotlib inline\n",
    "\n",
    "from sklearn.model_selection import train_test_split\n",
    "from sklearn.preprocessing import LabelEncoder, MinMaxScaler\n",
    "\n",
    "tf.config.run_functions_eagerly(True)"
   ]
  },
  {
   "cell_type": "code",
   "execution_count": 50,
   "id": "9502d2c3",
   "metadata": {},
   "outputs": [],
   "source": [
    "df = pd.read_csv('../data/clinical_training_data.csv')\n",
    "\n",
    "# For converting categorical variables to ints\n",
    "label_encoder = LabelEncoder()\n",
    "scaler = MinMaxScaler()\n",
    "\n",
    "# Split features / target\n",
    "X = df.drop(columns=['AD_dx_in_5_yrs'])\n",
    "y = df['AD_dx_in_5_yrs']\n",
    "\n",
    "# Encode features\n",
    "X[\"DX.bl\"] = label_encoder.fit_transform(X[\"DX.bl\"])\n",
    "X[\"PTGENDER\"] = label_encoder.fit_transform(X[\"PTGENDER\"])\n",
    "X[\"PTETHCAT\"] = label_encoder.fit_transform(X[\"PTETHCAT\"])\n",
    "X[\"PTRACCAT\"] = label_encoder.fit_transform(X[\"PTRACCAT\"])\n",
    "\n",
    "# Split data\n",
    "X_train, X_test, y_train, y_test = train_test_split(X, y, test_size=0.2, random_state=42)\n",
    "\n",
    "# Scale data\n",
    "X_train = scaler.fit_transform(X_train)\n",
    "X_test = scaler.transform(X_test)"
   ]
  },
  {
   "cell_type": "code",
   "execution_count": 51,
   "id": "923e45f0",
   "metadata": {},
   "outputs": [],
   "source": [
    "IN_FEATURES = X_train[0].shape[0]"
   ]
  },
  {
   "cell_type": "code",
   "execution_count": 52,
   "id": "43e9baf9",
   "metadata": {},
   "outputs": [],
   "source": [
    "def create_model(dropout=0.3, learning_rate=0.001):\n",
    "    \n",
    "    \"\"\"Builds classification model\"\"\"\n",
    "    \n",
    "    model = tf.keras.Sequential()\n",
    "    inputs = tf.keras.layers.Input(shape=(IN_FEATURES,), name=\"input_layer\") # (Batch, num_features)\n",
    "    \n",
    "    hidden_1 = tf.keras.layers.Dense(512, activation=\"relu\", name=\"hidden_1\")(inputs)\n",
    "    hidden_1 = tf.keras.layers.Dropout(dropout)(hidden_1)\n",
    "    hidden_2 = tf.keras.layers.Dense(256, activation=\"relu\", name=\"hidden_2\")(hidden_1)\n",
    "    hidden_2 = tf.keras.layers.Dropout(dropout)(hidden_2)\n",
    "    \n",
    "    classification = tf.keras.layers.Dense(2, activation=\"sigmoid\", name=\"classification_layer\")(hidden_2)\n",
    "    classification_model = tf.keras.Model(inputs=[inputs], outputs=[classification])\n",
    "    \n",
    "    classification_model.compile(optimizer=tf.keras.optimizers.Adam(learning_rate=learning_rate),\n",
    "                                 loss=tf.keras.losses.SparseCategoricalCrossentropy(from_logits=False), \n",
    "                                 metrics=\"accuracy\")\n",
    "    \n",
    "    return classification_model"
   ]
  },
  {
   "cell_type": "code",
   "execution_count": 53,
   "id": "e6062567",
   "metadata": {},
   "outputs": [],
   "source": [
    "model = create_model()"
   ]
  },
  {
   "cell_type": "code",
   "execution_count": 54,
   "id": "8d22dcc4",
   "metadata": {},
   "outputs": [
    {
     "name": "stdout",
     "output_type": "stream",
     "text": [
      "Epoch 1/20\n",
      " 4/25 [===>..........................] - ETA: 0s - loss: 0.6348 - accuracy: 0.6406"
     ]
    },
    {
     "name": "stderr",
     "output_type": "stream",
     "text": [
      "/Users/johngalvin/miniforge3/lib/python3.9/site-packages/tensorflow/python/data/ops/structured_function.py:256: UserWarning: Even though the `tf.config.experimental_run_functions_eagerly` option is set, this option does not apply to tf.data functions. To force eager execution of tf.data functions, please use `tf.data.experimental.enable_debug_mode()`.\n",
      "  warnings.warn(\n"
     ]
    },
    {
     "name": "stdout",
     "output_type": "stream",
     "text": [
      "25/25 [==============================] - 1s 21ms/step - loss: 0.5375 - accuracy: 0.6894\n",
      "Epoch 2/20\n",
      "25/25 [==============================] - 1s 21ms/step - loss: 0.4519 - accuracy: 0.7449\n",
      "Epoch 3/20\n",
      "25/25 [==============================] - 1s 21ms/step - loss: 0.4447 - accuracy: 0.7626\n",
      "Epoch 4/20\n",
      "25/25 [==============================] - 1s 21ms/step - loss: 0.4412 - accuracy: 0.7551\n",
      "Epoch 5/20\n",
      "25/25 [==============================] - 1s 21ms/step - loss: 0.4331 - accuracy: 0.7626\n",
      "Epoch 6/20\n",
      "25/25 [==============================] - 1s 21ms/step - loss: 0.4263 - accuracy: 0.7929\n",
      "Epoch 7/20\n",
      "25/25 [==============================] - 1s 21ms/step - loss: 0.4287 - accuracy: 0.7652\n",
      "Epoch 8/20\n",
      "25/25 [==============================] - 1s 21ms/step - loss: 0.4274 - accuracy: 0.7677\n",
      "Epoch 9/20\n",
      "25/25 [==============================] - 1s 21ms/step - loss: 0.4345 - accuracy: 0.7803\n",
      "Epoch 10/20\n",
      "25/25 [==============================] - 1s 21ms/step - loss: 0.4392 - accuracy: 0.7500\n",
      "Epoch 11/20\n",
      "25/25 [==============================] - 1s 21ms/step - loss: 0.4154 - accuracy: 0.7803\n",
      "Epoch 12/20\n",
      "25/25 [==============================] - 1s 21ms/step - loss: 0.4112 - accuracy: 0.7955\n",
      "Epoch 13/20\n",
      "25/25 [==============================] - 1s 21ms/step - loss: 0.4160 - accuracy: 0.7828\n",
      "Epoch 14/20\n",
      "25/25 [==============================] - 1s 21ms/step - loss: 0.4175 - accuracy: 0.7727\n",
      "Epoch 15/20\n",
      "25/25 [==============================] - 1s 20ms/step - loss: 0.4159 - accuracy: 0.7727\n",
      "Epoch 16/20\n",
      "25/25 [==============================] - 1s 21ms/step - loss: 0.4120 - accuracy: 0.8005\n",
      "Epoch 17/20\n",
      "25/25 [==============================] - 1s 21ms/step - loss: 0.4125 - accuracy: 0.7879\n",
      "Epoch 18/20\n",
      "25/25 [==============================] - 1s 21ms/step - loss: 0.4171 - accuracy: 0.7980\n",
      "Epoch 19/20\n",
      "25/25 [==============================] - 1s 20ms/step - loss: 0.4180 - accuracy: 0.7980\n",
      "Epoch 20/20\n",
      "25/25 [==============================] - 1s 20ms/step - loss: 0.4034 - accuracy: 0.7955\n"
     ]
    }
   ],
   "source": [
    "history = model.fit(X_train,\n",
    "                    y_train,\n",
    "                    batch_size=16,\n",
    "                    epochs=20)"
   ]
  },
  {
   "cell_type": "code",
   "execution_count": 55,
   "id": "18d0930b",
   "metadata": {},
   "outputs": [
    {
     "data": {
      "image/png": "[encoded data removed]",
      "text/plain": [
       "<Figure size 432x288 with 1 Axes>"
      ]
     },
     "metadata": {
      "needs_background": "light"
     },
     "output_type": "display_data"
    }
   ],
   "source": [
    "# Visualize loss curve\n",
    "\n",
    "losses = history.history[\"loss\"]\n",
    "plt.plot(losses)\n",
    "plt.xlabel(\"Training Step\")\n",
    "plt.ylabel(\"Loss\")\n",
    "plt.title(\"Training Loss\")\n",
    "plt.show()"
   ]
  },
  {
   "cell_type": "code",
   "execution_count": 56,
   "id": "869fd1c6",
   "metadata": {},
   "outputs": [
    {
     "name": "stdout",
     "output_type": "stream",
     "text": [
      "4/4 [==============================] - 0s 11ms/step - loss: 0.3787 - accuracy: 0.7576\n"
     ]
    },
    {
     "data": {
      "text/plain": [
       "[0.37867748737335205, 0.7575757503509521]"
      ]
     },
     "execution_count": 56,
     "metadata": {},
     "output_type": "execute_result"
    }
   ],
   "source": [
    "model.evaluate(X_test, y_test)"
   ]
  },
  {
   "cell_type": "code",
   "execution_count": 42,
   "id": "ab799e82",
   "metadata": {},
   "outputs": [
    {
     "name": "stdout",
     "output_type": "stream",
     "text": [
      "4/4 [==============================] - 0s 5ms/step\n"
     ]
    },
    {
     "name": "stderr",
     "output_type": "stream",
     "text": [
      "/Users/johngalvin/miniforge3/lib/python3.9/site-packages/tensorflow/python/data/ops/structured_function.py:256: UserWarning: Even though the `tf.config.experimental_run_functions_eagerly` option is set, this option does not apply to tf.data functions. To force eager execution of tf.data functions, please use `tf.data.experimental.enable_debug_mode()`.\n",
      "  warnings.warn(\n"
     ]
    },
    {
     "data": {
      "text/plain": [
       "array([[0.86192125, 0.15003736],\n",
       "       [0.55762756, 0.44584888],\n",
       "       [0.4720139 , 0.529757  ],\n",
       "       [0.9357584 , 0.08239498],\n",
       "       [0.46548936, 0.52982986],\n",
       "       [0.44152763, 0.55836856],\n",
       "       [0.63836706, 0.36539918],\n",
       "       [0.70040995, 0.30931243],\n",
       "       [0.91335815, 0.10286877],\n",
       "       [0.9273186 , 0.09227961],\n",
       "       [0.57733923, 0.42451853],\n",
       "       [0.56934434, 0.43440825],\n",
       "       [0.64469355, 0.35937735],\n",
       "       [0.9188275 , 0.09635723],\n",
       "       [0.47714466, 0.5194847 ],\n",
       "       [0.888991  , 0.12623824],\n",
       "       [0.46332446, 0.5434237 ],\n",
       "       [0.9632687 , 0.0494017 ],\n",
       "       [0.6243093 , 0.38195646],\n",
       "       [0.55105054, 0.4454887 ],\n",
       "       [0.59554046, 0.4134955 ],\n",
       "       [0.9559521 , 0.05849318],\n",
       "       [0.47609746, 0.52668905],\n",
       "       [0.8565648 , 0.15879028],\n",
       "       [0.9633104 , 0.04940414],\n",
       "       [0.95618695, 0.05773681],\n",
       "       [0.7506483 , 0.26761663],\n",
       "       [0.44693696, 0.5605627 ],\n",
       "       [0.963319  , 0.04931172],\n",
       "       [0.96326107, 0.04945073],\n",
       "       [0.49953768, 0.5067523 ],\n",
       "       [0.89887935, 0.11871477],\n",
       "       [0.68717605, 0.32000783],\n",
       "       [0.40850565, 0.59919   ],\n",
       "       [0.3853679 , 0.62576926],\n",
       "       [0.8906948 , 0.12687188],\n",
       "       [0.9560869 , 0.05805106],\n",
       "       [0.9558667 , 0.05809778],\n",
       "       [0.53261226, 0.47066572],\n",
       "       [0.39669064, 0.60895073],\n",
       "       [0.90851086, 0.10663126],\n",
       "       [0.5054269 , 0.5002565 ],\n",
       "       [0.9472117 , 0.06826563],\n",
       "       [0.5035603 , 0.49964774],\n",
       "       [0.6145374 , 0.3818289 ],\n",
       "       [0.91727227, 0.09897635],\n",
       "       [0.8554153 , 0.15637939],\n",
       "       [0.90844005, 0.10670573],\n",
       "       [0.42879406, 0.574055  ],\n",
       "       [0.4832771 , 0.52231216],\n",
       "       [0.9480003 , 0.06760964],\n",
       "       [0.6762714 , 0.32882038],\n",
       "       [0.6637479 , 0.33996624],\n",
       "       [0.6025079 , 0.40727693],\n",
       "       [0.95568204, 0.05859221],\n",
       "       [0.6458889 , 0.37176672],\n",
       "       [0.4674017 , 0.5383498 ],\n",
       "       [0.5282506 , 0.47580972],\n",
       "       [0.44397852, 0.5496188 ],\n",
       "       [0.78373957, 0.23418522],\n",
       "       [0.7286583 , 0.27105483],\n",
       "       [0.94575965, 0.07030246],\n",
       "       [0.61769056, 0.3895531 ],\n",
       "       [0.43805876, 0.5630294 ],\n",
       "       [0.413691  , 0.5930894 ],\n",
       "       [0.88991   , 0.12774695],\n",
       "       [0.5732076 , 0.43601674],\n",
       "       [0.91580033, 0.10039404],\n",
       "       [0.44730178, 0.5540274 ],\n",
       "       [0.45187196, 0.54720616],\n",
       "       [0.4515738 , 0.54942596],\n",
       "       [0.5709137 , 0.4360491 ],\n",
       "       [0.4770398 , 0.5289222 ],\n",
       "       [0.6406117 , 0.36539346],\n",
       "       [0.7045233 , 0.30047053],\n",
       "       [0.45236722, 0.5447699 ],\n",
       "       [0.49500278, 0.5097232 ],\n",
       "       [0.46352294, 0.5380033 ],\n",
       "       [0.82967573, 0.18834579],\n",
       "       [0.79118145, 0.21976763],\n",
       "       [0.9631322 , 0.04970676],\n",
       "       [0.55723655, 0.45253497],\n",
       "       [0.8886555 , 0.12914492],\n",
       "       [0.8597232 , 0.15435442],\n",
       "       [0.47161794, 0.5223033 ],\n",
       "       [0.57119787, 0.43604735],\n",
       "       [0.39827806, 0.60968614],\n",
       "       [0.42927843, 0.5772141 ],\n",
       "       [0.42127186, 0.58274513],\n",
       "       [0.9232419 , 0.09656566],\n",
       "       [0.42587465, 0.5741284 ],\n",
       "       [0.4067783 , 0.59741837],\n",
       "       [0.91565335, 0.10056207],\n",
       "       [0.86544305, 0.1536409 ],\n",
       "       [0.9558592 , 0.05803584],\n",
       "       [0.50492567, 0.50037503],\n",
       "       [0.82848084, 0.18658876],\n",
       "       [0.96375984, 0.04888073],\n",
       "       [0.5715842 , 0.43814167]], dtype=float32)"
      ]
     },
     "execution_count": 42,
     "metadata": {},
     "output_type": "execute_result"
    }
   ],
   "source": [
    "preds = model.predict(X_test)\n",
    "preds"
   ]
  },
  {
   "cell_type": "code",
   "execution_count": null,
   "id": "c3b0066e",
   "metadata": {},
   "outputs": [],
   "source": []
  }
 ],
 "metadata": {
  "kernelspec": {
   "display_name": "Python 3 (ipykernel)",
   "language": "python",
   "name": "python3"
  },
  "language_info": {
   "codemirror_mode": {
    "name": "ipython",
    "version": 3
   },
   "file_extension": ".py",
   "mimetype": "text/x-python",
   "name": "python",
   "nbconvert_exporter": "python",
   "pygments_lexer": "ipython3",
   "version": "3.9.7"
  }
 },
 "nbformat": 4,
 "nbformat_minor": 5
}
