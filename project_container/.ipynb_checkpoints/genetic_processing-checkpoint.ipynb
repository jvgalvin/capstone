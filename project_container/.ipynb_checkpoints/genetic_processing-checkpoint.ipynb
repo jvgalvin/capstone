{
 "cells": [
  {
   "cell_type": "code",
   "execution_count": 16,
   "id": "eddd7a97-e111-4b40-a551-5669b9f33d5f",
   "metadata": {},
   "outputs": [],
   "source": [
    "import pandas as pd\n",
    "import os\n",
    "from pandas_plink import read_plink\n",
    "from collections import Counter\n",
    "\n",
    "import matplotlib.pyplot as plt\n",
    "%matplotlib inline\n",
    "\n",
    "pd.set_option('display.max_columns', 500)"
   ]
  },
  {
   "cell_type": "code",
   "execution_count": 38,
   "id": "8aebc474-d2c0-41ef-b3ea-22d07216745d",
   "metadata": {},
   "outputs": [
    {
     "name": "stderr",
     "output_type": "stream",
     "text": [
      "Mapping files: 100%|████████████████████████████████████████████████████████████████████████████████████████████████████████████████| 3/3 [00:00<00:00,  9.13it/s]\n"
     ]
    }
   ],
   "source": [
    "df = read_plink(\"/Users/johngalvin/Downloads/ADNI_1_GWAS_Plink/ADNI_cluster_01_forward_757LONI.bed\", verbose=True)[1]\n",
    "\n",
    "df[\"fid\"] = df[\"fid\"].astype(\"int\")\n",
    "df[\"father\"] = df[\"father\"].astype(\"int\")\n",
    "df[\"mother\"] = df[\"mother\"].astype(\"int\")\n",
    "df[\"gender\"] = df[\"gender\"].astype(\"int\")\n",
    "df[\"trait\"] = df[\"trait\"].astype(\"int\")\n",
    "\n",
    "df.to_csv(\"../data/genetic_iid_data.csv\")"
   ]
  },
  {
   "cell_type": "code",
   "execution_count": 41,
   "id": "eadacca5-ac12-415e-9ed9-d0b12ccaaa5e",
   "metadata": {},
   "outputs": [
    {
     "name": "stderr",
     "output_type": "stream",
     "text": [
      "Mapping files: 100%|████████████████████████████████████████████████████████████████████████████████████████████████████████████████| 3/3 [00:00<00:00,  9.23it/s]\n"
     ]
    }
   ],
   "source": [
    "df = read_plink(\"/Users/johngalvin/Downloads/ADNI_1_GWAS_Plink/ADNI_cluster_01_forward_757LONI.bed\", verbose=True)[0]\n",
    "\n",
    "df[\"chrom\"] = df[\"chrom\"].astype(\"int\")\n",
    "df.to_csv(\"../data/genetic_snp_data.csv\")"
   ]
  },
  {
   "cell_type": "code",
   "execution_count": 2,
   "id": "890a961f-9320-416a-b018-5ce97568fff6",
   "metadata": {},
   "outputs": [],
   "source": [
    "def make_df(dir):\n",
    "    \"\"\"Concatenates multiple csv files into single Data Frame\"\"\"\n",
    "\n",
    "    df = pd.DataFrame()\n",
    "    directory = os.fsencode(dir)\n",
    "    dirname = directory.decode(\"utf-8\")\n",
    "    \n",
    "    for file in os.listdir(directory):\n",
    "        filename = os.fsdecode(file)\n",
    "        fpath = dirname + filename\n",
    "        tmp = pd.read_csv(fpath)\n",
    "        df = pd.concat([df, tmp], ignore_index=True)\n",
    "        \n",
    "    return df"
   ]
  },
  {
   "cell_type": "code",
   "execution_count": 3,
   "id": "38491be3-0eac-4d08-ac75-fe2d6c08d8fb",
   "metadata": {},
   "outputs": [],
   "source": [
    "df_1 = make_df(\"/Users/johngalvin/Downloads/adni_gwas_v2_set1/\")\n",
    "df_1 = df_1[df_1[\"SNP Name\"] == \"rs708727\"]"
   ]
  },
  {
   "cell_type": "code",
   "execution_count": 4,
   "id": "1d82c537-f138-46ea-bb7a-9949b295d967",
   "metadata": {},
   "outputs": [],
   "source": [
    "df_2 = pd.concat([df_1, make_df(\"/Users/johngalvin/Downloads/adni_gwas_v2_set2/\")], ignore_index=True)\n",
    "df_2 = df_2[df_2[\"SNP Name\"] == \"rs708727\"]"
   ]
  },
  {
   "cell_type": "code",
   "execution_count": 6,
   "id": "282cc920-6195-473e-afb9-ce6b21551761",
   "metadata": {},
   "outputs": [],
   "source": [
    "df_3 = pd.concat([df_2, make_df(\"/Users/johngalvin/Downloads/adni_gwas_v2_set3/\")], ignore_index=True)\n",
    "df_3 = df_3[df_3[\"SNP Name\"] == \"rs708727\"]"
   ]
  },
  {
   "cell_type": "code",
   "execution_count": 8,
   "id": "0d5cb9ab-1bd7-409b-b377-300ccbfd967b",
   "metadata": {},
   "outputs": [],
   "source": [
    "df_3.to_csv(\"../data/df3.csv\")"
   ]
  },
  {
   "cell_type": "code",
   "execution_count": 3,
   "id": "1c1727f3-b968-4fb8-83c3-9088e91c6e16",
   "metadata": {},
   "outputs": [],
   "source": [
    "df_3 = pd.read_csv(\"../data/df3.csv\")\n",
    "df_4 = pd.concat([df_3, make_df(\"/Users/johngalvin/Downloads/adni_gwas_v2_set4/\")], ignore_index=True)\n",
    "df_4 = df_4[df_4[\"SNP Name\"] == \"rs708727\"]"
   ]
  },
  {
   "cell_type": "code",
   "execution_count": 4,
   "id": "0c9cc546-5757-4371-9232-b5d5dccc4860",
   "metadata": {},
   "outputs": [],
   "source": [
    "df_4.to_csv(\"../data/df4.csv\")"
   ]
  },
  {
   "cell_type": "code",
   "execution_count": 3,
   "id": "f0205a85-f998-4913-8785-6ba0d7d78bc7",
   "metadata": {},
   "outputs": [],
   "source": [
    "df_4 = pd.read_csv(\"../data/df4.csv\")\n",
    "df_5 = pd.concat([df_4, make_df(\"/Users/johngalvin/Downloads/adni_gwas_v2_set5/\")], ignore_index=True)\n",
    "df_5 = df_5[df_5[\"SNP Name\"] == \"rs708727\"]"
   ]
  },
  {
   "cell_type": "code",
   "execution_count": 4,
   "id": "c54fc18e-cdb3-4faa-85da-881bdfa72acd",
   "metadata": {},
   "outputs": [],
   "source": [
    "df_5.to_csv(\"../data/df5.csv\")"
   ]
  },
  {
   "cell_type": "code",
   "execution_count": 3,
   "id": "babeeaf5-0eb5-42bb-8160-26e22cea3266",
   "metadata": {},
   "outputs": [],
   "source": [
    "df_5 = pd.read_csv(\"../data/df5.csv\")\n",
    "df_6 = pd.concat([df_5, make_df(\"/Users/johngalvin/Downloads/adni_gwas_v2_set6/\")], ignore_index=True)\n",
    "df_6 = df_6[df_6[\"SNP Name\"] == \"rs708727\"]"
   ]
  },
  {
   "cell_type": "code",
   "execution_count": 4,
   "id": "8efc135f-98c5-47f1-84ea-5f4b1931a25d",
   "metadata": {},
   "outputs": [],
   "source": [
    "df_6.to_csv(\"../data/df6.csv\")"
   ]
  },
  {
   "cell_type": "code",
   "execution_count": 3,
   "id": "b0dfccb6-2d3f-4c23-a746-15862e8743a4",
   "metadata": {},
   "outputs": [],
   "source": [
    "df_6 = pd.read_csv(\"../data/df6.csv\")\n",
    "df_7 = pd.concat([df_6, make_df(\"/Users/johngalvin/Downloads/adni_gwas_v2_set7/\")], ignore_index=True)\n",
    "df_7 = df_7[df_7[\"SNP Name\"] == \"rs708727\"]"
   ]
  },
  {
   "cell_type": "code",
   "execution_count": 4,
   "id": "00ae6978-b57d-4315-8b33-c026ebd196c9",
   "metadata": {},
   "outputs": [],
   "source": [
    "df_7.to_csv(\"../data/df7.csv\")"
   ]
  },
  {
   "cell_type": "code",
   "execution_count": 3,
   "id": "8f490a1c-6eeb-48c2-8e84-04973299ce37",
   "metadata": {},
   "outputs": [],
   "source": [
    "df_7 = pd.read_csv(\"../data/df7.csv\")\n",
    "df_8 = pd.concat([df_7, make_df(\"/Users/johngalvin/Downloads/adni_gwas_v2_set8/\")], ignore_index=True)\n",
    "df_8 = df_8[df_8[\"SNP Name\"] == \"rs708727\"]"
   ]
  },
  {
   "cell_type": "code",
   "execution_count": 4,
   "id": "c52857f1-fc84-4a5b-86f2-c6de48843f77",
   "metadata": {},
   "outputs": [],
   "source": [
    "df_8.to_csv(\"../data/df8.csv\")"
   ]
  },
  {
   "cell_type": "code",
   "execution_count": 3,
   "id": "cf8cb8eb-f171-45ed-82e3-ae572c6c126d",
   "metadata": {},
   "outputs": [],
   "source": [
    "df_8 = pd.read_csv(\"../data/df8.csv\")\n",
    "df_9 = pd.concat([df_8, make_df(\"/Users/johngalvin/Downloads/adni_gwas_v2_set9/\")], ignore_index=True)\n",
    "df_9 = df_9[df_9[\"SNP Name\"] == \"rs708727\"]"
   ]
  },
  {
   "cell_type": "code",
   "execution_count": 4,
   "id": "c7f59678-0306-4a56-8d57-d653b1487864",
   "metadata": {},
   "outputs": [],
   "source": [
    "df_9.to_csv(\"../data/df9.csv\")"
   ]
  },
  {
   "cell_type": "code",
   "execution_count": 3,
   "id": "23fc0e56-cdbd-4783-929a-367fabe86c00",
   "metadata": {},
   "outputs": [],
   "source": [
    "df_9 = pd.read_csv(\"../data/df9.csv\")\n",
    "df_10 = pd.concat([df_9, make_df(\"/Users/johngalvin/Downloads/adni_gwas_v2_set10/\")], ignore_index=True)\n",
    "df_10 = df_10[df_10[\"SNP Name\"] == \"rs708727\"]"
   ]
  },
  {
   "cell_type": "code",
   "execution_count": 4,
   "id": "a9ed797f-fa79-4262-ab54-446dbb4d1afe",
   "metadata": {},
   "outputs": [],
   "source": [
    "df_10.to_csv(\"../data/df10.csv\")"
   ]
  },
  {
   "cell_type": "code",
   "execution_count": 3,
   "id": "1c6d3724-d990-4d5f-8ff7-9f41c189dbe6",
   "metadata": {},
   "outputs": [],
   "source": [
    "df_10 = pd.read_csv(\"../data/df10.csv\")\n",
    "df_11 = pd.concat([df_10, make_df(\"/Users/johngalvin/Downloads/adni_gwas_v2_set11/\")], ignore_index=True)\n",
    "df_11 = df_11[df_11[\"SNP Name\"] == \"rs708727\"]"
   ]
  },
  {
   "cell_type": "code",
   "execution_count": 9,
   "id": "30356c2d-5a51-44d1-b133-ad2516c2249e",
   "metadata": {},
   "outputs": [],
   "source": [
    "df_11.to_csv(\"../data/complete_snp.csv\")"
   ]
  },
  {
   "cell_type": "code",
   "execution_count": 7,
   "id": "539c92f5-d2bc-4ff4-a4b3-40668a763bab",
   "metadata": {},
   "outputs": [],
   "source": [
    "df_11.drop(columns=[\"Unnamed: 0.7\", \"Unnamed: 0.6\", \"Unnamed: 0.5\", \"Unnamed: 0.4\", \"Unnamed: 0.3\", \"Unnamed: 0.2\",\n",
    "            \"Unnamed: 0.1\", \"Unnamed: 0\"], inplace=True)"
   ]
  },
  {
   "cell_type": "code",
   "execution_count": 43,
   "id": "10821bc4-e37e-420e-859c-d6cdecfd49da",
   "metadata": {},
   "outputs": [
    {
     "data": {
      "image/png": "[encoded data removed]",
      "text/plain": [
       "<Figure size 640x480 with 1 Axes>"
      ]
     },
     "metadata": {},
     "output_type": "display_data"
    }
   ],
   "source": [
    "df_11[\"Allele1 - AB\"].value_counts(sort=False).plot(kind=\"bar\",\n",
    "                                                     title=\"Allele 1 - AB\");"
   ]
  },
  {
   "cell_type": "code",
   "execution_count": 44,
   "id": "7b547996-c774-4622-94a2-51381bb5dedd",
   "metadata": {},
   "outputs": [
    {
     "data": {
      "image/png": "[encoded data removed]",
      "text/plain": [
       "<Figure size 640x480 with 1 Axes>"
      ]
     },
     "metadata": {},
     "output_type": "display_data"
    }
   ],
   "source": [
    "df_11[\"Allele2 - AB\"].value_counts(sort=False).plot(kind=\"bar\",\n",
    "                                                     title=\"Allele 2 - AB\");"
   ]
  },
  {
   "cell_type": "code",
   "execution_count": 40,
   "id": "ad1f8798-0ec9-4414-b64e-50d28ecead1b",
   "metadata": {},
   "outputs": [
    {
     "data": {
      "image/png": "[encoded data removed]",
      "text/plain": [
       "<Figure size 640x480 with 1 Axes>"
      ]
     },
     "metadata": {},
     "output_type": "display_data"
    }
   ],
   "source": [
    "df_11[\"B Allele Freq\"].plot(kind=\"hist\",\n",
    "                            title=\"Distribution of B Allele Frequency\");"
   ]
  },
  {
   "cell_type": "code",
   "execution_count": 46,
   "id": "2fa986c0-73db-4e3c-ac37-3be3babce127",
   "metadata": {},
   "outputs": [
    {
     "data": {
      "image/png": "[encoded data removed]",
      "text/plain": [
       "<Figure size 640x480 with 1 Axes>"
      ]
     },
     "metadata": {},
     "output_type": "display_data"
    }
   ],
   "source": [
    "df_11[\"Log R Ratio\"].plot(kind=\"hist\",\n",
    "                          title=\"Distribution of Log R Ratio\");"
   ]
  },
  {
   "cell_type": "code",
   "execution_count": 51,
   "id": "fb70df78-7cd3-4313-92bc-e72f0012021a",
   "metadata": {},
   "outputs": [
    {
     "data": {
      "text/html": [
       "<div>\n",
       "<style scoped>\n",
       "    .dataframe tbody tr th:only-of-type {\n",
       "        vertical-align: middle;\n",
       "    }\n",
       "\n",
       "    .dataframe tbody tr th {\n",
       "        vertical-align: top;\n",
       "    }\n",
       "\n",
       "    .dataframe thead th {\n",
       "        text-align: right;\n",
       "    }\n",
       "</style>\n",
       "<table border=\"1\" class=\"dataframe\">\n",
       "  <thead>\n",
       "    <tr style=\"text-align: right;\">\n",
       "      <th></th>\n",
       "      <th>Sample Index</th>\n",
       "      <th>Sample ID</th>\n",
       "      <th>GC Score</th>\n",
       "      <th>SNP Index</th>\n",
       "      <th>SNP Name</th>\n",
       "      <th>Allele1 - Top</th>\n",
       "      <th>Allele2 - Top</th>\n",
       "      <th>Allele1 - Forward</th>\n",
       "      <th>Allele2 - Forward</th>\n",
       "      <th>Allele1 - AB</th>\n",
       "      <th>Allele2 - AB</th>\n",
       "      <th>Chr</th>\n",
       "      <th>Position</th>\n",
       "      <th>GT Score</th>\n",
       "      <th>Cluster Sep</th>\n",
       "      <th>SNP</th>\n",
       "      <th>Theta</th>\n",
       "      <th>R</th>\n",
       "      <th>X</th>\n",
       "      <th>Y</th>\n",
       "      <th>X Raw</th>\n",
       "      <th>Y Raw</th>\n",
       "      <th>B Allele Freq</th>\n",
       "      <th>Log R Ratio</th>\n",
       "    </tr>\n",
       "  </thead>\n",
       "  <tbody>\n",
       "    <tr>\n",
       "      <th>5</th>\n",
       "      <td>603</td>\n",
       "      <td>002_S_0685</td>\n",
       "      <td>0.9431</td>\n",
       "      <td>502497</td>\n",
       "      <td>rs708727</td>\n",
       "      <td>G</td>\n",
       "      <td>G</td>\n",
       "      <td>G</td>\n",
       "      <td>G</td>\n",
       "      <td>B</td>\n",
       "      <td>B</td>\n",
       "      <td>1</td>\n",
       "      <td>204034508</td>\n",
       "      <td>0.9082</td>\n",
       "      <td>1.0</td>\n",
       "      <td>[T/C]</td>\n",
       "      <td>0.973</td>\n",
       "      <td>1.119</td>\n",
       "      <td>0.045</td>\n",
       "      <td>1.074</td>\n",
       "      <td>370</td>\n",
       "      <td>5818</td>\n",
       "      <td>1.0000</td>\n",
       "      <td>0.0695</td>\n",
       "    </tr>\n",
       "    <tr>\n",
       "      <th>6</th>\n",
       "      <td>154</td>\n",
       "      <td>007_S_1206</td>\n",
       "      <td>0.9431</td>\n",
       "      <td>502497</td>\n",
       "      <td>rs708727</td>\n",
       "      <td>G</td>\n",
       "      <td>G</td>\n",
       "      <td>G</td>\n",
       "      <td>G</td>\n",
       "      <td>B</td>\n",
       "      <td>B</td>\n",
       "      <td>1</td>\n",
       "      <td>204034508</td>\n",
       "      <td>0.9082</td>\n",
       "      <td>1.0</td>\n",
       "      <td>[T/C]</td>\n",
       "      <td>0.973</td>\n",
       "      <td>1.111</td>\n",
       "      <td>0.046</td>\n",
       "      <td>1.065</td>\n",
       "      <td>405</td>\n",
       "      <td>8048</td>\n",
       "      <td>1.0000</td>\n",
       "      <td>0.0589</td>\n",
       "    </tr>\n",
       "    <tr>\n",
       "      <th>11</th>\n",
       "      <td>198</td>\n",
       "      <td>007_S_0041</td>\n",
       "      <td>0.9431</td>\n",
       "      <td>502497</td>\n",
       "      <td>rs708727</td>\n",
       "      <td>G</td>\n",
       "      <td>G</td>\n",
       "      <td>G</td>\n",
       "      <td>G</td>\n",
       "      <td>B</td>\n",
       "      <td>B</td>\n",
       "      <td>1</td>\n",
       "      <td>204034508</td>\n",
       "      <td>0.9082</td>\n",
       "      <td>1.0</td>\n",
       "      <td>[T/C]</td>\n",
       "      <td>0.982</td>\n",
       "      <td>1.013</td>\n",
       "      <td>0.028</td>\n",
       "      <td>0.984</td>\n",
       "      <td>211</td>\n",
       "      <td>4929</td>\n",
       "      <td>1.0000</td>\n",
       "      <td>-0.0676</td>\n",
       "    </tr>\n",
       "    <tr>\n",
       "      <th>14</th>\n",
       "      <td>523</td>\n",
       "      <td>005_S_0221</td>\n",
       "      <td>0.9431</td>\n",
       "      <td>502497</td>\n",
       "      <td>rs708727</td>\n",
       "      <td>G</td>\n",
       "      <td>G</td>\n",
       "      <td>G</td>\n",
       "      <td>G</td>\n",
       "      <td>B</td>\n",
       "      <td>B</td>\n",
       "      <td>1</td>\n",
       "      <td>204034508</td>\n",
       "      <td>0.9082</td>\n",
       "      <td>1.0</td>\n",
       "      <td>[T/C]</td>\n",
       "      <td>0.969</td>\n",
       "      <td>1.221</td>\n",
       "      <td>0.056</td>\n",
       "      <td>1.164</td>\n",
       "      <td>369</td>\n",
       "      <td>5646</td>\n",
       "      <td>0.9970</td>\n",
       "      <td>0.1918</td>\n",
       "    </tr>\n",
       "    <tr>\n",
       "      <th>15</th>\n",
       "      <td>567</td>\n",
       "      <td>005_S_0223</td>\n",
       "      <td>0.9431</td>\n",
       "      <td>502497</td>\n",
       "      <td>rs708727</td>\n",
       "      <td>G</td>\n",
       "      <td>G</td>\n",
       "      <td>G</td>\n",
       "      <td>G</td>\n",
       "      <td>B</td>\n",
       "      <td>B</td>\n",
       "      <td>1</td>\n",
       "      <td>204034508</td>\n",
       "      <td>0.9082</td>\n",
       "      <td>1.0</td>\n",
       "      <td>[T/C]</td>\n",
       "      <td>0.969</td>\n",
       "      <td>1.149</td>\n",
       "      <td>0.054</td>\n",
       "      <td>1.095</td>\n",
       "      <td>492</td>\n",
       "      <td>8373</td>\n",
       "      <td>0.9963</td>\n",
       "      <td>0.1040</td>\n",
       "    </tr>\n",
       "    <tr>\n",
       "      <th>...</th>\n",
       "      <td>...</td>\n",
       "      <td>...</td>\n",
       "      <td>...</td>\n",
       "      <td>...</td>\n",
       "      <td>...</td>\n",
       "      <td>...</td>\n",
       "      <td>...</td>\n",
       "      <td>...</td>\n",
       "      <td>...</td>\n",
       "      <td>...</td>\n",
       "      <td>...</td>\n",
       "      <td>...</td>\n",
       "      <td>...</td>\n",
       "      <td>...</td>\n",
       "      <td>...</td>\n",
       "      <td>...</td>\n",
       "      <td>...</td>\n",
       "      <td>...</td>\n",
       "      <td>...</td>\n",
       "      <td>...</td>\n",
       "      <td>...</td>\n",
       "      <td>...</td>\n",
       "      <td>...</td>\n",
       "      <td>...</td>\n",
       "    </tr>\n",
       "    <tr>\n",
       "      <th>27822842</th>\n",
       "      <td>489</td>\n",
       "      <td>141_S_1137</td>\n",
       "      <td>0.9431</td>\n",
       "      <td>502497</td>\n",
       "      <td>rs708727</td>\n",
       "      <td>G</td>\n",
       "      <td>G</td>\n",
       "      <td>G</td>\n",
       "      <td>G</td>\n",
       "      <td>B</td>\n",
       "      <td>B</td>\n",
       "      <td>1</td>\n",
       "      <td>204034508</td>\n",
       "      <td>0.9082</td>\n",
       "      <td>1.0</td>\n",
       "      <td>[T/C]</td>\n",
       "      <td>0.978</td>\n",
       "      <td>1.434</td>\n",
       "      <td>0.048</td>\n",
       "      <td>1.386</td>\n",
       "      <td>474</td>\n",
       "      <td>7339</td>\n",
       "      <td>1.0000</td>\n",
       "      <td>0.4310</td>\n",
       "    </tr>\n",
       "    <tr>\n",
       "      <th>30306446</th>\n",
       "      <td>360</td>\n",
       "      <td>141_S_1244</td>\n",
       "      <td>0.9431</td>\n",
       "      <td>502497</td>\n",
       "      <td>rs708727</td>\n",
       "      <td>G</td>\n",
       "      <td>G</td>\n",
       "      <td>G</td>\n",
       "      <td>G</td>\n",
       "      <td>B</td>\n",
       "      <td>B</td>\n",
       "      <td>1</td>\n",
       "      <td>204034508</td>\n",
       "      <td>0.9082</td>\n",
       "      <td>1.0</td>\n",
       "      <td>[T/C]</td>\n",
       "      <td>0.977</td>\n",
       "      <td>1.184</td>\n",
       "      <td>0.041</td>\n",
       "      <td>1.143</td>\n",
       "      <td>316</td>\n",
       "      <td>5979</td>\n",
       "      <td>1.0000</td>\n",
       "      <td>0.1540</td>\n",
       "    </tr>\n",
       "    <tr>\n",
       "      <th>32790050</th>\n",
       "      <td>27</td>\n",
       "      <td>141_S_1245</td>\n",
       "      <td>0.9431</td>\n",
       "      <td>502497</td>\n",
       "      <td>rs708727</td>\n",
       "      <td>G</td>\n",
       "      <td>G</td>\n",
       "      <td>G</td>\n",
       "      <td>G</td>\n",
       "      <td>B</td>\n",
       "      <td>B</td>\n",
       "      <td>1</td>\n",
       "      <td>204034508</td>\n",
       "      <td>0.9082</td>\n",
       "      <td>1.0</td>\n",
       "      <td>[T/C]</td>\n",
       "      <td>0.980</td>\n",
       "      <td>1.059</td>\n",
       "      <td>0.032</td>\n",
       "      <td>1.028</td>\n",
       "      <td>193</td>\n",
       "      <td>4221</td>\n",
       "      <td>1.0000</td>\n",
       "      <td>-0.0038</td>\n",
       "    </tr>\n",
       "    <tr>\n",
       "      <th>33410951</th>\n",
       "      <td>632</td>\n",
       "      <td>137_S_0994</td>\n",
       "      <td>0.9431</td>\n",
       "      <td>502497</td>\n",
       "      <td>rs708727</td>\n",
       "      <td>G</td>\n",
       "      <td>G</td>\n",
       "      <td>G</td>\n",
       "      <td>G</td>\n",
       "      <td>B</td>\n",
       "      <td>B</td>\n",
       "      <td>1</td>\n",
       "      <td>204034508</td>\n",
       "      <td>0.9082</td>\n",
       "      <td>1.0</td>\n",
       "      <td>[T/C]</td>\n",
       "      <td>0.968</td>\n",
       "      <td>0.921</td>\n",
       "      <td>0.044</td>\n",
       "      <td>0.877</td>\n",
       "      <td>322</td>\n",
       "      <td>5158</td>\n",
       "      <td>0.9957</td>\n",
       "      <td>-0.2161</td>\n",
       "    </tr>\n",
       "    <tr>\n",
       "      <th>34031852</th>\n",
       "      <td>310</td>\n",
       "      <td>141_S_1051</td>\n",
       "      <td>0.9431</td>\n",
       "      <td>502497</td>\n",
       "      <td>rs708727</td>\n",
       "      <td>G</td>\n",
       "      <td>G</td>\n",
       "      <td>G</td>\n",
       "      <td>G</td>\n",
       "      <td>B</td>\n",
       "      <td>B</td>\n",
       "      <td>1</td>\n",
       "      <td>204034508</td>\n",
       "      <td>0.9082</td>\n",
       "      <td>1.0</td>\n",
       "      <td>[T/C]</td>\n",
       "      <td>0.973</td>\n",
       "      <td>1.514</td>\n",
       "      <td>0.061</td>\n",
       "      <td>1.454</td>\n",
       "      <td>477</td>\n",
       "      <td>7618</td>\n",
       "      <td>1.0000</td>\n",
       "      <td>0.5062</td>\n",
       "    </tr>\n",
       "  </tbody>\n",
       "</table>\n",
       "<p>306 rows × 24 columns</p>\n",
       "</div>"
      ],
      "text/plain": [
       "          Sample Index   Sample ID  GC Score  SNP Index  SNP Name  \\\n",
       "5                  603  002_S_0685    0.9431     502497  rs708727   \n",
       "6                  154  007_S_1206    0.9431     502497  rs708727   \n",
       "11                 198  007_S_0041    0.9431     502497  rs708727   \n",
       "14                 523  005_S_0221    0.9431     502497  rs708727   \n",
       "15                 567  005_S_0223    0.9431     502497  rs708727   \n",
       "...                ...         ...       ...        ...       ...   \n",
       "27822842           489  141_S_1137    0.9431     502497  rs708727   \n",
       "30306446           360  141_S_1244    0.9431     502497  rs708727   \n",
       "32790050            27  141_S_1245    0.9431     502497  rs708727   \n",
       "33410951           632  137_S_0994    0.9431     502497  rs708727   \n",
       "34031852           310  141_S_1051    0.9431     502497  rs708727   \n",
       "\n",
       "         Allele1 - Top Allele2 - Top Allele1 - Forward Allele2 - Forward  \\\n",
       "5                    G             G                 G                 G   \n",
       "6                    G             G                 G                 G   \n",
       "11                   G             G                 G                 G   \n",
       "14                   G             G                 G                 G   \n",
       "15                   G             G                 G                 G   \n",
       "...                ...           ...               ...               ...   \n",
       "27822842             G             G                 G                 G   \n",
       "30306446             G             G                 G                 G   \n",
       "32790050             G             G                 G                 G   \n",
       "33410951             G             G                 G                 G   \n",
       "34031852             G             G                 G                 G   \n",
       "\n",
       "         Allele1 - AB Allele2 - AB Chr   Position  GT Score  Cluster Sep  \\\n",
       "5                   B            B   1  204034508    0.9082          1.0   \n",
       "6                   B            B   1  204034508    0.9082          1.0   \n",
       "11                  B            B   1  204034508    0.9082          1.0   \n",
       "14                  B            B   1  204034508    0.9082          1.0   \n",
       "15                  B            B   1  204034508    0.9082          1.0   \n",
       "...               ...          ...  ..        ...       ...          ...   \n",
       "27822842            B            B   1  204034508    0.9082          1.0   \n",
       "30306446            B            B   1  204034508    0.9082          1.0   \n",
       "32790050            B            B   1  204034508    0.9082          1.0   \n",
       "33410951            B            B   1  204034508    0.9082          1.0   \n",
       "34031852            B            B   1  204034508    0.9082          1.0   \n",
       "\n",
       "            SNP  Theta      R      X      Y  X Raw  Y Raw  B Allele Freq  \\\n",
       "5         [T/C]  0.973  1.119  0.045  1.074    370   5818         1.0000   \n",
       "6         [T/C]  0.973  1.111  0.046  1.065    405   8048         1.0000   \n",
       "11        [T/C]  0.982  1.013  0.028  0.984    211   4929         1.0000   \n",
       "14        [T/C]  0.969  1.221  0.056  1.164    369   5646         0.9970   \n",
       "15        [T/C]  0.969  1.149  0.054  1.095    492   8373         0.9963   \n",
       "...         ...    ...    ...    ...    ...    ...    ...            ...   \n",
       "27822842  [T/C]  0.978  1.434  0.048  1.386    474   7339         1.0000   \n",
       "30306446  [T/C]  0.977  1.184  0.041  1.143    316   5979         1.0000   \n",
       "32790050  [T/C]  0.980  1.059  0.032  1.028    193   4221         1.0000   \n",
       "33410951  [T/C]  0.968  0.921  0.044  0.877    322   5158         0.9957   \n",
       "34031852  [T/C]  0.973  1.514  0.061  1.454    477   7618         1.0000   \n",
       "\n",
       "          Log R Ratio  \n",
       "5              0.0695  \n",
       "6              0.0589  \n",
       "11            -0.0676  \n",
       "14             0.1918  \n",
       "15             0.1040  \n",
       "...               ...  \n",
       "27822842       0.4310  \n",
       "30306446       0.1540  \n",
       "32790050      -0.0038  \n",
       "33410951      -0.2161  \n",
       "34031852       0.5062  \n",
       "\n",
       "[306 rows x 24 columns]"
      ]
     },
     "execution_count": 51,
     "metadata": {},
     "output_type": "execute_result"
    }
   ],
   "source": [
    "df_11[(df_11[\"Allele1 - AB\"] == \"B\") & (df_11[\"Allele2 - AB\"] == \"B\")]"
   ]
  },
  {
   "cell_type": "code",
   "execution_count": null,
   "id": "8c5ad13c-fc8e-42e0-a324-bbe44cdb6217",
   "metadata": {},
   "outputs": [],
   "source": []
  }
 ],
 "metadata": {
  "kernelspec": {
   "display_name": "Python 3 (ipykernel)",
   "language": "python",
   "name": "python3"
  },
  "language_info": {
   "codemirror_mode": {
    "name": "ipython",
    "version": 3
   },
   "file_extension": ".py",
   "mimetype": "text/x-python",
   "name": "python",
   "nbconvert_exporter": "python",
   "pygments_lexer": "ipython3",
   "version": "3.11.0"
  }
 },
 "nbformat": 4,
 "nbformat_minor": 5
}
